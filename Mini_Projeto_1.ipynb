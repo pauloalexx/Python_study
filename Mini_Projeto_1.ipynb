{
  "cells": [
    {
      "cell_type": "markdown",
      "metadata": {
        "id": "view-in-github",
        "colab_type": "text"
      },
      "source": [
        "<a href=\"https://colab.research.google.com/github/pauloalexx/Python_study/blob/main/Mini_Projeto_1.ipynb\" target=\"_parent\"><img src=\"https://colab.research.google.com/assets/colab-badge.svg\" alt=\"Open In Colab\"/></a>"
      ]
    },
    {
      "cell_type": "markdown",
      "id": "57ce1cb1",
      "metadata": {
        "id": "57ce1cb1"
      },
      "source": [
        "# Mini Projeto 1 utilizando CRISP-DM"
      ]
    },
    {
      "cell_type": "markdown",
      "source": [
        "## Insights"
      ],
      "metadata": {
        "id": "5b7yAOyBdYBD"
      },
      "id": "5b7yAOyBdYBD"
    },
    {
      "cell_type": "markdown",
      "source": [
        "insight -> que ano economia EUA estava aquecida\n",
        "\n",
        "insight -> Imóveis mais caros vendem?\n",
        "\n",
        "insight -> Quais imóveis mais foram vendidos?\n",
        "\n",
        "insight -> Tem relação entre as features de classificação do imóvel em relação às vendas/revendas e preço?\n",
        "\n",
        "insight -> Qual relação de preço dos imóveis\n",
        "\n",
        "insight -> Qual feature diferencia mais em relação ao preço dos imóveis\n",
        "\n",
        "insight -> Banheiro em número quebrado significa lavabo, ou sem banheira (Data understanding)\n",
        "\n",
        "insight -> Pesquisar preço médio dos imóveis por estado e cidade\n",
        "\n",
        "insight -> Americanos gostam de local seguro, baixa criminalidade"
      ],
      "metadata": {
        "id": "g2bPobdOdafX"
      },
      "id": "g2bPobdOdafX"
    },
    {
      "cell_type": "markdown",
      "source": [
        "## Dados Complementares"
      ],
      "metadata": {
        "id": "Cz9kVglvWjgh"
      },
      "id": "Cz9kVglvWjgh"
    },
    {
      "cell_type": "markdown",
      "source": [
        "### NIBRS - Criminalidade"
      ],
      "metadata": {
        "id": "ZoxpUXUPW3eI"
      },
      "id": "ZoxpUXUPW3eI"
    },
    {
      "cell_type": "code",
      "source": [
        "df_incident = pd.read_csv('/content/NIBRS_incident.csv')\n",
        "df_agencies = pd.read_csv('/content/agencies.csv')\n",
        "df_state = pd.read_csv('/content/REF_STATE.csv')\n",
        "df_offense = pd.read_csv('/content/NIBRS_OFFENSE.csv')"
      ],
      "metadata": {
        "id": "rNR93gJtW9cH"
      },
      "id": "rNR93gJtW9cH",
      "execution_count": null,
      "outputs": []
    },
    {
      "cell_type": "code",
      "source": [
        "df_incident.head() #incident_id + agency_id"
      ],
      "metadata": {
        "colab": {
          "base_uri": "https://localhost:8080/",
          "height": 357
        },
        "id": "_IUYgz0rdm7i",
        "outputId": "b2ed8a6d-3f6b-47a1-909a-2475f1ca2922"
      },
      "id": "_IUYgz0rdm7i",
      "execution_count": null,
      "outputs": [
        {
          "output_type": "execute_result",
          "data": {
            "text/plain": [
              "   data_year  agency_id  incident_id  nibrs_month_id cargo_theft_flag  \\\n",
              "0       2021      20593    134450953        37392705                f   \n",
              "1       2021      20593    134458780        37392705                f   \n",
              "2       2021      20593    134450933        37392705                f   \n",
              "3       2021      20593    137000883        37392705                f   \n",
              "4       2021      20593    134458798        37392705                f   \n",
              "\n",
              "              submission_date incident_date report_date_flag  incident_hour  \\\n",
              "0  2021-02-17 11:49:45.783648    2021-01-01                f            2.0   \n",
              "1  2021-02-17 11:49:45.826283    2021-01-02                f            2.0   \n",
              "2  2021-02-17 11:49:45.794765    2021-01-02                f            2.0   \n",
              "3     2021-04-19 16:17:47.187    2021-01-02                f           15.0   \n",
              "4  2021-02-17 11:49:45.889115    2021-01-03                f           22.0   \n",
              "\n",
              "   cleared_except_id cleared_except_date incident_status  data_home  \\\n",
              "0                  6                 NaN        ACCEPTED        NaN   \n",
              "1                  6                 NaN        ACCEPTED        NaN   \n",
              "2                  6                 NaN        ACCEPTED        NaN   \n",
              "3                  6                 NaN        ACCEPTED        NaN   \n",
              "4                  6                 NaN        ACCEPTED        NaN   \n",
              "\n",
              "  orig_format        did  \n",
              "0           F   94807262  \n",
              "1           F   94807258  \n",
              "2           F   94811812  \n",
              "3           F  100270106  \n",
              "4           F   94811834  "
            ],
            "text/html": [
              "\n",
              "  <div id=\"df-bf3da30f-cc2e-42be-b722-566756724d9f\">\n",
              "    <div class=\"colab-df-container\">\n",
              "      <div>\n",
              "<style scoped>\n",
              "    .dataframe tbody tr th:only-of-type {\n",
              "        vertical-align: middle;\n",
              "    }\n",
              "\n",
              "    .dataframe tbody tr th {\n",
              "        vertical-align: top;\n",
              "    }\n",
              "\n",
              "    .dataframe thead th {\n",
              "        text-align: right;\n",
              "    }\n",
              "</style>\n",
              "<table border=\"1\" class=\"dataframe\">\n",
              "  <thead>\n",
              "    <tr style=\"text-align: right;\">\n",
              "      <th></th>\n",
              "      <th>data_year</th>\n",
              "      <th>agency_id</th>\n",
              "      <th>incident_id</th>\n",
              "      <th>nibrs_month_id</th>\n",
              "      <th>cargo_theft_flag</th>\n",
              "      <th>submission_date</th>\n",
              "      <th>incident_date</th>\n",
              "      <th>report_date_flag</th>\n",
              "      <th>incident_hour</th>\n",
              "      <th>cleared_except_id</th>\n",
              "      <th>cleared_except_date</th>\n",
              "      <th>incident_status</th>\n",
              "      <th>data_home</th>\n",
              "      <th>orig_format</th>\n",
              "      <th>did</th>\n",
              "    </tr>\n",
              "  </thead>\n",
              "  <tbody>\n",
              "    <tr>\n",
              "      <th>0</th>\n",
              "      <td>2021</td>\n",
              "      <td>20593</td>\n",
              "      <td>134450953</td>\n",
              "      <td>37392705</td>\n",
              "      <td>f</td>\n",
              "      <td>2021-02-17 11:49:45.783648</td>\n",
              "      <td>2021-01-01</td>\n",
              "      <td>f</td>\n",
              "      <td>2.0</td>\n",
              "      <td>6</td>\n",
              "      <td>NaN</td>\n",
              "      <td>ACCEPTED</td>\n",
              "      <td>NaN</td>\n",
              "      <td>F</td>\n",
              "      <td>94807262</td>\n",
              "    </tr>\n",
              "    <tr>\n",
              "      <th>1</th>\n",
              "      <td>2021</td>\n",
              "      <td>20593</td>\n",
              "      <td>134458780</td>\n",
              "      <td>37392705</td>\n",
              "      <td>f</td>\n",
              "      <td>2021-02-17 11:49:45.826283</td>\n",
              "      <td>2021-01-02</td>\n",
              "      <td>f</td>\n",
              "      <td>2.0</td>\n",
              "      <td>6</td>\n",
              "      <td>NaN</td>\n",
              "      <td>ACCEPTED</td>\n",
              "      <td>NaN</td>\n",
              "      <td>F</td>\n",
              "      <td>94807258</td>\n",
              "    </tr>\n",
              "    <tr>\n",
              "      <th>2</th>\n",
              "      <td>2021</td>\n",
              "      <td>20593</td>\n",
              "      <td>134450933</td>\n",
              "      <td>37392705</td>\n",
              "      <td>f</td>\n",
              "      <td>2021-02-17 11:49:45.794765</td>\n",
              "      <td>2021-01-02</td>\n",
              "      <td>f</td>\n",
              "      <td>2.0</td>\n",
              "      <td>6</td>\n",
              "      <td>NaN</td>\n",
              "      <td>ACCEPTED</td>\n",
              "      <td>NaN</td>\n",
              "      <td>F</td>\n",
              "      <td>94811812</td>\n",
              "    </tr>\n",
              "    <tr>\n",
              "      <th>3</th>\n",
              "      <td>2021</td>\n",
              "      <td>20593</td>\n",
              "      <td>137000883</td>\n",
              "      <td>37392705</td>\n",
              "      <td>f</td>\n",
              "      <td>2021-04-19 16:17:47.187</td>\n",
              "      <td>2021-01-02</td>\n",
              "      <td>f</td>\n",
              "      <td>15.0</td>\n",
              "      <td>6</td>\n",
              "      <td>NaN</td>\n",
              "      <td>ACCEPTED</td>\n",
              "      <td>NaN</td>\n",
              "      <td>F</td>\n",
              "      <td>100270106</td>\n",
              "    </tr>\n",
              "    <tr>\n",
              "      <th>4</th>\n",
              "      <td>2021</td>\n",
              "      <td>20593</td>\n",
              "      <td>134458798</td>\n",
              "      <td>37392705</td>\n",
              "      <td>f</td>\n",
              "      <td>2021-02-17 11:49:45.889115</td>\n",
              "      <td>2021-01-03</td>\n",
              "      <td>f</td>\n",
              "      <td>22.0</td>\n",
              "      <td>6</td>\n",
              "      <td>NaN</td>\n",
              "      <td>ACCEPTED</td>\n",
              "      <td>NaN</td>\n",
              "      <td>F</td>\n",
              "      <td>94811834</td>\n",
              "    </tr>\n",
              "  </tbody>\n",
              "</table>\n",
              "</div>\n",
              "      <button class=\"colab-df-convert\" onclick=\"convertToInteractive('df-bf3da30f-cc2e-42be-b722-566756724d9f')\"\n",
              "              title=\"Convert this dataframe to an interactive table.\"\n",
              "              style=\"display:none;\">\n",
              "        \n",
              "  <svg xmlns=\"http://www.w3.org/2000/svg\" height=\"24px\"viewBox=\"0 0 24 24\"\n",
              "       width=\"24px\">\n",
              "    <path d=\"M0 0h24v24H0V0z\" fill=\"none\"/>\n",
              "    <path d=\"M18.56 5.44l.94 2.06.94-2.06 2.06-.94-2.06-.94-.94-2.06-.94 2.06-2.06.94zm-11 1L8.5 8.5l.94-2.06 2.06-.94-2.06-.94L8.5 2.5l-.94 2.06-2.06.94zm10 10l.94 2.06.94-2.06 2.06-.94-2.06-.94-.94-2.06-.94 2.06-2.06.94z\"/><path d=\"M17.41 7.96l-1.37-1.37c-.4-.4-.92-.59-1.43-.59-.52 0-1.04.2-1.43.59L10.3 9.45l-7.72 7.72c-.78.78-.78 2.05 0 2.83L4 21.41c.39.39.9.59 1.41.59.51 0 1.02-.2 1.41-.59l7.78-7.78 2.81-2.81c.8-.78.8-2.07 0-2.86zM5.41 20L4 18.59l7.72-7.72 1.47 1.35L5.41 20z\"/>\n",
              "  </svg>\n",
              "      </button>\n",
              "      \n",
              "  <style>\n",
              "    .colab-df-container {\n",
              "      display:flex;\n",
              "      flex-wrap:wrap;\n",
              "      gap: 12px;\n",
              "    }\n",
              "\n",
              "    .colab-df-convert {\n",
              "      background-color: #E8F0FE;\n",
              "      border: none;\n",
              "      border-radius: 50%;\n",
              "      cursor: pointer;\n",
              "      display: none;\n",
              "      fill: #1967D2;\n",
              "      height: 32px;\n",
              "      padding: 0 0 0 0;\n",
              "      width: 32px;\n",
              "    }\n",
              "\n",
              "    .colab-df-convert:hover {\n",
              "      background-color: #E2EBFA;\n",
              "      box-shadow: 0px 1px 2px rgba(60, 64, 67, 0.3), 0px 1px 3px 1px rgba(60, 64, 67, 0.15);\n",
              "      fill: #174EA6;\n",
              "    }\n",
              "\n",
              "    [theme=dark] .colab-df-convert {\n",
              "      background-color: #3B4455;\n",
              "      fill: #D2E3FC;\n",
              "    }\n",
              "\n",
              "    [theme=dark] .colab-df-convert:hover {\n",
              "      background-color: #434B5C;\n",
              "      box-shadow: 0px 1px 3px 1px rgba(0, 0, 0, 0.15);\n",
              "      filter: drop-shadow(0px 1px 2px rgba(0, 0, 0, 0.3));\n",
              "      fill: #FFFFFF;\n",
              "    }\n",
              "  </style>\n",
              "\n",
              "      <script>\n",
              "        const buttonEl =\n",
              "          document.querySelector('#df-bf3da30f-cc2e-42be-b722-566756724d9f button.colab-df-convert');\n",
              "        buttonEl.style.display =\n",
              "          google.colab.kernel.accessAllowed ? 'block' : 'none';\n",
              "\n",
              "        async function convertToInteractive(key) {\n",
              "          const element = document.querySelector('#df-bf3da30f-cc2e-42be-b722-566756724d9f');\n",
              "          const dataTable =\n",
              "            await google.colab.kernel.invokeFunction('convertToInteractive',\n",
              "                                                     [key], {});\n",
              "          if (!dataTable) return;\n",
              "\n",
              "          const docLinkHtml = 'Like what you see? Visit the ' +\n",
              "            '<a target=\"_blank\" href=https://colab.research.google.com/notebooks/data_table.ipynb>data table notebook</a>'\n",
              "            + ' to learn more about interactive tables.';\n",
              "          element.innerHTML = '';\n",
              "          dataTable['output_type'] = 'display_data';\n",
              "          await google.colab.output.renderOutput(dataTable, element);\n",
              "          const docLink = document.createElement('div');\n",
              "          docLink.innerHTML = docLinkHtml;\n",
              "          element.appendChild(docLink);\n",
              "        }\n",
              "      </script>\n",
              "    </div>\n",
              "  </div>\n",
              "  "
            ]
          },
          "metadata": {},
          "execution_count": 154
        }
      ]
    },
    {
      "cell_type": "code",
      "source": [
        "df_agencies.stb.freq(['ncic_agency_name'])"
      ],
      "metadata": {
        "id": "Y3LcvdVdY2q6"
      },
      "id": "Y3LcvdVdY2q6",
      "execution_count": null,
      "outputs": []
    },
    {
      "cell_type": "code",
      "source": [
        "df_agencies.head() #agency_id + county_name + ucr_agency_name"
      ],
      "metadata": {
        "colab": {
          "base_uri": "https://localhost:8080/",
          "height": 386
        },
        "id": "8qT2lEV6aT7Z",
        "outputId": "31ad09a3-22c5-411b-eabc-245af3d497f7"
      },
      "id": "8qT2lEV6aT7Z",
      "execution_count": null,
      "outputs": [
        {
          "output_type": "execute_result",
          "data": {
            "text/plain": [
              "   yearly_agency_id  agency_id  data_year        ori legacy_ori  \\\n",
              "0         205932021      20593       2021  WA0010000  WA0010000   \n",
              "1         205942021      20594       2021  WA0010100  WA0010100   \n",
              "2         205952021      20595       2021  WA0010200  WA0010200   \n",
              "3         205962021      20596       2021  WA0020000  WA0020000   \n",
              "4         205972021      20597       2021  WA0020100  WA0020100   \n",
              "\n",
              "   covered_by_legacy_ori direct_contributor_flag dormant_flag  dormant_year  \\\n",
              "0                    NaN                       N            N           NaN   \n",
              "1                    NaN                       N            N           NaN   \n",
              "2                    NaN                       N            N           NaN   \n",
              "3                    NaN                       N            N           NaN   \n",
              "4                    NaN                       N            N           NaN   \n",
              "\n",
              "  reporting_type  ... nibrs_leoka_start_date nibrs_ct_start_date  \\\n",
              "0              I  ...             2010-10-01          2018-08-01   \n",
              "1              I  ...             2010-08-01          2019-02-01   \n",
              "2              I  ...             2011-06-01          2018-08-01   \n",
              "3              I  ...             2008-05-01          2018-08-01   \n",
              "4              I  ...             2008-04-01          2018-08-01   \n",
              "\n",
              "  nibrs_multi_bias_start_date nibrs_off_eth_start_date covered_flag  \\\n",
              "0                  2013-01-01               2013-01-01            N   \n",
              "1                  2013-01-01               2013-01-01            N   \n",
              "2                  2013-01-01               2013-01-01            N   \n",
              "3                  2013-01-01               2013-01-01            N   \n",
              "4                  2013-01-01               2013-01-01            N   \n",
              "\n",
              "   county_name         msa_name publishable_flag participated  \\\n",
              "0        ADAMS    Not Specified                Y            Y   \n",
              "1        ADAMS    Not Specified                Y            Y   \n",
              "2        ADAMS    Not Specified                Y            Y   \n",
              "3       ASOTIN  Lewiston, ID-WA                Y            Y   \n",
              "4       ASOTIN  Lewiston, ID-WA                Y            Y   \n",
              "\n",
              "   nibrs_participated  \n",
              "0                   Y  \n",
              "1                   Y  \n",
              "2                   Y  \n",
              "3                   Y  \n",
              "4                   Y  \n",
              "\n",
              "[5 rows x 59 columns]"
            ],
            "text/html": [
              "\n",
              "  <div id=\"df-da2ddbc2-a89e-4d49-9b12-d90217e0511d\">\n",
              "    <div class=\"colab-df-container\">\n",
              "      <div>\n",
              "<style scoped>\n",
              "    .dataframe tbody tr th:only-of-type {\n",
              "        vertical-align: middle;\n",
              "    }\n",
              "\n",
              "    .dataframe tbody tr th {\n",
              "        vertical-align: top;\n",
              "    }\n",
              "\n",
              "    .dataframe thead th {\n",
              "        text-align: right;\n",
              "    }\n",
              "</style>\n",
              "<table border=\"1\" class=\"dataframe\">\n",
              "  <thead>\n",
              "    <tr style=\"text-align: right;\">\n",
              "      <th></th>\n",
              "      <th>yearly_agency_id</th>\n",
              "      <th>agency_id</th>\n",
              "      <th>data_year</th>\n",
              "      <th>ori</th>\n",
              "      <th>legacy_ori</th>\n",
              "      <th>covered_by_legacy_ori</th>\n",
              "      <th>direct_contributor_flag</th>\n",
              "      <th>dormant_flag</th>\n",
              "      <th>dormant_year</th>\n",
              "      <th>reporting_type</th>\n",
              "      <th>...</th>\n",
              "      <th>nibrs_leoka_start_date</th>\n",
              "      <th>nibrs_ct_start_date</th>\n",
              "      <th>nibrs_multi_bias_start_date</th>\n",
              "      <th>nibrs_off_eth_start_date</th>\n",
              "      <th>covered_flag</th>\n",
              "      <th>county_name</th>\n",
              "      <th>msa_name</th>\n",
              "      <th>publishable_flag</th>\n",
              "      <th>participated</th>\n",
              "      <th>nibrs_participated</th>\n",
              "    </tr>\n",
              "  </thead>\n",
              "  <tbody>\n",
              "    <tr>\n",
              "      <th>0</th>\n",
              "      <td>205932021</td>\n",
              "      <td>20593</td>\n",
              "      <td>2021</td>\n",
              "      <td>WA0010000</td>\n",
              "      <td>WA0010000</td>\n",
              "      <td>NaN</td>\n",
              "      <td>N</td>\n",
              "      <td>N</td>\n",
              "      <td>NaN</td>\n",
              "      <td>I</td>\n",
              "      <td>...</td>\n",
              "      <td>2010-10-01</td>\n",
              "      <td>2018-08-01</td>\n",
              "      <td>2013-01-01</td>\n",
              "      <td>2013-01-01</td>\n",
              "      <td>N</td>\n",
              "      <td>ADAMS</td>\n",
              "      <td>Not Specified</td>\n",
              "      <td>Y</td>\n",
              "      <td>Y</td>\n",
              "      <td>Y</td>\n",
              "    </tr>\n",
              "    <tr>\n",
              "      <th>1</th>\n",
              "      <td>205942021</td>\n",
              "      <td>20594</td>\n",
              "      <td>2021</td>\n",
              "      <td>WA0010100</td>\n",
              "      <td>WA0010100</td>\n",
              "      <td>NaN</td>\n",
              "      <td>N</td>\n",
              "      <td>N</td>\n",
              "      <td>NaN</td>\n",
              "      <td>I</td>\n",
              "      <td>...</td>\n",
              "      <td>2010-08-01</td>\n",
              "      <td>2019-02-01</td>\n",
              "      <td>2013-01-01</td>\n",
              "      <td>2013-01-01</td>\n",
              "      <td>N</td>\n",
              "      <td>ADAMS</td>\n",
              "      <td>Not Specified</td>\n",
              "      <td>Y</td>\n",
              "      <td>Y</td>\n",
              "      <td>Y</td>\n",
              "    </tr>\n",
              "    <tr>\n",
              "      <th>2</th>\n",
              "      <td>205952021</td>\n",
              "      <td>20595</td>\n",
              "      <td>2021</td>\n",
              "      <td>WA0010200</td>\n",
              "      <td>WA0010200</td>\n",
              "      <td>NaN</td>\n",
              "      <td>N</td>\n",
              "      <td>N</td>\n",
              "      <td>NaN</td>\n",
              "      <td>I</td>\n",
              "      <td>...</td>\n",
              "      <td>2011-06-01</td>\n",
              "      <td>2018-08-01</td>\n",
              "      <td>2013-01-01</td>\n",
              "      <td>2013-01-01</td>\n",
              "      <td>N</td>\n",
              "      <td>ADAMS</td>\n",
              "      <td>Not Specified</td>\n",
              "      <td>Y</td>\n",
              "      <td>Y</td>\n",
              "      <td>Y</td>\n",
              "    </tr>\n",
              "    <tr>\n",
              "      <th>3</th>\n",
              "      <td>205962021</td>\n",
              "      <td>20596</td>\n",
              "      <td>2021</td>\n",
              "      <td>WA0020000</td>\n",
              "      <td>WA0020000</td>\n",
              "      <td>NaN</td>\n",
              "      <td>N</td>\n",
              "      <td>N</td>\n",
              "      <td>NaN</td>\n",
              "      <td>I</td>\n",
              "      <td>...</td>\n",
              "      <td>2008-05-01</td>\n",
              "      <td>2018-08-01</td>\n",
              "      <td>2013-01-01</td>\n",
              "      <td>2013-01-01</td>\n",
              "      <td>N</td>\n",
              "      <td>ASOTIN</td>\n",
              "      <td>Lewiston, ID-WA</td>\n",
              "      <td>Y</td>\n",
              "      <td>Y</td>\n",
              "      <td>Y</td>\n",
              "    </tr>\n",
              "    <tr>\n",
              "      <th>4</th>\n",
              "      <td>205972021</td>\n",
              "      <td>20597</td>\n",
              "      <td>2021</td>\n",
              "      <td>WA0020100</td>\n",
              "      <td>WA0020100</td>\n",
              "      <td>NaN</td>\n",
              "      <td>N</td>\n",
              "      <td>N</td>\n",
              "      <td>NaN</td>\n",
              "      <td>I</td>\n",
              "      <td>...</td>\n",
              "      <td>2008-04-01</td>\n",
              "      <td>2018-08-01</td>\n",
              "      <td>2013-01-01</td>\n",
              "      <td>2013-01-01</td>\n",
              "      <td>N</td>\n",
              "      <td>ASOTIN</td>\n",
              "      <td>Lewiston, ID-WA</td>\n",
              "      <td>Y</td>\n",
              "      <td>Y</td>\n",
              "      <td>Y</td>\n",
              "    </tr>\n",
              "  </tbody>\n",
              "</table>\n",
              "<p>5 rows × 59 columns</p>\n",
              "</div>\n",
              "      <button class=\"colab-df-convert\" onclick=\"convertToInteractive('df-da2ddbc2-a89e-4d49-9b12-d90217e0511d')\"\n",
              "              title=\"Convert this dataframe to an interactive table.\"\n",
              "              style=\"display:none;\">\n",
              "        \n",
              "  <svg xmlns=\"http://www.w3.org/2000/svg\" height=\"24px\"viewBox=\"0 0 24 24\"\n",
              "       width=\"24px\">\n",
              "    <path d=\"M0 0h24v24H0V0z\" fill=\"none\"/>\n",
              "    <path d=\"M18.56 5.44l.94 2.06.94-2.06 2.06-.94-2.06-.94-.94-2.06-.94 2.06-2.06.94zm-11 1L8.5 8.5l.94-2.06 2.06-.94-2.06-.94L8.5 2.5l-.94 2.06-2.06.94zm10 10l.94 2.06.94-2.06 2.06-.94-2.06-.94-.94-2.06-.94 2.06-2.06.94z\"/><path d=\"M17.41 7.96l-1.37-1.37c-.4-.4-.92-.59-1.43-.59-.52 0-1.04.2-1.43.59L10.3 9.45l-7.72 7.72c-.78.78-.78 2.05 0 2.83L4 21.41c.39.39.9.59 1.41.59.51 0 1.02-.2 1.41-.59l7.78-7.78 2.81-2.81c.8-.78.8-2.07 0-2.86zM5.41 20L4 18.59l7.72-7.72 1.47 1.35L5.41 20z\"/>\n",
              "  </svg>\n",
              "      </button>\n",
              "      \n",
              "  <style>\n",
              "    .colab-df-container {\n",
              "      display:flex;\n",
              "      flex-wrap:wrap;\n",
              "      gap: 12px;\n",
              "    }\n",
              "\n",
              "    .colab-df-convert {\n",
              "      background-color: #E8F0FE;\n",
              "      border: none;\n",
              "      border-radius: 50%;\n",
              "      cursor: pointer;\n",
              "      display: none;\n",
              "      fill: #1967D2;\n",
              "      height: 32px;\n",
              "      padding: 0 0 0 0;\n",
              "      width: 32px;\n",
              "    }\n",
              "\n",
              "    .colab-df-convert:hover {\n",
              "      background-color: #E2EBFA;\n",
              "      box-shadow: 0px 1px 2px rgba(60, 64, 67, 0.3), 0px 1px 3px 1px rgba(60, 64, 67, 0.15);\n",
              "      fill: #174EA6;\n",
              "    }\n",
              "\n",
              "    [theme=dark] .colab-df-convert {\n",
              "      background-color: #3B4455;\n",
              "      fill: #D2E3FC;\n",
              "    }\n",
              "\n",
              "    [theme=dark] .colab-df-convert:hover {\n",
              "      background-color: #434B5C;\n",
              "      box-shadow: 0px 1px 3px 1px rgba(0, 0, 0, 0.15);\n",
              "      filter: drop-shadow(0px 1px 2px rgba(0, 0, 0, 0.3));\n",
              "      fill: #FFFFFF;\n",
              "    }\n",
              "  </style>\n",
              "\n",
              "      <script>\n",
              "        const buttonEl =\n",
              "          document.querySelector('#df-da2ddbc2-a89e-4d49-9b12-d90217e0511d button.colab-df-convert');\n",
              "        buttonEl.style.display =\n",
              "          google.colab.kernel.accessAllowed ? 'block' : 'none';\n",
              "\n",
              "        async function convertToInteractive(key) {\n",
              "          const element = document.querySelector('#df-da2ddbc2-a89e-4d49-9b12-d90217e0511d');\n",
              "          const dataTable =\n",
              "            await google.colab.kernel.invokeFunction('convertToInteractive',\n",
              "                                                     [key], {});\n",
              "          if (!dataTable) return;\n",
              "\n",
              "          const docLinkHtml = 'Like what you see? Visit the ' +\n",
              "            '<a target=\"_blank\" href=https://colab.research.google.com/notebooks/data_table.ipynb>data table notebook</a>'\n",
              "            + ' to learn more about interactive tables.';\n",
              "          element.innerHTML = '';\n",
              "          dataTable['output_type'] = 'display_data';\n",
              "          await google.colab.output.renderOutput(dataTable, element);\n",
              "          const docLink = document.createElement('div');\n",
              "          docLink.innerHTML = docLinkHtml;\n",
              "          element.appendChild(docLink);\n",
              "        }\n",
              "      </script>\n",
              "    </div>\n",
              "  </div>\n",
              "  "
            ]
          },
          "metadata": {},
          "execution_count": 155
        }
      ]
    },
    {
      "cell_type": "code",
      "source": [
        "# Montando DS referente a criminalidade\n",
        "df_criminalidade = pd.DataFrame ()\n",
        "df_criminalidade['delito'] = df_incident['incident_id']\n",
        "df_criminalidade['agência'] = df_incident['agency_id']\n"
      ],
      "metadata": {
        "id": "ndJ-dQDryMtF"
      },
      "id": "ndJ-dQDryMtF",
      "execution_count": null,
      "outputs": []
    },
    {
      "cell_type": "code",
      "source": [
        "listaux_city2 = []\n",
        "listaux_county2 = []\n",
        "listaux_county2.clear()\n",
        "listaux_city2.clear()\n",
        "for i, v in enumerate(df_inc_T['incident_id']):\n",
        "  for i2, v2 in enumerate(df_crim_T['agency_id']):\n",
        "    if v == v2:\n",
        "      listaux_city2.append(df_agencies['ucr_agency_name'].loc[i2])\n",
        "      listaux_county2.append(df_agencies['county_name'].loc[i2])\n",
        "    else:\n",
        "      listaux_city2.append('NaN')\n",
        "      listaux_county2.append('NaN')"
      ],
      "metadata": {
        "id": "vVMKvN7WDpVj"
      },
      "id": "vVMKvN7WDpVj",
      "execution_count": null,
      "outputs": []
    },
    {
      "cell_type": "code",
      "source": [
        "# Tentando criar DATASET único com crimes e local de registro para verificar áreas de maior risco.\n",
        "\n",
        "listaux_city = []\n",
        "listaux_county = []\n",
        "listaux_city.clear()\n",
        "listaux_county.clear()\n",
        "for i, r in df_criminalidade.iterrows():\n",
        "  for i2, r2 in df_agencies.iterrows():\n",
        "    if r['agência'] == r2['agency_id']:\n",
        "      listaux_city.append(df_agencies['ucr_agency_name'].loc[i2])\n",
        "      listaux_county.append(df_agencies['county_name'].loc[i2])\n",
        "\n",
        "\n",
        "#seguir a lógica de se os valores são iguais, lista recebe"
      ],
      "metadata": {
        "id": "1DkasD4724Mw"
      },
      "id": "1DkasD4724Mw",
      "execution_count": null,
      "outputs": []
    },
    {
      "cell_type": "code",
      "source": [
        "listaux_city.index\n",
        "# df_criminalidade['cidade'] = \n",
        "# df_criminalidade['Condado'] = listaux_county"
      ],
      "metadata": {
        "colab": {
          "base_uri": "https://localhost:8080/"
        },
        "id": "uZkn4TvgNj7a",
        "outputId": "17a3639c-b34d-4e73-d3b5-34f7289db874"
      },
      "id": "uZkn4TvgNj7a",
      "execution_count": null,
      "outputs": [
        {
          "output_type": "execute_result",
          "data": {
            "text/plain": [
              "<function list.index(value, start=0, stop=9223372036854775807, /)>"
            ]
          },
          "metadata": {},
          "execution_count": 162
        }
      ]
    },
    {
      "cell_type": "code",
      "source": [
        "from google.colab import drive\n",
        "drive.mount('/content/drive')"
      ],
      "metadata": {
        "colab": {
          "base_uri": "https://localhost:8080/"
        },
        "id": "JqiL9MvYK7M7",
        "outputId": "16b20112-d0fc-466e-d19f-91ef4e8f240c"
      },
      "id": "JqiL9MvYK7M7",
      "execution_count": 1,
      "outputs": [
        {
          "output_type": "stream",
          "name": "stdout",
          "text": [
            "Mounted at /content/drive\n"
          ]
        }
      ]
    },
    {
      "cell_type": "markdown",
      "source": [
        "## Entendimento do Negócio"
      ],
      "metadata": {
        "id": "goKQjx8tc543"
      },
      "id": "goKQjx8tc543"
    },
    {
      "cell_type": "markdown",
      "source": [
        "### Business understandig -> Pesquisa prévia sobre o negócio.\n",
        "1. Indicadores importantes para o negócio\n",
        "2. Como mensurar os possíveis ganhos e perdas desse negócio"
      ],
      "metadata": {
        "id": "BDQo3H-_dKtX"
      },
      "id": "BDQo3H-_dKtX"
    },
    {
      "cell_type": "markdown",
      "source": [
        "Pontos observados em pesquisas sobre preferências de americanos em relaçãoa a procura de residências.\n",
        "\n",
        "https://www.marketwatch.com/story/10-things-americans-want-in-their-homes-2014-12-03\n",
        "\n",
        "1. Baixo consumo energético\n",
        "2. Casa reformada\n",
        "3. Casa moderna\n",
        "4. Casa com melhor condição para pessoas de maior idade\n",
        "5. Bairro seguro - Baixa criminalidade\n",
        "6. Baixo custo (custo acessível) \n",
        "7. Privacidade - Área do lote boa\n",
        "8. Ambiente espaçoso (Guardar muitos itens) - Área do lote boa\n",
        "9. Bom investimento (Casa própria) - Valorização do imóvel ao longo do tempo"
      ],
      "metadata": {
        "id": "riO6xGWGbZ-q"
      },
      "id": "riO6xGWGbZ-q"
    },
    {
      "cell_type": "markdown",
      "source": [
        "Ranking\n",
        "\n",
        "Casas constrídas ou reformadas recentemente (-10 anos)\n",
        "Casas com poucos andares"
      ],
      "metadata": {
        "id": "Ee1hkLKtdJiY"
      },
      "id": "Ee1hkLKtdJiY"
    },
    {
      "cell_type": "markdown",
      "id": "92f68008",
      "metadata": {
        "id": "92f68008"
      },
      "source": [
        "## Entendimento dos Dados"
      ]
    },
    {
      "cell_type": "markdown",
      "source": [
        "### Data understanding"
      ],
      "metadata": {
        "id": "tAX5_hKgj1Kg"
      },
      "id": "tAX5_hKgj1Kg"
    },
    {
      "cell_type": "code",
      "execution_count": 2,
      "id": "0d5a65f0",
      "metadata": {
        "id": "0d5a65f0"
      },
      "outputs": [],
      "source": [
        "# id = Identificador único do imóvel\n",
        "# date = data da venda\n",
        "# price = preço da venda\n",
        "# bedrooms = número de quartos\n",
        "# bathrooms = número de banheiros (1 - banheiro completo, 0.75 - banheiro sem banheira, 0.5 - Lavabo)\n",
        "# sqft_living = tamanho da área habitável em ft² (área climatizada, garagem, áreas externas) - Usado para calcular o conforto dependendo do número de moradores \n",
        "# sqft_lot = tamanho da área do terreno em ft² \n",
        "# floors = número de andares (número quebrado significa que há sotão terminado (attic).)\n",
        "# waterfront = indicativo se o imóvel é a beira mar\n",
        "# view = grau de quão belo é a vista do imóvel (0 a 4)\n",
        "# condition = condição da casa (0 a 5)\n",
        "# grade = grau de qualidade do material usado na construção (0 a 13)\n",
        "# sqft_above = área acima do solo em ft² (área habitável acima do solo, (Porão excluído mesmo que terminado))\n",
        "# sqft_basement = área abaixo do solo em ft² (Porão. Geralmente são valorados em preços mais baixos e não são contados como área habitável pelos Broker Price Opinion.)\n",
        "  ## BPO são agentes e avaliadores de imóveis certificados para precificação da residência\n",
        "# yr_built = ano de contrução\n",
        "# yr_renovated = ano de restauração (0 se não houve)\n",
        "# zipcode = CEP\n",
        "# lat = latitude\n",
        "# long = longitude\n",
        "# sqft_liv15 = Média da área habitável dos 15 imóveis mais próximos, em ft²\n",
        "# sqft_lot15 = média da área do lote dos 15 imóveis mais próximos, em ft²"
      ]
    },
    {
      "cell_type": "markdown",
      "source": [
        "Definição de Banheiro\n",
        "\n",
        "1. Full Bath (Banheiro completo) = 1\n",
        "2. 3/4 Bath (Banheiro sem banheira) = 0.75\n",
        "3. Half Bath (Lavabo) = 0.5\n",
        "\n",
        "![image.png](data:image/png;base64,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) "
      ],
      "metadata": {
        "id": "j6WZPr6ZtV-2"
      },
      "id": "j6WZPr6ZtV-2"
    },
    {
      "cell_type": "markdown",
      "source": [
        "## Preparação dos Dados - Data Preparation"
      ],
      "metadata": {
        "id": "0wcOQXc4dkUL"
      },
      "id": "0wcOQXc4dkUL"
    },
    {
      "cell_type": "code",
      "source": [
        "!pip install geopy"
      ],
      "metadata": {
        "colab": {
          "base_uri": "https://localhost:8080/"
        },
        "id": "vicLJErdinA-",
        "outputId": "addc2dd4-bafd-49c1-9628-084e48646a95"
      },
      "id": "vicLJErdinA-",
      "execution_count": 3,
      "outputs": [
        {
          "output_type": "stream",
          "name": "stdout",
          "text": [
            "Looking in indexes: https://pypi.org/simple, https://us-python.pkg.dev/colab-wheels/public/simple/\n",
            "Requirement already satisfied: geopy in /usr/local/lib/python3.8/dist-packages (1.17.0)\n",
            "Requirement already satisfied: geographiclib<2,>=1.49 in /usr/local/lib/python3.8/dist-packages (from geopy) (1.52)\n"
          ]
        }
      ]
    },
    {
      "cell_type": "code",
      "source": [
        "!pip install zipcodes"
      ],
      "metadata": {
        "colab": {
          "base_uri": "https://localhost:8080/"
        },
        "id": "6odd6uCtdnwW",
        "outputId": "9e737977-a55d-4625-b461-8b63ddc8c876"
      },
      "id": "6odd6uCtdnwW",
      "execution_count": 4,
      "outputs": [
        {
          "output_type": "stream",
          "name": "stdout",
          "text": [
            "Looking in indexes: https://pypi.org/simple, https://us-python.pkg.dev/colab-wheels/public/simple/\n",
            "Collecting zipcodes\n",
            "  Downloading zipcodes-1.2.0-py2.py3-none-any.whl (719 kB)\n",
            "\u001b[2K     \u001b[90m━━━━━━━━━━━━━━━━━━━━━━━━━━━━━━━━━━━━━━\u001b[0m \u001b[32m719.6/719.6 KB\u001b[0m \u001b[31m18.6 MB/s\u001b[0m eta \u001b[36m0:00:00\u001b[0m\n",
            "\u001b[?25hInstalling collected packages: zipcodes\n",
            "Successfully installed zipcodes-1.2.0\n"
          ]
        }
      ]
    },
    {
      "cell_type": "code",
      "source": [
        "!pip install sidetable"
      ],
      "metadata": {
        "colab": {
          "base_uri": "https://localhost:8080/"
        },
        "id": "YtNL77QmoQf9",
        "outputId": "87535e31-bc56-4901-e812-7939df39d43a"
      },
      "id": "YtNL77QmoQf9",
      "execution_count": 5,
      "outputs": [
        {
          "output_type": "stream",
          "name": "stdout",
          "text": [
            "Looking in indexes: https://pypi.org/simple, https://us-python.pkg.dev/colab-wheels/public/simple/\n",
            "Collecting sidetable\n",
            "  Downloading sidetable-0.9.1-py3-none-any.whl (19 kB)\n",
            "Requirement already satisfied: pandas>=1.0 in /usr/local/lib/python3.8/dist-packages (from sidetable) (1.3.5)\n",
            "Requirement already satisfied: pytz>=2017.3 in /usr/local/lib/python3.8/dist-packages (from pandas>=1.0->sidetable) (2022.7.1)\n",
            "Requirement already satisfied: numpy>=1.17.3 in /usr/local/lib/python3.8/dist-packages (from pandas>=1.0->sidetable) (1.22.4)\n",
            "Requirement already satisfied: python-dateutil>=2.7.3 in /usr/local/lib/python3.8/dist-packages (from pandas>=1.0->sidetable) (2.8.2)\n",
            "Requirement already satisfied: six>=1.5 in /usr/local/lib/python3.8/dist-packages (from python-dateutil>=2.7.3->pandas>=1.0->sidetable) (1.15.0)\n",
            "Installing collected packages: sidetable\n",
            "Successfully installed sidetable-0.9.1\n"
          ]
        }
      ]
    },
    {
      "cell_type": "code",
      "source": [
        "!pip install pycep-correios"
      ],
      "metadata": {
        "colab": {
          "base_uri": "https://localhost:8080/"
        },
        "id": "JmXmQMF3_z7F",
        "outputId": "6d5fbcd8-2441-4d07-dd31-d3b96d855ebd"
      },
      "id": "JmXmQMF3_z7F",
      "execution_count": 6,
      "outputs": [
        {
          "output_type": "stream",
          "name": "stdout",
          "text": [
            "Looking in indexes: https://pypi.org/simple, https://us-python.pkg.dev/colab-wheels/public/simple/\n",
            "Collecting pycep-correios\n",
            "  Downloading pycep_correios-5.1.0-py2.py3-none-any.whl (7.1 kB)\n",
            "Requirement already satisfied: requests>=2.7.0 in /usr/local/lib/python3.8/dist-packages (from pycep-correios) (2.25.1)\n",
            "Collecting zeep>=2.0.0\n",
            "  Downloading zeep-4.2.1-py3-none-any.whl (101 kB)\n",
            "\u001b[2K     \u001b[90m━━━━━━━━━━━━━━━━━━━━━━━━━━━━━━━━━━━━━━━\u001b[0m \u001b[32m101.2/101.2 KB\u001b[0m \u001b[31m6.2 MB/s\u001b[0m eta \u001b[36m0:00:00\u001b[0m\n",
            "\u001b[?25hRequirement already satisfied: certifi>=2017.4.17 in /usr/local/lib/python3.8/dist-packages (from requests>=2.7.0->pycep-correios) (2022.12.7)\n",
            "Requirement already satisfied: urllib3<1.27,>=1.21.1 in /usr/local/lib/python3.8/dist-packages (from requests>=2.7.0->pycep-correios) (1.26.14)\n",
            "Requirement already satisfied: idna<3,>=2.5 in /usr/local/lib/python3.8/dist-packages (from requests>=2.7.0->pycep-correios) (2.10)\n",
            "Requirement already satisfied: chardet<5,>=3.0.2 in /usr/local/lib/python3.8/dist-packages (from requests>=2.7.0->pycep-correios) (4.0.0)\n",
            "Requirement already satisfied: pytz in /usr/local/lib/python3.8/dist-packages (from zeep>=2.0.0->pycep-correios) (2022.7.1)\n",
            "Requirement already satisfied: attrs>=17.2.0 in /usr/local/lib/python3.8/dist-packages (from zeep>=2.0.0->pycep-correios) (22.2.0)\n",
            "Collecting requests-toolbelt>=0.7.1\n",
            "  Downloading requests_toolbelt-0.10.1-py2.py3-none-any.whl (54 kB)\n",
            "\u001b[2K     \u001b[90m━━━━━━━━━━━━━━━━━━━━━━━━━━━━━━━━━━━━━━━━\u001b[0m \u001b[32m54.5/54.5 KB\u001b[0m \u001b[31m8.2 MB/s\u001b[0m eta \u001b[36m0:00:00\u001b[0m\n",
            "\u001b[?25hRequirement already satisfied: lxml>=4.6.0 in /usr/local/lib/python3.8/dist-packages (from zeep>=2.0.0->pycep-correios) (4.9.2)\n",
            "Collecting isodate>=0.5.4\n",
            "  Downloading isodate-0.6.1-py2.py3-none-any.whl (41 kB)\n",
            "\u001b[2K     \u001b[90m━━━━━━━━━━━━━━━━━━━━━━━━━━━━━━━━━━━━━━━━\u001b[0m \u001b[32m41.7/41.7 KB\u001b[0m \u001b[31m5.5 MB/s\u001b[0m eta \u001b[36m0:00:00\u001b[0m\n",
            "\u001b[?25hRequirement already satisfied: platformdirs>=1.4.0 in /usr/local/lib/python3.8/dist-packages (from zeep>=2.0.0->pycep-correios) (3.0.0)\n",
            "Collecting requests-file>=1.5.1\n",
            "  Downloading requests_file-1.5.1-py2.py3-none-any.whl (3.7 kB)\n",
            "Requirement already satisfied: six in /usr/local/lib/python3.8/dist-packages (from isodate>=0.5.4->zeep>=2.0.0->pycep-correios) (1.15.0)\n",
            "Installing collected packages: isodate, requests-toolbelt, requests-file, zeep, pycep-correios\n",
            "Successfully installed isodate-0.6.1 pycep-correios-5.1.0 requests-file-1.5.1 requests-toolbelt-0.10.1 zeep-4.2.1\n"
          ]
        }
      ]
    },
    {
      "cell_type": "code",
      "source": [
        "import pandas as pd\n",
        "import matplotlib.pyplot as plt\n",
        "import seaborn as sns\n",
        "import plotly.express as px\n",
        "import plotly.graph_objects as go\n",
        "import zipcodes\n",
        "import numpy as np"
      ],
      "metadata": {
        "id": "jWMZ_wo-dq7v"
      },
      "id": "jWMZ_wo-dq7v",
      "execution_count": 7,
      "outputs": []
    },
    {
      "cell_type": "code",
      "source": [
        "from pprint import pprint\n",
        "from scipy import stats\n",
        "import sidetable\n",
        "import geopy\n",
        "from geopy.geocoders import Nominatim"
      ],
      "metadata": {
        "id": "O06QurDNexgP"
      },
      "id": "O06QurDNexgP",
      "execution_count": 8,
      "outputs": []
    },
    {
      "cell_type": "markdown",
      "source": [
        "### Funções criadas"
      ],
      "metadata": {
        "id": "D0IjH5G6a5JS"
      },
      "id": "D0IjH5G6a5JS"
    },
    {
      "cell_type": "code",
      "source": [
        "# Criando  o localizador baseado em lat e long\n",
        "def geolocalizator(lat,longitude):\n",
        "  geolocator = Nominatim(user_agent=\"localizador de Cidade e Bairro\")\n",
        "  location = geolocator.reverse(str(lat)+','+str(longitude))\n",
        "  dicioBairros = (location.raw['address'])\n",
        "  neighbourhood = dicioBairros.get('neighbourhood')\n",
        "  city = dicioBairros.get('city')\n",
        "  return neighbourhood, city\n",
        "\n",
        "\n",
        "\n",
        "# Criando função para pegar a cidade com base no zipcode\n",
        "def cep(a):\n",
        "  city = zipcodes.matching(str(a))[0]\n",
        "  return city['city']\n",
        "\n",
        "\n",
        "\n",
        "# Função para criação do ranking - Critério: Maior melhor \n",
        "def rankC(a,aa,b,bb):\n",
        "  l1=[]  \n",
        "  for v in a[aa].values():\n",
        "    for v2 in b[bb].values():\n",
        "      if v > v2:\n",
        "        l1.append(2)\n",
        "      elif v == v2:\n",
        "        l1.append(1)\n",
        "      elif v < v2:\n",
        "        l1.append(0)\n",
        "  return l1\n",
        "\n",
        "\n",
        "\n",
        "# Função para criação do ranking - Critério: Menor melhor \n",
        "def rankB(a,aa,b,bb):\n",
        "  l2=[]  \n",
        "  for v in a[aa].values():\n",
        "    for v2 in b[bb].values():\n",
        "      if v < v2:\n",
        "        l2.append(2)\n",
        "      elif v == v2:\n",
        "        l2.append(1)\n",
        "      elif v > v2:\n",
        "        l2.append(0)\n",
        "  return l2\n",
        "      "
      ],
      "metadata": {
        "id": "0AYWf6cfkzql"
      },
      "id": "0AYWf6cfkzql",
      "execution_count": 87,
      "outputs": []
    },
    {
      "cell_type": "markdown",
      "source": [
        "### Dataset - Tratamento dos dados"
      ],
      "metadata": {
        "id": "ai_xTsGwbL49"
      },
      "id": "ai_xTsGwbL49"
    },
    {
      "cell_type": "code",
      "execution_count": 10,
      "id": "a5d5bdc2",
      "metadata": {
        "colab": {
          "base_uri": "https://localhost:8080/"
        },
        "id": "a5d5bdc2",
        "outputId": "bd95772a-81b1-4d61-fc2b-f9eac623d2b7"
      },
      "outputs": [
        {
          "output_type": "stream",
          "name": "stdout",
          "text": [
            "<class 'pandas.core.frame.DataFrame'>\n",
            "RangeIndex: 21613 entries, 0 to 21612\n",
            "Data columns (total 21 columns):\n",
            " #   Column         Non-Null Count  Dtype  \n",
            "---  ------         --------------  -----  \n",
            " 0   id             21613 non-null  int64  \n",
            " 1   date           21613 non-null  object \n",
            " 2   price          21613 non-null  float64\n",
            " 3   bedrooms       21613 non-null  int64  \n",
            " 4   bathrooms      21613 non-null  float64\n",
            " 5   sqft_living    21613 non-null  int64  \n",
            " 6   sqft_lot       21613 non-null  int64  \n",
            " 7   floors         21613 non-null  float64\n",
            " 8   waterfront     21613 non-null  int64  \n",
            " 9   view           21613 non-null  int64  \n",
            " 10  condition      21613 non-null  int64  \n",
            " 11  grade          21613 non-null  int64  \n",
            " 12  sqft_above     21613 non-null  int64  \n",
            " 13  sqft_basement  21613 non-null  int64  \n",
            " 14  yr_built       21613 non-null  int64  \n",
            " 15  yr_renovated   21613 non-null  int64  \n",
            " 16  zipcode        21613 non-null  int64  \n",
            " 17  lat            21613 non-null  float64\n",
            " 18  long           21613 non-null  float64\n",
            " 19  sqft_living15  21613 non-null  int64  \n",
            " 20  sqft_lot15     21613 non-null  int64  \n",
            "dtypes: float64(5), int64(15), object(1)\n",
            "memory usage: 3.5+ MB\n"
          ]
        }
      ],
      "source": [
        "# Lendo DS e entendendo\n",
        "df = pd.read_csv('/content/drive/MyDrive/Colab Notebooks/Formação de Dados - Aluno/Mini Projeto/kc_house_data.csv')\n",
        "df.info()"
      ]
    },
    {
      "cell_type": "code",
      "source": [
        "mu1 = df.memory_usage().sum()\n",
        "mu1"
      ],
      "metadata": {
        "colab": {
          "base_uri": "https://localhost:8080/"
        },
        "id": "kQKVTBcRUfbl",
        "outputId": "83483e9b-5da8-4de9-8c29-d767e8c6c3d9"
      },
      "id": "kQKVTBcRUfbl",
      "execution_count": 11,
      "outputs": [
        {
          "output_type": "execute_result",
          "data": {
            "text/plain": [
              "3631112"
            ]
          },
          "metadata": {},
          "execution_count": 11
        }
      ]
    },
    {
      "cell_type": "code",
      "source": [
        "# Transformando colunas objetos em categórica para aumentar eficiência (redução de memória utilizada)\n",
        "categorical_columns_C = df.columns[df.dtypes==object].tolist() + ['lat','long','yr_renovated','yr_built','zipcode','grade','condition','view','waterfront']\n",
        "df[categorical_columns_C] = df[categorical_columns_C].astype('category')\n",
        "df.info()"
      ],
      "metadata": {
        "colab": {
          "base_uri": "https://localhost:8080/"
        },
        "id": "dBf6uRawTMwc",
        "outputId": "27aa6c38-6043-4737-b704-40ba0f154a81"
      },
      "id": "dBf6uRawTMwc",
      "execution_count": 12,
      "outputs": [
        {
          "output_type": "stream",
          "name": "stdout",
          "text": [
            "<class 'pandas.core.frame.DataFrame'>\n",
            "RangeIndex: 21613 entries, 0 to 21612\n",
            "Data columns (total 21 columns):\n",
            " #   Column         Non-Null Count  Dtype   \n",
            "---  ------         --------------  -----   \n",
            " 0   id             21613 non-null  int64   \n",
            " 1   date           21613 non-null  category\n",
            " 2   price          21613 non-null  float64 \n",
            " 3   bedrooms       21613 non-null  int64   \n",
            " 4   bathrooms      21613 non-null  float64 \n",
            " 5   sqft_living    21613 non-null  int64   \n",
            " 6   sqft_lot       21613 non-null  int64   \n",
            " 7   floors         21613 non-null  float64 \n",
            " 8   waterfront     21613 non-null  category\n",
            " 9   view           21613 non-null  category\n",
            " 10  condition      21613 non-null  category\n",
            " 11  grade          21613 non-null  category\n",
            " 12  sqft_above     21613 non-null  int64   \n",
            " 13  sqft_basement  21613 non-null  int64   \n",
            " 14  yr_built       21613 non-null  category\n",
            " 15  yr_renovated   21613 non-null  category\n",
            " 16  zipcode        21613 non-null  category\n",
            " 17  lat            21613 non-null  category\n",
            " 18  long           21613 non-null  category\n",
            " 19  sqft_living15  21613 non-null  int64   \n",
            " 20  sqft_lot15     21613 non-null  int64   \n",
            "dtypes: category(10), float64(3), int64(8)\n",
            "memory usage: 2.3 MB\n"
          ]
        }
      ]
    },
    {
      "cell_type": "code",
      "source": [
        "# Renomeando as colunas\n",
        "df_renamed = df.rename(columns={'date':'DATA',\n",
        "                        'price':'PREÇO',\n",
        "                        'bedrooms':'QUARTOS',\n",
        "                        'bathrooms':'BANHEIROS',\n",
        "                        'sqft_living':'ÁREA HABITÁVEL',\n",
        "                        'sqft_lot':'ÁREA DO TERRENO',\n",
        "                        'floors':'ANDARES',\n",
        "                        'waterfront':'BEIRA MAR',\n",
        "                        'view':'VISTA',\n",
        "                        'condition':'CONDIÇÃO DO IMÓVEL',\n",
        "                        'grade':'QUALIDADE DO MATERIAL DE CONSTRUÇÃO',\n",
        "                        'sqft_above':'ÁREA ACIMA DO SOLO',\n",
        "                        'sqft_basement':'SOTÃO',\n",
        "                        'yr_built':'ANO DE CONSTRUÇÃO',\n",
        "                        'yr_renovated':'ANO DE REFORMA',\n",
        "                        'zipcode':'CEP',\n",
        "                        'lat':'LATITUDE',\n",
        "                        'long':'LONGITUDE',\n",
        "                        'sqft_living15':'MÉDIA ÁREA HABITÁVEL 15 +PRÓXIMOS',\n",
        "                        'sqft_lot15':'MÉDIA ÁREA LOTES 15 +PRÓXIMOS'                       \n",
        "                        })\n",
        "df_renamed.info()"
      ],
      "metadata": {
        "colab": {
          "base_uri": "https://localhost:8080/"
        },
        "id": "W5R5HLMqXPbG",
        "outputId": "17aa8319-747f-435f-d2be-b34ad7835c45"
      },
      "id": "W5R5HLMqXPbG",
      "execution_count": 13,
      "outputs": [
        {
          "output_type": "stream",
          "name": "stdout",
          "text": [
            "<class 'pandas.core.frame.DataFrame'>\n",
            "RangeIndex: 21613 entries, 0 to 21612\n",
            "Data columns (total 21 columns):\n",
            " #   Column                               Non-Null Count  Dtype   \n",
            "---  ------                               --------------  -----   \n",
            " 0   id                                   21613 non-null  int64   \n",
            " 1   DATA                                 21613 non-null  category\n",
            " 2   PREÇO                                21613 non-null  float64 \n",
            " 3   QUARTOS                              21613 non-null  int64   \n",
            " 4   BANHEIROS                            21613 non-null  float64 \n",
            " 5   ÁREA HABITÁVEL                       21613 non-null  int64   \n",
            " 6   ÁREA DO TERRENO                      21613 non-null  int64   \n",
            " 7   ANDARES                              21613 non-null  float64 \n",
            " 8   BEIRA MAR                            21613 non-null  category\n",
            " 9   VISTA                                21613 non-null  category\n",
            " 10  CONDIÇÃO DO IMÓVEL                   21613 non-null  category\n",
            " 11  QUALIDADE DO MATERIAL DE CONSTRUÇÃO  21613 non-null  category\n",
            " 12  ÁREA ACIMA DO SOLO                   21613 non-null  int64   \n",
            " 13  SOTÃO                                21613 non-null  int64   \n",
            " 14  ANO DE CONSTRUÇÃO                    21613 non-null  category\n",
            " 15  ANO DE REFORMA                       21613 non-null  category\n",
            " 16  CEP                                  21613 non-null  category\n",
            " 17  LATITUDE                             21613 non-null  category\n",
            " 18  LONGITUDE                            21613 non-null  category\n",
            " 19  MÉDIA ÁREA HABITÁVEL 15 +PRÓXIMOS    21613 non-null  int64   \n",
            " 20  MÉDIA ÁREA LOTES 15 +PRÓXIMOS        21613 non-null  int64   \n",
            "dtypes: category(10), float64(3), int64(8)\n",
            "memory usage: 2.3 MB\n"
          ]
        }
      ]
    },
    {
      "cell_type": "code",
      "source": [
        "df_renamed['DATA'] = pd.to_datetime(df_renamed['DATA'])\n",
        "df_renamed.info()"
      ],
      "metadata": {
        "id": "gUst3yQtfHbf",
        "colab": {
          "base_uri": "https://localhost:8080/"
        },
        "outputId": "b8a01d3e-1311-43d9-bf56-02f6899fd074"
      },
      "id": "gUst3yQtfHbf",
      "execution_count": 14,
      "outputs": [
        {
          "output_type": "stream",
          "name": "stdout",
          "text": [
            "<class 'pandas.core.frame.DataFrame'>\n",
            "RangeIndex: 21613 entries, 0 to 21612\n",
            "Data columns (total 21 columns):\n",
            " #   Column                               Non-Null Count  Dtype   \n",
            "---  ------                               --------------  -----   \n",
            " 0   id                                   21613 non-null  int64   \n",
            " 1   DATA                                 21613 non-null  category\n",
            " 2   PREÇO                                21613 non-null  float64 \n",
            " 3   QUARTOS                              21613 non-null  int64   \n",
            " 4   BANHEIROS                            21613 non-null  float64 \n",
            " 5   ÁREA HABITÁVEL                       21613 non-null  int64   \n",
            " 6   ÁREA DO TERRENO                      21613 non-null  int64   \n",
            " 7   ANDARES                              21613 non-null  float64 \n",
            " 8   BEIRA MAR                            21613 non-null  category\n",
            " 9   VISTA                                21613 non-null  category\n",
            " 10  CONDIÇÃO DO IMÓVEL                   21613 non-null  category\n",
            " 11  QUALIDADE DO MATERIAL DE CONSTRUÇÃO  21613 non-null  category\n",
            " 12  ÁREA ACIMA DO SOLO                   21613 non-null  int64   \n",
            " 13  SOTÃO                                21613 non-null  int64   \n",
            " 14  ANO DE CONSTRUÇÃO                    21613 non-null  category\n",
            " 15  ANO DE REFORMA                       21613 non-null  category\n",
            " 16  CEP                                  21613 non-null  category\n",
            " 17  LATITUDE                             21613 non-null  category\n",
            " 18  LONGITUDE                            21613 non-null  category\n",
            " 19  MÉDIA ÁREA HABITÁVEL 15 +PRÓXIMOS    21613 non-null  int64   \n",
            " 20  MÉDIA ÁREA LOTES 15 +PRÓXIMOS        21613 non-null  int64   \n",
            "dtypes: category(10), float64(3), int64(8)\n",
            "memory usage: 2.3 MB\n"
          ]
        }
      ]
    },
    {
      "cell_type": "code",
      "source": [
        "# Redução de memória utilizada\n",
        "mu2 = df.memory_usage().sum()\n",
        "1 - mu2/mu1"
      ],
      "metadata": {
        "colab": {
          "base_uri": "https://localhost:8080/"
        },
        "id": "0LNshO49U_LG",
        "outputId": "d6ecdf63-90e7-4bcc-aa37-eb232642c83e"
      },
      "id": "0LNshO49U_LG",
      "execution_count": 15,
      "outputs": [
        {
          "output_type": "execute_result",
          "data": {
            "text/plain": [
              "0.3388645131298621"
            ]
          },
          "metadata": {},
          "execution_count": 15
        }
      ]
    },
    {
      "cell_type": "code",
      "source": [
        "df_renamed.describe()"
      ],
      "metadata": {
        "colab": {
          "base_uri": "https://localhost:8080/",
          "height": 361
        },
        "id": "cBKW1GzbmV1_",
        "outputId": "5527060e-4f70-4858-86d0-5e640207e8aa"
      },
      "id": "cBKW1GzbmV1_",
      "execution_count": 16,
      "outputs": [
        {
          "output_type": "execute_result",
          "data": {
            "text/plain": [
              "                 id         PREÇO       QUARTOS     BANHEIROS  ÁREA HABITÁVEL  \\\n",
              "count  2.161300e+04  2.161300e+04  21613.000000  21613.000000    21613.000000   \n",
              "mean   4.580302e+09  5.400881e+05      3.370842      2.114757     2079.899736   \n",
              "std    2.876566e+09  3.671272e+05      0.930062      0.770163      918.440897   \n",
              "min    1.000102e+06  7.500000e+04      0.000000      0.000000      290.000000   \n",
              "25%    2.123049e+09  3.219500e+05      3.000000      1.750000     1427.000000   \n",
              "50%    3.904930e+09  4.500000e+05      3.000000      2.250000     1910.000000   \n",
              "75%    7.308900e+09  6.450000e+05      4.000000      2.500000     2550.000000   \n",
              "max    9.900000e+09  7.700000e+06     33.000000      8.000000    13540.000000   \n",
              "\n",
              "       ÁREA DO TERRENO       ANDARES  ÁREA ACIMA DO SOLO         SOTÃO  \\\n",
              "count     2.161300e+04  21613.000000        21613.000000  21613.000000   \n",
              "mean      1.510697e+04      1.494309         1788.390691    291.509045   \n",
              "std       4.142051e+04      0.539989          828.090978    442.575043   \n",
              "min       5.200000e+02      1.000000          290.000000      0.000000   \n",
              "25%       5.040000e+03      1.000000         1190.000000      0.000000   \n",
              "50%       7.618000e+03      1.500000         1560.000000      0.000000   \n",
              "75%       1.068800e+04      2.000000         2210.000000    560.000000   \n",
              "max       1.651359e+06      3.500000         9410.000000   4820.000000   \n",
              "\n",
              "       MÉDIA ÁREA HABITÁVEL 15 +PRÓXIMOS  MÉDIA ÁREA LOTES 15 +PRÓXIMOS  \n",
              "count                       21613.000000                   21613.000000  \n",
              "mean                         1986.552492                   12768.455652  \n",
              "std                           685.391304                   27304.179631  \n",
              "min                           399.000000                     651.000000  \n",
              "25%                          1490.000000                    5100.000000  \n",
              "50%                          1840.000000                    7620.000000  \n",
              "75%                          2360.000000                   10083.000000  \n",
              "max                          6210.000000                  871200.000000  "
            ],
            "text/html": [
              "\n",
              "  <div id=\"df-37cfbc5b-f2c1-4252-b062-0e547507bbe8\">\n",
              "    <div class=\"colab-df-container\">\n",
              "      <div>\n",
              "<style scoped>\n",
              "    .dataframe tbody tr th:only-of-type {\n",
              "        vertical-align: middle;\n",
              "    }\n",
              "\n",
              "    .dataframe tbody tr th {\n",
              "        vertical-align: top;\n",
              "    }\n",
              "\n",
              "    .dataframe thead th {\n",
              "        text-align: right;\n",
              "    }\n",
              "</style>\n",
              "<table border=\"1\" class=\"dataframe\">\n",
              "  <thead>\n",
              "    <tr style=\"text-align: right;\">\n",
              "      <th></th>\n",
              "      <th>id</th>\n",
              "      <th>PREÇO</th>\n",
              "      <th>QUARTOS</th>\n",
              "      <th>BANHEIROS</th>\n",
              "      <th>ÁREA HABITÁVEL</th>\n",
              "      <th>ÁREA DO TERRENO</th>\n",
              "      <th>ANDARES</th>\n",
              "      <th>ÁREA ACIMA DO SOLO</th>\n",
              "      <th>SOTÃO</th>\n",
              "      <th>MÉDIA ÁREA HABITÁVEL 15 +PRÓXIMOS</th>\n",
              "      <th>MÉDIA ÁREA LOTES 15 +PRÓXIMOS</th>\n",
              "    </tr>\n",
              "  </thead>\n",
              "  <tbody>\n",
              "    <tr>\n",
              "      <th>count</th>\n",
              "      <td>2.161300e+04</td>\n",
              "      <td>2.161300e+04</td>\n",
              "      <td>21613.000000</td>\n",
              "      <td>21613.000000</td>\n",
              "      <td>21613.000000</td>\n",
              "      <td>2.161300e+04</td>\n",
              "      <td>21613.000000</td>\n",
              "      <td>21613.000000</td>\n",
              "      <td>21613.000000</td>\n",
              "      <td>21613.000000</td>\n",
              "      <td>21613.000000</td>\n",
              "    </tr>\n",
              "    <tr>\n",
              "      <th>mean</th>\n",
              "      <td>4.580302e+09</td>\n",
              "      <td>5.400881e+05</td>\n",
              "      <td>3.370842</td>\n",
              "      <td>2.114757</td>\n",
              "      <td>2079.899736</td>\n",
              "      <td>1.510697e+04</td>\n",
              "      <td>1.494309</td>\n",
              "      <td>1788.390691</td>\n",
              "      <td>291.509045</td>\n",
              "      <td>1986.552492</td>\n",
              "      <td>12768.455652</td>\n",
              "    </tr>\n",
              "    <tr>\n",
              "      <th>std</th>\n",
              "      <td>2.876566e+09</td>\n",
              "      <td>3.671272e+05</td>\n",
              "      <td>0.930062</td>\n",
              "      <td>0.770163</td>\n",
              "      <td>918.440897</td>\n",
              "      <td>4.142051e+04</td>\n",
              "      <td>0.539989</td>\n",
              "      <td>828.090978</td>\n",
              "      <td>442.575043</td>\n",
              "      <td>685.391304</td>\n",
              "      <td>27304.179631</td>\n",
              "    </tr>\n",
              "    <tr>\n",
              "      <th>min</th>\n",
              "      <td>1.000102e+06</td>\n",
              "      <td>7.500000e+04</td>\n",
              "      <td>0.000000</td>\n",
              "      <td>0.000000</td>\n",
              "      <td>290.000000</td>\n",
              "      <td>5.200000e+02</td>\n",
              "      <td>1.000000</td>\n",
              "      <td>290.000000</td>\n",
              "      <td>0.000000</td>\n",
              "      <td>399.000000</td>\n",
              "      <td>651.000000</td>\n",
              "    </tr>\n",
              "    <tr>\n",
              "      <th>25%</th>\n",
              "      <td>2.123049e+09</td>\n",
              "      <td>3.219500e+05</td>\n",
              "      <td>3.000000</td>\n",
              "      <td>1.750000</td>\n",
              "      <td>1427.000000</td>\n",
              "      <td>5.040000e+03</td>\n",
              "      <td>1.000000</td>\n",
              "      <td>1190.000000</td>\n",
              "      <td>0.000000</td>\n",
              "      <td>1490.000000</td>\n",
              "      <td>5100.000000</td>\n",
              "    </tr>\n",
              "    <tr>\n",
              "      <th>50%</th>\n",
              "      <td>3.904930e+09</td>\n",
              "      <td>4.500000e+05</td>\n",
              "      <td>3.000000</td>\n",
              "      <td>2.250000</td>\n",
              "      <td>1910.000000</td>\n",
              "      <td>7.618000e+03</td>\n",
              "      <td>1.500000</td>\n",
              "      <td>1560.000000</td>\n",
              "      <td>0.000000</td>\n",
              "      <td>1840.000000</td>\n",
              "      <td>7620.000000</td>\n",
              "    </tr>\n",
              "    <tr>\n",
              "      <th>75%</th>\n",
              "      <td>7.308900e+09</td>\n",
              "      <td>6.450000e+05</td>\n",
              "      <td>4.000000</td>\n",
              "      <td>2.500000</td>\n",
              "      <td>2550.000000</td>\n",
              "      <td>1.068800e+04</td>\n",
              "      <td>2.000000</td>\n",
              "      <td>2210.000000</td>\n",
              "      <td>560.000000</td>\n",
              "      <td>2360.000000</td>\n",
              "      <td>10083.000000</td>\n",
              "    </tr>\n",
              "    <tr>\n",
              "      <th>max</th>\n",
              "      <td>9.900000e+09</td>\n",
              "      <td>7.700000e+06</td>\n",
              "      <td>33.000000</td>\n",
              "      <td>8.000000</td>\n",
              "      <td>13540.000000</td>\n",
              "      <td>1.651359e+06</td>\n",
              "      <td>3.500000</td>\n",
              "      <td>9410.000000</td>\n",
              "      <td>4820.000000</td>\n",
              "      <td>6210.000000</td>\n",
              "      <td>871200.000000</td>\n",
              "    </tr>\n",
              "  </tbody>\n",
              "</table>\n",
              "</div>\n",
              "      <button class=\"colab-df-convert\" onclick=\"convertToInteractive('df-37cfbc5b-f2c1-4252-b062-0e547507bbe8')\"\n",
              "              title=\"Convert this dataframe to an interactive table.\"\n",
              "              style=\"display:none;\">\n",
              "        \n",
              "  <svg xmlns=\"http://www.w3.org/2000/svg\" height=\"24px\"viewBox=\"0 0 24 24\"\n",
              "       width=\"24px\">\n",
              "    <path d=\"M0 0h24v24H0V0z\" fill=\"none\"/>\n",
              "    <path d=\"M18.56 5.44l.94 2.06.94-2.06 2.06-.94-2.06-.94-.94-2.06-.94 2.06-2.06.94zm-11 1L8.5 8.5l.94-2.06 2.06-.94-2.06-.94L8.5 2.5l-.94 2.06-2.06.94zm10 10l.94 2.06.94-2.06 2.06-.94-2.06-.94-.94-2.06-.94 2.06-2.06.94z\"/><path d=\"M17.41 7.96l-1.37-1.37c-.4-.4-.92-.59-1.43-.59-.52 0-1.04.2-1.43.59L10.3 9.45l-7.72 7.72c-.78.78-.78 2.05 0 2.83L4 21.41c.39.39.9.59 1.41.59.51 0 1.02-.2 1.41-.59l7.78-7.78 2.81-2.81c.8-.78.8-2.07 0-2.86zM5.41 20L4 18.59l7.72-7.72 1.47 1.35L5.41 20z\"/>\n",
              "  </svg>\n",
              "      </button>\n",
              "      \n",
              "  <style>\n",
              "    .colab-df-container {\n",
              "      display:flex;\n",
              "      flex-wrap:wrap;\n",
              "      gap: 12px;\n",
              "    }\n",
              "\n",
              "    .colab-df-convert {\n",
              "      background-color: #E8F0FE;\n",
              "      border: none;\n",
              "      border-radius: 50%;\n",
              "      cursor: pointer;\n",
              "      display: none;\n",
              "      fill: #1967D2;\n",
              "      height: 32px;\n",
              "      padding: 0 0 0 0;\n",
              "      width: 32px;\n",
              "    }\n",
              "\n",
              "    .colab-df-convert:hover {\n",
              "      background-color: #E2EBFA;\n",
              "      box-shadow: 0px 1px 2px rgba(60, 64, 67, 0.3), 0px 1px 3px 1px rgba(60, 64, 67, 0.15);\n",
              "      fill: #174EA6;\n",
              "    }\n",
              "\n",
              "    [theme=dark] .colab-df-convert {\n",
              "      background-color: #3B4455;\n",
              "      fill: #D2E3FC;\n",
              "    }\n",
              "\n",
              "    [theme=dark] .colab-df-convert:hover {\n",
              "      background-color: #434B5C;\n",
              "      box-shadow: 0px 1px 3px 1px rgba(0, 0, 0, 0.15);\n",
              "      filter: drop-shadow(0px 1px 2px rgba(0, 0, 0, 0.3));\n",
              "      fill: #FFFFFF;\n",
              "    }\n",
              "  </style>\n",
              "\n",
              "      <script>\n",
              "        const buttonEl =\n",
              "          document.querySelector('#df-37cfbc5b-f2c1-4252-b062-0e547507bbe8 button.colab-df-convert');\n",
              "        buttonEl.style.display =\n",
              "          google.colab.kernel.accessAllowed ? 'block' : 'none';\n",
              "\n",
              "        async function convertToInteractive(key) {\n",
              "          const element = document.querySelector('#df-37cfbc5b-f2c1-4252-b062-0e547507bbe8');\n",
              "          const dataTable =\n",
              "            await google.colab.kernel.invokeFunction('convertToInteractive',\n",
              "                                                     [key], {});\n",
              "          if (!dataTable) return;\n",
              "\n",
              "          const docLinkHtml = 'Like what you see? Visit the ' +\n",
              "            '<a target=\"_blank\" href=https://colab.research.google.com/notebooks/data_table.ipynb>data table notebook</a>'\n",
              "            + ' to learn more about interactive tables.';\n",
              "          element.innerHTML = '';\n",
              "          dataTable['output_type'] = 'display_data';\n",
              "          await google.colab.output.renderOutput(dataTable, element);\n",
              "          const docLink = document.createElement('div');\n",
              "          docLink.innerHTML = docLinkHtml;\n",
              "          element.appendChild(docLink);\n",
              "        }\n",
              "      </script>\n",
              "    </div>\n",
              "  </div>\n",
              "  "
            ]
          },
          "metadata": {},
          "execution_count": 16
        }
      ]
    },
    {
      "cell_type": "code",
      "source": [
        "#### Tenho que verificar os BDs de criminalidade para entender os dados e posteriormente cruzar com a área das casas\n",
        "\n",
        "# Criando DF de teste para a função de localização criada\n",
        "local = pd.DataFrame ()\n",
        "Latext = df_renamed['LATITUDE'][15:20]\n",
        "Longtext = df_renamed['LONGITUDE'][15:20]\n",
        "CepText = df_renamed['CEP'][15:20]\n",
        "local['Lat'] = Latext\n",
        "local['Long'] = Longtext\n",
        "local['CEP'] = CepText\n",
        "\n",
        "\n",
        "# Teste - Função geolocalizator\n",
        "auxN = []\n",
        "auxC = []\n",
        "\n",
        "for i, row in local.iterrows():\n",
        "  a,b = geolocalizator(str(row['Lat']),str(row['Long']))\n",
        "  print(f\"{row['Lat']} e {row['Long']}\")\n",
        "  auxN.append(a)\n",
        "  auxC.append(b)\n",
        "print(auxN)\n",
        "print(auxC)\n",
        "# Observado que não está pegando todas as cidades\n",
        "\n",
        "# Teste - Função cep\n",
        "auxC2 = []\n",
        "\n",
        "for i in local['CEP']:\n",
        "  c = cep(i)\n",
        "  auxC2.append(cep(i))\n",
        "print(auxC2)\n"
      ],
      "metadata": {
        "id": "TyaHStonmaWV",
        "colab": {
          "base_uri": "https://localhost:8080/"
        },
        "outputId": "c80f1580-487f-49fb-94f9-b1a0766ddd93"
      },
      "id": "TyaHStonmaWV",
      "execution_count": 17,
      "outputs": [
        {
          "output_type": "stream",
          "name": "stdout",
          "text": [
            "47.5714 e -122.375\n",
            "47.7277 e -121.962\n",
            "47.6648 e -122.343\n",
            "47.3089 e -122.21\n",
            "47.3343 e -122.306\n",
            "[None, None, None, None, None]\n",
            "['Seattle', None, 'Seattle', None, None]\n",
            "['Seattle', 'Duvall', 'Seattle', 'Auburn', 'Federal Way']\n"
          ]
        }
      ]
    },
    {
      "cell_type": "code",
      "source": [
        "# Rodando o preenchimento das cidades no dataset com base no CEP\n",
        "auxC2 = []\n",
        "for i in df_renamed['CEP']:\n",
        "  auxC2.append(cep(i))\n",
        "\n",
        "# Incluindo no DS a coluna Cidade\n",
        "df_renamed['CIDADE'] = auxC2"
      ],
      "metadata": {
        "id": "YKDuclk2fWrY"
      },
      "id": "YKDuclk2fWrY",
      "execution_count": 18,
      "outputs": []
    },
    {
      "cell_type": "code",
      "source": [
        "# Verificando vazios\n",
        "df_renamed.isna().sum()\n",
        "df_renamed.isna().sum().any()"
      ],
      "metadata": {
        "colab": {
          "base_uri": "https://localhost:8080/"
        },
        "id": "al2ltYKCXK46",
        "outputId": "e4ffb013-d3f0-403b-efea-18b142188717"
      },
      "id": "al2ltYKCXK46",
      "execution_count": 19,
      "outputs": [
        {
          "output_type": "execute_result",
          "data": {
            "text/plain": [
              "False"
            ]
          },
          "metadata": {},
          "execution_count": 19
        }
      ]
    },
    {
      "cell_type": "code",
      "source": [
        "# Criando coluna com tempo desde a última reforma ou construção\n",
        "age = []\n",
        "for i, v in df_renamed.iterrows():\n",
        "  if v['ANO DE REFORMA'] == 0:\n",
        "    age.append(2015-v['ANO DE CONSTRUÇÃO'])\n",
        "  else:\n",
        "    age.append(v['ANO DE REFORMA'] - v['ANO DE CONSTRUÇÃO'])\n",
        "\n",
        "# TDI -> Refente ao tempo de de uso do imóvel desde a construção ou última reforma -> Quanto menor esse número, melhor (imóvel mais novo) \n",
        "df_renamed['TEMPO DO IMÓVEL'] = age"
      ],
      "metadata": {
        "id": "5bv9XAKCjg4C"
      },
      "id": "5bv9XAKCjg4C",
      "execution_count": 20,
      "outputs": []
    },
    {
      "cell_type": "code",
      "source": [
        "df_renamed['Relação A/T / A/H'] = df_renamed['ÁREA DO TERRENO'] / df_renamed['ÁREA HABITÁVEL']"
      ],
      "metadata": {
        "id": "ukODxfu36d2z"
      },
      "id": "ukODxfu36d2z",
      "execution_count": 21,
      "outputs": []
    },
    {
      "cell_type": "code",
      "source": [
        "df_renamed.info()"
      ],
      "metadata": {
        "colab": {
          "base_uri": "https://localhost:8080/"
        },
        "id": "10Ku4NZJso2_",
        "outputId": "b0f9ab90-b3f0-4db5-a330-59fadae2bc4d"
      },
      "id": "10Ku4NZJso2_",
      "execution_count": 22,
      "outputs": [
        {
          "output_type": "stream",
          "name": "stdout",
          "text": [
            "<class 'pandas.core.frame.DataFrame'>\n",
            "RangeIndex: 21613 entries, 0 to 21612\n",
            "Data columns (total 24 columns):\n",
            " #   Column                               Non-Null Count  Dtype   \n",
            "---  ------                               --------------  -----   \n",
            " 0   id                                   21613 non-null  int64   \n",
            " 1   DATA                                 21613 non-null  category\n",
            " 2   PREÇO                                21613 non-null  float64 \n",
            " 3   QUARTOS                              21613 non-null  int64   \n",
            " 4   BANHEIROS                            21613 non-null  float64 \n",
            " 5   ÁREA HABITÁVEL                       21613 non-null  int64   \n",
            " 6   ÁREA DO TERRENO                      21613 non-null  int64   \n",
            " 7   ANDARES                              21613 non-null  float64 \n",
            " 8   BEIRA MAR                            21613 non-null  category\n",
            " 9   VISTA                                21613 non-null  category\n",
            " 10  CONDIÇÃO DO IMÓVEL                   21613 non-null  category\n",
            " 11  QUALIDADE DO MATERIAL DE CONSTRUÇÃO  21613 non-null  category\n",
            " 12  ÁREA ACIMA DO SOLO                   21613 non-null  int64   \n",
            " 13  SOTÃO                                21613 non-null  int64   \n",
            " 14  ANO DE CONSTRUÇÃO                    21613 non-null  category\n",
            " 15  ANO DE REFORMA                       21613 non-null  category\n",
            " 16  CEP                                  21613 non-null  category\n",
            " 17  LATITUDE                             21613 non-null  category\n",
            " 18  LONGITUDE                            21613 non-null  category\n",
            " 19  MÉDIA ÁREA HABITÁVEL 15 +PRÓXIMOS    21613 non-null  int64   \n",
            " 20  MÉDIA ÁREA LOTES 15 +PRÓXIMOS        21613 non-null  int64   \n",
            " 21  CIDADE                               21613 non-null  object  \n",
            " 22  TEMPO DO IMÓVEL                      21613 non-null  int64   \n",
            " 23  Relação A/T / A/H                    21613 non-null  float64 \n",
            "dtypes: category(10), float64(4), int64(9), object(1)\n",
            "memory usage: 2.8+ MB\n"
          ]
        }
      ]
    },
    {
      "cell_type": "markdown",
      "source": [
        "### Estatística Exploratória "
      ],
      "metadata": {
        "id": "pthuAqv_gi9G"
      },
      "id": "pthuAqv_gi9G"
    },
    {
      "cell_type": "code",
      "source": [
        "# Tabela de frequência variáveis categóricas\n",
        "df_renamed.stb.freq(['CIDADE','id'])"
      ],
      "metadata": {
        "id": "D317TfJUfJli",
        "colab": {
          "base_uri": "https://localhost:8080/",
          "height": 423
        },
        "outputId": "c0fa523e-806c-4cc9-8b48-2b7af58de4f2"
      },
      "id": "D317TfJUfJli",
      "execution_count": 23,
      "outputs": [
        {
          "output_type": "execute_result",
          "data": {
            "text/plain": [
              "            CIDADE          id  count   percent  cumulative_count  \\\n",
              "0          Seattle   795000620      3  0.013881                 3   \n",
              "1      Woodinville  9238500040      2  0.009254                 5   \n",
              "2      Woodinville  7701960990      2  0.009254                 7   \n",
              "3      Woodinville  1630700361      2  0.009254                 9   \n",
              "4           Vashon   722039087      2  0.009254                11   \n",
              "...            ...         ...    ...       ...               ...   \n",
              "21431       Auburn    16000545      1  0.004627             21609   \n",
              "21432       Auburn    16000435      1  0.004627             21610   \n",
              "21433       Auburn    16000397      1  0.004627             21611   \n",
              "21434       Auburn    16000200      1  0.004627             21612   \n",
              "21435       Auburn    16000015      1  0.004627             21613   \n",
              "\n",
              "       cumulative_percent  \n",
              "0                0.013881  \n",
              "1                0.023134  \n",
              "2                0.032388  \n",
              "3                0.041642  \n",
              "4                0.050895  \n",
              "...                   ...  \n",
              "21431           99.981493  \n",
              "21432           99.986119  \n",
              "21433           99.990746  \n",
              "21434           99.995373  \n",
              "21435          100.000000  \n",
              "\n",
              "[21436 rows x 6 columns]"
            ],
            "text/html": [
              "\n",
              "  <div id=\"df-0269085d-7746-4370-a766-ab057efc78c5\">\n",
              "    <div class=\"colab-df-container\">\n",
              "      <div>\n",
              "<style scoped>\n",
              "    .dataframe tbody tr th:only-of-type {\n",
              "        vertical-align: middle;\n",
              "    }\n",
              "\n",
              "    .dataframe tbody tr th {\n",
              "        vertical-align: top;\n",
              "    }\n",
              "\n",
              "    .dataframe thead th {\n",
              "        text-align: right;\n",
              "    }\n",
              "</style>\n",
              "<table border=\"1\" class=\"dataframe\">\n",
              "  <thead>\n",
              "    <tr style=\"text-align: right;\">\n",
              "      <th></th>\n",
              "      <th>CIDADE</th>\n",
              "      <th>id</th>\n",
              "      <th>count</th>\n",
              "      <th>percent</th>\n",
              "      <th>cumulative_count</th>\n",
              "      <th>cumulative_percent</th>\n",
              "    </tr>\n",
              "  </thead>\n",
              "  <tbody>\n",
              "    <tr>\n",
              "      <th>0</th>\n",
              "      <td>Seattle</td>\n",
              "      <td>795000620</td>\n",
              "      <td>3</td>\n",
              "      <td>0.013881</td>\n",
              "      <td>3</td>\n",
              "      <td>0.013881</td>\n",
              "    </tr>\n",
              "    <tr>\n",
              "      <th>1</th>\n",
              "      <td>Woodinville</td>\n",
              "      <td>9238500040</td>\n",
              "      <td>2</td>\n",
              "      <td>0.009254</td>\n",
              "      <td>5</td>\n",
              "      <td>0.023134</td>\n",
              "    </tr>\n",
              "    <tr>\n",
              "      <th>2</th>\n",
              "      <td>Woodinville</td>\n",
              "      <td>7701960990</td>\n",
              "      <td>2</td>\n",
              "      <td>0.009254</td>\n",
              "      <td>7</td>\n",
              "      <td>0.032388</td>\n",
              "    </tr>\n",
              "    <tr>\n",
              "      <th>3</th>\n",
              "      <td>Woodinville</td>\n",
              "      <td>1630700361</td>\n",
              "      <td>2</td>\n",
              "      <td>0.009254</td>\n",
              "      <td>9</td>\n",
              "      <td>0.041642</td>\n",
              "    </tr>\n",
              "    <tr>\n",
              "      <th>4</th>\n",
              "      <td>Vashon</td>\n",
              "      <td>722039087</td>\n",
              "      <td>2</td>\n",
              "      <td>0.009254</td>\n",
              "      <td>11</td>\n",
              "      <td>0.050895</td>\n",
              "    </tr>\n",
              "    <tr>\n",
              "      <th>...</th>\n",
              "      <td>...</td>\n",
              "      <td>...</td>\n",
              "      <td>...</td>\n",
              "      <td>...</td>\n",
              "      <td>...</td>\n",
              "      <td>...</td>\n",
              "    </tr>\n",
              "    <tr>\n",
              "      <th>21431</th>\n",
              "      <td>Auburn</td>\n",
              "      <td>16000545</td>\n",
              "      <td>1</td>\n",
              "      <td>0.004627</td>\n",
              "      <td>21609</td>\n",
              "      <td>99.981493</td>\n",
              "    </tr>\n",
              "    <tr>\n",
              "      <th>21432</th>\n",
              "      <td>Auburn</td>\n",
              "      <td>16000435</td>\n",
              "      <td>1</td>\n",
              "      <td>0.004627</td>\n",
              "      <td>21610</td>\n",
              "      <td>99.986119</td>\n",
              "    </tr>\n",
              "    <tr>\n",
              "      <th>21433</th>\n",
              "      <td>Auburn</td>\n",
              "      <td>16000397</td>\n",
              "      <td>1</td>\n",
              "      <td>0.004627</td>\n",
              "      <td>21611</td>\n",
              "      <td>99.990746</td>\n",
              "    </tr>\n",
              "    <tr>\n",
              "      <th>21434</th>\n",
              "      <td>Auburn</td>\n",
              "      <td>16000200</td>\n",
              "      <td>1</td>\n",
              "      <td>0.004627</td>\n",
              "      <td>21612</td>\n",
              "      <td>99.995373</td>\n",
              "    </tr>\n",
              "    <tr>\n",
              "      <th>21435</th>\n",
              "      <td>Auburn</td>\n",
              "      <td>16000015</td>\n",
              "      <td>1</td>\n",
              "      <td>0.004627</td>\n",
              "      <td>21613</td>\n",
              "      <td>100.000000</td>\n",
              "    </tr>\n",
              "  </tbody>\n",
              "</table>\n",
              "<p>21436 rows × 6 columns</p>\n",
              "</div>\n",
              "      <button class=\"colab-df-convert\" onclick=\"convertToInteractive('df-0269085d-7746-4370-a766-ab057efc78c5')\"\n",
              "              title=\"Convert this dataframe to an interactive table.\"\n",
              "              style=\"display:none;\">\n",
              "        \n",
              "  <svg xmlns=\"http://www.w3.org/2000/svg\" height=\"24px\"viewBox=\"0 0 24 24\"\n",
              "       width=\"24px\">\n",
              "    <path d=\"M0 0h24v24H0V0z\" fill=\"none\"/>\n",
              "    <path d=\"M18.56 5.44l.94 2.06.94-2.06 2.06-.94-2.06-.94-.94-2.06-.94 2.06-2.06.94zm-11 1L8.5 8.5l.94-2.06 2.06-.94-2.06-.94L8.5 2.5l-.94 2.06-2.06.94zm10 10l.94 2.06.94-2.06 2.06-.94-2.06-.94-.94-2.06-.94 2.06-2.06.94z\"/><path d=\"M17.41 7.96l-1.37-1.37c-.4-.4-.92-.59-1.43-.59-.52 0-1.04.2-1.43.59L10.3 9.45l-7.72 7.72c-.78.78-.78 2.05 0 2.83L4 21.41c.39.39.9.59 1.41.59.51 0 1.02-.2 1.41-.59l7.78-7.78 2.81-2.81c.8-.78.8-2.07 0-2.86zM5.41 20L4 18.59l7.72-7.72 1.47 1.35L5.41 20z\"/>\n",
              "  </svg>\n",
              "      </button>\n",
              "      \n",
              "  <style>\n",
              "    .colab-df-container {\n",
              "      display:flex;\n",
              "      flex-wrap:wrap;\n",
              "      gap: 12px;\n",
              "    }\n",
              "\n",
              "    .colab-df-convert {\n",
              "      background-color: #E8F0FE;\n",
              "      border: none;\n",
              "      border-radius: 50%;\n",
              "      cursor: pointer;\n",
              "      display: none;\n",
              "      fill: #1967D2;\n",
              "      height: 32px;\n",
              "      padding: 0 0 0 0;\n",
              "      width: 32px;\n",
              "    }\n",
              "\n",
              "    .colab-df-convert:hover {\n",
              "      background-color: #E2EBFA;\n",
              "      box-shadow: 0px 1px 2px rgba(60, 64, 67, 0.3), 0px 1px 3px 1px rgba(60, 64, 67, 0.15);\n",
              "      fill: #174EA6;\n",
              "    }\n",
              "\n",
              "    [theme=dark] .colab-df-convert {\n",
              "      background-color: #3B4455;\n",
              "      fill: #D2E3FC;\n",
              "    }\n",
              "\n",
              "    [theme=dark] .colab-df-convert:hover {\n",
              "      background-color: #434B5C;\n",
              "      box-shadow: 0px 1px 3px 1px rgba(0, 0, 0, 0.15);\n",
              "      filter: drop-shadow(0px 1px 2px rgba(0, 0, 0, 0.3));\n",
              "      fill: #FFFFFF;\n",
              "    }\n",
              "  </style>\n",
              "\n",
              "      <script>\n",
              "        const buttonEl =\n",
              "          document.querySelector('#df-0269085d-7746-4370-a766-ab057efc78c5 button.colab-df-convert');\n",
              "        buttonEl.style.display =\n",
              "          google.colab.kernel.accessAllowed ? 'block' : 'none';\n",
              "\n",
              "        async function convertToInteractive(key) {\n",
              "          const element = document.querySelector('#df-0269085d-7746-4370-a766-ab057efc78c5');\n",
              "          const dataTable =\n",
              "            await google.colab.kernel.invokeFunction('convertToInteractive',\n",
              "                                                     [key], {});\n",
              "          if (!dataTable) return;\n",
              "\n",
              "          const docLinkHtml = 'Like what you see? Visit the ' +\n",
              "            '<a target=\"_blank\" href=https://colab.research.google.com/notebooks/data_table.ipynb>data table notebook</a>'\n",
              "            + ' to learn more about interactive tables.';\n",
              "          element.innerHTML = '';\n",
              "          dataTable['output_type'] = 'display_data';\n",
              "          await google.colab.output.renderOutput(dataTable, element);\n",
              "          const docLink = document.createElement('div');\n",
              "          docLink.innerHTML = docLinkHtml;\n",
              "          element.appendChild(docLink);\n",
              "        }\n",
              "      </script>\n",
              "    </div>\n",
              "  </div>\n",
              "  "
            ]
          },
          "metadata": {},
          "execution_count": 23
        }
      ]
    },
    {
      "cell_type": "code",
      "source": [
        "# Verificando duplicados\n",
        "df_renamed.duplicated().any()"
      ],
      "metadata": {
        "colab": {
          "base_uri": "https://localhost:8080/"
        },
        "id": "5yyywqX9XYxV",
        "outputId": "d37d45f1-3b08-4afa-ee15-d0c73316006b"
      },
      "id": "5yyywqX9XYxV",
      "execution_count": 24,
      "outputs": [
        {
          "output_type": "execute_result",
          "data": {
            "text/plain": [
              "False"
            ]
          },
          "metadata": {},
          "execution_count": 24
        }
      ]
    },
    {
      "cell_type": "code",
      "source": [
        "# Verificando casas revendidas\n",
        "df_renamed['id'].duplicated().any()"
      ],
      "metadata": {
        "colab": {
          "base_uri": "https://localhost:8080/"
        },
        "id": "rldfX-aGMAY6",
        "outputId": "5495acb9-d911-4de3-b763-a951a2e14eb1"
      },
      "id": "rldfX-aGMAY6",
      "execution_count": 25,
      "outputs": [
        {
          "output_type": "execute_result",
          "data": {
            "text/plain": [
              "True"
            ]
          },
          "metadata": {},
          "execution_count": 25
        }
      ]
    },
    {
      "cell_type": "code",
      "source": [
        "df_renamed['CIDADE'] = df_renamed['CIDADE'].astype('category')\n",
        "df_renamed.info()"
      ],
      "metadata": {
        "id": "3L36vhtFmKiU",
        "colab": {
          "base_uri": "https://localhost:8080/"
        },
        "outputId": "773025eb-63ca-4640-8af8-ea6c41708044"
      },
      "id": "3L36vhtFmKiU",
      "execution_count": 26,
      "outputs": [
        {
          "output_type": "stream",
          "name": "stdout",
          "text": [
            "<class 'pandas.core.frame.DataFrame'>\n",
            "RangeIndex: 21613 entries, 0 to 21612\n",
            "Data columns (total 24 columns):\n",
            " #   Column                               Non-Null Count  Dtype   \n",
            "---  ------                               --------------  -----   \n",
            " 0   id                                   21613 non-null  int64   \n",
            " 1   DATA                                 21613 non-null  category\n",
            " 2   PREÇO                                21613 non-null  float64 \n",
            " 3   QUARTOS                              21613 non-null  int64   \n",
            " 4   BANHEIROS                            21613 non-null  float64 \n",
            " 5   ÁREA HABITÁVEL                       21613 non-null  int64   \n",
            " 6   ÁREA DO TERRENO                      21613 non-null  int64   \n",
            " 7   ANDARES                              21613 non-null  float64 \n",
            " 8   BEIRA MAR                            21613 non-null  category\n",
            " 9   VISTA                                21613 non-null  category\n",
            " 10  CONDIÇÃO DO IMÓVEL                   21613 non-null  category\n",
            " 11  QUALIDADE DO MATERIAL DE CONSTRUÇÃO  21613 non-null  category\n",
            " 12  ÁREA ACIMA DO SOLO                   21613 non-null  int64   \n",
            " 13  SOTÃO                                21613 non-null  int64   \n",
            " 14  ANO DE CONSTRUÇÃO                    21613 non-null  category\n",
            " 15  ANO DE REFORMA                       21613 non-null  category\n",
            " 16  CEP                                  21613 non-null  category\n",
            " 17  LATITUDE                             21613 non-null  category\n",
            " 18  LONGITUDE                            21613 non-null  category\n",
            " 19  MÉDIA ÁREA HABITÁVEL 15 +PRÓXIMOS    21613 non-null  int64   \n",
            " 20  MÉDIA ÁREA LOTES 15 +PRÓXIMOS        21613 non-null  int64   \n",
            " 21  CIDADE                               21613 non-null  category\n",
            " 22  TEMPO DO IMÓVEL                      21613 non-null  int64   \n",
            " 23  Relação A/T / A/H                    21613 non-null  float64 \n",
            "dtypes: category(11), float64(4), int64(9)\n",
            "memory usage: 2.6 MB\n"
          ]
        }
      ]
    },
    {
      "cell_type": "code",
      "source": [
        "And = df_renamed['ANDARES'].value_counts(normalize=True)\n",
        "Qua = df_renamed['QUARTOS'].value_counts(normalize=False)\n",
        "Ban = df_renamed['BANHEIROS'].value_counts(normalize=False)\n",
        "# Excluindo outlier para não interferir na análise\n",
        "df_renamed.drop(index=15870,inplace=True)"
      ],
      "metadata": {
        "id": "hO55JT0Sp_Wy"
      },
      "id": "hO55JT0Sp_Wy",
      "execution_count": 28,
      "outputs": []
    },
    {
      "cell_type": "code",
      "source": [
        "# Filtrando para verificar se outlier permanece\n",
        "df_renamed[df_renamed['QUARTOS']==33]"
      ],
      "metadata": {
        "colab": {
          "base_uri": "https://localhost:8080/",
          "height": 175
        },
        "id": "dtb24Tn8_-3B",
        "outputId": "3de7b219-7aca-44dc-d84a-511885556612"
      },
      "id": "dtb24Tn8_-3B",
      "execution_count": 29,
      "outputs": [
        {
          "output_type": "execute_result",
          "data": {
            "text/plain": [
              "Empty DataFrame\n",
              "Columns: [id, DATA, PREÇO, QUARTOS, BANHEIROS, ÁREA HABITÁVEL, ÁREA DO TERRENO, ANDARES, BEIRA MAR, VISTA, CONDIÇÃO DO IMÓVEL, QUALIDADE DO MATERIAL DE CONSTRUÇÃO, ÁREA ACIMA DO SOLO, SOTÃO, ANO DE CONSTRUÇÃO, ANO DE REFORMA, CEP, LATITUDE, LONGITUDE, MÉDIA ÁREA HABITÁVEL 15 +PRÓXIMOS, MÉDIA ÁREA LOTES 15 +PRÓXIMOS, CIDADE, TEMPO DO IMÓVEL, Relação A/T / A/H]\n",
              "Index: []\n",
              "\n",
              "[0 rows x 24 columns]"
            ],
            "text/html": [
              "\n",
              "  <div id=\"df-b25b36b6-ce53-4e24-843e-2b3ef6611aef\">\n",
              "    <div class=\"colab-df-container\">\n",
              "      <div>\n",
              "<style scoped>\n",
              "    .dataframe tbody tr th:only-of-type {\n",
              "        vertical-align: middle;\n",
              "    }\n",
              "\n",
              "    .dataframe tbody tr th {\n",
              "        vertical-align: top;\n",
              "    }\n",
              "\n",
              "    .dataframe thead th {\n",
              "        text-align: right;\n",
              "    }\n",
              "</style>\n",
              "<table border=\"1\" class=\"dataframe\">\n",
              "  <thead>\n",
              "    <tr style=\"text-align: right;\">\n",
              "      <th></th>\n",
              "      <th>id</th>\n",
              "      <th>DATA</th>\n",
              "      <th>PREÇO</th>\n",
              "      <th>QUARTOS</th>\n",
              "      <th>BANHEIROS</th>\n",
              "      <th>ÁREA HABITÁVEL</th>\n",
              "      <th>ÁREA DO TERRENO</th>\n",
              "      <th>ANDARES</th>\n",
              "      <th>BEIRA MAR</th>\n",
              "      <th>VISTA</th>\n",
              "      <th>...</th>\n",
              "      <th>ANO DE CONSTRUÇÃO</th>\n",
              "      <th>ANO DE REFORMA</th>\n",
              "      <th>CEP</th>\n",
              "      <th>LATITUDE</th>\n",
              "      <th>LONGITUDE</th>\n",
              "      <th>MÉDIA ÁREA HABITÁVEL 15 +PRÓXIMOS</th>\n",
              "      <th>MÉDIA ÁREA LOTES 15 +PRÓXIMOS</th>\n",
              "      <th>CIDADE</th>\n",
              "      <th>TEMPO DO IMÓVEL</th>\n",
              "      <th>Relação A/T / A/H</th>\n",
              "    </tr>\n",
              "  </thead>\n",
              "  <tbody>\n",
              "  </tbody>\n",
              "</table>\n",
              "<p>0 rows × 24 columns</p>\n",
              "</div>\n",
              "      <button class=\"colab-df-convert\" onclick=\"convertToInteractive('df-b25b36b6-ce53-4e24-843e-2b3ef6611aef')\"\n",
              "              title=\"Convert this dataframe to an interactive table.\"\n",
              "              style=\"display:none;\">\n",
              "        \n",
              "  <svg xmlns=\"http://www.w3.org/2000/svg\" height=\"24px\"viewBox=\"0 0 24 24\"\n",
              "       width=\"24px\">\n",
              "    <path d=\"M0 0h24v24H0V0z\" fill=\"none\"/>\n",
              "    <path d=\"M18.56 5.44l.94 2.06.94-2.06 2.06-.94-2.06-.94-.94-2.06-.94 2.06-2.06.94zm-11 1L8.5 8.5l.94-2.06 2.06-.94-2.06-.94L8.5 2.5l-.94 2.06-2.06.94zm10 10l.94 2.06.94-2.06 2.06-.94-2.06-.94-.94-2.06-.94 2.06-2.06.94z\"/><path d=\"M17.41 7.96l-1.37-1.37c-.4-.4-.92-.59-1.43-.59-.52 0-1.04.2-1.43.59L10.3 9.45l-7.72 7.72c-.78.78-.78 2.05 0 2.83L4 21.41c.39.39.9.59 1.41.59.51 0 1.02-.2 1.41-.59l7.78-7.78 2.81-2.81c.8-.78.8-2.07 0-2.86zM5.41 20L4 18.59l7.72-7.72 1.47 1.35L5.41 20z\"/>\n",
              "  </svg>\n",
              "      </button>\n",
              "      \n",
              "  <style>\n",
              "    .colab-df-container {\n",
              "      display:flex;\n",
              "      flex-wrap:wrap;\n",
              "      gap: 12px;\n",
              "    }\n",
              "\n",
              "    .colab-df-convert {\n",
              "      background-color: #E8F0FE;\n",
              "      border: none;\n",
              "      border-radius: 50%;\n",
              "      cursor: pointer;\n",
              "      display: none;\n",
              "      fill: #1967D2;\n",
              "      height: 32px;\n",
              "      padding: 0 0 0 0;\n",
              "      width: 32px;\n",
              "    }\n",
              "\n",
              "    .colab-df-convert:hover {\n",
              "      background-color: #E2EBFA;\n",
              "      box-shadow: 0px 1px 2px rgba(60, 64, 67, 0.3), 0px 1px 3px 1px rgba(60, 64, 67, 0.15);\n",
              "      fill: #174EA6;\n",
              "    }\n",
              "\n",
              "    [theme=dark] .colab-df-convert {\n",
              "      background-color: #3B4455;\n",
              "      fill: #D2E3FC;\n",
              "    }\n",
              "\n",
              "    [theme=dark] .colab-df-convert:hover {\n",
              "      background-color: #434B5C;\n",
              "      box-shadow: 0px 1px 3px 1px rgba(0, 0, 0, 0.15);\n",
              "      filter: drop-shadow(0px 1px 2px rgba(0, 0, 0, 0.3));\n",
              "      fill: #FFFFFF;\n",
              "    }\n",
              "  </style>\n",
              "\n",
              "      <script>\n",
              "        const buttonEl =\n",
              "          document.querySelector('#df-b25b36b6-ce53-4e24-843e-2b3ef6611aef button.colab-df-convert');\n",
              "        buttonEl.style.display =\n",
              "          google.colab.kernel.accessAllowed ? 'block' : 'none';\n",
              "\n",
              "        async function convertToInteractive(key) {\n",
              "          const element = document.querySelector('#df-b25b36b6-ce53-4e24-843e-2b3ef6611aef');\n",
              "          const dataTable =\n",
              "            await google.colab.kernel.invokeFunction('convertToInteractive',\n",
              "                                                     [key], {});\n",
              "          if (!dataTable) return;\n",
              "\n",
              "          const docLinkHtml = 'Like what you see? Visit the ' +\n",
              "            '<a target=\"_blank\" href=https://colab.research.google.com/notebooks/data_table.ipynb>data table notebook</a>'\n",
              "            + ' to learn more about interactive tables.';\n",
              "          element.innerHTML = '';\n",
              "          dataTable['output_type'] = 'display_data';\n",
              "          await google.colab.output.renderOutput(dataTable, element);\n",
              "          const docLink = document.createElement('div');\n",
              "          docLink.innerHTML = docLinkHtml;\n",
              "          element.appendChild(docLink);\n",
              "        }\n",
              "      </script>\n",
              "    </div>\n",
              "  </div>\n",
              "  "
            ]
          },
          "metadata": {},
          "execution_count": 29
        }
      ]
    },
    {
      "cell_type": "code",
      "source": [
        "# Agrupando por cidade\n",
        "df_renamedGroup = df_renamed.groupby('CIDADE').mean().reset_index()"
      ],
      "metadata": {
        "id": "5qClvHEEUZcH"
      },
      "id": "5qClvHEEUZcH",
      "execution_count": 102,
      "outputs": []
    },
    {
      "cell_type": "code",
      "source": [
        "# Excuindo colunas desnecessárias\n",
        "df_renamedGroup = df_renamedGroup.drop(['MÉDIA ÁREA HABITÁVEL 15 +PRÓXIMOS' ,'MÉDIA ÁREA LOTES 15 +PRÓXIMOS'],axis=1,inplace=True)"
      ],
      "metadata": {
        "id": "r_e5Lh5MUfr4"
      },
      "id": "r_e5Lh5MUfr4",
      "execution_count": 99,
      "outputs": []
    },
    {
      "cell_type": "code",
      "source": [
        "# Criando a contagem de id repetido (revenda)\n",
        "DS=(\n",
        "   df_renamed[['CIDADE','id']].value_counts(normalize=False).to_frame('Count_id')\n",
        "    .rename_axis(['city','id']).reset_index()\n",
        ")"
      ],
      "metadata": {
        "id": "3mDcb01Rt1jO"
      },
      "id": "3mDcb01Rt1jO",
      "execution_count": 31,
      "outputs": []
    },
    {
      "cell_type": "code",
      "source": [
        "# Criando parâmetro preço por área do terreno e área habitável\n",
        "df_renamed['PM - ÁREA TOTAL'] = df_renamed['PREÇO'] / df_renamed['ÁREA DO TERRENO']\n",
        "df_renamed['PM - ÁREA CONSTRUÍDA'] = df_renamed['PREÇO'] / df_renamed['ÁREA HABITÁVEL']\n",
        "\n",
        "# Casa reformada - Menor tempo de construção (menos que a média)\n",
        "# Casa moderna - Menor tempo de construção / Maior qualidade do material (maior que a média)\n",
        "# Casa com melhor condição para pessoas de maior idade - Menos andares (menor que a média) / Menor tempo de construção / Maior qualidade do material\n",
        "# Baixo custo (custo acessível) - Menor preço / área\n",
        "# Privacidade - Maior área do terreno / Maior área habitável\n",
        "# Ambiente espaçoso (Guardar muitos itens) - Maior área do terreno / Maior área habitável\n",
        "cidade = df_renamed['CIDADE'].unique()\n",
        "med_at = df_renamed['ÁREA DO TERRENO'].agg('mean') # Critério: Maior melhor - Área do Terreno\n",
        "med_ah = df_renamed['ÁREA HABITÁVEL'].agg('mean') # Critério: Maior melhor - Área Habitável\n",
        "med_andares = df_renamed['ANDARES'].agg('mean') # Critério: Menor melhor - Andares\n",
        "med_tdi = df_renamed['TEMPO DO IMÓVEL'].agg('mean')# Critério: Menor melhor - Tempo do imóvel\n",
        "med_p_at = df_renamed['PM - ÁREA TOTAL'].agg('mean') # Critério: Menor melhor - preço / área\n",
        "med_p_ah = df_renamed['PM - ÁREA CONSTRUÍDA'].agg('mean') # Critério: Menor melhor - preço / área\n",
        "\n",
        "med_qmc = df_renamed['QUALIDADE DO MATERIAL DE CONSTRUÇÃO'].value_counts().to_frame('Qualidade_Material').rename_axis(['Qualidade']).reset_index() # Critério: Maior melhor - qualidade material\n",
        "med_cdi = df_renamed['CONDIÇÃO DO IMÓVEL'].value_counts().value_counts().to_frame('Condição_Imóvel').rename_axis(['CondiçãoIM']).reset_index() # Critério: Maior melhor - condição do imóvel\n",
        "df_renamed.stb.freq(['CIDADE','QUALIDADE DO MATERIAL DE CONSTRUÇÃO'])\n",
        "v1 = df_renamed.stb.freq(['CIDADE','CONDIÇÃO DO IMÓVEL'])\n",
        "\n"
      ],
      "metadata": {
        "id": "zxP-J_YsmkJK"
      },
      "id": "zxP-J_YsmkJK",
      "execution_count": 78,
      "outputs": []
    },
    {
      "cell_type": "code",
      "source": [
        "# Verificando qual como é a distribuição da relação área terreno com área habitável entre os imóveis do DS\n",
        "df_renamed['AT / AH round'] = df_renamed['Relação A/T / A/H'].round(0) \n",
        "df_renamed['AT / AH round'].describe(percentiles=[0.5,0.9,0.95,0.99])\n",
        "# Menor melhor -> Maior parte dos imóveis aproveita mais os espaços do terreno"
      ],
      "metadata": {
        "colab": {
          "base_uri": "https://localhost:8080/"
        },
        "id": "0KAnBeuo9eoj",
        "outputId": "8774236e-b37b-4c91-a74d-6e7fc88cf0c9"
      },
      "id": "0KAnBeuo9eoj",
      "execution_count": 96,
      "outputs": [
        {
          "output_type": "execute_result",
          "data": {
            "text/plain": [
              "count    21612.000000\n",
              "mean         7.463863\n",
              "std         22.966272\n",
              "min          0.000000\n",
              "50%          4.000000\n",
              "90%         11.000000\n",
              "95%         19.000000\n",
              "99%         81.000000\n",
              "max       1641.000000\n",
              "Name: AT / AH round, dtype: float64"
            ]
          },
          "metadata": {},
          "execution_count": 96
        }
      ]
    },
    {
      "cell_type": "code",
      "source": [
        "#Criando listas com as pontuações obtidas com base nos parâmetros estabelecidos em pesquisas e observações de preferências dos americanos\n",
        "at = [] # Ma\n",
        "ah = [] # Ma\n",
        "andares = [] # Me\n",
        "tdi = [] # Me\n",
        "p_at = [] # Me\n",
        "p_ah = [] # Me\n",
        "at_ah = [] # Me\n",
        "\n",
        "for i,v in df_renamed.iterrows():\n",
        "  for i2,v2 in df_renamedGroup.iterrows():\n",
        "    if v['CIDADE'] == v2['CIDADE']:\n",
        "      if v['ÁREA DO TERRENO'] >= v2['ÁREA DO TERRENO']: #5\n",
        "        at.append(1)\n",
        "      else:\n",
        "        at.append(0)\n",
        "      if v['ÁREA HABITÁVEL'] >= v2['ÁREA HABITÁVEL']: #4\n",
        "        ah.append(1)\n",
        "      else:\n",
        "        ah.append(0)\n",
        "      if v['ANDARES'] <= v2['ANDARES']: #7\n",
        "        andares.append(1)\n",
        "      else:\n",
        "        andares.append(0)\n",
        "      if v['TEMPO DO IMÓVEL'] <= v2[\"TEMPO DO IMÓVEL\"]: #6\n",
        "        tdi.append(1)\n",
        "      else:\n",
        "        tdi.append(0)\n",
        "      if v['PM - ÁREA TOTAL'] <= v2['PM - ÁREA TOTAL']: #2\n",
        "        p_at.append(1)\n",
        "      else:\n",
        "        p_at.append(0)\n",
        "      if v['PM - ÁREA CONSTRUÍDA'] <= v2['PM - ÁREA CONSTRUÍDA']: #1\n",
        "        p_ah.append(1)\n",
        "      else:\n",
        "        p_ah.append(0)\n",
        "      if v['AT / AH round'] <= v2['AT / AH round']: #3\n",
        "        at_ah.append(1)\n",
        "      else:\n",
        "        at_ah.append(0)\n"
      ],
      "metadata": {
        "id": "lTMPt5oP4dKN"
      },
      "id": "lTMPt5oP4dKN",
      "execution_count": 106,
      "outputs": []
    },
    {
      "cell_type": "code",
      "source": [
        "# Criação do ranking e Somatório de pontos\n",
        "df_ranking = df_renamed[['id','CIDADE','VISTA','BEIRA MAR','BANHEIROS','QUARTOS','PREÇO']]\n",
        "df_ranking['P1 - PREÇO / AREA HABITAVEL'] = p_ah\n",
        "df_ranking['P2 - PREÇO / AREA TOTAL']= p_at\n",
        "df_ranking['P3 - RELAÇÃO AREA TERRENO / AREA HABITAVEL']= at_ah\n",
        "df_ranking['P4 - AREA HABITAVEL']= ah\n",
        "df_ranking['P5 - AREA TERRENO']= at\n",
        "df_ranking['P6 - TEMPO IMOVEL']= tdi\n",
        "df_ranking['P7 - ANDARES']= andares"
      ],
      "metadata": {
        "id": "JnRac7SSpZEC"
      },
      "id": "JnRac7SSpZEC",
      "execution_count": null,
      "outputs": []
    },
    {
      "cell_type": "code",
      "source": [
        "# Nota final baseado nos critérios definidos\n",
        "df_ranking['ranking'] = (\n",
        "                         df_ranking['P1 - PREÇO / AREA HABITAVEL'] + \n",
        "                         df_ranking['P2 - PREÇO / AREA TOTAL'] + \n",
        "                         df_ranking['P3 - RELAÇÃO AREA TERRENO / AREA HABITAVEL'] + \n",
        "                         df_ranking['P4 - AREA HABITAVEL'] +\n",
        "                         df_ranking['P5 - AREA TERRENO'] +\n",
        "                         df_ranking['P6 - TEMPO IMOVEL'] +\n",
        "                         df_ranking['P7 - ANDARES']\n",
        ")"
      ],
      "metadata": {
        "id": "tcxt7moCVYev"
      },
      "id": "tcxt7moCVYev",
      "execution_count": null,
      "outputs": []
    },
    {
      "cell_type": "code",
      "source": [
        "# Não comprar - Advertências\n",
        "adv = df_ranking[(df_ranking['ranking']<=0)]\n",
        "adv\n",
        "# adv2 = df_ranking[(df_ranking['ranking']<=1) & (df_ranking['PREÇO']>1380000)]\n",
        "# adv2"
      ],
      "metadata": {
        "colab": {
          "base_uri": "https://localhost:8080/",
          "height": 177
        },
        "id": "LDkpbQoUVqpn",
        "outputId": "db1eeec3-7a20-40a0-9a89-c3794e08265d"
      },
      "id": "LDkpbQoUVqpn",
      "execution_count": 211,
      "outputs": [
        {
          "output_type": "execute_result",
          "data": {
            "text/plain": [
              "              id         CIDADE VISTA BEIRA MAR  BANHEIROS  QUARTOS  \\\n",
              "10584  191100140  Mercer Island     0         0        2.5        4   \n",
              "\n",
              "           PREÇO  P1 - PREÇO / AREA HABITAVEL  P2 - PREÇO / AREA TOTAL  \\\n",
              "10584  1060000.0                            0                        0   \n",
              "\n",
              "       P3 - RELAÇÃO AREA TERRENO / AREA HABITAVEL  P4 - AREA HABITAVEL  \\\n",
              "10584                                           0                    0   \n",
              "\n",
              "       P5 - AREA TERRENO  P6 - TEMPO IMOVEL  P7 - ANDARES  ranking  \n",
              "10584                  0                  0             0        0  "
            ],
            "text/html": [
              "\n",
              "  <div id=\"df-333cadf1-f50f-4556-a4c3-26f98dbf9d7b\">\n",
              "    <div class=\"colab-df-container\">\n",
              "      <div>\n",
              "<style scoped>\n",
              "    .dataframe tbody tr th:only-of-type {\n",
              "        vertical-align: middle;\n",
              "    }\n",
              "\n",
              "    .dataframe tbody tr th {\n",
              "        vertical-align: top;\n",
              "    }\n",
              "\n",
              "    .dataframe thead th {\n",
              "        text-align: right;\n",
              "    }\n",
              "</style>\n",
              "<table border=\"1\" class=\"dataframe\">\n",
              "  <thead>\n",
              "    <tr style=\"text-align: right;\">\n",
              "      <th></th>\n",
              "      <th>id</th>\n",
              "      <th>CIDADE</th>\n",
              "      <th>VISTA</th>\n",
              "      <th>BEIRA MAR</th>\n",
              "      <th>BANHEIROS</th>\n",
              "      <th>QUARTOS</th>\n",
              "      <th>PREÇO</th>\n",
              "      <th>P1 - PREÇO / AREA HABITAVEL</th>\n",
              "      <th>P2 - PREÇO / AREA TOTAL</th>\n",
              "      <th>P3 - RELAÇÃO AREA TERRENO / AREA HABITAVEL</th>\n",
              "      <th>P4 - AREA HABITAVEL</th>\n",
              "      <th>P5 - AREA TERRENO</th>\n",
              "      <th>P6 - TEMPO IMOVEL</th>\n",
              "      <th>P7 - ANDARES</th>\n",
              "      <th>ranking</th>\n",
              "    </tr>\n",
              "  </thead>\n",
              "  <tbody>\n",
              "    <tr>\n",
              "      <th>10584</th>\n",
              "      <td>191100140</td>\n",
              "      <td>Mercer Island</td>\n",
              "      <td>0</td>\n",
              "      <td>0</td>\n",
              "      <td>2.5</td>\n",
              "      <td>4</td>\n",
              "      <td>1060000.0</td>\n",
              "      <td>0</td>\n",
              "      <td>0</td>\n",
              "      <td>0</td>\n",
              "      <td>0</td>\n",
              "      <td>0</td>\n",
              "      <td>0</td>\n",
              "      <td>0</td>\n",
              "      <td>0</td>\n",
              "    </tr>\n",
              "  </tbody>\n",
              "</table>\n",
              "</div>\n",
              "      <button class=\"colab-df-convert\" onclick=\"convertToInteractive('df-333cadf1-f50f-4556-a4c3-26f98dbf9d7b')\"\n",
              "              title=\"Convert this dataframe to an interactive table.\"\n",
              "              style=\"display:none;\">\n",
              "        \n",
              "  <svg xmlns=\"http://www.w3.org/2000/svg\" height=\"24px\"viewBox=\"0 0 24 24\"\n",
              "       width=\"24px\">\n",
              "    <path d=\"M0 0h24v24H0V0z\" fill=\"none\"/>\n",
              "    <path d=\"M18.56 5.44l.94 2.06.94-2.06 2.06-.94-2.06-.94-.94-2.06-.94 2.06-2.06.94zm-11 1L8.5 8.5l.94-2.06 2.06-.94-2.06-.94L8.5 2.5l-.94 2.06-2.06.94zm10 10l.94 2.06.94-2.06 2.06-.94-2.06-.94-.94-2.06-.94 2.06-2.06.94z\"/><path d=\"M17.41 7.96l-1.37-1.37c-.4-.4-.92-.59-1.43-.59-.52 0-1.04.2-1.43.59L10.3 9.45l-7.72 7.72c-.78.78-.78 2.05 0 2.83L4 21.41c.39.39.9.59 1.41.59.51 0 1.02-.2 1.41-.59l7.78-7.78 2.81-2.81c.8-.78.8-2.07 0-2.86zM5.41 20L4 18.59l7.72-7.72 1.47 1.35L5.41 20z\"/>\n",
              "  </svg>\n",
              "      </button>\n",
              "      \n",
              "  <style>\n",
              "    .colab-df-container {\n",
              "      display:flex;\n",
              "      flex-wrap:wrap;\n",
              "      gap: 12px;\n",
              "    }\n",
              "\n",
              "    .colab-df-convert {\n",
              "      background-color: #E8F0FE;\n",
              "      border: none;\n",
              "      border-radius: 50%;\n",
              "      cursor: pointer;\n",
              "      display: none;\n",
              "      fill: #1967D2;\n",
              "      height: 32px;\n",
              "      padding: 0 0 0 0;\n",
              "      width: 32px;\n",
              "    }\n",
              "\n",
              "    .colab-df-convert:hover {\n",
              "      background-color: #E2EBFA;\n",
              "      box-shadow: 0px 1px 2px rgba(60, 64, 67, 0.3), 0px 1px 3px 1px rgba(60, 64, 67, 0.15);\n",
              "      fill: #174EA6;\n",
              "    }\n",
              "\n",
              "    [theme=dark] .colab-df-convert {\n",
              "      background-color: #3B4455;\n",
              "      fill: #D2E3FC;\n",
              "    }\n",
              "\n",
              "    [theme=dark] .colab-df-convert:hover {\n",
              "      background-color: #434B5C;\n",
              "      box-shadow: 0px 1px 3px 1px rgba(0, 0, 0, 0.15);\n",
              "      filter: drop-shadow(0px 1px 2px rgba(0, 0, 0, 0.3));\n",
              "      fill: #FFFFFF;\n",
              "    }\n",
              "  </style>\n",
              "\n",
              "      <script>\n",
              "        const buttonEl =\n",
              "          document.querySelector('#df-333cadf1-f50f-4556-a4c3-26f98dbf9d7b button.colab-df-convert');\n",
              "        buttonEl.style.display =\n",
              "          google.colab.kernel.accessAllowed ? 'block' : 'none';\n",
              "\n",
              "        async function convertToInteractive(key) {\n",
              "          const element = document.querySelector('#df-333cadf1-f50f-4556-a4c3-26f98dbf9d7b');\n",
              "          const dataTable =\n",
              "            await google.colab.kernel.invokeFunction('convertToInteractive',\n",
              "                                                     [key], {});\n",
              "          if (!dataTable) return;\n",
              "\n",
              "          const docLinkHtml = 'Like what you see? Visit the ' +\n",
              "            '<a target=\"_blank\" href=https://colab.research.google.com/notebooks/data_table.ipynb>data table notebook</a>'\n",
              "            + ' to learn more about interactive tables.';\n",
              "          element.innerHTML = '';\n",
              "          dataTable['output_type'] = 'display_data';\n",
              "          await google.colab.output.renderOutput(dataTable, element);\n",
              "          const docLink = document.createElement('div');\n",
              "          docLink.innerHTML = docLinkHtml;\n",
              "          element.appendChild(docLink);\n",
              "        }\n",
              "      </script>\n",
              "    </div>\n",
              "  </div>\n",
              "  "
            ]
          },
          "metadata": {},
          "execution_count": 211
        }
      ]
    },
    {
      "cell_type": "code",
      "source": [
        "# Indicações de compra\n",
        "rankind = df_ranking[(df_ranking['ranking']==7) & (df_ranking['PREÇO']<230000)]\n",
        "rankind"
      ],
      "metadata": {
        "colab": {
          "base_uri": "https://localhost:8080/",
          "height": 285
        },
        "id": "GN2BD_IeLweK",
        "outputId": "50fb01e2-dd20-4a77-9cf9-324c7203f78a"
      },
      "id": "GN2BD_IeLweK",
      "execution_count": 197,
      "outputs": [
        {
          "output_type": "execute_result",
          "data": {
            "text/plain": [
              "               id   CIDADE VISTA BEIRA MAR  BANHEIROS  QUARTOS     PREÇO  \\\n",
              "3083   5476200123  Seattle     0         0       2.00        4  200000.0   \n",
              "3540   1823049202  Seattle     0         0       1.50        6  175000.0   \n",
              "5183   2328800130  Seattle     0         0       1.75        3  220000.0   \n",
              "12185  7686202065  Seattle     0         0       1.75        4  170000.0   \n",
              "19380  5537200043  Seattle     0         0       1.00        4  211000.0   \n",
              "\n",
              "       P1 - PREÇO / AREA HABITAVEL  P2 - PREÇO / AREA TOTAL  \\\n",
              "3083                             1                        1   \n",
              "3540                             1                        1   \n",
              "5183                             1                        1   \n",
              "12185                            1                        1   \n",
              "19380                            1                        1   \n",
              "\n",
              "       P3 - RELAÇÃO AREA TERRENO / AREA HABITAVEL  P4 - AREA HABITAVEL  \\\n",
              "3083                                            1                    1   \n",
              "3540                                            1                    1   \n",
              "5183                                            1                    1   \n",
              "12185                                           1                    1   \n",
              "19380                                           1                    1   \n",
              "\n",
              "       P5 - AREA TERRENO  P6 - TEMPO IMOVEL  P7 - ANDARES  ranking  \n",
              "3083                   1                  1             1        7  \n",
              "3540                   1                  1             1        7  \n",
              "5183                   1                  1             1        7  \n",
              "12185                  1                  1             1        7  \n",
              "19380                  1                  1             1        7  "
            ],
            "text/html": [
              "\n",
              "  <div id=\"df-cdbc9b35-ce9c-4a49-aef6-d5ad78029a54\">\n",
              "    <div class=\"colab-df-container\">\n",
              "      <div>\n",
              "<style scoped>\n",
              "    .dataframe tbody tr th:only-of-type {\n",
              "        vertical-align: middle;\n",
              "    }\n",
              "\n",
              "    .dataframe tbody tr th {\n",
              "        vertical-align: top;\n",
              "    }\n",
              "\n",
              "    .dataframe thead th {\n",
              "        text-align: right;\n",
              "    }\n",
              "</style>\n",
              "<table border=\"1\" class=\"dataframe\">\n",
              "  <thead>\n",
              "    <tr style=\"text-align: right;\">\n",
              "      <th></th>\n",
              "      <th>id</th>\n",
              "      <th>CIDADE</th>\n",
              "      <th>VISTA</th>\n",
              "      <th>BEIRA MAR</th>\n",
              "      <th>BANHEIROS</th>\n",
              "      <th>QUARTOS</th>\n",
              "      <th>PREÇO</th>\n",
              "      <th>P1 - PREÇO / AREA HABITAVEL</th>\n",
              "      <th>P2 - PREÇO / AREA TOTAL</th>\n",
              "      <th>P3 - RELAÇÃO AREA TERRENO / AREA HABITAVEL</th>\n",
              "      <th>P4 - AREA HABITAVEL</th>\n",
              "      <th>P5 - AREA TERRENO</th>\n",
              "      <th>P6 - TEMPO IMOVEL</th>\n",
              "      <th>P7 - ANDARES</th>\n",
              "      <th>ranking</th>\n",
              "    </tr>\n",
              "  </thead>\n",
              "  <tbody>\n",
              "    <tr>\n",
              "      <th>3083</th>\n",
              "      <td>5476200123</td>\n",
              "      <td>Seattle</td>\n",
              "      <td>0</td>\n",
              "      <td>0</td>\n",
              "      <td>2.00</td>\n",
              "      <td>4</td>\n",
              "      <td>200000.0</td>\n",
              "      <td>1</td>\n",
              "      <td>1</td>\n",
              "      <td>1</td>\n",
              "      <td>1</td>\n",
              "      <td>1</td>\n",
              "      <td>1</td>\n",
              "      <td>1</td>\n",
              "      <td>7</td>\n",
              "    </tr>\n",
              "    <tr>\n",
              "      <th>3540</th>\n",
              "      <td>1823049202</td>\n",
              "      <td>Seattle</td>\n",
              "      <td>0</td>\n",
              "      <td>0</td>\n",
              "      <td>1.50</td>\n",
              "      <td>6</td>\n",
              "      <td>175000.0</td>\n",
              "      <td>1</td>\n",
              "      <td>1</td>\n",
              "      <td>1</td>\n",
              "      <td>1</td>\n",
              "      <td>1</td>\n",
              "      <td>1</td>\n",
              "      <td>1</td>\n",
              "      <td>7</td>\n",
              "    </tr>\n",
              "    <tr>\n",
              "      <th>5183</th>\n",
              "      <td>2328800130</td>\n",
              "      <td>Seattle</td>\n",
              "      <td>0</td>\n",
              "      <td>0</td>\n",
              "      <td>1.75</td>\n",
              "      <td>3</td>\n",
              "      <td>220000.0</td>\n",
              "      <td>1</td>\n",
              "      <td>1</td>\n",
              "      <td>1</td>\n",
              "      <td>1</td>\n",
              "      <td>1</td>\n",
              "      <td>1</td>\n",
              "      <td>1</td>\n",
              "      <td>7</td>\n",
              "    </tr>\n",
              "    <tr>\n",
              "      <th>12185</th>\n",
              "      <td>7686202065</td>\n",
              "      <td>Seattle</td>\n",
              "      <td>0</td>\n",
              "      <td>0</td>\n",
              "      <td>1.75</td>\n",
              "      <td>4</td>\n",
              "      <td>170000.0</td>\n",
              "      <td>1</td>\n",
              "      <td>1</td>\n",
              "      <td>1</td>\n",
              "      <td>1</td>\n",
              "      <td>1</td>\n",
              "      <td>1</td>\n",
              "      <td>1</td>\n",
              "      <td>7</td>\n",
              "    </tr>\n",
              "    <tr>\n",
              "      <th>19380</th>\n",
              "      <td>5537200043</td>\n",
              "      <td>Seattle</td>\n",
              "      <td>0</td>\n",
              "      <td>0</td>\n",
              "      <td>1.00</td>\n",
              "      <td>4</td>\n",
              "      <td>211000.0</td>\n",
              "      <td>1</td>\n",
              "      <td>1</td>\n",
              "      <td>1</td>\n",
              "      <td>1</td>\n",
              "      <td>1</td>\n",
              "      <td>1</td>\n",
              "      <td>1</td>\n",
              "      <td>7</td>\n",
              "    </tr>\n",
              "  </tbody>\n",
              "</table>\n",
              "</div>\n",
              "      <button class=\"colab-df-convert\" onclick=\"convertToInteractive('df-cdbc9b35-ce9c-4a49-aef6-d5ad78029a54')\"\n",
              "              title=\"Convert this dataframe to an interactive table.\"\n",
              "              style=\"display:none;\">\n",
              "        \n",
              "  <svg xmlns=\"http://www.w3.org/2000/svg\" height=\"24px\"viewBox=\"0 0 24 24\"\n",
              "       width=\"24px\">\n",
              "    <path d=\"M0 0h24v24H0V0z\" fill=\"none\"/>\n",
              "    <path d=\"M18.56 5.44l.94 2.06.94-2.06 2.06-.94-2.06-.94-.94-2.06-.94 2.06-2.06.94zm-11 1L8.5 8.5l.94-2.06 2.06-.94-2.06-.94L8.5 2.5l-.94 2.06-2.06.94zm10 10l.94 2.06.94-2.06 2.06-.94-2.06-.94-.94-2.06-.94 2.06-2.06.94z\"/><path d=\"M17.41 7.96l-1.37-1.37c-.4-.4-.92-.59-1.43-.59-.52 0-1.04.2-1.43.59L10.3 9.45l-7.72 7.72c-.78.78-.78 2.05 0 2.83L4 21.41c.39.39.9.59 1.41.59.51 0 1.02-.2 1.41-.59l7.78-7.78 2.81-2.81c.8-.78.8-2.07 0-2.86zM5.41 20L4 18.59l7.72-7.72 1.47 1.35L5.41 20z\"/>\n",
              "  </svg>\n",
              "      </button>\n",
              "      \n",
              "  <style>\n",
              "    .colab-df-container {\n",
              "      display:flex;\n",
              "      flex-wrap:wrap;\n",
              "      gap: 12px;\n",
              "    }\n",
              "\n",
              "    .colab-df-convert {\n",
              "      background-color: #E8F0FE;\n",
              "      border: none;\n",
              "      border-radius: 50%;\n",
              "      cursor: pointer;\n",
              "      display: none;\n",
              "      fill: #1967D2;\n",
              "      height: 32px;\n",
              "      padding: 0 0 0 0;\n",
              "      width: 32px;\n",
              "    }\n",
              "\n",
              "    .colab-df-convert:hover {\n",
              "      background-color: #E2EBFA;\n",
              "      box-shadow: 0px 1px 2px rgba(60, 64, 67, 0.3), 0px 1px 3px 1px rgba(60, 64, 67, 0.15);\n",
              "      fill: #174EA6;\n",
              "    }\n",
              "\n",
              "    [theme=dark] .colab-df-convert {\n",
              "      background-color: #3B4455;\n",
              "      fill: #D2E3FC;\n",
              "    }\n",
              "\n",
              "    [theme=dark] .colab-df-convert:hover {\n",
              "      background-color: #434B5C;\n",
              "      box-shadow: 0px 1px 3px 1px rgba(0, 0, 0, 0.15);\n",
              "      filter: drop-shadow(0px 1px 2px rgba(0, 0, 0, 0.3));\n",
              "      fill: #FFFFFF;\n",
              "    }\n",
              "  </style>\n",
              "\n",
              "      <script>\n",
              "        const buttonEl =\n",
              "          document.querySelector('#df-cdbc9b35-ce9c-4a49-aef6-d5ad78029a54 button.colab-df-convert');\n",
              "        buttonEl.style.display =\n",
              "          google.colab.kernel.accessAllowed ? 'block' : 'none';\n",
              "\n",
              "        async function convertToInteractive(key) {\n",
              "          const element = document.querySelector('#df-cdbc9b35-ce9c-4a49-aef6-d5ad78029a54');\n",
              "          const dataTable =\n",
              "            await google.colab.kernel.invokeFunction('convertToInteractive',\n",
              "                                                     [key], {});\n",
              "          if (!dataTable) return;\n",
              "\n",
              "          const docLinkHtml = 'Like what you see? Visit the ' +\n",
              "            '<a target=\"_blank\" href=https://colab.research.google.com/notebooks/data_table.ipynb>data table notebook</a>'\n",
              "            + ' to learn more about interactive tables.';\n",
              "          element.innerHTML = '';\n",
              "          dataTable['output_type'] = 'display_data';\n",
              "          await google.colab.output.renderOutput(dataTable, element);\n",
              "          const docLink = document.createElement('div');\n",
              "          docLink.innerHTML = docLinkHtml;\n",
              "          element.appendChild(docLink);\n",
              "        }\n",
              "      </script>\n",
              "    </div>\n",
              "  </div>\n",
              "  "
            ]
          },
          "metadata": {},
          "execution_count": 197
        }
      ]
    },
    {
      "cell_type": "code",
      "source": [
        "fig = px.scatter(df_ranking,x='ranking',y='PREÇO',color='CIDADE')\n",
        "fig.show()"
      ],
      "metadata": {
        "colab": {
          "base_uri": "https://localhost:8080/",
          "height": 542
        },
        "id": "tF-9iEEcJmzR",
        "outputId": "3aad7c9a-2991-4fee-a1bd-3045da083118"
      },
      "id": "tF-9iEEcJmzR",
      "execution_count": 166,
      "outputs": [
        {
          "output_type": "display_data",
          "data": {
            "text/html": [
              "<html>\n",
              "<head><meta charset=\"utf-8\" /></head>\n",
              "<body>\n",
              "    <div>            <script src=\"https://cdnjs.cloudflare.com/ajax/libs/mathjax/2.7.5/MathJax.js?config=TeX-AMS-MML_SVG\"></script><script type=\"text/javascript\">if (window.MathJax) {MathJax.Hub.Config({SVG: {font: \"STIX-Web\"}});}</script>                <script type=\"text/javascript\">window.PlotlyConfig = {MathJaxConfig: 'local'};</script>\n",
              "        <script src=\"https://cdn.plot.ly/plotly-2.8.3.min.js\"></script>                <div id=\"612ba5cf-67ff-4390-9b43-f90fbc24a6a7\" class=\"plotly-graph-div\" style=\"height:525px; width:100%;\"></div>            <script type=\"text/javascript\">                                    window.PLOTLYENV=window.PLOTLYENV || {};                                    if (document.getElementById(\"612ba5cf-67ff-4390-9b43-f90fbc24a6a7\")) {                    Plotly.newPlot(                        \"612ba5cf-67ff-4390-9b43-f90fbc24a6a7\",                        [{\"hovertemplate\":\"CIDADE=Seattle<br>ranking=%{x}<br>PRE\\u00c7O=%{y}<extra></extra>\",\"legendgroup\":\"Seattle\",\"marker\":{\"color\":\"#636efa\",\"symbol\":\"circle\"},\"mode\":\"markers\",\"name\":\"Seattle\",\"showlegend\":true,\"x\":[3,6,5,5,6,2,4,5,3,4,2,1,4,3,3,1,3,4,6,1,2,4,2,7,2,3,6,4,6,2,5,4,5,2,4,6,3,2,2,3,4,2,3,3,3,5,2,6,4,2,4,4,1,7,2,4,7,2,3,4,2,2,3,2,2,2,1,2,7,4,5,4,3,2,6,3,4,4,1,7,4,5,5,2,2,4,3,2,4,3,5,6,3,5,3,2,4,4,3,2,2,3,2,4,2,6,1,5,2,4,3,3,4,3,5,3,3,5,3,7,5,5,7,3,6,1,2,3,5,2,3,4,4,2,4,4,4,2,1,4,4,7,4,4,7,5,2,6,5,6,5,5,4,4,2,5,5,4,4,2,2,2,2,5,7,3,2,6,2,2,6,3,3,3,5,4,4,3,3,3,3,3,2,2,2,3,5,1,3,4,3,4,4,3,3,6,3,4,5,2,5,3,4,2,3,4,3,3,2,1,4,4,2,3,2,5,5,4,7,2,3,2,3,6,6,3,3,3,2,4,3,3,2,3,2,5,2,2,2,4,2,3,6,4,2,4,3,3,4,3,4,4,2,4,6,5,3,3,2,5,1,3,2,4,2,6,3,5,5,2,6,5,3,4,5,2,3,4,5,3,4,4,3,2,3,4,2,5,6,1,5,4,3,3,2,4,5,3,4,5,1,3,2,2,6,6,4,2,2,4,4,5,4,1,3,4,2,3,4,3,3,4,4,3,5,2,2,3,2,2,3,3,3,1,5,3,6,4,2,4,5,5,3,4,3,4,2,4,4,3,2,2,6,2,5,2,4,3,4,2,4,7,4,2,4,2,4,5,2,3,2,3,3,6,6,4,2,2,6,2,3,3,3,5,5,4,5,1,3,3,2,4,5,6,3,2,3,4,5,4,3,7,7,4,1,3,4,2,5,3,5,6,2,3,3,5,3,3,6,6,5,5,6,2,3,3,3,3,4,4,1,4,4,2,4,4,5,7,3,5,4,3,5,2,2,3,6,4,4,5,2,2,3,6,6,4,5,5,4,5,4,1,2,7,5,3,4,2,2,4,5,3,3,5,3,5,5,5,7,3,3,6,4,3,5,7,3,2,5,4,3,2,7,5,2,3,2,5,4,3,3,4,3,5,4,5,3,7,2,5,4,3,3,2,6,2,2,3,2,3,2,6,4,2,4,6,3,5,2,2,3,3,4,5,4,4,2,5,5,2,5,2,4,3,2,5,4,5,7,5,3,2,4,4,4,4,3,2,2,3,3,4,5,3,3,3,3,7,2,3,4,1,4,3,5,3,5,2,4,2,3,4,2,4,3,5,5,3,4,4,1,5,2,3,3,4,4,5,1,3,4,3,4,4,7,5,5,3,4,3,4,3,3,4,7,4,2,4,3,4,2,5,2,5,2,3,5,3,4,2,3,3,3,1,4,5,6,5,6,2,2,6,4,4,4,2,7,3,4,5,1,6,4,5,3,4,3,3,3,5,5,6,2,3,5,2,2,5,5,5,4,1,3,7,3,4,2,5,2,2,3,3,2,4,3,6,7,5,5,2,5,2,5,5,4,1,5,2,6,4,4,2,6,6,4,2,6,6,6,3,2,4,4,7,2,3,2,5,2,3,4,5,5,2,5,5,2,2,2,2,4,4,6,4,6,3,3,3,4,5,4,3,4,2,6,4,3,5,4,4,2,2,4,7,2,3,4,3,5,2,5,5,1,6,6,4,2,5,3,3,3,7,1,4,2,3,2,4,3,2,4,6,6,7,3,1,6,2,3,2,2,2,2,3,2,4,2,6,3,3,4,3,5,4,2,6,3,4,4,4,1,4,4,3,2,6,5,5,2,2,2,3,3,7,3,1,4,2,4,2,2,5,3,3,5,3,7,1,4,3,6,2,2,6,3,6,2,1,2,6,5,4,4,2,4,4,3,3,2,2,7,2,2,4,5,4,7,3,5,6,3,3,5,5,3,2,2,6,2,4,2,6,3,4,4,3,5,3,4,6,6,3,5,7,2,4,3,4,4,3,6,3,2,4,4,3,4,4,4,3,6,3,5,6,3,3,4,3,3,4,4,2,3,2,3,3,3,5,7,3,6,6,3,2,4,5,4,3,6,7,5,5,5,2,1,7,2,4,2,4,2,3,3,4,7,4,3,6,3,2,4,3,3,2,2,5,2,2,2,3,3,3,4,1,6,4,4,3,7,4,3,5,1,3,5,5,3,3,5,5,5,4,4,3,3,2,1,3,5,3,6,4,3,3,4,2,2,4,2,3,6,3,2,3,4,2,5,2,5,2,5,4,3,2,4,4,2,3,7,4,1,5,2,2,7,4,6,4,7,3,5,2,5,2,2,4,3,2,3,3,2,4,4,3,5,3,5,3,2,2,3,7,2,4,4,5,6,3,4,4,7,5,3,5,6,3,5,5,5,4,3,3,6,6,3,4,1,4,4,7,1,5,3,3,4,2,1,3,4,2,2,7,3,7,3,3,5,4,2,4,4,4,1,2,2,3,2,3,1,4,4,6,5,4,3,2,5,4,5,3,4,2,5,3,5,4,3,4,2,1,4,3,3,2,2,4,3,5,4,4,5,5,4,2,4,2,4,4,3,3,4,3,4,4,2,1,5,4,4,2,4,5,3,4,3,2,2,5,5,2,3,5,2,3,2,4,2,5,4,5,6,4,3,4,7,6,4,4,4,5,3,7,2,2,5,2,6,4,1,2,5,3,6,2,3,3,6,6,3,2,2,6,3,6,3,3,7,2,5,1,1,4,4,4,4,2,2,6,5,3,4,6,5,5,5,2,3,4,3,4,2,4,3,5,3,1,2,6,3,3,1,2,4,2,6,4,6,2,3,2,2,4,4,5,4,7,3,5,5,3,4,2,6,5,4,4,2,1,6,3,3,1,2,4,5,3,1,3,2,6,5,2,6,2,3,3,3,3,3,6,2,3,1,2,5,4,2,7,3,5,4,1,6,3,3,2,5,5,2,4,3,5,6,1,2,3,4,2,3,2,4,1,5,2,5,4,2,2,5,2,6,2,3,2,6,2,2,4,4,4,6,2,4,3,1,3,2,3,3,4,4,3,1,2,7,3,6,4,5,2,5,3,3,4,2,3,3,6,4,2,2,3,4,2,5,2,2,3,4,4,5,4,6,4,3,2,3,3,2,4,2,2,5,3,3,3,2,2,5,3,3,2,3,1,5,3,2,5,2,5,4,3,3,5,4,3,4,4,4,4,3,2,1,2,3,7,5,2,2,6,3,3,3,3,3,5,3,2,3,3,6,7,7,3,5,7,3,3,6,3,4,1,4,2,2,4,2,5,6,4,7,4,2,6,2,4,2,5,6,4,2,2,2,7,6,1,4,2,4,3,5,4,3,2,3,3,3,5,2,3,3,6,2,2,5,4,7,6,3,4,3,5,2,3,5,5,6,3,5,2,3,4,4,5,4,6,2,6,2,5,3,3,2,3,4,6,2,4,3,4,5,2,2,4,4,3,3,3,6,2,3,2,4,4,4,7,4,6,4,4,2,2,5,6,4,4,5,2,4,4,6,4,3,3,3,4,3,5,6,3,4,7,4,3,2,4,4,3,5,5,2,1,2,3,6,7,3,6,4,2,6,5,5,3,2,2,6,2,4,4,3,5,4,3,4,3,2,5,3,5,3,3,1,6,3,4,1,2,5,5,4,2,5,2,3,5,4,2,3,3,6,2,4,4,4,3,3,4,3,5,3,3,4,4,4,1,3,3,2,4,6,3,5,6,3,7,5,4,4,3,4,2,3,3,2,4,2,2,6,3,6,3,3,7,2,3,1,1,3,3,4,5,3,3,4,1,2,3,4,5,4,2,5,2,4,4,5,3,5,5,6,6,4,6,2,3,3,6,2,2,3,7,3,4,4,2,3,2,6,2,2,6,5,2,2,3,3,6,5,4,4,4,2,3,4,5,2,2,5,2,3,2,4,4,2,3,4,4,7,2,3,7,7,3,5,2,3,6,5,2,2,2,1,3,4,3,3,2,3,3,4,3,3,3,3,3,4,1,1,3,5,5,5,3,4,4,2,5,2,6,4,4,2,3,7,2,4,4,4,5,2,6,7,3,5,4,1,2,7,2,5,6,3,5,3,3,2,4,3,3,1,3,2,3,3,4,4,4,6,2,3,4,4,4,3,4,4,4,4,2,4,6,2,3,6,4,1,2,4,5,3,2,5,4,7,6,4,1,5,5,2,4,2,2,6,6,2,2,5,3,3,3,6,4,3,1,3,3,6,5,3,4,5,6,1,3,1,6,5,2,2,3,3,2,2,5,6,4,5,3,3,1,3,6,4,6,7,6,4,1,2,3,2,3,3,3,7,4,3,2,4,4,4,6,4,2,4,2,2,7,2,6,1,2,3,5,5,3,5,4,2,3,3,4,5,2,2,6,4,4,2,6,4,4,2,3,6,5,3,4,4,4,3,3,3,2,2,3,6,4,4,6,3,1,1,4,2,2,2,4,5,3,5,4,2,3,5,2,2,3,1,3,2,3,3,3,2,2,3,5,3,7,3,3,6,3,2,3,6,2,3,3,1,6,6,4,4,7,4,5,4,1,1,3,1,5,4,5,4,4,3,2,4,3,4,1,6,5,7,3,2,3,3,7,1,6,4,3,5,2,5,3,4,2,4,2,7,2,5,3,1,4,6,4,7,2,7,2,4,5,6,2,4,3,2,4,6,3,5,1,4,2,6,4,4,6,1,3,4,1,1,2,3,6,2,2,2,4,2,3,4,1,5,5,3,2,4,3,5,2,2,4,1,4,2,6,5,5,4,2,2,5,5,6,1,7,3,5,4,3,3,5,2,3,3,6,1,7,7,1,1,6,7,4,5,4,3,3,4,2,6,6,5,3,3,5,5,7,3,1,3,1,2,3,7,5,2,3,4,4,5,3,2,3,2,3,2,5,6,6,3,6,7,5,3,6,1,5,3,6,5,3,2,3,6,4,3,4,3,1,7,5,5,2,7,3,4,1,2,4,5,4,4,6,6,7,2,3,6,4,5,2,4,5,2,5,5,4,2,3,3,4,6,2,3,6,4,3,7,6,3,4,7,4,6,4,4,5,4,2,5,4,1,5,4,3,7,3,4,4,3,4,2,3,2,5,3,4,2,4,4,2,5,5,4,4,2,7,2,5,4,2,3,2,4,5,4,3,2,6,2,2,2,2,5,5,4,4,6,4,2,2,5,4,3,3,1,3,5,5,2,3,3,6,6,3,6,2,2,1,3,4,3,5,3,6,2,7,2,3,2,6,3,2,2,4,2,3,3,5,5,3,5,6,2,2,5,3,5,5,2,2,3,5,1,1,2,4,3,5,2,3,7,3,7,6,3,3,3,3,3,2,3,3,3,2,2,2,5,4,4,3,4,5,3,4,5,2,2,4,2,4,5,2,2,3,3,2,2,3,3,2,5,5,3,3,4,4,3,2,7,3,5,2,4,5,6,4,2,3,3,6,7,3,3,4,3,3,3,3,1,2,4,6,3,3,3,4,2,4,4,3,3,7,4,3,3,6,4,4,2,3,2,5,2,6,4,3,3,2,4,3,2,5,3,6,7,2,2,4,2,4,1,4,4,6,3,4,3,4,3,4,4,5,1,7,4,3,4,2,2,2,2,3,4,4,2,3,2,5,3,4,3,6,2,3,3,4,3,3,4,7,7,1,3,2,7,5,7,6,5,2,5,3,1,2,3,7,4,5,3,3,5,5,2,3,3,3,2,2,4,4,1,7,2,4,7,5,4,3,2,1,5,7,3,3,6,5,2,2,4,2,2,2,2,3,4,4,2,2,3,7,4,2,3,3,3,4,7,1,2,5,2,5,2,5,5,4,3,7,5,5,6,6,3,2,2,2,2,3,2,7,5,4,3,2,6,3,4,3,3,4,2,2,4,2,6,3,6,4,5,4,2,6,3,3,5,3,3,6,4,7,6,5,7,1,2,3,1,3,4,4,3,2,4,3,3,2,2,7,4,3,3,5,4,7,4,2,3,5,1,4,2,3,5,3,3,5,2,6,7,3,5,7,5,3,3,6,4,2,7,4,5,4,3,7,3,6,3,3,5,3,4,3,3,3,5,1,6,7,5,3,2,7,4,4,5,5,6,2,2,4,5,5,2,7,4,2,1,5,3,3,7,4,5,3,3,4,2,7,7,4,4,4,3,3,4,2,2,5,3,2,5,3,5,2,3,4,4,2,5,3,3,6,4,2,4,2,5,5,5,3,2,4,3,5,4,7,4,3,6,2,3,2,6,6,5,2,5,5,5,6,2,6,6,4,3,1,5,3,1,5,4,3,4,4,2,2,5,5,2,2,2,2,5,4,2,4,4,5,5,3,5,3,2,6,4,6,7,2,3,2,2,4,3,7,3,3,6,2,3,2,5,6,6,4,5,4,4,4,3,6,5,2,2,3,3,4,5,4,2,4,2,5,2,6,2,6,3,5,2,4,6,3,4,2,2,2,4,4,6,3,5,2,4,3,2,5,2,3,4,3,2,7,5,7,3,2,2,7,5,3,3,2,4,4,3,2,3,4,2,2,4,6,2,7,2,1,3,4,3,4,3,1,6,4,4,6,5,3,2,3,5,3,3,1,2,3,6,5,5,4,5,4,5,2,6,5,4,2,1,4,2,4,4,4,3,4,2,5,3,7,5,3,6,3,3,4,5,2,3,6,6,2,6,1,6,3,2,5,4,2,3,3,2,6,2,4,3,2,3,3,5,6,3,3,2,4,6,2,1,4,2,2,3,1,2,2,6,5,5,4,3,3,7,3,4,2,4,7,7,3,4,4,1,3,3,3,3,4,7,6,2,2,7,6,5,6,2,3,3,4,2,5,4,3,6,5,3,3,6,5,3,4,2,6,1,3,3,5,4,7,2,4,1,4,5,3,4,2,3,2,4,3,2,5,6,3,2,3,3,3,2,2,3,4,2,3,3,4,2,3,4,2,4,3,3,6,6,2,2,3,6,4,2,2,3,5,1,2,3,5,2,4,4,3,3,2,3,6,2,4,4,4,4,2,2,3,4,4,3,2,5,4,5,3,4,5,2,6,6,2,2,5,4,4,5,6,2,3,4,7,2,4,3,2,3,3,2,5,6,3,5,3,2,3,3,4,1,2,4,2,5,2,2,4,5,2,4,5,6,3,4,1,2,1,3,2,2,3,5,7,3,3,6,3,6,3,2,4,5,3,6,3,7,5,5,5,6,6,2,3,3,2,6,2,2,5,3,2,4,4,3,4,3,3,4,1,6,4,3,5,3,5,4,4,4,3,5,3,3,3,3,2,3,5,4,5,2,5,3,3,6,2,3,5,4,4,7,2,4,5,2,2,2,7,3,1,3,3,4,3,5,3,5,2,6,4,4,3,4,6,5,3,3,6,4,5,4,3,1,4,2,5,3,2,3,5,5,6,2,2,3,2,3,5,5,6,5,3,4,4,2,4,2,2,7,3,3,4,4,4,4,5,5,2,3,2,5,4,6,2,4,1,4,7,5,5,5,4,6,4,5,3,3,2,6,3,4,4,2,3,2,4,4,2,2,2,5,2,3,4,6,4,3,3,5,4,2,5,4,3,3,2,2,6,2,3,1,6,4,6,3,3,2,4,3,4,3,3,3,3,5,3,5,5,2,4,3,4,4,1,7,4,3,4,4,5,3,2,4,7,3,5,3,3,2,2,3,2,4,3,6,2,3,4,3,1,3,2,3,2,4,3,2,4,6,3,5,4,6,3,6,2,4,4,5,7,6,2,2,5,2,2,2,6,4,5,2,3,3,1,4,3,3,4,4,3,4,6,5,5,5,6,2,3,3,4,2,5,5,2,5,5,5,6,5,4,5,2,3,3,3,4,4,4,4,4,6,2,2,4,4,3,4,4,3,4,4,2,3,6,4,2,4,2,6,2,2,3,4,1,6,3,5,5,4,6,5,6,3,7,2,3,3,2,6,2,6,5,4,3,4,2,3,5,5,4,3,3,4,5,4,7,3,3,4,5,3,3,5,5,5,4,4,6,2,4,3,2,4,4,4,1,3,5,6,3,6,3,4,3,3,6,3,3,7,5,1,2,3,3,3,2,4,2,2,6,3,5,3,6,3,5,4,2,2,3,3,5,3,5,2,3,2,3,4,3,2,6,2,4,2,4,5,3,7,3,1,2,4,5,4,3,6,4,5,1,3,2,3,5,2,3,3,2,3,3,2,4,4,2,5,2,2,4,2,7,3,2,2,3,3,3,5,3,2,4,4,4,2,3,7,2,3,3,4,4,4,2,6,3,2,2,3,4,3,3,4,2,2,4,4,3,5,4,2,3,5,5,4,2,5,4,4,2,5,2,3,4,5,3,2,2,2,3,3,4,5,3,3,3,1,2,6,2,1,4,4,3,3,2,3,4,2,5,4,3,5,4,2,6,3,1,5,5,5,4,1,4,6,3,2,3,6,4,2,5,2,3,6,5,6,6,5,6,2,4,3,4,6,6,4,6,3,2,6,4,4,4,2,3,2,2,5,2,4,2,4,3,7,5,2,2,4,3,3,2,3,3,3,1,3,7,3,7,3,3,2,2,1,4,3,2,3,7,4,6,5,3,6,3,2,6,2,3,3,4,2,3,6,3,3,5,5,6,2,1,2,5,5,2,4,2,6,3,5,2,4,4,7,3,4,3,6,3,4,3,6,4,3,3,4,3,4,2,3,5,3,1,4,3,3,2,2,2,4,3,3,5,3,3,7,4,2,4,2,1,4,6,3,5,2,3,5,3,5,3,5,1,5,5,4,3,5,4,4,3,4,4,5,4,2,7,3,1,3,3,2,4,2,2,7,2,3,4,2,4,2,4,4,5,7,7,4,3,2,1,2,5,1,7,6,2,2,4,3,4,3,2,7,5,1,4,2,4,4,4,5,1,4,6,6,5,6,2,2,4,3,4,4,4,6,3,4,3,2,2,4,5,3,3,4,2,6,6,2,5,3,4,2,3,3,4,2,2,6,2,3,5,3,4,3,6,2,2,4,2,4,5,3,2,6,3,3,4,4,4,2,3,1,2,7,6,7,4,6,4,3,4,2,5,3,2,4,2,4,2,5,2,7,5,1,4,4,3,3,6,2,3,5,3,3,3,3,5,4,3,4,2,7,4,2,3,3,2,2,2,2,3,2,1,5,5,4,4,3,2,4,3,2,1,4,6,2,3,5,1,3,3,6,1,6,3,2,2,3,3,5,3,4,6,4,5,5,7,3,6,3,6,3,4,2,4,5,5,3,5,5,2,4,2,3,2,7,3,2,3,6,6,6,7,2,3,2,2,3,3,2,2,6,3,3,6,3,2,2,2,4,1,6,7,3,3,3,5,5,1,3,2,5,2,3,3,4,5,5,4,4,5,3,2,4,4,4,4,3,3,3,1,4,5,6,4,2,3,2,3,7,2,5,5,4,3,2,3,2,5,1,4,5,2,2,3,2,2,6,6,5,2,2,6,2,4,3,2,4,1,4,4,1,3,5,5,6,2,6,4,2,4,3,3,2,2,4,4,3,5,4,3,5,7,4,7,6,7,4,1,4,3,3,5,3,7,7,3,5,3,5,4,6,7,3,2,4,2,4,2,2,1,2,2,6,5,6,3,4,1,3,6,3,2,7,4,6,6,3,4,3,3,2,7,3,4,3,5,4,2,2,4,5,3,6,5,3,3,3,3,3,3,4,3,2,3,5,3,3,2,6,2,4,6,4,5,2,2,3,6,2,2,2,3,3,5,4,2,6,1,3,3,3,7,3,5,2,4,2,3,6,4,3,4,4,2,4,5,2,2,2,4,3,2,2,3,6,6,5,5,4,3,3,2,4,2,2,3,3,2,2,5,5,6,6,4,1,6,2,6,4,2,2,3,1,5,3,4,7,2,3,4,6,2,3,4,5,7,7,4,2,6,3,2,3,6,4,6,1,2,3,5,5,2,2,5,5,7,6,4,2,2,3,7,3,3,5,3,2,7,5,5,3,7,6,6,3,7,4,3,3,7,5,3,7,4,5,6,3,3,4,5,2,3,5,4,2,1,2,6,1,3,2,3,2,4,6,5,4,2,4,2,3,1,6,2,5,5,5,5,2,4,2,4,3,2,1,4,4,3,4,4,2,5,3,5,1,5,4,3,5,3,4,2,3,2,4,3,2,6,6,3,5,2,3,2,5,5,3,5,2,5,2,5,4,2,2,6,3,6,4,4,4,4,6,6,7,3,4,3,1,6,3,4,7,2,7,2,4,2,3,3,7,5,2,5,6,7,4,7,7,3,4,5,4,5,1,5,5,6,3,3,3,4,3,6,6,6,6,2,5,5,3,3,7,6,2,3,2,2,2,3,7,2,5,3,2,7,3,7,4,3,4,2,6,7,3,4,5,2,6,4,3,4,5,3,2,4,4,4,5,4,3,3,4,4,3,1,3,2,4,5,2,3,6,4,4,4,1,4,4,1,5,3,3,3,2,2,1,2,6,2,2,5,4,3,6,4,4,4,4,3,4,3,3,3,2,6,2,6,3,2,5,3,3,3,2,3,4,7,2,3,2,6,3,3,2,3,2,4,4,2,3,4,5,6,2,3,4,3,2,4,5,2,3,6,3,3,3,3,5,6,3,4,3,5,3,5,2,3,2,3,3,4,4,4,5,4,5,5,3,2,5,2,2,2,4,3,2,2,6,2,4,1,5,3,3,3,3,6,7,4,4,5,2,6,3,3,1,4,1,4,2,2,5,5,3,5,2,4,4,2,4,4,4,4,4,4,6,4,4,4,1,2,3,4,4,4,4,2,5,3,2,3,3,1,6,4,5,3,5,5,3,3,5,5,3,5,2,6,4,4,2,2,3,5,2,4,3,2,7,4,4,3,6,2,6,3,6,6,4,5,4,4,3,5,4,6,4,2,2,3,3,5,3,4,5,4,1,2,5,4,2,6,2,4,5,7,5,5,3,2,3,5,4,5,3,2,5,3,4,2,4,3,4,5,3,3,1,1,6,4,4,3,1,5,2,2,5,4,2,2,1,4,4,3,6,2,6,4,6,3,3,5,2,2,2,3,6,2,7,3,3,5,3,4,1,2,3,3,2,6,3,4,3,3,1,5,2,5,2,1,2,4,4,6,4,4,4,4,1,3,3,2,1,3,5,1,4,4,3,5,7,4,4,3,3,4,4,4,4,4,5,5,7,3,3,5,1,5,2,2,3,5,2,6,3,3,3,3,4,3,4,4,4,5,7,5,7,5,2,7,4,4,7,2,5,2,3,6,7,3,3,2,7,7,2,4,6,4,3,6,3,4,5,2,3,3,2,7,2,6,3,4,3,2,7,3,4,4,3,4,4,1,3,6,2,7,2,5,3,2,6,3,4,4,6,5,3,3,3,3,3,4,3,5,5,1,6,3,4,1,2,4,4,2,3,4,1,3,3,4,4,4,2,4,3,5,4,3,2,4,3,4,4,6,4,5,3,1,6,4,6,6,3,5,5,3,3,4,3,3,3,4,4,3,3,5,4,5,2,2,5,4,2,2,2,6,4,2,4,2,3,5,3,3,4,6,6,2,4,3,4,2,2,5,2,4,2,3,3,2,5,5,4,3,7,6,2,5,2,5,3,2,2,5,2,4,6,2,3,3,2,4,5,3,5,3,7,5,3,5,3,3,6,4,6,4,3,5,3,5,1,3,4,2,6,5,7,5,6,1,4,3,3,6,2,6,7,4,2,2,2,2,5,3,2,5,6,2,4,3,4,6,6,1,4,5,3,3,3,5,4,3,6,6,6,1,3,5,7,2,2,7,4,2,5,2,5,3,7,5,2,4,3,2,4,5,5,6,3,3,3,5,4,4,3,3,1,2,7,2,4,3,3,3,3,4,6,3,4,3,3,4,4,1,3,4,3,4,4,4,2,5,2,2,6,6,4,3,5,4,4,4,4,4,7,5,6,6,5,6,5,3,4,4,2,6,5,3,4,1,5,4,3,5,2,7,4,3,2,3,2,5,6,2,3,3,2,2,6,3,2,4,5,1,3,3,5,5,3,4,3,5,7,2,5,3,6,4,5,4,2,4,1,3,5,4,6,5,3,3,4,4,2,3,4,3,4,2,3,5,4,2,3,2,3,2,2,4,2,7,6,6,2,2,6,3,3,4,2,2,4,4,3,4,4,4,4,4,3,2,6,2,3,2,5,5,2,4,4,1,7,5,3,2,4,3,4,7,3,6,3,3,3,3,3,2,4,5,3,2,4,3,6,2,2,6,2,2,3,2,2,3,6,3,3,3,3,5,2,4,5,3,3,2,3,3,2,2,4,2,3,3,2,3,4,5,4,4,7,6,5,5,3,1,3,3,3,3,5,3,3,3,2,3,4,2,6,6,3,4,6,3,4,3,5,3,6,2,4,1,2,2,2,2,5,3,4,2,6,5,3,5,6,4,3,4,2,3,3,5,4,4,7,2,3,3,6,2,7,3,1,2,6,2,2,1,3,5,2,6,3,3,3,5,4,5,2,2,7,3,2,4,2,2,3,2,2,2,4,2,5,4,6,3,4,5,2,3,4,4,2,2,4,3,4,5,3,5,4,5,4,3,3,5,6,3,4,5,4,2,2,2,4,4,2,6,4,3,2,4,4,3,2,1,7,2,6,2,2,4,3,2,5,3,5,6,4,5,6,4,6,4,2,2,2,4,3,6,4,2,4,7,3,4,3,2,4,5,5,3,2,3,4,4,4,4,6,2,4,4,4,3,3,7,7,4,6,5,5,3,3,3,3,3,3,2,1,6,4,2,7,7,5,4,2,3,7,3,5,5,4,3,5,3,6,4,3,3,2,5,4,3,2,2,3,3,6,3,3,5,6,5,3,6,3,2,3,2,6,3,3,6,3,4,7,5,5,5,3,1,2,2,3,5,2,1,4,4,2,6,6,3,4,3,3,3,4,5,4,4,3,2,5,3,5,3,2,3,5,6,3,4,2,2,3,3,5,5,2,4,4,1,4,3,4,2,3,4,5,3,6,3,2,3,2,2,6,5,4,3,4,2,4,2,5,4,4,3,4,3,3,3,2,6,4,3,4,3,3,3,3,3,4,4,3,2,4,3,5,3,2,5,5,7,3,4,2,5,2,3,3,7,4,1,7,1,3,3,2,7,2,3,2,3,3,3,2,4,3,3,5,4,3,7,2,5,4,2,3,4,4,6,5,1,4,7,4,2,3,5,3,4,2,3,3,4,2,4,1,4,2,5,4,5,4,3,5,3,5,2,6,4,6,2,6,7,4,2,2,2,3,6,4,3,2,2,6,3,2,4,3,2,3,3,4,1,2,4,6,2,3,4,3,2,1,2,6,4,6,2,2,4,3,3,2,4,2,7,7,6,7,2,2,5,1,1,1,6,3,3,3,3,4,4,4,3,5,6,2,5,5,3,5,3,2,3,5,6,1,1,4,3,6,2,2,2,3,6,3,5,3,6,6,2,5,2,4,4,5,3,3,2,2,2,6,6,3,2,2,3,7,4,3,6,3,4,2,5,3,4,3,3,1,4,2,6,4,3,4,5,4,3,2,6,3,5,1,2,3,6,3,1,5,3,4,4,6,4,3,5,7,4,3,5,4,4,4,3,4,2,1,4,3,3,5,1,1,3,2,3,5,5,4,5,3,2,6,4,4,3,4,4,4,4,3,4,4,3,4,3,2,5,3,2,2,4,3,5,2,6,3,5,4,5,2,3,3,2,3,3,4,6,6,5,5,6,2,6,5,5,7,4,2,2,2,2,4,2,2,6,4,2,3,4,4,4,2,3,6,2,4,6,2,2,2,3,2,2,6,6,7,2,5,3,6,5,4,3,2,3,6,4,5,4,5,2,4,3,4,2,3,2,7,3,7,3,6,2,3,4,4,5,3,2,3,5,2,2,3,2,2,3,4,4,6,4,2,3,7,2,4,4,3,1,2,3,4,6,2,4,4,2,4,3,4,4,2,5,5,5,4,2,5,4,6,5,5,7,4,3,2,4,4,1,1,4,4,3,4,2,2,3,3,2,2,3,7,2,4,4,2,3,4,2,2,4,7,6,4,4,6,4,3,6,6,3,2,6,2,4,3,5,5,6,3,6,3,2,3,4,3,5,2,4,7,2,4,3,1,4,2,2,3,2,2,5,6,4,4,7,3,3,6,3,1,3,6,3,3,7,2,3,3,3,3,3,2,6,5,4,2,4,4,3,4,4,4,4,2,6,2,6,3,7,6,4,3,2,5,5,4,3,3,3,6,3,4,3,4,2,6,7,3,3,4,3,4,5,7,3,5,2,6,3,3,4,3,5,1,2,4,6,5,2,4,3,2,4,4,4,2,4,3,7,3,1,5,4,6,4,6,4,3,5,6,4,2,2,4,2,5,6,2,6,2,6,3,7,6,4,7,4,5,3,3,4,2,6,4,3,3,5,1,3,6,3,5,5,5,5,3,4,3,3,5,5,4,5,3,5,4,5,6,4,3,7,3,4,2,6,5,5,5,2,2,5,4,4,5,3,2,5,4,7,3,5,5,4,6,4,4,2,4,3,1,3,4,5,5,7,5,4,4,4,4,3,5,3,3,1,4,5,5,2,4,4,3,4,2,3,2,3,3,2,2,7,5,4,3,3,4,2,3,2,6,3,6,2,4,3,4,5,3,2,7,6,3,3,3,1,3,4,2,5,5,2,2,2,3,3,4,4,4,3,6,4,3,2,5,3,4,4,5,6,3,2,3,4,4,5,6,3,2,4,5,3,2,6,2,4,5,5,2,2,2,4,3,3,4,5,2,3,4,4,2,4,3,6,3,4,1,3,2,5,3,3,4,3,2,2,6,3,7,7,6,4,4,4,3,5,4,2,3,4,1,4,2,4,3,5,5,2,2,2,3,5,5,2,5,1,4,4,5,6,3,3,2,3,5,3,5,3,4,4,4,5,5,5,3,3,2,6,6,3,7,2,4,3,3,2,4,5,3,5,6,6,5,6,3,3,7,6,3,4,3,4,6,3,4,4,5,5,6,1,3,5,3,3,3,4,4,4,4,3,5,3,7,2,7,3,3,4,5,2,5,4,2,4,2,4,4,7,3,4,2,6,6,4,6,4,4,6,4,3,4,5,4,3,5,4,2,1,3,4,3,4,5,2,4,3,3,5,5,3,4,3,6,3,2,5,3,3,4,5,3,3,2,6,3,4,6,2,2,4,3,4,2,3,3,2,2,4,3,2,5,4,2,3,3,7,5,6,3,4,5,6,2,2,3,6,6,3,2,6,5,4,2,6,5,2,3,5,6,2,1,3,3,5,3,7,5,6,4,2,5,4,5,4,3,2,4,3,1,4,7,6,7,1,2,5,3,5,3,6,4,2,4,4,1,3,4,3,2,7,3,4,2,5,5,3,4,6,4,7,5,4,2,4,6,6,2,2,4,2,2,5,2,2,4,3,6,3,3,4,2,3,2,4,5,2,4,4,6,5,3,4,3,3,1,3,5,2,1,5,2,6,7,7,1,1,5,3,6,5,2,2,2,5,4,6,4,3,2,4,5,6,5,5,3,5,5,2,3,2,3,5,2,5,3,5,4,3,5,4,3,3,1,6,4,1,2,1,2,3,4,2,4,2,3,5,4,4,4,7,4,3,7,4,2,5,4,2,3,2,5,3,2,3,4,5,1,3,7,5,3,2,3,5,3,4,3,2,5,4,4,4,4,4,5,3,3,3,2,3,6,5,3,2,5,4,3,2,4,2,2,3,5,5,7,2,3,3,6,2,4,3,6,2,2,4,6,2,4,4,4,4,4,3,1,6,3,4,5,5,7,3,6,4,3,6,2,6,5,2,6,3,4,2,3,6,4,3,3,3,4,3,2,6,2,6,4,6,4,3,5,4,4,4,5,2,4,5,4,2,4,3,2,3,5,3,4,3,4,3,6,4,3,2,3,2,6,4,4,3,7,4,3,3,2,4,3,2,4,3,2,3,2,3,6,4,5,6,5,3,3,3,4,7,4,3,4,5,2,2,1,6,2,4,3,3,4,6,2,4,2,4,2,2,4,3,5,3,2,3,1,5,2,4,6,6,2,2,7,2,5,1,3,7,7,2,3,3,3,2,5,4,2,4,3,3,2,4,2,3,4,2,4,3,6,2,6,3,2,5,2,3,3,6,5,2,6,5,4,4,4,3,3,6,6,4,3,4,2,2,5,3,4,4,2,4,4,2,1,4,3,1,1,2,4,3,4,3,3,4,5,4,4,3,4,3,2,3,2,7,3,3,3,4,3,4,3,6,2,4,4,6,4,3,3,2,3,3,3,3,3,3,4,4,5,3,3,5,2,4,2,2,3,4,1,4,5,3,2,2,1,1,2,7,2,7,3,5,2,7,2,2,2,2,2,5,2,4,7,5,3,5,3,4,3,4,4,6,2,2,1,2,6,3,1,3,4,4,2,2,3,2,5,4,7,1,4,5,4,5,5,2,2,4,2,3,4,4,2,3,4,4,4,1,4,1,2,5,3,2,2,2,3,4,3,2,5,5,2,2,2,5,4,4,3,2,6,3,5,3,3,6,3,3,7,4,6,6,1,2,3,2,2,2,3,2,4,6,3,3,3,2,3,3,3,1,4,6,4,3,4,3,3,5,2,2,4,3,3,3,5,5,6,2,3,4,4,2,4,3,2,3,6,5,7,5,4,4,6,3,6,2,4,5,3,6,4,1,3,6,2,6,3,3,2,4,5,2,1,5,4,5,6,4,3,7,2,3,2,3,4,4,2,5,2,2,4,2,5,3,6,5,6,6,5,2,3,3,5,1,2,6,2,4,4,6,1,4,4,2,4,6,4,2,4,5,4,3,2,7,6,4,4,3,5,6,6,6,3,4,5,5,4,2,3,2,3,4,4,2,2,3,2,4,4,6,4,3,2,2,6,4,3,3,3,3,3,7,4,5,3,7,2,3,4,4,1,1,5,2,3,2,3,3,3,4,2,2,3,6,2,2,2,4,5,3,2,3,5,1,4,5,5,4,2,1,2,5,2,1,2,1,4,2,3,3,4,3,5,2,5,2,4,5,2,2,3,5,3,4,4,6,2,2,4,5,3,7,2,2,4,3,5,3,3,3,5,3,5,3,2,3,2,2,6,4,4,4,6,1,4,1,3,2,3,4,2,4,4,4,4,2,2,4,1,3,4,3,2,5,3,4,6,2,3,2,7,3,1,2,2,2,4,1,2,4,4,4,3,3,2,3,4,2,3,3,3,3,1,3,5,4,3,2,3,3,2,3,2,3,3,4,6,4,2,3,6,3,5,2,1,4,2,5,6,4,4,3,3,5,6,3,2,2,5,5,3,2,5,4,3,4,5,5,7,3,2,2,3,1,4,3,7,3,2,6,3,3,3,5,4,4,3,2,3,2,5,3,5,2,5,4,5,7,4,4,4,7,6,2,1,3,5,7,5,3,2,3,6,5,2,3,3,2,4,3,3,4,4,3,4,2,2,3,3,5,5,4,5,2,2,1,3,4,3,3,3,4,2,6,5,2,2,2,3,2,2,2,2,7,3,5,5,6,4,2,5,5,4,2,5,3,4,4,6,4,2,4,5,5,6,4,2,4,4,3,6,4,3,3,3,5,3,3,3,3,3,2,2,5,5,2,3,3,2,5,2,6,2,4,3,2,5,2,4,6,2,6,7,6,7,2,3,4,7,2,2,4,5,3,3,2,6,4,2,5,2,4,4,6,3,2,3,7,2,2,5,1,4,5,4,4,3,2,6,2,2,3,4,3,6,5,3,5,4,6,3,6,5,2,3,5,2,1,5,3,6,1,3,1,2,6,2,3,2,3,5,7,5,4,3,3,4,5,3,3,5,2,5,4,4,7,2,7,4,5,2,6,6,3,7,5,3,6,2,5,5,3,2,6,4,3,4,4,3,5,2,5,6,3,6,2,3,5,6,6,5,5,2,7,2,2,5,4,4,5,1,4,6,4,3,7,2,2,3,4,4,2,3,3,3,5,2,7,3,2,5,3,2,1,4,3,5,2,2,3,4,2,4,7,4,4,5,2,2,2,4,4,4,3,4,3,2,3,5,3,5,3,2,6,3,5,3,2,4,5,3,2,4,3,7,7,3,3,5,5,6,3,5,3,5,4,5,5,5,3,5,5,7,7,2,4,3,6,2,6,4,2,6,2,3,4,2,4,3,2,3,5,2,6,2,5,6,5,3,4,3,7,3,2,3,6,5,4,3,2,3,2,3,2,2,5,4,5,2,6,3,3,2,2,3,6,3,3,4,1,3,2,4,3,2,6,4,3,4,2,5,2,2,3,1,3,3,4,4,1,3,4,2,5,4,6,2,3,5,6,2,3,4,3,3,2,5,2,4,2,3,3,3,6,2,3,3,2,5,2,3,3,4,2,3,6,6,3,2,3,2,3,3,6,2,2,4,2,2,5,2,2,2,4,3,2,3,5,2,2,2,2,2,4,7,3,3,2,2,3,2,2,3,3,4,3,3,3,6,4,2,3,5,2,2,5,3,2,3,4,4,3,3,3,5,3,5,4,2,3,5,2,5,2,3,4,3,4,5,2,2,3,2,3,3,2,2,2,3,3,3,3,2,2,3,3,2,4,2,7,3,2,2,6,5,3,3,3,2,3,3,5,3,6,6,2,4,4,2,3,2,2,3,3,2,2,2,5,3,2,4,2,2,2,3,6,6,3,2,2,3,2,2,3,2,2,3,2,2,3,2,4,2,3,2,3,2,5,2,4,2,2,2,4,2,2,2,3,6,2,2,2,3,1,2,3,4,2,2,2,4,4,3,3,3,4,4,2,4,2,4,2,2,4,5,3,3,4,3,3,2,3,6,3,2,6,2,5,3,6,2,2,3,4,2,3,6,2,7,3,5,2,4,3,2,3,4,2,2,4,4,2,3,3,4,2,5,4,3,2,3,3,4,5,2,2,3,3,3,2,3,2,4,2,2,2,3,4,4,2,3,2,2,3,5,3,2,4,2,2,2,4,2,3,5,2,2,3,3,3,2,2,3,6,5,2,3,4,2,4,2,2,4,2,2,2,3,6,4,6,3,2,3,3,4,3,3,3,2,2,3,2,3,3,5,2,6,3,2,3,3,3,2,2,2,4,3,4,6,3,3,2,3,2,2,2,3,3,5,2,2,2,3,3,2,2,2,2,2,2,4,2,6,3,2,3,3,3,2,2,2,3,3,2,3,3,3,6,3,3,3,2,2,2,2,3,4,3,4,3,4,2,3,5,3,3,5,2,3,5,3,3,3,3,3,3,2,3,3,4,2,3,5,2,7,2,3,2,3,2,2,2,5,3,6,4,3,2,2,4,2,2,2,2,4,6,2,2,5,6,2,4,2,3,3,5,4,3,4,3,4,3,5,2,2,2,4,5,3,3,4,3,6,6,3,6,2,2,3,4,3,1,2,4,5,2,4,2,3,4,2,2,2,4,3,2,4,3,2,3,4,2,3,4,6,2,3,3,5,2,2,2,3,4,3,3,3,6,3,2,2,3,4,4,3,3,5,2,3,2,2,5,3,4,2,2,3,3,3,5,5,2,3,3,2,2,2,2,2,2,3,3,3,2,2,2,3,3,3,4,2,4,2,2,3,5,2,3,3,4,3,2,4,2,6,2,6,3,2,3,2,2,2,4,2,3,3,3,3,2,3,4,4,2,3,2,3,3,3,7,5,2,3,3,3,3,2,4,2,4,2,2,2,3,2,5,2,2,3,3,4,3,3,3,4,3,2,2,6,2,2,5,4,3,2,2,2,6,2,2,2,3,3,3,2,3,4,6,2,2,5,2,2,6,2,3,6,3,3,4,2,2,4,3,3,2,3,3,3,2,3,2,3,2,2,2,4,3,2,5,3,2,4,3,4,2,2,3,2,3,3,3,3,2,6,3,3,3,3,3,4,4,3,2,4,2,2,5,3,3,4,2,2,3,2,2,3,7,5,2,2,2,3,2,3,4,4,3,3,3,2,4,3,2,3,3,4,3,2,3,3,2,6,3,2,3,2,4,2,4,2,3,3,2,5,6,3,2,6,3,3,3,2,3,3,2,2,3,2,2,5,2,5,2,2,2,3,2,6,2,3,4,3,2,5,2,2,2,3,4,2,2,2,5,3,2,4,2,2,2,1,3,2,3,2,4,2,2,2,3,5,2,3,5,2,2],\"xaxis\":\"x\",\"y\":[221900.0,538000.0,604000.0,291850.0,229500.0,468000.0,530000.0,650000.0,485000.0,385000.0,937000.0,667000.0,438000.0,280000.0,687500.0,535000.0,696000.0,640000.0,775000.0,685000.0,450000.0,228000.0,600000.0,585000.0,920000.0,885000.0,650000.0,289000.0,505000.0,549000.0,425000.0,317625.0,571000.0,480000.0,410000.0,355000.0,315000.0,940000.0,335000.0,1099880.0,430000.0,700000.0,850830.0,555000.0,460000.0,188500.0,570000.0,329950.0,740500.0,518500.0,205425.0,171800.0,535000.0,660000.0,395000.0,445000.0,445000.0,822500.0,675000.0,382500.0,519950.0,665000.0,420000.0,890000.0,511000.0,532170.0,560000.0,350000.0,255000.0,269950.0,371500.0,284000.0,313000.0,425000.0,399950.0,385000.0,330000.0,470000.0,615000.0,400000.0,230000.0,423000.0,465000.0,470000.0,425000.0,180250.0,464000.0,625504.0,477000.0,280000.0,445838.0,1072000.0,467000.0,279950.0,390000.0,655000.0,475000.0,410000.0,210000.0,455000.0,480000.0,181000.0,481000.0,349500.0,592500.0,385000.0,780000.0,237000.0,425000.0,285000.0,415000.0,436000.0,236000.0,331000.0,405000.0,170000.0,2050000.0,389999.0,550000.0,404000.0,267500.0,576000.0,315000.0,725000.0,550000.0,550700.0,834000.0,2384000.0,487000.0,548000.0,268750.0,232000.0,240500.0,740000.0,186375.0,880000.0,279000.0,640000.0,791500.0,265000.0,245000.0,425000.0,165000.0,239900.0,387000.0,315000.0,437500.0,375000.0,679900.0,673000.0,315000.0,530000.0,450000.0,595000.0,435000.0,403950.0,385000.0,345000.0,378750.0,557000.0,352000.0,650000.0,450000.0,339000.0,423000.0,482000.0,375000.0,310000.0,1000000.0,438000.0,578000.0,641000.0,330000.0,465000.0,340500.0,290900.0,1199000.0,460000.0,438924.0,315000.0,525000.0,207950.0,490000.0,725000.0,625000.0,475000.0,240000.0,529000.0,442000.0,615000.0,290000.0,615000.0,300000.0,2250000.0,190000.0,515000.0,275000.0,365000.0,160000.0,595000.0,2125000.0,259950.0,215000.0,1450000.0,451000.0,238000.0,880000.0,260000.0,671500.0,610000.0,442000.0,650000.0,730000.0,640000.0,685000.0,360000.0,240500.0,372500.0,469000.0,531000.0,443500.0,340000.0,650000.0,425000.0,577000.0,605000.0,325000.0,289500.0,559950.0,1042500.0,543500.0,565000.0,542000.0,245000.0,1120000.0,378000.0,729500.0,545000.0,530000.0,157000.0,425000.0,220000.0,325000.0,597500.0,495000.0,475000.0,312000.0,306000.0,655000.0,1250000.0,460000.0,435000.0,865000.0,188000.0,478500.0,413000.0,400000.0,387500.0,410000.0,268000.0,795000.0,195000.0,485000.0,130000.0,325000.0,550000.0,405500.0,452000.0,730000.0,565000.0,350000.0,210000.0,245000.0,550000.0,588000.0,1300000.0,459000.0,395000.0,650000.0,517500.0,329999.0,950000.0,447000.0,850000.0,1310000.0,405600.0,400000.0,760000.0,465250.0,450000.0,269950.0,493000.0,2250000.0,320000.0,715000.0,500000.0,408200.0,249950.0,210000.0,429950.0,650000.0,385200.0,419000.0,1100000.0,287500.0,431000.0,226000.0,825000.0,175000.0,595000.0,282000.0,320000.0,456500.0,664000.0,438000.0,245000.0,565000.0,910000.0,381156.0,642450.0,1095000.0,229000.0,185000.0,414900.0,200000.0,720000.0,930000.0,700000.0,466000.0,1010000.0,340000.0,209000.0,200000.0,530000.0,550000.0,435000.0,384000.0,645000.0,570000.0,270000.0,250000.0,255000.0,451000.0,420000.0,359000.0,300000.0,891000.0,1200000.0,299995.0,565000.0,315000.0,570000.0,971000.0,915000.0,419000.0,435000.0,601000.0,720000.0,550000.0,700000.0,345500.0,378000.0,650000.0,425000.0,335000.0,532500.0,265000.0,397500.0,379000.0,326100.0,535000.0,260000.0,399000.0,585000.0,645000.0,178500.0,553500.0,700000.0,530000.0,563000.0,280300.0,460000.0,429000.0,164808.0,475000.0,283000.0,446450.0,271310.0,315000.0,543115.0,900000.0,2450000.0,980000.0,395000.0,415000.0,512031.0,716500.0,410000.0,850000.0,620000.0,699000.0,528000.0,790000.0,275000.0,550000.0,250000.0,318000.0,360000.0,986000.0,515000.0,320000.0,310000.0,356700.0,775000.0,325000.0,208000.0,825000.0,490000.0,675000.0,360000.0,550000.0,225000.0,575000.0,453500.0,285000.0,631000.0,285000.0,609850.0,200000.0,262000.0,690000.0,353000.0,239000.0,505000.0,170000.0,332500.0,269000.0,420000.0,400000.0,625000.0,380000.0,252500.0,510000.0,725000.0,492000.0,310000.0,790000.0,315000.0,1750000.0,439995.0,900000.0,505000.0,585000.0,328000.0,749950.0,875000.0,423000.0,343000.0,405000.0,220000.0,173000.0,655000.0,406000.0,632000.0,357000.0,277000.0,263000.0,510000.0,479000.0,651000.0,392400.0,585000.0,470000.0,500000.0,1875000.0,735000.0,365000.0,680000.0,360000.0,250275.0,435000.0,645000.0,880000.0,1225000.0,546000.0,399000.0,265000.0,682000.0,995000.0,614000.0,340000.0,532500.0,470000.0,320000.0,363000.0,831000.0,355000.0,425000.0,170000.0,550000.0,420000.0,389250.0,588000.0,372500.0,360000.0,847000.0,533000.0,537250.0,600000.0,279950.0,110000.0,625000.0,389000.0,1200000.0,605000.0,805000.0,647500.0,495000.0,780000.0,729953.0,464950.0,450000.0,450000.0,842500.0,345000.0,1075000.0,282000.0,549000.0,815000.0,450000.0,260000.0,749950.0,830000.0,1131000.0,320000.0,225000.0,279200.0,520000.0,503000.0,433500.0,381000.0,439000.0,325000.0,490000.0,280000.0,345000.0,425000.0,245000.0,585444.0,445000.0,1175000.0,530000.0,350000.0,1700000.0,799000.0,1400000.0,340895.0,715000.0,265000.0,2537000.0,640000.0,290000.0,535000.0,352950.0,369500.0,215000.0,302000.0,352500.0,515000.0,250000.0,672500.0,707500.0,459000.0,495000.0,359000.0,440000.0,400000.0,652000.0,260000.0,650000.0,701000.0,250000.0,420000.0,499950.0,1218000.0,612000.0,1102030.0,850000.0,190000.0,500000.0,550000.0,170000.0,819000.0,409900.0,657500.0,932800.0,415000.0,350000.0,375000.0,450000.0,720000.0,610000.0,607010.0,610000.0,284950.0,140000.0,235000.0,440000.0,605000.0,380000.0,352000.0,1175000.0,300000.0,453500.0,443500.0,332000.0,475000.0,1050000.0,500000.0,327500.0,455000.0,895000.0,512000.0,285000.0,667500.0,425000.0,349500.0,370000.0,549500.0,245000.0,550000.0,169317.0,1198000.0,880000.0,210000.0,415000.0,325000.0,411000.0,810000.0,570000.0,450000.0,272750.0,520000.0,255000.0,231500.0,425000.0,400000.0,342000.0,490000.0,830000.0,662990.0,349950.0,550000.0,396000.0,635000.0,293000.0,775000.0,2250000.0,275000.0,445000.0,390000.0,470000.0,467000.0,326000.0,561000.0,600000.0,1265000.0,365000.0,453000.0,520500.0,799000.0,800000.0,360000.0,442500.0,620000.0,337000.0,252000.0,445000.0,469000.0,780000.0,451555.0,300000.0,490000.0,480000.0,368000.0,545000.0,535000.0,599950.0,531000.0,487250.0,301000.0,1175000.0,299000.0,400000.0,355000.0,712000.0,443000.0,901000.0,552500.0,256000.0,341000.0,950000.0,212000.0,580000.0,465000.0,519000.0,240000.0,480000.0,300000.0,587500.0,1315000.0,275000.0,607000.0,255000.0,501000.0,450000.0,460000.0,753000.0,389950.0,469000.0,550000.0,565000.0,189650.0,1525000.0,243000.0,720000.0,824500.0,580000.0,805000.0,520000.0,1569500.0,175000.0,500000.0,210000.0,439500.0,405000.0,625000.0,365000.0,618000.0,345000.0,348000.0,1125000.0,340000.0,345000.0,300000.0,599000.0,400000.0,133000.0,330000.0,375000.0,1045000.0,548800.0,315000.0,590000.0,400000.0,339950.0,315000.0,577000.0,460000.0,265000.0,316500.0,190000.0,490000.0,598800.0,333800.0,320000.0,1249000.0,608250.0,1715000.0,2400000.0,483945.0,345000.0,800000.0,605000.0,375000.0,725000.0,439000.0,355000.0,409000.0,420000.0,200000.0,635000.0,555000.0,430000.0,1600000.0,627500.0,335000.0,430000.0,194000.0,470450.0,560000.0,625000.0,1015000.0,463500.0,387500.0,156000.0,580000.0,275000.0,329350.0,719950.0,235000.0,875000.0,380000.0,210000.0,350000.0,650000.0,369950.0,250000.0,320000.0,2532000.0,440000.0,399950.0,1568000.0,195000.0,320000.0,319990.0,429000.0,400000.0,462000.0,510000.0,437000.0,235000.0,767500.0,417000.0,875000.0,545000.0,192500.0,1250000.0,502000.0,398500.0,700000.0,248000.0,800000.0,688000.0,521000.0,365000.0,491000.0,583500.0,280000.0,490000.0,399950.0,852000.0,800000.0,1325000.0,330000.0,678500.0,250000.0,655000.0,1735000.0,251700.0,400000.0,82500.0,415000.0,670950.0,1010000.0,245990.0,410000.0,440000.0,570000.0,265000.0,765000.0,638000.0,460000.0,488000.0,499000.0,150000.0,700000.0,275000.0,330000.0,360000.0,467000.0,783000.0,1050000.0,276000.0,398000.0,775000.0,782000.0,608000.0,315000.0,310000.0,1000000.0,284000.0,405000.0,990000.0,280005.0,330000.0,340000.0,390000.0,273000.0,210000.0,403500.0,546800.0,299500.0,288350.0,500000.0,625000.0,418000.0,660000.0,775000.0,569000.0,530000.0,306000.0,348000.0,390000.0,260000.0,585000.0,605000.0,290000.0,302000.0,1185000.0,635000.0,243000.0,665000.0,583000.0,1810000.0,552500.0,270000.0,250000.0,307000.0,555000.0,510000.0,545000.0,815000.0,430000.0,588000.0,554000.0,305000.0,234000.0,500000.0,278000.0,230000.0,366500.0,665000.0,1101000.0,575000.0,719000.0,254000.0,443725.0,469000.0,437000.0,400000.0,300000.0,335000.0,325000.0,603000.0,335000.0,699000.0,562000.0,575000.0,473000.0,1600000.0,305500.0,233000.0,490000.0,355000.0,737500.0,349950.0,355950.0,265000.0,1220000.0,1050000.0,408000.0,438400.0,703000.0,1280000.0,290000.0,700000.0,550000.0,549000.0,345000.0,275000.0,432500.0,236500.0,679000.0,543000.0,294000.0,195000.0,700000.0,560000.0,260000.0,575000.0,285000.0,620000.0,179900.0,1245000.0,166000.0,462000.0,415000.0,225000.0,535000.0,565000.0,392450.0,340000.0,537000.0,358000.0,595000.0,525000.0,350000.0,336800.0,425000.0,715000.0,175000.0,785000.0,890000.0,1600000.0,499000.0,530000.0,630000.0,695000.0,675000.0,385000.0,265000.0,406000.0,415000.0,320000.0,381500.0,343000.0,450000.0,230000.0,700000.0,279900.0,210000.0,1165000.0,490000.0,359950.0,4500000.0,455000.0,705000.0,420000.0,415000.0,536000.0,305000.0,656000.0,560000.0,872000.0,475000.0,840000.0,202500.0,418200.0,670000.0,456150.0,558000.0,569000.0,820000.0,562100.0,312000.0,343000.0,385195.0,615000.0,184500.0,412000.0,250000.0,580000.0,373500.0,662700.0,239950.0,545000.0,780000.0,422500.0,438000.0,390000.0,779000.0,385000.0,283000.0,234500.0,374150.0,397000.0,595000.0,404000.0,810000.0,722500.0,265000.0,856000.0,400000.0,555000.0,579000.0,645000.0,549950.0,199000.0,560000.0,1505000.0,375000.0,359950.0,340000.0,401000.0,669000.0,545000.0,280000.0,430000.0,415000.0,478000.0,503000.0,157500.0,450000.0,925000.0,600000.0,709000.0,1385000.0,245000.0,332000.0,425000.0,838300.0,900000.0,865000.0,697000.0,1324050.0,590000.0,515000.0,576000.0,399950.0,534000.0,350000.0,856000.0,582000.0,443000.0,3600000.0,450000.0,763101.0,499000.0,600000.0,249000.0,599950.0,149900.0,700000.0,450000.0,406650.0,425000.0,435000.0,685000.0,675000.0,760000.0,579950.0,476000.0,205000.0,738000.0,420000.0,765000.0,160000.0,1125000.0,479000.0,350000.0,353000.0,265000.0,700000.0,295000.0,1010000.0,335000.0,325000.0,513000.0,225000.0,265000.0,313000.0,296000.0,329500.0,415000.0,464000.0,310000.0,580000.0,510000.0,650000.0,220000.0,400000.0,219500.0,427000.0,430000.0,685000.0,495000.0,390000.0,385000.0,991700.0,765000.0,425000.0,765000.0,320000.0,604000.0,570000.0,896000.0,259500.0,637000.0,535000.0,669500.0,259000.0,441000.0,228800.0,524000.0,430000.0,1325000.0,449000.0,945000.0,200450.0,485000.0,202000.0,409500.0,367000.0,505000.0,565000.0,160000.0,170000.0,235000.0,285000.0,280000.0,530000.0,430000.0,456500.0,445000.0,517000.0,615000.0,308000.0,800000.0,575000.0,790000.0,156000.0,580000.0,950000.0,400000.0,325000.0,985000.0,595000.0,427500.0,728000.0,549950.0,650000.0,311000.0,370000.0,228000.0,740000.0,200000.0,660000.0,275000.0,708000.0,691000.0,425000.0,210000.0,285000.0,190000.0,975000.0,1130000.0,650000.0,449500.0,89950.0,158800.0,870000.0,850000.0,900000.0,336000.0,415000.0,380000.0,350000.0,765000.0,524000.0,448000.0,750000.0,1265000.0,250000.0,759000.0,640000.0,990000.0,395000.0,275000.0,752500.0,450000.0,473000.0,589000.0,580000.0,181100.0,345000.0,781000.0,402500.0,426000.0,1506000.0,700000.0,830000.0,1899000.0,350500.0,431000.0,485000.0,780000.0,720000.0,480000.0,700000.0,285000.0,575000.0,590000.0,587500.0,364000.0,389000.0,450000.0,660000.0,850000.0,395000.0,440000.0,635000.0,1400000.0,200000.0,1135000.0,445000.0,555000.0,537000.0,375000.0,401000.0,210000.0,365000.0,178000.0,710000.0,255000.0,442000.0,427500.0,680000.0,393820.0,525000.0,505000.0,650000.0,638000.0,875000.0,350000.0,511718.0,1062000.0,580000.0,374950.0,230000.0,350000.0,658600.0,299950.0,464000.0,308000.0,439000.0,575000.0,418000.0,1100000.0,1900000.0,380000.0,349950.0,691500.0,556000.0,425000.0,507250.0,660000.0,625000.0,527000.0,855000.0,315000.0,700000.0,193000.0,363000.0,545000.0,550000.0,921500.0,885000.0,820000.0,334000.0,491950.0,426000.0,553000.0,296000.0,325000.0,294000.0,921000.0,95000.0,359000.0,555000.0,569000.0,487028.0,380000.0,400000.0,835000.0,1675000.0,865000.0,247300.0,425000.0,641250.0,401500.0,145000.0,900000.0,490000.0,400000.0,160000.0,403500.0,406000.0,242500.0,613000.0,700000.0,750000.0,494000.0,144975.0,430000.0,2544750.0,350000.0,637000.0,579000.0,405000.0,553650.0,369900.0,160000.0,726000.0,515000.0,1570000.0,390000.0,459500.0,330000.0,189000.0,400000.0,245000.0,375000.0,250000.0,475500.0,672324.0,420000.0,515000.0,475000.0,357250.0,289950.0,550000.0,216000.0,355000.0,412000.0,100000.0,955500.0,546000.0,419600.0,735000.0,1234570.0,445000.0,345950.0,640000.0,805000.0,288000.0,535000.0,330000.0,479200.0,355000.0,380000.0,417000.0,629000.0,226950.0,1225000.0,119900.0,324950.0,210000.0,325088.0,255000.0,697000.0,457500.0,690000.0,967000.0,389000.0,500000.0,635000.0,535000.0,418500.0,325000.0,2095000.0,802000.0,525000.0,700000.0,277500.0,445000.0,495800.0,548500.0,310000.0,355000.0,621500.0,175000.0,326000.0,690000.0,197000.0,436000.0,1015000.0,334550.0,277500.0,325000.0,402500.0,540000.0,385000.0,480000.0,417000.0,372220.0,494400.0,230000.0,525000.0,253779.0,405000.0,360000.0,521000.0,330000.0,1598890.0,310000.0,862000.0,200000.0,495000.0,889000.0,375000.0,933000.0,328000.0,470000.0,419000.0,563000.0,870000.0,280000.0,458950.0,122000.0,525000.0,218450.0,525000.0,650000.0,436500.0,512500.0,510000.0,525000.0,435000.0,200000.0,219000.0,777000.0,600000.0,554663.0,267000.0,390000.0,335000.0,370000.0,695000.0,387500.0,335000.0,337500.0,400000.0,397000.0,464500.0,281000.0,475000.0,660000.0,430000.0,1440000.0,380000.0,132500.0,179950.0,317000.0,625000.0,350000.0,750000.0,457000.0,632500.0,385000.0,367500.0,385100.0,230000.0,286000.0,530000.0,455000.0,640000.0,240000.0,1240000.0,250000.0,463000.0,579000.0,422000.0,866500.0,795000.0,2453500.0,277284.0,460000.0,650000.0,500000.0,416000.0,549000.0,405000.0,625000.0,205000.0,345100.0,200000.0,367777.0,750000.0,84000.0,255000.0,1740000.0,415000.0,449900.0,430000.0,810000.0,411000.0,440000.0,149000.0,284700.0,689800.0,775000.0,160000.0,255500.0,582500.0,225000.0,795000.0,245000.0,430000.0,799000.0,2890000.0,525000.0,239000.0,460000.0,475000.0,445000.0,294950.0,736000.0,205000.0,399950.0,889000.0,300000.0,395000.0,348000.0,576750.0,495000.0,216650.0,615000.0,210000.0,1075000.0,756000.0,203000.0,525000.0,2200000.0,432000.0,790000.0,442000.0,1325000.0,120000.0,215000.0,408000.0,410000.0,216000.0,390000.0,357000.0,265000.0,589950.0,440000.0,395000.0,308000.0,418000.0,450000.0,330000.0,270000.0,978500.0,220000.0,716000.0,965000.0,425000.0,711777.0,825000.0,210000.0,575000.0,1495000.0,635000.0,405000.0,210000.0,880000.0,239000.0,515000.0,442500.0,425000.0,433500.0,450000.0,480000.0,304000.0,210000.0,410000.0,665000.0,502000.0,680000.0,405000.0,122000.0,432000.0,210000.0,635000.0,750000.0,155000.0,202000.0,580000.0,425000.0,720000.0,210000.0,645000.0,762000.0,247500.0,295000.0,770000.0,639000.0,525000.0,820000.0,1385000.0,521450.0,390000.0,430000.0,800000.0,526000.0,550000.0,276000.0,2500000.0,325000.0,365000.0,825050.0,690000.0,390000.0,385000.0,580000.0,704300.0,227064.0,925000.0,400000.0,560000.0,703011.0,363000.0,228950.0,565000.0,445000.0,761000.0,350000.0,280000.0,220000.0,555750.0,262500.0,515000.0,135000.0,462500.0,937500.0,458000.0,845000.0,599999.0,359950.0,685000.0,198500.0,470000.0,661000.0,282000.0,235000.0,480000.0,625000.0,750500.0,292000.0,625000.0,399950.0,545000.0,339999.0,1210000.0,526000.0,330600.0,550500.0,430000.0,260600.0,825000.0,378950.0,631000.0,579100.0,489000.0,240000.0,628000.0,232000.0,810000.0,438000.0,340000.0,552000.0,790000.0,360000.0,235000.0,775000.0,393500.0,360000.0,400800.0,585000.0,1600000.0,2880500.0,300000.0,1045000.0,360000.0,665900.0,470000.0,527000.0,875000.0,410000.0,373000.0,550000.0,369000.0,1285000.0,291500.0,1875000.0,379260.0,271500.0,755000.0,509500.0,486700.0,527500.0,475000.0,268000.0,700000.0,710000.0,445000.0,384400.0,865000.0,425000.0,375000.0,1011000.0,1300000.0,210000.0,489950.0,300000.0,593500.0,544500.0,912000.0,370000.0,534950.0,430000.0,585000.0,599000.0,326500.0,358803.0,1155000.0,1190000.0,346950.0,330000.0,325000.0,649950.0,316000.0,535000.0,600000.0,167000.0,430000.0,834500.0,1075000.0,402500.0,410000.0,459500.0,395000.0,496752.0,227000.0,705000.0,1400000.0,485000.0,622000.0,561500.0,752000.0,715000.0,240415.0,562000.0,360000.0,659950.0,458500.0,259950.0,525000.0,926300.0,750000.0,305000.0,1135000.0,318000.0,639000.0,437000.0,191000.0,352800.0,458000.0,1050000.0,353000.0,167500.0,700000.0,501000.0,240000.0,335000.0,475000.0,660000.0,551000.0,575000.0,235000.0,796000.0,450000.0,2050000.0,1705000.0,565000.0,680000.0,1150000.0,335000.0,425000.0,425000.0,475000.0,1338750.0,402000.0,1100000.0,448000.0,819000.0,1250000.0,685000.0,344000.0,825000.0,476500.0,379500.0,477590.0,490000.0,470000.0,500000.0,370000.0,790000.0,840000.0,390000.0,507000.0,263500.0,369000.0,570000.0,415000.0,197500.0,925000.0,468000.0,355000.0,639000.0,381000.0,400000.0,520000.0,474000.0,716000.0,564500.0,150000.0,469000.0,618000.0,400000.0,535000.0,555000.0,785200.0,285000.0,360000.0,260000.0,369000.0,407000.0,575000.0,1236000.0,875000.0,450000.0,265000.0,418000.0,430000.0,650000.0,195000.0,700000.0,315000.0,603000.0,530000.0,280000.0,412000.0,454000.0,245000.0,160000.0,1260000.0,325000.0,185000.0,477000.0,100000.0,530000.0,203000.0,370000.0,140000.0,500000.0,527200.0,549900.0,319000.0,421000.0,690000.0,1200000.0,345000.0,539000.0,900000.0,850000.0,345000.0,643500.0,1206500.0,495000.0,535000.0,305000.0,799000.0,467000.0,407500.0,405000.0,291700.0,270000.0,626500.0,419000.0,403000.0,1015000.0,810000.0,316750.0,360000.0,652500.0,289950.0,475000.0,125000.0,296000.0,390000.0,425000.0,725000.0,302000.0,886000.0,540000.0,409000.0,375000.0,540000.0,1035000.0,1345000.0,570000.0,670000.0,1130000.0,650000.0,690000.0,413500.0,465000.0,556000.0,173250.0,646000.0,558000.0,354000.0,670000.0,1125000.0,775000.0,333000.0,336000.0,323000.0,328000.0,572500.0,600000.0,415000.0,750000.0,800000.0,420000.0,440000.0,495000.0,630000.0,538000.0,405100.0,330000.0,353000.0,260000.0,319000.0,220000.0,405000.0,934550.0,1465000.0,975000.0,624000.0,600000.0,480000.0,196900.0,310000.0,260000.0,745000.0,220000.0,497000.0,716100.0,720000.0,616000.0,538000.0,227500.0,650000.0,600000.0,225000.0,255000.0,2479000.0,370000.0,285000.0,895000.0,375000.0,650500.0,480000.0,415000.0,318000.0,339950.0,550000.0,430000.0,555000.0,454000.0,950000.0,407500.0,210000.0,719000.0,440000.0,840000.0,147500.0,2048000.0,175000.0,228000.0,849000.0,1151250.0,325000.0,255000.0,562200.0,245000.0,350000.0,259950.0,278000.0,455000.0,925000.0,465000.0,499900.0,450000.0,245000.0,653000.0,300000.0,440000.0,1400000.0,225000.0,452000.0,278000.0,450000.0,611000.0,1000000.0,1000000.0,340000.0,568000.0,385000.0,815000.0,690000.0,210000.0,599000.0,860000.0,147200.0,476900.0,567500.0,650000.0,547000.0,519000.0,365000.0,279000.0,805000.0,419950.0,425000.0,446000.0,226550.0,764000.0,453000.0,702500.0,798750.0,320000.0,1165000.0,415000.0,280000.0,440000.0,515000.0,1200000.0,600000.0,249000.0,1295000.0,600000.0,397500.0,370000.0,250000.0,430000.0,1085000.0,670000.0,461550.0,731100.0,740000.0,475000.0,469950.0,240000.0,232000.0,475000.0,395000.0,499000.0,420000.0,267000.0,619000.0,569950.0,549000.0,400000.0,499900.0,800000.0,832600.0,1309500.0,308130.0,235000.0,540000.0,220000.0,447000.0,755000.0,700000.0,754300.0,650000.0,377691.0,370000.0,475000.0,1297000.0,169000.0,835000.0,220000.0,243500.0,525000.0,190000.0,678500.0,792500.0,675000.0,500000.0,648475.0,895000.0,162500.0,239000.0,299000.0,383000.0,760000.0,532500.0,438500.0,545500.0,450000.0,610000.0,382000.0,370000.0,520000.0,260000.0,890000.0,344000.0,582000.0,294000.0,690000.0,600000.0,220000.0,495000.0,390000.0,368000.0,469000.0,279000.0,420000.0,249000.0,294950.0,1315000.0,335000.0,1155000.0,520000.0,368500.0,430000.0,390000.0,499000.0,375000.0,449950.0,194990.0,530000.0,485000.0,385000.0,279000.0,625000.0,350000.0,367500.0,595000.0,482975.0,767500.0,279000.0,407000.0,320000.0,300000.0,335000.0,404000.0,315000.0,285000.0,185850.0,779000.0,214000.0,935000.0,630000.0,823000.0,200000.0,250000.0,497000.0,158000.0,530000.0,290000.0,425000.0,654000.0,525000.0,780000.0,560000.0,665000.0,540000.0,375000.0,342000.0,638500.0,250000.0,270000.0,880000.0,300000.0,290000.0,719000.0,352500.0,595000.0,450000.0,372500.0,325000.0,280000.0,258000.0,329950.0,130000.0,765000.0,280000.0,640000.0,230000.0,366350.0,365000.0,682000.0,895000.0,425000.0,1086000.0,421000.0,355000.0,309000.0,285000.0,700000.0,432500.0,435000.0,377000.0,530000.0,525000.0,250000.0,681000.0,625000.0,448500.0,260000.0,630000.0,578888.0,472000.0,530000.0,302282.0,370000.0,625000.0,334000.0,362000.0,181000.0,422000.0,450000.0,275053.0,510000.0,489950.0,362000.0,255000.0,487000.0,318000.0,710000.0,2400000.0,874000.0,385000.0,500000.0,235000.0,320000.0,350000.0,604700.0,364000.0,420000.0,392000.0,480000.0,720000.0,619950.0,415000.0,350000.0,152000.0,378500.0,538000.0,800000.0,355425.0,1157400.0,689000.0,500000.0,529900.0,248000.0,1000000.0,1000000.0,294010.0,770000.0,2466350.0,276500.0,565000.0,289950.0,150550.0,339000.0,675000.0,615000.0,499000.0,550000.0,325000.0,1620500.0,347500.0,629000.0,404500.0,800000.0,1850000.0,525000.0,565000.0,387000.0,235000.0,365000.0,1100000.0,465000.0,650000.0,335000.0,375000.0,499950.0,730000.0,637800.0,417500.0,739375.0,452000.0,730001.0,665000.0,657000.0,450000.0,258000.0,450000.0,720168.0,652000.0,524950.0,153000.0,775000.0,435000.0,207000.0,386000.0,250000.0,1697000.0,759000.0,447500.0,980000.0,616000.0,860000.0,254000.0,1525000.0,560000.0,775000.0,172000.0,219900.0,295000.0,370000.0,1727000.0,345000.0,399000.0,438000.0,605000.0,449950.0,241000.0,200000.0,400375.0,230000.0,314200.0,513000.0,535000.0,420000.0,483500.0,695000.0,434975.0,360000.0,234900.0,595000.0,350000.0,802000.0,489000.0,250000.0,925000.0,575000.0,170000.0,750000.0,677000.0,575000.0,450000.0,526000.0,377500.0,212500.0,261000.0,440000.0,514000.0,420000.0,225000.0,620000.0,796000.0,255000.0,807000.0,2725000.0,253000.0,425000.0,724800.0,295000.0,509007.0,685000.0,194000.0,524950.0,1052000.0,780000.0,519000.0,286000.0,400000.0,152000.0,461000.0,340000.0,1325000.0,925000.0,524000.0,1030000.0,176000.0,249900.0,294000.0,700000.0,920000.0,263500.0,300000.0,680000.0,450000.0,650000.0,330000.0,750000.0,245000.0,510000.0,312000.0,150000.0,270000.0,530000.0,760000.0,199000.0,240000.0,415000.0,525000.0,399950.0,827000.0,175000.0,1112500.0,1280000.0,270000.0,330000.0,302000.0,495000.0,686000.0,361500.0,1240000.0,590300.0,325000.0,185000.0,1445000.0,420550.0,603000.0,345000.0,650000.0,309950.0,590000.0,863500.0,517500.0,700000.0,699000.0,543000.0,337500.0,290000.0,300000.0,390000.0,1058800.0,239975.0,375000.0,450000.0,525000.0,455000.0,382000.0,575000.0,626700.0,352000.0,340000.0,650000.0,471000.0,287000.0,499922.0,445000.0,1039000.0,346000.0,450000.0,2400000.0,1695000.0,275000.0,421500.0,287000.0,337500.0,575000.0,510000.0,299950.0,1028000.0,364000.0,335000.0,219950.0,535000.0,650000.0,672000.0,606000.0,380000.0,360000.0,375000.0,380000.0,200000.0,635000.0,280000.0,332500.0,525000.0,335950.0,394475.0,848000.0,675000.0,560000.0,359000.0,670000.0,625000.0,248000.0,485000.0,241000.0,885000.0,799200.0,270000.0,550000.0,490000.0,410000.0,670000.0,751750.0,580000.0,580000.0,470000.0,733000.0,402000.0,295000.0,376000.0,212700.0,935000.0,240000.0,430000.0,400000.0,455850.0,755000.0,505000.0,260000.0,430000.0,439500.0,380000.0,299900.0,494000.0,852000.0,582500.0,384000.0,817000.0,445800.0,263300.0,215000.0,842500.0,850000.0,280000.0,356000.0,690500.0,350000.0,480000.0,600000.0,303000.0,800000.0,549000.0,324950.0,170000.0,345000.0,470000.0,2903000.0,473000.0,279000.0,470000.0,565000.0,695000.0,722500.0,775000.0,445000.0,257950.0,375000.0,940000.0,354500.0,445000.0,595000.0,343566.0,550000.0,259000.0,490000.0,950000.0,810000.0,313300.0,360000.0,1289000.0,550000.0,362000.0,503500.0,775000.0,1339000.0,417500.0,217000.0,442500.0,360000.0,405000.0,1925000.0,755000.0,690000.0,250800.0,941000.0,3650000.0,1015000.0,1240000.0,327000.0,439000.0,393000.0,450000.0,330000.0,539000.0,567500.0,442500.0,598200.0,750000.0,346100.0,498500.0,121800.0,805000.0,410000.0,1337500.0,269000.0,330000.0,252750.0,535000.0,580000.0,538900.0,432000.0,300000.0,908800.0,500000.0,470000.0,284900.0,740000.0,425000.0,230000.0,675000.0,814000.0,460000.0,425000.0,354000.0,575575.0,340000.0,829900.0,371500.0,367500.0,400000.0,941500.0,313000.0,735000.0,350000.0,400000.0,358000.0,515000.0,554000.0,193000.0,455000.0,463000.0,523000.0,870000.0,590000.0,535100.0,230000.0,369950.0,650000.0,620000.0,246000.0,509990.0,385000.0,468000.0,235000.0,203000.0,275000.0,458500.0,750000.0,235000.0,640000.0,990000.0,480000.0,305000.0,703300.0,253000.0,385000.0,319000.0,345000.0,380000.0,647500.0,299950.0,430000.0,333000.0,320000.0,1039000.0,415000.0,295000.0,969000.0,339888.0,1335000.0,396000.0,535000.0,425000.0,408000.0,310000.0,217000.0,2250000.0,700000.0,399950.0,235000.0,212000.0,390000.0,375000.0,599000.0,310000.0,385000.0,285000.0,599000.0,580000.0,274000.0,270000.0,220000.0,457500.0,340000.0,657500.0,350000.0,428000.0,190000.0,1000000.0,508000.0,320000.0,343000.0,772500.0,450000.0,1437500.0,406100.0,110000.0,685000.0,461000.0,550000.0,217000.0,425000.0,435000.0,276000.0,266000.0,543000.0,495000.0,350000.0,900000.0,250000.0,225000.0,255000.0,336000.0,410500.0,502700.0,250000.0,570000.0,349900.0,655000.0,469000.0,355000.0,1030000.0,710000.0,546000.0,540000.0,435000.0,284000.0,315000.0,417500.0,375000.0,389800.0,280000.0,612000.0,591000.0,650000.0,499000.0,649950.0,420000.0,452000.0,375000.0,588000.0,1395000.0,272000.0,640000.0,299000.0,447500.0,690000.0,355000.0,515000.0,303100.0,221000.0,385000.0,525000.0,356200.0,560000.0,513000.0,365000.0,368000.0,870000.0,750000.0,725000.0,199950.0,870000.0,466750.0,802500.0,460000.0,261000.0,631000.0,584000.0,667000.0,190000.0,213000.0,390000.0,465000.0,295000.0,560000.0,1500000.0,499950.0,360000.0,350000.0,990000.0,485000.0,281500.0,587206.0,482000.0,411500.0,285000.0,395000.0,765000.0,515000.0,330000.0,284000.0,295000.0,350000.0,528000.0,304700.0,346000.0,500000.0,750000.0,378500.0,1735000.0,360000.0,361000.0,445000.0,1430000.0,500000.0,605000.0,721000.0,605000.0,738000.0,303000.0,530000.0,180000.0,443500.0,482500.0,835000.0,710000.0,1255000.0,205000.0,565000.0,568000.0,500000.0,758800.0,3200000.0,260000.0,630000.0,875000.0,457500.0,900000.0,235000.0,467500.0,500000.0,995000.0,277000.0,630000.0,170000.0,165000.0,304000.0,369000.0,500007.0,123000.0,520000.0,425000.0,375000.0,560000.0,325000.0,118125.0,212000.0,7700000.0,1045000.0,350000.0,659500.0,410000.0,710000.0,175000.0,606400.0,540000.0,440000.0,485000.0,295000.0,767500.0,1160000.0,506000.0,474950.0,654000.0,710000.0,353000.0,547000.0,525000.0,285000.0,570000.0,400000.0,335000.0,555000.0,286000.0,305000.0,970000.0,525000.0,595000.0,275000.0,295000.0,340500.0,280000.0,483000.0,445500.0,379900.0,215000.0,395000.0,1535000.0,922000.0,340000.0,849000.0,907000.0,375000.0,395000.0,250000.0,295000.0,740000.0,1070000.0,880000.0,585000.0,249950.0,450000.0,1775000.0,350000.0,1184000.0,366000.0,560000.0,311000.0,679000.0,410000.0,360000.0,552000.0,663500.0,1975000.0,459000.0,339950.0,275500.0,1248000.0,575000.0,2575000.0,605000.0,489950.0,277000.0,545000.0,615000.0,343000.0,597000.0,265000.0,520500.0,825000.0,245000.0,830200.0,305000.0,1025000.0,370000.0,320000.0,359000.0,330000.0,242000.0,441000.0,375000.0,365000.0,580000.0,365000.0,295000.0,406500.0,614905.0,549000.0,2500000.0,499100.0,676101.0,290000.0,390000.0,465000.0,470000.0,450000.0,403250.0,579000.0,380500.0,290000.0,935000.0,450000.0,1320000.0,410000.0,160000.0,809000.0,183750.0,411000.0,1050000.0,625000.0,165000.0,575000.0,578000.0,382000.0,563000.0,725000.0,270000.0,505000.0,678940.0,387500.0,256000.0,367500.0,390000.0,415000.0,539950.0,245000.0,445800.0,430000.0,715000.0,560000.0,449000.0,275000.0,285000.0,288250.0,257000.0,377000.0,550000.0,339000.0,481500.0,865000.0,550000.0,645000.0,250000.0,507200.0,265000.0,416500.0,460000.0,1445000.0,492000.0,345000.0,275000.0,2538000.0,960000.0,670000.0,365000.0,285000.0,219950.0,1465000.0,1112750.0,864000.0,385000.0,345000.0,600000.0,258000.0,415000.0,299900.0,345000.0,376500.0,775000.0,450000.0,760000.0,500000.0,592500.0,458000.0,216000.0,645000.0,249900.0,410000.0,499000.0,925000.0,340000.0,299800.0,340000.0,626000.0,324950.0,565000.0,978000.0,530000.0,345000.0,258000.0,275000.0,472000.0,250000.0,460000.0,440150.0,375000.0,721000.0,174000.0,170000.0,658000.0,620000.0,276000.0,329000.0,270000.0,403500.0,585000.0,216000.0,575000.0,338000.0,400000.0,305000.0,325000.0,440000.0,580000.0,875000.0,299500.0,485000.0,750000.0,455000.0,1450000.0,291000.0,745000.0,685900.0,250000.0,265000.0,599000.0,199950.0,712500.0,490000.0,511500.0,299000.0,685000.0,597000.0,659000.0,540000.0,575000.0,725000.0,342450.0,315000.0,328000.0,320000.0,550000.0,335000.0,613200.0,420000.0,1000000.0,342000.0,582000.0,475000.0,826600.0,387000.0,267500.0,942000.0,435000.0,315000.0,354901.0,360000.0,625000.0,713500.0,439000.0,204750.0,367000.0,183000.0,300000.0,369000.0,380000.0,463000.0,625000.0,3200000.0,634000.0,443750.0,585000.0,785000.0,525000.0,537000.0,2900000.0,378500.0,369950.0,450000.0,441500.0,200000.0,332000.0,401500.0,585000.0,153000.0,203000.0,305000.0,495000.0,420000.0,569500.0,350000.0,268000.0,450000.0,895000.0,520000.0,980000.0,740000.0,230000.0,622000.0,90000.0,342000.0,420000.0,250000.0,249950.0,355200.0,425000.0,390000.0,569950.0,476500.0,230000.0,342000.0,450000.0,460000.0,323000.0,325000.0,480000.0,210000.0,920000.0,399000.0,631750.0,258305.0,775000.0,515000.0,455000.0,440000.0,1440000.0,850000.0,1195000.0,385000.0,202200.0,361000.0,505000.0,417000.0,825000.0,1475000.0,319950.0,560000.0,350000.0,450000.0,380000.0,650000.0,154200.0,285650.0,485500.0,315000.0,526000.0,480000.0,640000.0,303000.0,315000.0,163250.0,285000.0,370000.0,330000.0,395000.0,440000.0,560000.0,333000.0,499000.0,386000.0,320600.0,450000.0,374000.0,344950.0,565000.0,234000.0,345000.0,760000.0,484000.0,930000.0,477500.0,1250000.0,270000.0,635000.0,1865000.0,576250.0,655100.0,441000.0,285950.0,1625000.0,299000.0,1003000.0,475000.0,416000.0,495000.0,357500.0,459500.0,665000.0,350000.0,339950.0,365000.0,732000.0,525000.0,170000.0,330000.0,107000.0,442500.0,203000.0,190000.0,733500.0,688000.0,165000.0,2193000.0,949950.0,443600.0,342888.0,555000.0,613000.0,480000.0,810000.0,415000.0,250000.0,585000.0,220000.0,375000.0,500000.0,433000.0,267500.0,910000.0,320000.0,660000.0,602000.0,212000.0,224000.0,350000.0,285000.0,425000.0,292000.0,475000.0,546500.0,82000.0,219900.0,440000.0,330000.0,245000.0,296000.0,193000.0,456000.0,480000.0,382000.0,650000.0,431750.0,340000.0,575000.0,500000.0,207000.0,474900.0,542000.0,525000.0,360000.0,425000.0,239950.0,577500.0,615000.0,1655000.0,315000.0,250000.0,358000.0,1300000.0,235000.0,545000.0,320000.0,875000.0,325000.0,756000.0,455000.0,330000.0,532000.0,775000.0,410000.0,205000.0,585000.0,415000.0,459000.0,414500.0,185000.0,362500.0,425000.0,435000.0,435000.0,400000.0,446000.0,1250000.0,404500.0,771000.0,510000.0,751000.0,408000.0,330000.0,565000.0,582000.0,235000.0,507000.0,210000.0,239300.0,315000.0,510000.0,400000.0,445000.0,1110000.0,520000.0,248000.0,319950.0,320000.0,628000.0,640000.0,420000.0,349950.0,749950.0,290000.0,225000.0,302100.0,520000.0,285000.0,377500.0,587450.0,440000.0,315000.0,340000.0,315000.0,350000.0,340000.0,140000.0,246000.0,324950.0,207000.0,515000.0,452000.0,236000.0,808100.0,799990.0,674000.0,330000.0,338000.0,264950.0,209500.0,911100.0,249900.0,175000.0,549950.0,299800.0,415000.0,353000.0,225000.0,553000.0,312000.0,320000.0,610000.0,350000.0,395000.0,1240000.0,332000.0,752000.0,450000.0,420000.0,409000.0,315000.0,224000.0,293550.0,350000.0,442500.0,595000.0,510000.0,509250.0,726500.0,287000.0,535000.0,510000.0,575000.0,775000.0,400000.0,245000.0,281000.0,635000.0,310000.0,470000.0,435000.0,559000.0,340000.0,575700.0,1010000.0,265000.0,699950.0,381000.0,564000.0,114975.0,325000.0,665000.0,575000.0,601150.0,315000.0,545000.0,430000.0,312000.0,380000.0,222200.0,995000.0,402000.0,289900.0,552500.0,440000.0,286000.0,260000.0,255000.0,588000.0,975000.0,245000.0,385000.0,396675.0,242000.0,496000.0,690000.0,270000.0,700000.0,520000.0,1485000.0,557800.0,571000.0,225000.0,500000.0,536500.0,249000.0,1200000.0,417200.0,506000.0,348000.0,427550.0,361000.0,460000.0,958000.0,445000.0,324000.0,625000.0,155000.0,614000.0,587100.0,479500.0,382888.0,540000.0,760500.0,490000.0,490000.0,272000.0,233000.0,275000.0,437500.0,426250.0,520000.0,411500.0,422250.0,655000.0,460000.0,159075.0,470000.0,235000.0,309950.0,640000.0,325000.0,510000.0,790000.0,287000.0,509000.0,270000.0,210000.0,415000.0,550000.0,1250000.0,499950.0,659000.0,175000.0,306950.0,630000.0,699950.0,1000000.0,215000.0,235000.0,604000.0,750000.0,580000.0,350000.0,353750.0,568000.0,1005000.0,213500.0,357000.0,425000.0,410000.0,370000.0,485000.0,355000.0,485000.0,601000.0,264950.0,425000.0,310000.0,370000.0,392000.0,455000.0,323500.0,364500.0,289900.0,585000.0,183000.0,309000.0,815241.0,150000.0,204000.0,875000.0,392500.0,400000.0,452000.0,350000.0,525000.0,840000.0,1325000.0,1070000.0,1910000.0,190500.0,370000.0,350000.0,740000.0,455000.0,366000.0,399950.0,285000.0,250000.0,290000.0,235000.0,428750.0,1065500.0,611206.0,350000.0,420000.0,342000.0,700000.0,848750.0,720000.0,394999.0,482500.0,540000.0,275000.0,780000.0,225000.0,503045.0,569950.0,450000.0,1099500.0,700000.0,454000.0,205000.0,552500.0,1050000.0,680000.0,985000.0,431000.0,603500.0,860000.0,490000.0,229000.0,430000.0,510000.0,440000.0,625000.0,435000.0,225000.0,770000.0,340000.0,250000.0,397990.0,535000.0,265950.0,505500.0,600000.0,952000.0,625000.0,285000.0,254000.0,348140.0,706000.0,842000.0,255000.0,565000.0,625000.0,700000.0,363000.0,650000.0,575000.0,499950.0,883000.0,436000.0,320000.0,384000.0,675000.0,685000.0,799000.0,318500.0,420000.0,570000.0,333000.0,1360000.0,660000.0,350000.0,682500.0,399990.0,860000.0,190000.0,1085000.0,575000.0,1400000.0,304000.0,325000.0,557510.0,487500.0,403504.0,500000.0,525000.0,898500.0,450000.0,825000.0,275000.0,235750.0,315000.0,505000.0,1234000.0,1265000.0,304000.0,412000.0,400000.0,525000.0,293000.0,267100.0,975000.0,670000.0,1065000.0,540000.0,425000.0,465500.0,205000.0,305000.0,480000.0,585000.0,607000.0,733000.0,700000.0,412133.0,475000.0,240000.0,1115000.0,243000.0,1190000.0,275000.0,657000.0,347000.0,490000.0,500000.0,465000.0,715000.0,780000.0,410000.0,778100.0,406000.0,665000.0,305000.0,485000.0,510000.0,195000.0,432500.0,370000.0,826000.0,587750.0,612500.0,560000.0,727000.0,779000.0,775000.0,440000.0,514000.0,323000.0,551000.0,825000.0,245500.0,440000.0,217000.0,335000.0,501000.0,340000.0,298800.0,598000.0,375000.0,465000.0,1095000.0,300000.0,780000.0,325000.0,370000.0,356000.0,490000.0,429000.0,467500.0,615000.0,925000.0,251200.0,259000.0,349950.0,600000.0,405000.0,533000.0,230000.0,403000.0,913000.0,334998.0,371000.0,840000.0,475000.0,420000.0,685000.0,197200.0,529950.0,792000.0,353900.0,440000.0,1008000.0,270000.0,430000.0,1925000.0,375000.0,400000.0,329922.0,375000.0,385000.0,591500.0,327000.0,355000.0,310000.0,272000.0,375500.0,550000.0,248000.0,546940.0,593000.0,390000.0,355000.0,300000.0,500000.0,900000.0,425000.0,411000.0,258000.0,398500.0,600000.0,645000.0,320000.0,770000.0,423500.0,850000.0,155000.0,707000.0,497000.0,349170.0,365000.0,380000.0,402000.0,808000.0,367500.0,435000.0,280000.0,490000.0,264000.0,615000.0,282613.0,675000.0,410000.0,440000.0,500000.0,961000.0,734000.0,175000.0,190000.0,1300000.0,417000.0,275000.0,435000.0,408000.0,570000.0,1540000.0,400000.0,453000.0,235000.0,675000.0,516200.0,540000.0,274000.0,396500.0,460000.0,277000.0,449500.0,785950.0,435000.0,340000.0,563250.0,620000.0,275000.0,790000.0,350000.0,130000.0,273000.0,264250.0,608000.0,1755000.0,339950.0,760000.0,350000.0,215000.0,730000.0,358000.0,322000.0,765000.0,920000.0,360000.0,400000.0,290000.0,574500.0,505000.0,372500.0,399888.0,430000.0,405000.0,261000.0,1482500.0,853800.0,514000.0,1395710.0,265000.0,450000.0,315000.0,432000.0,1695000.0,415000.0,450000.0,280000.0,255000.0,357000.0,390000.0,462000.0,174500.0,305000.0,449000.0,260000.0,370037.0,1220000.0,1250000.0,489000.0,400000.0,305000.0,649950.0,270000.0,256000.0,550000.0,410000.0,410000.0,292000.0,518000.0,1080000.0,315000.0,499950.0,780000.0,500000.0,260000.0,514950.0,336500.0,1100000.0,375000.0,455000.0,450000.0,920000.0,680200.0,875000.0,337000.0,284200.0,616500.0,750000.0,540000.0,490000.0,124000.0,224000.0,485000.0,230000.0,905000.0,440000.0,204950.0,475000.0,352000.0,491000.0,225000.0,304000.0,650000.0,448175.0,494000.0,1100000.0,499950.0,523500.0,885000.0,483000.0,720000.0,332500.0,164950.0,371000.0,1738000.0,503000.0,738000.0,393000.0,505000.0,713000.0,487000.0,210500.0,679000.0,386000.0,335000.0,735000.0,665000.0,250000.0,350000.0,563000.0,375000.0,400000.0,317500.0,649000.0,337900.0,535000.0,325000.0,650000.0,275000.0,540000.0,640000.0,475000.0,1275000.0,352000.0,503000.0,689000.0,749500.0,445000.0,453500.0,616500.0,396000.0,210000.0,539000.0,605000.0,437500.0,525000.0,280000.0,1050000.0,495000.0,497000.0,655000.0,632750.0,330000.0,1695000.0,533000.0,640000.0,458400.0,457000.0,530000.0,292050.0,300000.0,465000.0,808000.0,578500.0,390000.0,755000.0,579500.0,649950.0,228000.0,665000.0,529000.0,325000.0,330000.0,585000.0,235000.0,362362.0,665000.0,620000.0,375000.0,552625.0,390000.0,466500.0,365000.0,356000.0,380000.0,682000.0,435000.0,520000.0,270000.0,1100000.0,650000.0,475000.0,383610.0,840000.0,350000.0,1326000.0,550000.0,324500.0,511000.0,1365000.0,580000.0,290000.0,309000.0,338000.0,505000.0,245000.0,317000.0,670000.0,985000.0,310000.0,460000.0,339000.0,660000.0,235000.0,775000.0,442000.0,495000.0,1400000.0,251000.0,357000.0,270000.0,495000.0,716528.0,690000.0,505000.0,276200.0,530000.0,221900.0,466000.0,657100.0,489000.0,268500.0,305000.0,950000.0,270000.0,450000.0,535000.0,457500.0,440000.0,257000.0,485000.0,899000.0,279000.0,1355000.0,426000.0,720001.0,313950.0,415000.0,625000.0,829000.0,217500.0,1245000.0,575000.0,550000.0,540500.0,196700.0,465000.0,166000.0,440000.0,375000.0,529500.0,338000.0,354000.0,601000.0,462500.0,329000.0,398000.0,550500.0,709000.0,402000.0,450000.0,524000.0,925000.0,535000.0,150000.0,520000.0,247800.0,370000.0,355000.0,446000.0,1197000.0,565000.0,465000.0,401000.0,245000.0,500000.0,216000.0,340500.0,600000.0,375000.0,536500.0,750000.0,355000.0,590000.0,680000.0,581000.0,443000.0,570000.0,979700.0,730000.0,490000.0,808000.0,695000.0,309950.0,134000.0,750000.0,1399000.0,344900.0,601450.0,575000.0,405000.0,265000.0,433000.0,406500.0,965000.0,185000.0,269000.0,379950.0,439950.0,554820.0,242500.0,330000.0,630000.0,750000.0,109000.0,447000.0,1084500.0,294950.0,170500.0,312000.0,375000.0,400000.0,3400000.0,695000.0,304950.0,650000.0,402500.0,655000.0,577000.0,855000.0,1145000.0,330000.0,519500.0,265000.0,2000000.0,402500.0,400000.0,202000.0,250000.0,301350.0,425000.0,460000.0,435000.0,425000.0,550000.0,397000.0,1350000.0,495000.0,385000.0,465000.0,1225000.0,150000.0,150000.0,389100.0,310000.0,850000.0,770000.0,405000.0,392500.0,500000.0,245000.0,369500.0,510000.0,385000.0,660000.0,460000.0,465000.0,290500.0,480000.0,410000.0,198000.0,325000.0,392000.0,951250.0,525000.0,422500.0,783200.0,385000.0,549995.0,500000.0,489000.0,340000.0,562000.0,560000.0,799000.0,892500.0,338000.0,563225.0,645000.0,995000.0,440000.0,738000.0,439000.0,295832.0,350000.0,489000.0,615000.0,178500.0,300000.0,415000.0,452500.0,715000.0,541000.0,245000.0,547000.0,575000.0,443000.0,402500.0,452000.0,595000.0,704000.0,1325000.0,705000.0,415250.0,456700.0,925500.0,335000.0,428000.0,415000.0,392000.0,555000.0,135000.0,251000.0,360000.0,450000.0,449900.0,585000.0,385000.0,205000.0,443000.0,287000.0,699950.0,433000.0,440000.0,520000.0,555000.0,709000.0,445500.0,1308000.0,92000.0,600000.0,725000.0,409950.0,410000.0,475000.0,200000.0,310000.0,521000.0,495000.0,415000.0,825000.0,436000.0,976000.0,442500.0,480000.0,715500.0,605000.0,318000.0,311300.0,325000.0,819000.0,945000.0,812000.0,464000.0,700000.0,435000.0,1575000.0,590000.0,740000.0,360000.0,548500.0,599000.0,292000.0,500000.0,594000.0,1250000.0,250000.0,540000.0,750000.0,175000.0,475000.0,238950.0,470000.0,656000.0,600000.0,210750.0,485000.0,462500.0,440000.0,430000.0,570000.0,110700.0,427000.0,650500.0,335900.0,535000.0,360000.0,460000.0,463000.0,725000.0,582500.0,711000.0,360000.0,324000.0,420000.0,481000.0,500000.0,448000.0,294000.0,665000.0,675000.0,875000.0,320000.0,137900.0,360000.0,283000.0,535000.0,554729.0,868000.0,455000.0,742500.0,1565000.0,730000.0,395000.0,349000.0,554950.0,326000.0,599950.0,190000.0,522000.0,308000.0,1020000.0,397500.0,710000.0,1378600.0,375000.0,315000.0,467500.0,330000.0,469000.0,408000.0,998500.0,1225000.0,265000.0,398000.0,354000.0,399000.0,998800.0,350000.0,245000.0,570000.0,845000.0,500000.0,870000.0,299000.0,527000.0,1662000.0,315000.0,774000.0,368888.0,344950.0,450000.0,880000.0,1295000.0,310000.0,485000.0,690000.0,265000.0,1105000.0,200000.0,545000.0,388000.0,425000.0,536000.0,1175000.0,629950.0,465000.0,375000.0,459950.0,255000.0,460000.0,625000.0,394950.0,324950.0,330000.0,500000.0,368000.0,660000.0,605000.0,877500.0,489900.0,422250.0,620000.0,750000.0,525000.0,592500.0,285000.0,477000.0,595000.0,525000.0,341000.0,674000.0,230000.0,700000.0,595000.0,470000.0,382000.0,255000.0,1234580.0,393000.0,264950.0,450000.0,425000.0,2555000.0,310000.0,395000.0,595000.0,375000.0,403900.0,640000.0,221000.0,575000.0,635000.0,522500.0,865000.0,951000.0,499950.0,549000.0,1400000.0,619000.0,311000.0,600000.0,436000.0,205000.0,500000.0,270000.0,415000.0,312000.0,539000.0,498000.0,650000.0,219950.0,740000.0,345000.0,1047500.0,402300.0,492000.0,273000.0,335000.0,695000.0,279000.0,485000.0,285000.0,687500.0,313000.0,445000.0,619500.0,305000.0,874000.0,700000.0,590000.0,343500.0,334900.0,370000.0,535000.0,202000.0,490000.0,651500.0,270000.0,289000.0,790000.0,246950.0,400000.0,615000.0,565000.0,292500.0,825000.0,525000.0,438600.0,275000.0,355000.0,666000.0,420000.0,290000.0,165000.0,299880.0,499950.0,920000.0,2300000.0,620000.0,978000.0,325000.0,568000.0,525000.0,484950.0,1295000.0,106000.0,474000.0,950000.0,464000.0,320000.0,216650.0,1125000.0,360000.0,228900.0,354000.0,850000.0,275000.0,1655000.0,405000.0,451000.0,245000.0,450000.0,370350.0,543000.0,265000.0,195000.0,1125000.0,500000.0,855000.0,390000.0,339000.0,1325000.0,457500.0,499000.0,615000.0,455000.0,458000.0,240000.0,229050.0,328500.0,319000.0,650000.0,398500.0,250000.0,156000.0,760000.0,349950.0,676000.0,475000.0,880000.0,420000.0,395000.0,429950.0,505000.0,192500.0,550000.0,460000.0,339000.0,950000.0,675000.0,252000.0,400000.0,530000.0,357000.0,365000.0,804000.0,808250.0,380000.0,479000.0,680000.0,1750000.0,306500.0,188000.0,1142000.0,635200.0,355000.0,544000.0,402000.0,575000.0,850000.0,238000.0,625000.0,1110000.0,820000.0,355000.0,495000.0,398750.0,625000.0,540000.0,519000.0,275000.0,324000.0,2795000.0,565000.0,373000.0,613000.0,425000.0,407000.0,472000.0,1250000.0,412000.0,717000.0,299999.0,800000.0,420000.0,350000.0,491000.0,900000.0,250000.0,190000.0,415885.0,550000.0,272000.0,530000.0,255000.0,255000.0,650000.0,675000.0,332888.0,255000.0,244000.0,218000.0,359000.0,500000.0,1545000.0,412000.0,299950.0,1081000.0,1400000.0,315000.0,523000.0,490000.0,310000.0,219950.0,750000.0,478000.0,170000.0,1370000.0,208417.0,410000.0,590000.0,617000.0,438750.0,1280000.0,995000.0,1580000.0,635000.0,530000.0,295000.0,869900.0,485000.0,400000.0,495000.0,500000.0,391000.0,451000.0,206000.0,590000.0,1236300.0,419000.0,1850000.0,545000.0,615000.0,625500.0,900000.0,289950.0,240000.0,237502.0,1280000.0,350000.0,256000.0,275000.0,365000.0,400000.0,278750.0,527700.0,740000.0,225000.0,429950.0,199400.0,324950.0,467000.0,380000.0,700000.0,670000.0,419000.0,397000.0,370000.0,399000.0,717000.0,635000.0,355000.0,320000.0,240000.0,199950.0,770000.0,870300.0,310000.0,500000.0,1475000.0,154500.0,410500.0,530000.0,573500.0,260000.0,290000.0,615000.0,1400000.0,1620000.0,339950.0,440000.0,350000.0,254000.0,567000.0,402000.0,625000.0,432000.0,672500.0,336000.0,636000.0,280500.0,520000.0,900000.0,685000.0,464950.0,525000.0,1443920.0,571000.0,104950.0,1210000.0,309000.0,600000.0,785000.0,900000.0,499000.0,286300.0,325000.0,378000.0,550000.0,325000.0,831000.0,750000.0,3000000.0,739000.0,980000.0,330000.0,329000.0,445000.0,175000.0,315000.0,225000.0,845000.0,1300000.0,350000.0,370000.0,439950.0,395000.0,375000.0,1100000.0,289500.0,680000.0,589000.0,756450.0,540000.0,385000.0,485000.0,550000.0,1260000.0,415000.0,338995.0,615000.0,857500.0,585000.0,215000.0,385000.0,688500.0,700000.0,317000.0,314963.0,715000.0,440000.0,535000.0,404500.0,396500.0,605000.0,699000.0,597000.0,338000.0,398000.0,218000.0,348500.0,1430000.0,502000.0,257500.0,427000.0,290000.0,222000.0,371000.0,585000.0,506000.0,151100.0,251000.0,306888.0,577000.0,650000.0,975000.0,229000.0,575000.0,450000.0,590000.0,299000.0,895000.0,339000.0,885000.0,375000.0,700000.0,200000.0,438000.0,718000.0,200000.0,219950.0,437000.0,595000.0,389000.0,240000.0,710500.0,170000.0,1665000.0,225000.0,615000.0,857500.0,1015000.0,565000.0,355000.0,775000.0,335000.0,1300000.0,545000.0,540000.0,687500.0,902000.0,570000.0,359950.0,250000.0,490000.0,210000.0,265500.0,1462500.0,400000.0,887500.0,344000.0,1305000.0,180000.0,350000.0,650000.0,600000.0,710000.0,605000.0,365000.0,350000.0,550000.0,450000.0,432500.0,610000.0,823000.0,471000.0,180000.0,368000.0,550000.0,345000.0,668750.0,429000.0,385000.0,535000.0,352500.0,624000.0,518000.0,385000.0,259950.0,280000.0,1072500.0,430000.0,615500.0,260000.0,1186040.0,175000.0,415000.0,625000.0,675000.0,1340000.0,1000000.0,275000.0,643002.0,367950.0,285000.0,685000.0,524000.0,680000.0,107000.0,232900.0,800000.0,248500.0,670000.0,570500.0,207000.0,237000.0,335000.0,204000.0,560000.0,253500.0,352000.0,311600.0,570000.0,661254.0,575000.0,230000.0,148000.0,244900.0,214950.0,580000.0,317000.0,1289000.0,710000.0,430000.0,397000.0,595000.0,755000.0,185000.0,340000.0,680000.0,560000.0,385000.0,280000.0,592500.0,320000.0,305000.0,229000.0,397500.0,1900000.0,287500.0,815000.0,222900.0,433500.0,498000.0,625000.0,517000.0,238000.0,234550.0,585000.0,733000.0,357950.0,530000.0,377500.0,660000.0,440000.0,375950.0,780000.0,705000.0,725000.0,445000.0,356000.0,970000.0,710000.0,355000.0,840500.0,625000.0,209977.0,518000.0,539000.0,530000.0,230000.0,550000.0,940000.0,375000.0,567500.0,114000.0,608000.0,381800.0,330000.0,312000.0,339000.0,242000.0,364000.0,545000.0,417000.0,400000.0,759950.0,990000.0,315000.0,638000.0,370000.0,299000.0,215000.0,410000.0,478000.0,431000.0,469775.0,677915.0,671000.0,205000.0,350000.0,452000.0,730000.0,291000.0,1300000.0,456200.0,467000.0,385000.0,670000.0,500000.0,352450.0,280000.0,340000.0,265000.0,800000.0,577500.0,329000.0,458500.0,1850000.0,676000.0,1272500.0,379950.0,278000.0,355000.0,227000.0,680000.0,686500.0,350000.0,705000.0,312500.0,260000.0,500000.0,850000.0,290000.0,230000.0,425000.0,575000.0,390000.0,1350000.0,835000.0,245000.0,425000.0,218000.0,460000.0,425000.0,281000.0,130000.0,747000.0,559950.0,577288.0,575000.0,287000.0,335000.0,325000.0,550000.0,695000.0,210000.0,518000.0,335500.0,750000.0,470000.0,429000.0,425000.0,382000.0,450000.0,565000.0,529100.0,415000.0,363500.0,170000.0,510000.0,207000.0,225000.0,329900.0,500000.0,495000.0,149500.0,395000.0,191000.0,400000.0,515000.0,538000.0,302000.0,420000.0,310000.0,760000.0,1313000.0,599950.0,450000.0,229000.0,305000.0,930000.0,349000.0,498000.0,370000.0,310000.0,1300000.0,410000.0,319950.0,399950.0,290000.0,245000.0,255000.0,310000.0,299000.0,284000.0,840000.0,560000.0,485000.0,808000.0,380000.0,235000.0,209000.0,285950.0,315000.0,230000.0,967000.0,536500.0,315000.0,626000.0,429000.0,310000.0,525000.0,226000.0,1250000.0,329932.0,539000.0,509000.0,305240.0,555000.0,850000.0,469000.0,327200.0,835000.0,372000.0,275000.0,475000.0,173000.0,345000.0,436000.0,244500.0,305000.0,690500.0,245560.0,388500.0,225000.0,614950.0,625000.0,248500.0,469950.0,787500.0,310000.0,280000.0,324950.0,350000.0,749000.0,490000.0,725000.0,680000.0,490000.0,635000.0,270000.0,413252.0,285000.0,365000.0,295000.0,230000.0,337000.0,300000.0,2300000.0,998500.0,395000.0,259250.0,435000.0,402000.0,580000.0,174950.0,300000.0,435000.0,469000.0,870000.0,455000.0,445500.0,565000.0,110000.0,375000.0,315000.0,380000.0,739000.0,549000.0,735000.0,270000.0,2250000.0,469000.0,305000.0,675000.0,931000.0,385000.0,386500.0,358000.0,677500.0,350000.0,875000.0,452000.0,425000.0,460000.0,666570.0,250000.0,290000.0,453000.0,556000.0,1260000.0,525000.0,360000.0,619000.0,402000.0,549950.0,300000.0,419000.0,510000.0,516000.0,550000.0,417000.0,906000.0,219000.0,520000.0,950000.0,255000.0,394000.0,1250000.0,637000.0,315275.0,790000.0,310000.0,1250000.0,425000.0,435000.0,490000.0,220000.0,670000.0,585000.0,335000.0,680000.0,600000.0,161000.0,220000.0,710000.0,626000.0,279500.0,325000.0,525000.0,658500.0,680000.0,595000.0,575000.0,324950.0,259000.0,488000.0,370000.0,675000.0,402000.0,455000.0,543000.0,1010000.0,150000.0,683500.0,499950.0,255000.0,910000.0,699000.0,685000.0,316000.0,410000.0,559000.0,602000.0,492000.0,553000.0,760000.0,589500.0,840000.0,2546000.0,430000.0,781000.0,280000.0,392000.0,641000.0,350000.0,605000.0,905000.0,370000.0,717500.0,1999000.0,365500.0,580000.0,272000.0,600000.0,744000.0,322000.0,272450.0,605000.0,1125000.0,1688000.0,337500.0,328000.0,271000.0,270000.0,395000.0,340000.0,340000.0,335000.0,435000.0,527950.0,667000.0,580000.0,800000.0,350000.0,248000.0,305000.0,435010.0,678100.0,325000.0,440000.0,585000.0,350500.0,385000.0,349000.0,1100000.0,732000.0,200000.0,257500.0,299950.0,766500.0,690000.0,551000.0,568000.0,190000.0,610000.0,520000.0,375000.0,698000.0,418000.0,599950.0,810000.0,348000.0,435000.0,530000.0,285000.0,246000.0,260000.0,594950.0,608000.0,455000.0,770000.0,781000.0,696500.0,269000.0,2415000.0,122000.0,352500.0,360000.0,1169000.0,1100000.0,520000.0,415000.0,415000.0,450000.0,485000.0,690000.0,481000.0,575000.0,785000.0,265000.0,545000.0,465000.0,292500.0,860000.0,495000.0,342000.0,444000.0,634950.0,780000.0,475999.0,630000.0,1272000.0,520000.0,446800.0,652000.0,594000.0,257000.0,485000.0,793000.0,920000.0,455000.0,375000.0,400000.0,295500.0,1328000.0,505000.0,207000.0,440250.0,585000.0,570000.0,551000.0,390000.0,135000.0,439000.0,620000.0,477000.0,399500.0,500000.0,432500.0,233000.0,334000.0,332500.0,310000.0,200000.0,420000.0,265000.0,295000.0,1475000.0,334500.0,370000.0,311000.0,260000.0,423500.0,299000.0,409950.0,1000000.0,436000.0,279000.0,390000.0,780000.0,580000.0,340000.0,399000.0,312500.0,370000.0,1275000.0,294350.0,925000.0,654500.0,349950.0,585000.0,447500.0,565000.0,780000.0,105500.0,445000.0,1640000.0,439000.0,252000.0,495000.0,570000.0,327000.0,898000.0,403000.0,440000.0,350000.0,240000.0,460000.0,825000.0,445000.0,265000.0,399000.0,330000.0,1031000.0,550000.0,338000.0,235000.0,349950.0,265000.0,597000.0,661000.0,427000.0,157000.0,246500.0,360500.0,490000.0,600000.0,756100.0,830000.0,440000.0,275000.0,265000.0,325000.0,364500.0,322500.0,338900.0,910000.0,1015000.0,459950.0,775000.0,400000.0,530000.0,471001.0,510000.0,1712500.0,850000.0,542000.0,102500.0,350000.0,216000.0,340000.0,505000.0,1350000.0,289000.0,375000.0,537500.0,375000.0,293550.0,185000.0,549000.0,1810000.0,302500.0,705000.0,350000.0,480000.0,1000000.0,592000.0,760000.0,418000.0,415000.0,168000.0,405000.0,549000.0,550000.0,389000.0,400000.0,395000.0,575000.0,515000.0,618250.0,690000.0,550000.0,765000.0,430000.0,950000.0,525000.0,775000.0,329900.0,375000.0,530000.0,640000.0,665000.0,850000.0,360000.0,475000.0,345000.0,607500.0,390000.0,705000.0,243500.0,223000.0,539500.0,265000.0,505000.0,712500.0,589000.0,415000.0,460000.0,572500.0,485000.0,750000.0,409950.0,246000.0,860000.0,315000.0,386500.0,348000.0,349950.0,449250.0,790000.0,834000.0,466950.0,733000.0,1160000.0,518000.0,649000.0,267800.0,600000.0,395000.0,212000.0,425000.0,870000.0,915000.0,750000.0,599950.0,481203.0,626000.0,535000.0,410000.0,200000.0,470000.0,450000.0,515000.0,1400000.0,230000.0,255000.0,580000.0,286000.0,425000.0,380000.0,506000.0,2885000.0,210000.0,257500.0,1075000.0,622000.0,257000.0,355000.0,510000.0,289000.0,535610.0,397950.0,284000.0,201000.0,734000.0,221000.0,920000.0,235000.0,640000.0,294000.0,970000.0,282500.0,558000.0,270000.0,275000.0,1500000.0,424000.0,715000.0,802000.0,165000.0,750000.0,229950.0,450000.0,229950.0,675000.0,380000.0,325000.0,426000.0,366000.0,385000.0,810000.0,460000.0,295000.0,375000.0,307300.0,690000.0,645000.0,667000.0,452100.0,290000.0,950000.0,662500.0,538250.0,329950.0,1103990.0,307000.0,433000.0,750000.0,476000.0,368000.0,619000.0,230000.0,427500.0,400000.0,350000.0,525000.0,315000.0,500000.0,2225000.0,947500.0,385000.0,639950.0,824000.0,1005000.0,950000.0,473600.0,490000.0,1340000.0,450000.0,689888.0,305000.0,355000.0,403000.0,1285000.0,241450.0,320000.0,441000.0,474500.0,705000.0,142500.0,360000.0,290000.0,815000.0,1625000.0,240000.0,862500.0,740000.0,589000.0,235000.0,230000.0,655000.0,1225000.0,760000.0,712000.0,495000.0,775000.0,429000.0,130000.0,349000.0,487500.0,960000.0,1100000.0,769950.0,420000.0,665000.0,469950.0,346500.0,783500.0,575000.0,515000.0,300000.0,223000.0,460000.0,848000.0,392800.0,570000.0,280000.0,317500.0,405500.0,549010.0,365000.0,405000.0,522000.0,579000.0,445000.0,321500.0,660000.0,517950.0,1580000.0,325000.0,850000.0,475000.0,405000.0,420000.0,775000.0,620000.0,165000.0,490000.0,550700.0,600000.0,546000.0,489000.0,765000.0,550000.0,285000.0,335000.0,430000.0,760000.0,450000.0,725000.0,547000.0,999000.0,633000.0,530000.0,305000.0,513000.0,550000.0,700180.0,580050.0,465000.0,354950.0,667750.0,361000.0,475000.0,438000.0,212625.0,593000.0,445434.0,248000.0,345000.0,525000.0,532000.0,1115000.0,430000.0,417000.0,930000.0,573300.0,260000.0,280000.0,825000.0,307000.0,595000.0,275000.0,782000.0,488000.0,320000.0,153500.0,750000.0,425000.0,248500.0,500000.0,250000.0,470000.0,440000.0,402000.0,729000.0,635000.0,925000.0,295000.0,435000.0,508000.0,2400000.0,355000.0,345000.0,430000.0,378000.0,410000.0,750000.0,1025000.0,325000.0,640000.0,415000.0,415000.0,615000.0,425000.0,325250.0,249950.0,442900.0,780000.0,930000.0,2888000.0,350000.0,357500.0,279000.0,540000.0,320000.0,412000.0,887200.0,395000.0,390000.0,335750.0,719000.0,796000.0,95000.0,525000.0,410000.0,325000.0,1045000.0,410000.0,625000.0,485000.0,685000.0,557000.0,449000.0,570000.0,406000.0,574800.0,525000.0,310000.0,2230000.0,610000.0,438000.0,229000.0,260000.0,277000.0,283000.0,334000.0,385000.0,640000.0,415000.0,1442500.0,180000.0,592500.0,418900.0,545000.0,620000.0,330000.0,525000.0,569500.0,850000.0,630000.0,729000.0,481450.0,860000.0,499000.0,168500.0,295000.0,1295000.0,294950.0,565500.0,721000.0,369900.0,380950.0,349810.0,653000.0,335000.0,315000.0,239950.0,998000.0,515000.0,590000.0,289000.0,424000.0,244000.0,240000.0,378510.0,1195000.0,379900.0,524500.0,308500.0,110000.0,295950.0,270000.0,475000.0,446000.0,967500.0,327000.0,530000.0,239000.0,537000.0,390000.0,450000.0,420000.0,550000.0,110000.0,700000.0,1612500.0,472500.0,620000.0,410000.0,343000.0,465000.0,635000.0,713414.0,245000.0,600000.0,270000.0,435000.0,560000.0,513000.0,907500.0,622100.0,1180000.0,554000.0,660000.0,219900.0,365000.0,452000.0,840000.0,465000.0,396000.0,397000.0,240000.0,300523.0,952000.0,523460.0,648000.0,825000.0,389000.0,865000.0,201500.0,459000.0,540000.0,805000.0,521000.0,375000.0,605000.0,416100.0,525000.0,495000.0,710000.0,195000.0,667500.0,638000.0,561000.0,625000.0,234999.0,500000.0,415000.0,599000.0,530000.0,989000.0,462600.0,393000.0,1340000.0,671000.0,925000.0,245000.0,392500.0,505000.0,337000.0,495500.0,395000.0,510000.0,295000.0,275000.0,260000.0,1480000.0,805000.0,730000.0,750000.0,1020000.0,1425000.0,972000.0,361280.0,385000.0,724950.0,635000.0,432500.0,240000.0,555950.0,289000.0,397000.0,233000.0,1105000.0,970000.0,325000.0,615000.0,562500.0,447000.0,310000.0,735000.0,537000.0,330000.0,229000.0,200000.0,1295000.0,2000000.0,855000.0,267000.0,484000.0,905000.0,1535000.0,628000.0,675000.0,260000.0,690000.0,499000.0,430000.0,725000.0,150000.0,285000.0,340000.0,405100.0,645000.0,925000.0,759000.0,690000.0,683000.0,650000.0,939000.0,320000.0,365000.0,396900.0,502000.0,442000.0,475000.0,194000.0,380000.0,660000.0,525000.0,397950.0,525000.0,715000.0,1600000.0,1225000.0,320000.0,449000.0,308500.0,937750.0,135000.0,635000.0,425000.0,220000.0,370000.0,285000.0,147400.0,600000.0,245000.0,520000.0,872500.0,2152500.0,225000.0,735000.0,310000.0,930000.0,412000.0,225000.0,507000.0,1755000.0,805000.0,612125.0,350000.0,2200000.0,399000.0,376000.0,340000.0,852000.0,431000.0,435000.0,450000.0,157500.0,350000.0,615000.0,710000.0,528000.0,471000.0,515000.0,915000.0,545000.0,475000.0,410000.0,725000.0,300000.0,752000.0,715000.0,467500.0,359000.0,745000.0,935000.0,340000.0,370000.0,480000.0,667500.0,465000.0,345000.0,3065000.0,699000.0,345000.0,229000.0,392500.0,552000.0,457000.0,605000.0,696950.0,329000.0,364500.0,607500.0,1120280.0,192000.0,340000.0,324800.0,78000.0,640500.0,570000.0,1330000.0,314000.0,625000.0,275000.0,297975.0,210000.0,622500.0,550000.0,493000.0,147000.0,999000.0,470000.0,1305000.0,225000.0,520000.0,345000.0,475000.0,276000.0,635000.0,550000.0,835000.0,350000.0,1046250.0,707500.0,464500.0,720000.0,330000.0,650000.0,825000.0,658000.0,547500.0,762000.0,340000.0,880000.0,1220000.0,1950000.0,382500.0,375000.0,276000.0,328000.0,840500.0,270000.0,635000.0,255000.0,419950.0,861000.0,380000.0,650000.0,200000.0,311000.0,375000.0,336750.0,479000.0,466000.0,1311000.0,546000.0,300000.0,340000.0,760000.0,195000.0,564000.0,299980.0,257000.0,518500.0,526000.0,254500.0,575000.0,365000.0,497950.0,334000.0,235000.0,453500.0,1220000.0,275000.0,400000.0,915000.0,525000.0,383000.0,422000.0,320000.0,320000.0,290000.0,250000.0,352900.0,360000.0,700000.0,269500.0,260000.0,266750.0,1800000.0,779000.0,365000.0,724000.0,431000.0,415000.0,727160.0,265000.0,519000.0,262000.0,1100000.0,388000.0,1047000.0,325000.0,402000.0,370000.0,329950.0,135000.0,482500.0,259000.0,295000.0,910000.0,565000.0,339950.0,125000.0,2300000.0,348000.0,439950.0,207000.0,730000.0,750000.0,237000.0,180000.0,309950.0,715000.0,620000.0,330000.0,525000.0,589500.0,400000.0,310000.0,435000.0,430000.0,790000.0,250000.0,1120000.0,383900.0,383000.0,275000.0,700000.0,190000.0,300000.0,540000.0,227000.0,260000.0,797000.0,723000.0,375000.0,388000.0,249950.0,390000.0,292000.0,319500.0,265000.0,237000.0,235000.0,740000.0,359000.0,259950.0,455000.0,599995.0,910000.0,210000.0,475000.0,375000.0,185000.0,500000.0,1715000.0,1680000.0,570000.0,680000.0,448500.0,346000.0,779000.0,1850000.0,371000.0,343000.0,825000.0,1637500.0,645000.0,300000.0,326000.0,422500.0,605000.0,640000.0,799950.0,715000.0,960000.0,812000.0,656500.0,255000.0,280500.0,295000.0,700000.0,508300.0,485000.0,540000.0,525000.0,525000.0,325000.0,550000.0,182200.0,315000.0,500000.0,1690000.0,407500.0,642000.0,750000.0,855000.0,579000.0,989000.0,426000.0,310000.0,449000.0,375000.0,1187500.0,336000.0,133000.0,440000.0,294450.0,230500.0,380000.0,172500.0,784000.0,700000.0,280000.0,540000.0,1300000.0,500000.0,1335000.0,696000.0,465000.0,319000.0,719000.0,229000.0,395000.0,510250.0,535000.0,710000.0,395000.0,237500.0,464000.0,495000.0,257500.0,596000.0,435000.0,251000.0,435000.0,827235.0,249950.0,449000.0,500000.0,254950.0,350000.0,300000.0,994000.0,315000.0,373000.0,415000.0,313000.0,431500.0,415000.0,325000.0,690000.0,410000.0,960000.0,239000.0,235000.0,1636000.0,765000.0,525000.0,345000.0,500000.0,387500.0,392500.0,655500.0,235000.0,325000.0,268950.0,850000.0,294950.0,222000.0,469000.0,180000.0,360000.0,615000.0,317000.0,345000.0,608000.0,500000.0,652600.0,274950.0,447000.0,825000.0,765000.0,509000.0,465000.0,564000.0,384500.0,345000.0,747000.0,395000.0,505000.0,392500.0,497300.0,1280000.0,396500.0,532000.0,1400000.0,571000.0,660000.0,375000.0,660000.0,226000.0,600000.0,331000.0,780000.0,361810.0,467000.0,399000.0,315450.0,600000.0,330000.0,655000.0,437500.0,280000.0,250000.0,359950.0,750000.0,1220000.0,370000.0,230000.0,210000.0,465000.0,325000.0,650000.0,665000.0,324450.0,588000.0,200000.0,499950.0,465000.0,1200000.0,589000.0,600000.0,1425000.0,515000.0,550000.0,180000.0,290000.0,393500.0,285000.0,1925000.0,800000.0,780500.0,680000.0,465000.0,450000.0,290000.0,705000.0,245000.0,456000.0,512500.0,365000.0,450500.0,314000.0,496000.0,329950.0,960000.0,425000.0,533000.0,375000.0,218000.0,460000.0,255544.0,475000.0,1309500.0,465000.0,290000.0,840000.0,81000.0,1285000.0,326000.0,447000.0,750000.0,865000.0,399950.0,528000.0,315000.0,614306.0,261500.0,439000.0,277554.0,215000.0,1200000.0,420000.0,285000.0,165000.0,216500.0,500000.0,646000.0,712500.0,550000.0,925000.0,400000.0,225000.0,380000.0,315000.0,847000.0,664000.0,341000.0,276693.0,185000.0,300000.0,209950.0,850000.0,329000.0,495000.0,672500.0,1307000.0,620000.0,1057000.0,1600000.0,365000.0,330000.0,500000.0,299000.0,620000.0,180000.0,1030000.0,869000.0,350000.0,475000.0,890000.0,440000.0,1500000.0,449950.0,367000.0,575000.0,742500.0,275000.0,1200000.0,262500.0,399000.0,580000.0,175000.0,525000.0,629950.0,641500.0,250000.0,400000.0,935000.0,575000.0,355000.0,300000.0,245000.0,706000.0,578000.0,575000.0,333000.0,630000.0,750000.0,530000.0,352750.0,427000.0,558000.0,438200.0,340000.0,830005.0,411715.0,555000.0,677000.0,410000.0,755000.0,544000.0,800000.0,227000.0,625000.0,377000.0,600000.0,525300.0,175000.0,440000.0,197000.0,416000.0,397000.0,345000.0,269000.0,431000.0,735000.0,619500.0,253000.0,319950.0,485000.0,220000.0,444950.0,598000.0,298500.0,403950.0,271000.0,335000.0,630000.0,300000.0,255000.0,337000.0,885000.0,376000.0,1180500.0,187000.0,710000.0,90000.0,400000.0,407000.0,651000.0,485000.0,369000.0,155000.0,1000000.0,435000.0,227000.0,199988.0,1185000.0,450000.0,185000.0,333500.0,385000.0,1260000.0,680000.0,109500.0,461000.0,355000.0,1350000.0,980000.0,412500.0,1298000.0,326000.0,283000.0,875000.0,1310000.0,440000.0,685000.0,420000.0,245000.0,767250.0,229000.0,400000.0,2195000.0,338500.0,256000.0,675000.0,950000.0,799500.0,187000.0,429950.0,205000.0,313500.0,467000.0,470000.0,635000.0,1020000.0,342000.0,395000.0,660000.0,402000.0,395900.0,442000.0,500000.0,300000.0,496000.0,464600.0,590000.0,399000.0,305000.0,430000.0,433000.0,396000.0,540000.0,1049000.0,405000.0,580000.0,704000.0,210000.0,772000.0,763000.0,255000.0,520000.0,795000.0,415000.0,387000.0,2140000.0,685000.0,340000.0,422000.0,280000.0,569000.0,468000.0,237100.0,500000.0,1185000.0,365000.0,508500.0,643500.0,372500.0,630000.0,208000.0,890000.0,450000.0,665000.0,518000.0,605000.0,545000.0,560000.0,457000.0,585000.0,345000.0,550000.0,425000.0,459500.0,554000.0,1650000.0,400950.0,449000.0,630000.0,336000.0,352500.0,607500.0,505000.0,280500.0,194000.0,465000.0,1300000.0,126500.0,540000.0,1400000.0,520000.0,337000.0,333000.0,380000.0,364000.0,300000.0,590000.0,425000.0,460000.0,469000.0,566000.0,353500.0,560000.0,835000.0,440000.0,1015000.0,300000.0,125000.0,986000.0,315000.0,265000.0,355000.0,300000.0,520000.0,237600.0,162950.0,735000.0,346500.0,353000.0,445700.0,226000.0,609000.0,610000.0,605125.0,335000.0,440000.0,427000.0,2300000.0,736500.0,542500.0,1225000.0,575000.0,225000.0,499950.0,405000.0,485000.0,720000.0,465000.0,489000.0,499000.0,730000.0,415000.0,335000.0,414950.0,975000.0,645000.0,413000.0,500000.0,636100.0,409000.0,290000.0,957000.0,170000.0,173250.0,414050.0,400000.0,385000.0,600000.0,670500.0,420000.0,360000.0,360500.0,208000.0,379400.0,168000.0,400000.0,700000.0,450600.0,550000.0,580000.0,469000.0,750000.0,845000.0,322000.0,988000.0,625000.0,431000.0,1070000.0,305000.0,1475000.0,525000.0,350000.0,650000.0,435000.0,435000.0,500000.0,540000.0,242000.0,310000.0,360000.0,450500.0,413000.0,180000.0,280000.0,153000.0,385000.0,325000.0,146000.0,290000.0,1776000.0,367500.0,655000.0,465000.0,590000.0,805000.0,405000.0,355000.0,280000.0,135000.0,800000.0,630000.0,435000.0,175000.0,560000.0,1185000.0,240000.0,526000.0,335000.0,187250.0,735000.0,425000.0,705000.0,297000.0,410000.0,417500.0,499000.0,1970000.0,219000.0,569950.0,212500.0,1457000.0,629950.0,387500.0,401750.0,552000.0,280000.0,450000.0,423000.0,368000.0,250000.0,435000.0,350000.0,529000.0,735000.0,378000.0,775000.0,2250000.0,1350000.0,600000.0,364000.0,285000.0,669000.0,475000.0,747000.0,317000.0,390000.0,1070000.0,1205000.0,580000.0,427500.0,1735000.0,247500.0,244000.0,485000.0,739000.0,2225000.0,460000.0,515000.0,580000.0,815000.0,1200000.0,525000.0,242000.0,725000.0,335000.0,420000.0,435000.0,840000.0,826000.0,670000.0,842500.0,836500.0,334000.0,563000.0,335000.0,499950.0,658500.0,297000.0,725000.0,252500.0,330000.0,500000.0,145000.0,780000.0,855000.0,1425000.0,805000.0,557000.0,269000.0,290000.0,416000.0,179000.0,480000.0,375000.0,353500.0,650000.0,325000.0,560000.0,979700.0,407500.0,530000.0,715000.0,565000.0,330000.0,463000.0,622200.0,474800.0,465000.0,389950.0,395000.0,307000.0,540000.0,601000.0,293000.0,340000.0,363000.0,270000.0,428000.0,275000.0,361600.0,1050000.0,210000.0,710000.0,268000.0,115000.0,380000.0,220000.0,631500.0,1050000.0,650000.0,380000.0,645500.0,570000.0,605000.0,445000.0,495000.0,594000.0,465000.0,249000.0,447500.0,285000.0,290000.0,349950.0,265000.0,260000.0,2510000.0,879000.0,261590.0,512500.0,600000.0,417500.0,1350000.0,325000.0,680000.0,475000.0,219000.0,90000.0,220000.0,616000.0,395350.0,428950.0,401000.0,303697.0,355000.0,350000.0,982218.0,565000.0,160000.0,220000.0,970000.0,115000.0,124000.0,157000.0,970000.0,535000.0,245000.0,228500.0,450000.0,635000.0,531000.0,355300.0,605004.0,260000.0,748000.0,776000.0,425000.0,230000.0,418000.0,957000.0,507000.0,575000.0,700000.0,540000.0,920000.0,350000.0,585000.0,820000.0,625000.0,243500.0,340000.0,559950.0,800000.0,550000.0,500000.0,325000.0,924000.0,2005000.0,345000.0,211000.0,750000.0,709000.0,399500.0,616750.0,327500.0,1080000.0,990000.0,410000.0,680000.0,559900.0,845000.0,1325000.0,475000.0,575000.0,600000.0,515000.0,565000.0,739000.0,355000.0,375000.0,325000.0,290000.0,969500.0,340000.0,765000.0,310000.0,325000.0,300000.0,410000.0,535000.0,2050000.0,345000.0,187000.0,546000.0,520000.0,515000.0,990000.0,382000.0,900000.0,675000.0,460000.0,234000.0,740000.0,799000.0,421000.0,895000.0,424000.0,749000.0,523000.0,270000.0,427000.0,705000.0,455000.0,886000.0,550000.0,245000.0,370000.0,579000.0,339275.0,170000.0,477000.0,600000.0,570000.0,805000.0,159100.0,299000.0,1375000.0,700000.0,425000.0,620047.0,849000.0,718000.0,871000.0,430000.0,405000.0,480000.0,362500.0,255000.0,285000.0,278000.0,642000.0,540000.0,560000.0,852000.0,306000.0,379000.0,645000.0,255000.0,680000.0,440000.0,239000.0,619400.0,975000.0,330000.0,430000.0,425000.0,400000.0,600000.0,401000.0,292000.0,291750.0,397500.0,206000.0,1190000.0,115000.0,559000.0,420000.0,282150.0,260000.0,319950.0,552000.0,637000.0,215000.0,590000.0,287000.0,623500.0,906000.0,275000.0,290000.0,599950.0,826000.0,342000.0,475000.0,1205000.0,455000.0,850000.0,850000.0,239900.0,395000.0,320000.0,310000.0,200000.0,311000.0,615000.0,430000.0,340000.0,351000.0,300000.0,310000.0,399900.0,343000.0,320000.0,1990000.0,300000.0,969950.0,715000.0,458000.0,275000.0,550000.0,742000.0,700000.0,640000.0,352000.0,477500.0,285000.0,539950.0,980000.0,536000.0,575000.0,500000.0,412000.0,625000.0,215000.0,345000.0,314000.0,400000.0,540000.0,820000.0,244000.0,275000.0,577000.0,320000.0,589000.0,435000.0,970000.0,705000.0,259000.0,1695000.0,390000.0,612000.0,380000.0,580000.0,770000.0,925000.0,883000.0,244000.0,180500.0,310000.0,718000.0,689000.0,150000.0,505400.0,217450.0,620000.0,240000.0,499000.0,449000.0,515000.0,292000.0,375000.0,462000.0,330000.0,550000.0,700000.0,760000.0,627000.0,346500.0,373000.0,725000.0,376000.0,552500.0,365000.0,262500.0,660000.0,660500.0,280000.0,267000.0,791000.0,415000.0,158000.0,535000.0,818900.0,550000.0,240000.0,590000.0,900000.0,368000.0,825000.0,273500.0,770000.0,400000.0,334850.0,605000.0,390000.0,1385000.0,299950.0,818000.0,1855000.0,660000.0,315000.0,330950.0,479000.0,340000.0,312000.0,529999.0,2475000.0,250000.0,475000.0,581000.0,591000.0,430000.0,480000.0,538000.0,464000.0,349500.0,330000.0,1387800.0,493000.0,415000.0,425000.0,238000.0,380000.0,625000.0,445000.0,425000.0,280000.0,405000.0,397000.0,518000.0,425000.0,182500.0,549900.0,452000.0,715000.0,1230000.0,543200.0,250000.0,530100.0,549900.0,329000.0,940000.0,539950.0,881000.0,362500.0,215000.0,1265000.0,2920000.0,424305.0,494000.0,130000.0,480000.0,475000.0,765000.0,470000.0,335000.0,625000.0,570000.0,545000.0,403000.0,418000.0,332500.0,212000.0,1140000.0,554000.0,492000.0,952500.0,235000.0,323000.0,1050000.0,419995.0,718500.0,474000.0,615750.0,1230000.0,306000.0,315000.0,392500.0,350500.0,825000.0,235000.0,675000.0,822500.0,705000.0,2630000.0,685000.0,630000.0,359000.0,265000.0,240000.0,415000.0,420000.0,1062500.0,618500.0,780000.0,589000.0,380000.0,357500.0,635000.0,934000.0,401000.0,705000.0,384950.0,310000.0,469000.0,455000.0,195000.0,799000.0,285000.0,83000.0,220000.0,552700.0,263700.0,3300000.0,210000.0,330000.0,529000.0,295000.0,473000.0,403500.0,544000.0,621000.0,672600.0,689800.0,613000.0,301000.0,325000.0,490000.0,340000.0,115000.0,300000.0,1137500.0,280000.0,564000.0,849000.0,680000.0,465000.0,220000.0,1100000.0,490000.0,770000.0,665000.0,410000.0,562000.0,387500.0,450000.0,745000.0,630000.0,413450.0,1115500.0,2950000.0,574000.0,165000.0,260000.0,196000.0,810000.0,651000.0,240000.0,397380.0,476000.0,315000.0,240000.0,325000.0,688000.0,285000.0,530000.0,195000.0,520000.0,526000.0,202000.0,570000.0,325000.0,725000.0,283450.0,863000.0,815000.0,329950.0,460000.0,515000.0,405000.0,483000.0,568000.0,355000.0,640000.0,270000.0,352000.0,595888.0,1050000.0,1600000.0,380000.0,1325000.0,710000.0,707900.0,517000.0,480000.0,439950.0,379000.0,575000.0,423000.0,550000.0,415000.0,543000.0,465000.0,280000.0,1388000.0,618000.0,572000.0,725000.0,535000.0,690000.0,526500.0,325000.0,495000.0,320000.0,1150000.0,455000.0,262000.0,390000.0,746300.0,267000.0,360000.0,625000.0,464050.0,770000.0,650000.0,335000.0,415000.0,640000.0,425000.0,645000.0,340000.0,430000.0,299900.0,1160000.0,1165000.0,295000.0,475000.0,1225000.0,450000.0,180000.0,707000.0,230000.0,759000.0,229000.0,399950.0,512000.0,210000.0,488000.0,489000.0,725000.0,199950.0,275000.0,1000000.0,631500.0,630500.0,740000.0,650000.0,310000.0,389000.0,502501.0,607000.0,2147500.0,813000.0,424000.0,235000.0,740000.0,415000.0,676500.0,419000.0,900000.0,536000.0,575000.0,361000.0,230005.0,280000.0,239950.0,335000.0,200000.0,855000.0,567500.0,452000.0,474950.0,390000.0,569000.0,611000.0,1675000.0,640500.0,685000.0,202500.0,518000.0,481000.0,380000.0,620000.0,709050.0,296500.0,405000.0,269500.0,229500.0,1389000.0,740000.0,510000.0,300000.0,675000.0,220000.0,400000.0,2180000.0,350000.0,511200.0,350000.0,575000.0,165000.0,850000.0,325500.0,385000.0,435000.0,400000.0,734200.0,554600.0,410000.0,1190000.0,640000.0,374000.0,415000.0,365000.0,507000.0,291000.0,350000.0,580000.0,497000.0,345000.0,399950.0,268000.0,559000.0,309000.0,950000.0,320000.0,1150000.0,394250.0,315000.0,420000.0,890000.0,1161000.0,577000.0,959000.0,471000.0,579000.0,866800.0,425000.0,280000.0,550000.0,210000.0,137000.0,565000.0,940000.0,353250.0,455000.0,571500.0,441000.0,736000.0,581000.0,629000.0,3800000.0,346500.0,1001000.0,400000.0,724950.0,295000.0,700000.0,482000.0,355000.0,303000.0,285000.0,690000.0,290000.0,340500.0,365000.0,811000.0,287500.0,879950.0,135900.0,522500.0,399500.0,450000.0,540000.0,718500.0,1415000.0,760000.0,350000.0,443000.0,695000.0,560000.0,550000.0,774900.0,250000.0,307700.0,665000.0,148000.0,707000.0,399000.0,600000.0,429000.0,283500.0,235000.0,353000.0,341000.0,182000.0,405000.0,275400.0,430000.0,163000.0,1028950.0,227000.0,179000.0,276000.0,655000.0,635500.0,235000.0,352500.0,1050000.0,476000.0,600600.0,567000.0,435500.0,685000.0,244000.0,348125.0,393000.0,517000.0,205950.0,430000.0,534000.0,735000.0,325000.0,324950.0,500000.0,187300.0,345600.0,935000.0,257500.0,1003000.0,216500.0,360000.0,699999.0,464950.0,930000.0,727500.0,325000.0,695000.0,319000.0,359000.0,390000.0,900000.0,600000.0,512500.0,539950.0,640000.0,675000.0,199900.0,279950.0,395000.0,306000.0,435000.0,129888.0,660000.0,372000.0,390000.0,302000.0,495000.0,504500.0,555000.0,1550000.0,550000.0,1800000.0,655000.0,721000.0,1518630.0,458000.0,628000.0,435000.0,300000.0,316000.0,675000.0,675000.0,546000.0,310000.0,190000.0,585000.0,174900.0,360000.0,234000.0,606000.0,475000.0,624000.0,355000.0,345000.0,221347.0,850000.0,478000.0,820000.0,2160000.0,887000.0,824000.0,812000.0,399888.0,345000.0,874950.0,875000.0,535000.0,465000.0,359000.0,151000.0,535000.0,365000.0,570000.0,1400000.0,450000.0,530000.0,680000.0,224000.0,485000.0,509000.0,399700.0,519000.0,211000.0,950000.0,750000.0,465000.0,936000.0,429950.0,330000.0,846000.0,725000.0,850000.0,513000.0,260000.0,525000.0,205000.0,229000.0,445000.0,215000.0,152275.0,586000.0,610000.0,405000.0,356000.0,794500.0,565000.0,1450000.0,580000.0,289950.0,375000.0,324950.0,630000.0,872500.0,490000.0,387000.0,835000.0,1500000.0,771000.0,1225000.0,216500.0,370000.0,492650.0,885000.0,185000.0,440000.0,420000.0,540000.0,330000.0,257000.0,350000.0,380000.0,488000.0,465000.0,229500.0,445000.0,725000.0,246500.0,819000.0,267000.0,525000.0,345000.0,499000.0,1010000.0,510000.0,210000.0,415000.0,385000.0,588000.0,252500.0,175000.0,515000.0,945000.0,460000.0,334000.0,675000.0,556000.0,900000.0,400000.0,724950.0,1356920.0,171000.0,580000.0,619790.0,383962.0,373000.0,254922.0,575000.0,270950.0,794154.0,375000.0,555000.0,312500.0,450000.0,320000.0,235000.0,275500.0,263000.0,400000.0,515000.0,1410000.0,663000.0,279900.0,335000.0,689000.0,500000.0,812000.0,338000.0,185000.0,451000.0,850000.0,235000.0,1150000.0,1059500.0,504200.0,380000.0,580000.0,921800.0,529500.0,348000.0,299000.0,267800.0,369950.0,535000.0,290000.0,370000.0,405000.0,275000.0,320000.0,1450000.0,299900.0,460000.0,386180.0,425000.0,720000.0,390000.0,1054690.0,562000.0,349000.0,479950.0,325000.0,290750.0,689950.0,425000.0,657000.0,532000.0,291000.0,675000.0,885000.0,345000.0,522500.0,543000.0,673000.0,1375000.0,489000.0,282000.0,1680000.0,299000.0,660000.0,301500.0,379900.0,335000.0,569900.0,385000.0,2250000.0,1205000.0,645000.0,390000.0,245000.0,580000.0,540000.0,399000.0,445000.0,362500.0,414950.0,679950.0,230000.0,550000.0,1050000.0,655000.0,385000.0,729999.0,523950.0,369000.0,385000.0,395000.0,455000.0,449950.0,364000.0,299950.0,388000.0,730000.0,358990.0,398651.0,436110.0,449950.0,379900.0,484950.0,318000.0,540000.0,649000.0,625000.0,415000.0,979000.0,589500.0,437000.0,430000.0,334990.0,622500.0,515000.0,310000.0,545000.0,380000.0,500000.0,615000.0,622000.0,598950.0,1262000.0,390000.0,398000.0,315000.0,455000.0,452950.0,380000.0,340000.0,360000.0,1595000.0,440000.0,408000.0,360000.0,515000.0,541000.0,375000.0,455000.0,292500.0,342500.0,443000.0,840000.0,950000.0,305000.0,445000.0,268500.0,500000.0,631625.0,850000.0,988500.0,175003.0,459000.0,358000.0,495000.0,479000.0,1465000.0,897000.0,685000.0,619000.0,439108.0,279000.0,380000.0,377000.0,649950.0,445000.0,605000.0,475000.0,399000.0,718000.0,1400000.0,341000.0,759000.0,547500.0,358000.0,412000.0,245000.0,321000.0,290000.0,445000.0,429900.0,459000.0,566950.0,343000.0,555000.0,450000.0,527500.0,384000.0,455000.0,1280000.0,975000.0,545000.0,539000.0,434900.0,650000.0,675000.0,475000.0,769900.0,635000.0,524000.0,650000.0,1035290.0,635000.0,599000.0,478000.0,659000.0,389000.0,399950.0,667000.0,368000.0,399950.0,547500.0,329900.0,436000.0,320000.0,375000.0,407000.0,290000.0,399000.0,439990.0,635000.0,437500.0,919204.0,675000.0,252000.0,552000.0,548000.0,629000.0,734000.0,309000.0,1010000.0,328423.0,345000.0,385000.0,459000.0,2945000.0,970000.0,205000.0,334500.0,865000.0,660000.0,665000.0,1312000.0,535000.0,462550.0,602000.0,300500.0,415000.0,640000.0,613500.0,550000.0,659000.0,347500.0,380000.0,450000.0,515000.0,204000.0,360000.0,550000.0,380000.0,459000.0,550000.0,500000.0,461500.0,790000.0,735000.0,250000.0,1333000.0,649000.0,457000.0,453000.0,329780.0,1050000.0,607500.0,270000.0,1302000.0,221000.0,338800.0,625000.0,378000.0,252500.0,308000.0,302860.0,419950.0,306000.0,520000.0,767450.0,665000.0,525000.0,500000.0,399950.0,305000.0,425000.0,672000.0,375000.0,405000.0,550000.0,340000.0,400200.0,235000.0,475000.0,263900.0,359950.0,609500.0,439000.0,635000.0,399950.0,1800000.0,1205000.0,329445.0,500000.0,437000.0,419700.0,394000.0,580000.0,343000.0,390000.0,700000.0,838000.0,467000.0,395000.0,539000.0,306500.0,160797.0,529950.0,271115.0,565000.0,529950.0,609000.0,625000.0,1285000.0,262000.0,844000.0,659950.0,352500.0,525000.0,344000.0,335000.0,379000.0,385000.0,366750.0,405000.0,356999.0,590000.0,294000.0,482500.0,319000.0,378000.0,489950.0,345000.0,510000.0,870000.0,664950.0,379000.0,375000.0,355000.0,540000.0,290000.0,500000.0,349900.0,465000.0,496800.0,680000.0,920000.0,292000.0,670000.0,953007.0,399000.0,599950.0,499000.0,460000.0,394950.0,382000.0,560000.0,772000.0,384000.0,319950.0,1500000.0,425000.0,499000.0,459000.0,529500.0,584000.0,505000.0,565000.0,547000.0,550000.0,2950000.0,441000.0,375000.0,312500.0,390500.0,455000.0,455000.0,515000.0,362500.0,230000.0,425000.0,416286.0,350000.0,258800.0,620000.0,295000.0,350000.0,345000.0,700000.0,490000.0,579000.0,552500.0,212000.0,479950.0,825000.0,265000.0,344000.0,749000.0,653500.0,855000.0,445000.0,1200000.0,430000.0,392000.0,457000.0,376000.0,445000.0,256950.0,395000.0,732000.0,163800.0,220000.0,308625.0,610000.0,359000.0,389500.0,359800.0,399950.0,320000.0,380000.0,580000.0,545000.0,451300.0,295000.0,500000.0,799000.0,539950.0,424950.0,560000.0,300000.0,327000.0,560000.0,379900.0,315000.0,394950.0,430100.0,310000.0,625000.0,499950.0,502000.0,654000.0,575000.0,500000.0,545000.0,396000.0,380000.0,459000.0,530000.0,515000.0,540000.0,285000.0,480000.0,440000.0,287450.0,425000.0,420000.0,394950.0,685000.0,275000.0,590000.0,497000.0,562500.0,345000.0,265000.0,395000.0,286308.0,370000.0,1079000.0,1050000.0,380000.0,770000.0,1112000.0,357000.0,650000.0,563500.0,345000.0,555000.0,240000.0,380000.0,239000.0,760000.0,399963.0,411000.0,469950.0,699999.0,749950.0,674600.0,450000.0,450000.0,643950.0,290000.0,378000.0,469000.0,182568.0,1325000.0,415000.0,1250000.0,208800.0,452000.0,1485000.0,1900000.0,735000.0,489950.0,357500.0,239800.0,616950.0,435000.0,631500.0,399995.0,369950.0,595000.0,325000.0,690000.0,329950.0,399500.0,427000.0,375000.0,499000.0,336900.0,555000.0,999950.0,975000.0,428000.0,352800.0,565000.0,765000.0,461000.0,640000.0,355000.0,356000.0,425000.0,460000.0,401000.0,1095000.0,312000.0,320000.0,335000.0,350000.0,526000.0,299999.0,436000.0,525000.0,575000.0,420000.0,499950.0,630000.0,600000.0,490000.0,330000.0,1550000.0,577450.0,510000.0,465000.0,1300000.0,336000.0,375000.0,925000.0,500000.0,379950.0,605000.0,549900.0,492000.0,269800.0,580000.0,230000.0,295500.0,324500.0,355000.0,705000.0,268000.0,495000.0,857326.0,334900.0,580000.0,350000.0,650000.0,529000.0,514700.0,521500.0,580000.0,525000.0,550000.0,345000.0,450000.0,420000.0,286000.0,727000.0,255000.0,500000.0,810000.0,370000.0,375000.0,375000.0,346000.0,397500.0,300000.0,664950.0,487000.0,321950.0,300000.0,255000.0,1080000.0,375000.0,586500.0,677790.0,649000.0,585000.0,380950.0,487000.0,542300.0,320000.0,474950.0,515000.0,545000.0,365000.0,279800.0,1880000.0,1085000.0,265050.0,294000.0,700000.0,494900.0,630500.0,687015.0,468500.0,303500.0,529000.0,570000.0,477000.0,450000.0,427005.0,720000.0,461100.0,590000.0,760000.0,500000.0,552100.0,369500.0,465000.0,372000.0,374000.0,610000.0,235000.0,775000.0,679990.0,525000.0,620000.0,630000.0,510000.0,671500.0,870000.0,559000.0,722000.0,365000.0,389950.0,320000.0,775000.0,590000.0,441750.0,229800.0,645000.0,448000.0,716000.0,319000.0,208400.0,325000.0,453000.0,799950.0,495000.0,579950.0,580000.0,669000.0,539900.0,440000.0,1698000.0,935000.0,452000.0,1500000.0,353000.0,535000.0,375000.0,685000.0,245000.0,403000.0,344000.0,435000.0,430000.0,338000.0,608000.0,930000.0,495000.0,495000.0,1065000.0,419500.0,370000.0,331000.0,417250.0,490000.0,705000.0,365000.0,403000.0,391000.0,339950.0,608000.0,392000.0,274800.0,325000.0,350000.0,779000.0,305000.0,350000.0,438000.0,325000.0,370000.0,334950.0,557500.0,455000.0,598500.0,729999.0,374950.0,386950.0,1050000.0,1107460.0,365000.0,288000.0,700000.0,899000.0,485000.0,435000.0,639000.0,440000.0,250000.0,410000.0,650000.0,315000.0,375000.0,375000.0,349000.0,450000.0,504600.0,400000.0,535000.0,385000.0,402000.0,359800.0,433000.0,1010800.0,449000.0,495000.0,407500.0,352500.0,400000.0,649950.0,370000.0,610000.0,443000.0,453000.0,1555000.0,377500.0,482000.0,600000.0,420000.0,406000.0,440000.0,390000.0,475000.0,420000.0,462500.0,585000.0,670000.0,346000.0,599000.0,324000.0,338500.0,402723.0,715000.0,459000.0,327000.0,327500.0,249000.0,516500.0,388000.0,549000.0,553000.0,530000.0,747450.0,305000.0,710200.0,690000.0,329000.0,330000.0,230000.0,610950.0,579000.0,362500.0,645000.0,490000.0,399950.0,380000.0,505000.0,385000.0,414500.0,572000.0,475000.0,520000.0,467000.0,429000.0,1007500.0,475000.0,360000.0,400000.0,402101.0,325000.0],\"yaxis\":\"y\",\"type\":\"scattergl\"},{\"hovertemplate\":\"CIDADE=Kenmore<br>ranking=%{x}<br>PRE\\u00c7O=%{y}<extra></extra>\",\"legendgroup\":\"Kenmore\",\"marker\":{\"color\":\"#EF553B\",\"symbol\":\"circle\"},\"mode\":\"markers\",\"name\":\"Kenmore\",\"showlegend\":true,\"x\":[2,3,5,5,7,2,4,4,3,3,6,3,4,4,5,3,3,4,4,3,5,4,3,4,3,5,2,4,3,4,7,5,6,2,3,4,3,6,3,4,5,2,6,2,6,3,5,3,4,2,4,4,4,6,5,6,4,3,4,2,5,5,4,4,4,3,4,4,3,5,4,2,2,5,3,4,5,3,3,3,3,3,3,1,4,5,3,2,5,1,5,5,3,5,5,5,4,3,3,4,4,3,3,2,4,5,3,3,2,4,5,3,3,3,2,3,3,3,2,4,3,5,4,4,4,5,4,2,4,4,6,4,4,2,2,6,5,3,4,3,6,4,4,3,3,3,4,4,4,4,5,5,3,4,5,2,3,3,3,2,2,2,4,5,4,4,5,4,4,4,4,2,5,3,1,4,5,5,2,6,4,2,4,3,2,4,5,4,3,2,3,3,5,3,5,3,5,4,5,4,3,5,4,4,5,5,5,4,4,2,2,4,4,2,3,6,4,4,6,5,4,2,6,3,2,5,1,5,3,3,5,2,4,4,3,3,6,4,3,3,5,4,2,5,7,2,6,6,3,5,4,7,2,4,4,4,2,3,4,4,4,2,4,4,2,4,4,3,4,4,3,4,3,4,4,4,2,4,4,4,2,2,4],\"xaxis\":\"x\",\"y\":[180000.0,310000.0,452000.0,770000.0,330000.0,330000.0,520000.0,551000.0,396000.0,530000.0,590000.0,650000.0,595000.0,449950.0,450000.0,438000.0,747500.0,519900.0,495000.0,365000.0,460000.0,576000.0,450000.0,230000.0,830000.0,455000.0,306000.0,399000.0,509950.0,446500.0,459000.0,618000.0,550000.0,339950.0,646000.0,925000.0,356500.0,485000.0,483000.0,502000.0,387500.0,325000.0,452250.0,446000.0,460000.0,695000.0,374950.0,385000.0,418800.0,335000.0,415000.0,383000.0,405000.0,485000.0,375000.0,396000.0,390000.0,295000.0,475000.0,310000.0,390000.0,825000.0,637000.0,692500.0,432000.0,475000.0,285000.0,518000.0,520000.0,433000.0,500000.0,250000.0,342400.0,415000.0,515000.0,300000.0,390000.0,450000.0,273000.0,400000.0,480000.0,647500.0,415000.0,347000.0,470101.0,428040.0,433000.0,424500.0,490000.0,410000.0,481000.0,320000.0,420000.0,355000.0,605000.0,380000.0,506000.0,415000.0,375000.0,390000.0,425000.0,431000.0,380000.0,379900.0,415000.0,389000.0,480000.0,615000.0,243000.0,526750.0,480000.0,470500.0,375000.0,450000.0,515000.0,400000.0,385000.0,415000.0,355000.0,603500.0,650000.0,515000.0,400000.0,368000.0,405000.0,450000.0,398000.0,249000.0,535000.0,570000.0,563000.0,230000.0,270000.0,511000.0,554990.0,599950.0,480000.0,333500.0,769000.0,330000.0,509000.0,680000.0,630000.0,384950.0,250000.0,207000.0,580000.0,560000.0,450000.0,435000.0,485000.0,490000.0,240000.0,533000.0,419000.0,319900.0,434000.0,700000.0,309500.0,249000.0,448500.0,513000.0,505000.0,599000.0,196000.0,499000.0,160000.0,300000.0,290000.0,515000.0,600000.0,315000.0,1127500.0,427500.0,409000.0,364000.0,402500.0,600000.0,374500.0,439000.0,275000.0,450000.0,385000.0,400000.0,375000.0,280000.0,476000.0,415000.0,510000.0,500000.0,735000.0,272925.0,520000.0,400000.0,350000.0,609000.0,470000.0,590000.0,396000.0,625000.0,375000.0,479900.0,400000.0,425000.0,610000.0,420000.0,335000.0,1120000.0,546200.0,268300.0,362000.0,1600000.0,630000.0,374990.0,367500.0,535000.0,449000.0,383000.0,387846.0,580000.0,322968.0,335000.0,446000.0,406000.0,385000.0,400000.0,350000.0,440000.0,239950.0,565000.0,440000.0,375000.0,345000.0,385000.0,259000.0,420000.0,409500.0,515000.0,595000.0,559950.0,330000.0,445000.0,351000.0,425000.0,430000.0,512500.0,370000.0,545000.0,480000.0,590000.0,379950.0,495000.0,493000.0,650000.0,600000.0,450000.0,400000.0,740000.0,550000.0,520000.0,535000.0,502000.0,594000.0,570000.0,365250.0,425000.0,550000.0,255000.0,585000.0,557000.0,619990.0,564950.0,530000.0,550000.0,525000.0,515000.0,390000.0,659950.0,525000.0,494000.0,415500.0,382000.0,535000.0],\"yaxis\":\"y\",\"type\":\"scattergl\"},{\"hovertemplate\":\"CIDADE=Sammamish<br>ranking=%{x}<br>PRE\\u00c7O=%{y}<extra></extra>\",\"legendgroup\":\"Sammamish\",\"marker\":{\"color\":\"#00cc96\",\"symbol\":\"circle\"},\"mode\":\"markers\",\"name\":\"Sammamish\",\"showlegend\":true,\"x\":[3,2,3,4,6,2,4,3,4,3,5,5,1,4,3,4,4,4,3,4,4,3,4,4,6,4,3,2,5,2,2,3,2,3,4,4,2,3,3,2,3,3,3,5,3,5,2,4,3,3,6,3,1,2,4,4,1,3,4,3,2,3,2,2,6,4,5,2,3,3,3,3,4,4,4,3,3,3,2,4,4,4,3,2,5,5,4,5,5,4,4,4,4,4,4,1,4,3,4,5,3,4,3,2,4,3,3,4,4,4,2,5,4,5,3,3,4,4,2,3,2,3,4,3,4,4,3,4,4,2,3,3,2,4,2,4,4,3,3,3,6,4,5,4,4,4,4,3,3,2,4,4,4,4,5,4,4,4,3,3,3,2,3,1,4,3,4,1,5,5,4,3,3,2,5,2,3,3,4,2,2,5,2,3,3,4,3,3,3,3,4,2,3,4,3,2,4,4,4,3,4,4,4,2,5,4,2,4,4,3,3,3,2,3,2,5,2,4,3,1,5,2,4,2,4,3,4,2,4,4,3,3,5,4,4,4,4,3,3,4,4,3,5,2,6,3,3,5,4,2,4,3,4,4,4,3,4,2,3,4,5,3,4,4,4,4,2,3,4,3,5,2,4,2,3,4,7,4,5,5,1,4,3,5,3,6,4,4,3,4,2,2,4,3,3,4,3,2,4,4,4,5,3,3,2,3,3,5,4,5,4,3,1,3,4,3,3,5,3,3,3,2,2,2,3,4,3,5,2,4,3,3,4,2,2,4,2,1,4,2,3,4,2,4,4,3,4,3,2,4,4,4,2,4,4,4,3,3,3,2,4,4,5,4,4,2,4,4,4,5,4,4,3,2,4,1,3,3,4,4,2,5,4,3,5,4,3,3,3,4,5,4,2,3,4,3,2,5,2,4,4,4,5,4,5,2,3,2,2,2,2,3,3,4,4,2,4,4,2,5,6,3,4,3,3,3,3,5,4,2,3,2,3,2,3,4,5,3,4,3,2,2,5,3,1,5,5,2,5,4,4,3,6,4,4,2,4,3,4,3,4,4,3,3,2,4,2,3,4,4,4,3,3,4,4,2,1,5,3,2,4,5,4,5,3,3,3,3,4,5,4,4,5,2,3,4,2,3,3,4,3,2,4,6,2,5,4,4,4,3,3,4,4,2,2,4,4,3,2,4,4,3,3,1,2,5,5,4,2,3,4,3,2,5,2,4,2,2,3,2,4,4,2,2,4,3,2,5,4,4,2,4,4,4,5,5,5,3,4,2,4,3,6,6,1,2,1,2,5,4,3,2,5,4,3,4,4,5,4,5,3,3,4,4,3,3,4,4,2,5,3,4,3,4,4,2,2,4,2,3,3,5,3,4,4,3,2,4,4,5,3,4,4,2,4,3,3,6,3,5,5,4,3,4,5,4,3,2,6,1,3,4,2,3,3,4,3,3,3,4,2,3,3,5,1,5,5,4,4,4,3,4,4,2,7,4,3,3,5,3,3,4,4,4,4,4,2,3,2,2,2,2,4,3,2,2,3,3,3,4,3,4,2,4,5,4,2,4,2,1,3,5,5,2,2,5,3,4,3,4,3,3,3,3,3,3,5,2,3,4,2,4,4,5,3,6,4,4,5,3,3,4,1,4,4,5,4,4,4,3,2,4,4,3,4,4,4,4,3,3,4,2,3,4,3,3,4,4,4,4,3,4,4,4,3,4,4,4,4,3,4,3,2,4,4,4,4,4,3,3,4,4,4,6,5,4,4,2,4,5,2,4,4,3,4,4,3,3,3,3,3,4,4,3,3,4,4,3,3,5],\"xaxis\":\"x\",\"y\":[510000.0,400000.0,625000.0,832500.0,900000.0,560000.0,592500.0,686000.0,2400000.0,525000.0,879000.0,3075000.0,610750.0,810000.0,785000.0,730000.0,722500.0,868700.0,1150000.0,859900.0,1385000.0,699900.0,970000.0,530000.0,863000.0,720000.0,900000.0,695000.0,700000.0,639000.0,560000.0,675000.0,625000.0,659000.0,785000.0,851000.0,385000.0,582800.0,648000.0,566000.0,648000.0,505000.0,817500.0,687500.0,685100.0,780000.0,567500.0,735000.0,690000.0,651000.0,1062500.0,780000.0,500000.0,652100.0,483000.0,884744.0,621138.0,610000.0,797000.0,722080.0,655000.0,537500.0,540000.0,960000.0,749000.0,544500.0,850000.0,600000.0,920000.0,700000.0,765000.0,820000.0,832000.0,785500.0,470000.0,685000.0,550000.0,347000.0,695000.0,815000.0,465000.0,630000.0,475000.0,632500.0,884250.0,750000.0,870000.0,989000.0,585000.0,765000.0,568000.0,750000.0,875000.0,510000.0,860000.0,1365000.0,674750.0,1015000.0,913000.0,640000.0,526000.0,865000.0,620000.0,525000.0,677100.0,465000.0,610000.0,645000.0,725786.0,610000.0,405000.0,726000.0,860000.0,960000.0,875000.0,660000.0,798000.0,772000.0,570000.0,580000.0,763776.0,490000.0,805000.0,627800.0,700000.0,442000.0,508500.0,1165000.0,598500.0,570000.0,652427.0,355000.0,593700.0,1060000.0,705000.0,759000.0,750000.0,535000.0,550000.0,550000.0,700000.0,700000.0,1020000.0,735000.0,2400000.0,760750.0,960000.0,650000.0,660000.0,545000.0,720000.0,562000.0,722000.0,1150000.0,911000.0,864000.0,812000.0,720000.0,2000000.0,456000.0,1160000.0,560200.0,668500.0,765000.0,650000.0,280000.0,528000.0,1850000.0,660000.0,689000.0,679950.0,700000.0,550000.0,395000.0,815000.0,672500.0,590000.0,450000.0,588500.0,385000.0,400000.0,1060000.0,764000.0,735000.0,643000.0,625000.0,555000.0,492000.0,510000.0,485000.0,878000.0,623000.0,650000.0,669950.0,572000.0,492450.0,600000.0,852500.0,815000.0,657500.0,682000.0,774000.0,775000.0,440000.0,693000.0,587000.0,406430.0,835000.0,885000.0,558000.0,672500.0,345000.0,625000.0,660000.0,1517000.0,1098000.0,583000.0,600000.0,368250.0,580000.0,705000.0,638250.0,810000.0,550000.0,699950.0,569500.0,540000.0,651100.0,731000.0,490000.0,675000.0,650000.0,795000.0,670000.0,740000.0,594950.0,994000.0,668000.0,538888.0,530000.0,435000.0,665000.0,870000.0,605000.0,795000.0,645000.0,702000.0,865000.0,870000.0,544900.0,532500.0,615000.0,715000.0,675000.0,580379.0,659000.0,710000.0,769000.0,712000.0,739999.0,780000.0,585000.0,310000.0,539000.0,800000.0,830000.0,485000.0,473975.0,607500.0,400000.0,540000.0,532000.0,635000.0,550000.0,430000.0,795000.0,845000.0,647000.0,555000.0,715000.0,393000.0,627000.0,508800.0,1450000.0,798000.0,775000.0,786000.0,650000.0,584999.0,550000.0,665000.0,479000.0,599000.0,725000.0,775000.0,540000.0,566000.0,340000.0,817500.0,810000.0,500000.0,850000.0,653450.0,406550.0,820000.0,782500.0,545000.0,590000.0,865000.0,710000.0,865000.0,650000.0,1452000.0,621500.0,722800.0,695000.0,616000.0,516000.0,500000.0,456000.0,700000.0,460000.0,525000.0,1247000.0,549950.0,739900.0,563000.0,945000.0,770000.0,750000.0,594950.0,692000.0,510000.0,649990.0,500000.0,733000.0,580000.0,565000.0,725000.0,815000.0,855000.0,750000.0,1075000.0,698000.0,760000.0,500000.0,790000.0,605000.0,510000.0,800000.0,680000.0,695000.0,860000.0,645000.0,642000.0,420000.0,657500.0,1140000.0,641000.0,601000.0,680000.0,875000.0,1175000.0,750000.0,680000.0,472500.0,858450.0,672800.0,635000.0,1250000.0,716500.0,655000.0,745000.0,920000.0,940000.0,749950.0,546500.0,678000.0,900000.0,790000.0,682000.0,649000.0,635000.0,1300000.0,1025000.0,1228000.0,695000.0,570000.0,654300.0,1050000.0,820000.0,780000.0,495000.0,715000.0,1565000.0,440000.0,640000.0,759950.0,430000.0,715000.0,959900.0,692500.0,883000.0,950000.0,750000.0,745000.0,603000.0,720000.0,515000.0,429000.0,625000.0,598850.0,608700.0,615000.0,580000.0,575000.0,791500.0,420000.0,372500.0,770000.0,1050000.0,600000.0,910000.0,725000.0,608000.0,577000.0,746500.0,813000.0,663000.0,442500.0,507000.0,650000.0,2750000.0,647000.0,615000.0,966000.0,1209000.0,560000.0,765000.0,690000.0,550000.0,440000.0,968000.0,948000.0,447000.0,695000.0,879900.0,485500.0,875909.0,839900.0,1005000.0,500000.0,936000.0,630000.0,815000.0,552775.0,600000.0,560000.0,685000.0,870000.0,820000.0,549000.0,480000.0,570000.0,595000.0,925900.0,390000.0,650100.0,1169000.0,630000.0,750000.0,795000.0,645000.0,2000000.0,900000.0,515000.0,890000.0,800000.0,562500.0,610000.0,899000.0,727000.0,860000.0,663000.0,936000.0,430000.0,519950.0,565000.0,726888.0,825000.0,644500.0,840000.0,815000.0,475580.0,712000.0,570000.0,530000.0,500000.0,625000.0,964000.0,545000.0,739888.0,535000.0,759000.0,366000.0,1050000.0,829000.0,629500.0,697000.0,432000.0,611000.0,745000.0,665000.0,434900.0,1080000.0,715000.0,806000.0,418500.0,386500.0,750000.0,810000.0,491300.0,535000.0,640000.0,1150000.0,875000.0,624500.0,495000.0,698000.0,891500.0,762300.0,420000.0,549000.0,695000.0,485000.0,805000.0,602500.0,405000.0,557865.0,664000.0,800000.0,675000.0,622500.0,660000.0,691000.0,600000.0,606500.0,1500000.0,697000.0,785000.0,475000.0,895000.0,802500.0,454800.0,1465000.0,780000.0,807500.0,998000.0,1060000.0,401000.0,650000.0,589000.0,525000.0,745000.0,633000.0,410000.0,473000.0,603000.0,1675000.0,599000.0,502000.0,1650000.0,657000.0,3200000.0,665000.0,751000.0,518000.0,1000000.0,889000.0,751000.0,672500.0,565000.0,912000.0,962800.0,517000.0,572000.0,970000.0,728000.0,339300.0,1425000.0,680000.0,325000.0,500000.0,450000.0,782500.0,640000.0,485000.0,833000.0,382500.0,354000.0,590000.0,585083.0,800000.0,730000.0,645000.0,792000.0,545000.0,666500.0,745000.0,675000.0,570000.0,688000.0,539000.0,315000.0,810000.0,405000.0,699850.0,725000.0,568500.0,635700.0,710000.0,598000.0,705000.0,712000.0,775000.0,550000.0,476000.0,561600.0,1017100.0,620000.0,546200.0,800000.0,465000.0,585000.0,490000.0,750000.0,655000.0,730000.0,645000.0,965000.0,482000.0,583000.0,537000.0,875000.0,530000.0,960000.0,770000.0,680000.0,640000.0,707000.0,690000.0,640000.0,620000.0,640000.0,919000.0,742000.0,780000.0,365000.0,550000.0,577500.0,665000.0,840000.0,763000.0,415000.0,754999.0,858450.0,505000.0,500000.0,500000.0,356000.0,605000.0,775000.0,809950.0,480000.0,515000.0,675000.0,615000.0,560000.0,735000.0,525000.0,525000.0,828000.0,645000.0,473000.0,744000.0,475000.0,459800.0,750000.0,400000.0,475000.0,835000.0,655000.0,792000.0,400000.0,524000.0,885250.0,635000.0,568000.0,675000.0,797500.0,1052000.0,835000.0,999000.0,919950.0,676000.0,600000.0,950000.0,550000.0,770000.0,324950.0,715000.0,390000.0,660000.0,1059000.0,675000.0,1000000.0,565000.0,708000.0,780000.0,410000.0,557000.0,505000.0,539000.0,820000.0,1200000.0,785000.0,834950.0,780000.0,949950.0,1583000.0,536000.0,949990.0,925000.0,1255780.0,907687.0,804995.0,829995.0,859990.0,1898000.0,895000.0,1060000.0,635000.0,1481000.0,995000.0,550000.0,1104500.0,895900.0,724500.0,720000.0,834995.0,1206690.0,919990.0,849990.0,870515.0,855000.0,785000.0,889950.0,929000.0,1138990.0,837219.0,900000.0,1289990.0,847093.0,850000.0,908990.0,1180000.0,969990.0,852880.0,859950.0,914154.0,1054710.0,922755.0,760005.0,1275000.0,925000.0,409000.0,888990.0,775900.0,670000.0,800000.0,834538.0,769995.0,864327.0,1065000.0,882990.0,855000.0,1061600.0,831548.0,895950.0,924000.0,869950.0,890000.0,914500.0,890776.0,1150000.0,861111.0,1450000.0,1325000.0,1375000.0,1222500.0],\"yaxis\":\"y\",\"type\":\"scattergl\"},{\"hovertemplate\":\"CIDADE=Redmond<br>ranking=%{x}<br>PRE\\u00c7O=%{y}<extra></extra>\",\"legendgroup\":\"Redmond\",\"marker\":{\"color\":\"#ab63fa\",\"symbol\":\"circle\"},\"mode\":\"markers\",\"name\":\"Redmond\",\"showlegend\":true,\"x\":[6,3,3,4,3,4,5,5,4,2,4,2,2,4,4,4,3,5,5,4,4,3,3,4,4,5,4,3,4,3,3,3,2,3,3,4,3,6,2,3,4,3,5,4,3,3,3,6,5,2,3,3,3,3,4,4,2,2,5,4,2,3,3,3,3,2,4,3,3,4,4,3,3,3,4,4,4,2,4,3,3,3,4,5,3,6,4,4,3,3,2,4,3,5,4,5,5,2,2,4,5,4,4,4,4,4,3,4,3,4,2,4,5,4,2,2,3,4,2,3,3,4,2,4,2,3,4,4,5,3,3,4,5,4,2,3,4,4,4,2,5,4,5,2,3,3,5,6,1,3,4,2,4,5,2,5,3,3,5,6,4,4,3,3,4,3,4,2,2,4,3,4,3,3,5,3,3,4,3,3,3,2,4,3,3,4,3,4,4,4,2,3,4,4,2,5,3,3,3,3,4,3,4,5,5,3,1,1,4,4,4,3,4,3,5,5,3,5,4,2,5,3,4,4,4,7,3,2,4,2,3,4,4,4,3,6,3,4,2,5,4,4,4,2,4,5,5,2,3,4,4,2,5,3,4,4,4,4,4,4,5,1,5,4,3,3,4,4,2,4,2,3,4,2,4,3,4,2,2,3,2,3,6,5,4,3,5,3,3,3,3,4,3,2,4,4,3,3,4,3,3,3,3,4,4,5,3,3,5,3,6,5,2,3,4,5,3,3,3,3,4,3,2,4,2,3,3,3,4,4,3,4,4,5,3,3,2,2,5,3,4,4,5,3,5,5,4,2,3,4,2,5,3,4,5,4,2,5,5,2,2,4,4,4,4,2,4,3,2,4,3,3,3,5,3,4,4,4,3,6,4,4,4,5,4,4,4,4,4,3,3,2,5,3,3,6,5,3,5,5,5,3,2,4,3,3,5,3,5,4,3,3,3,3,3,5,5,4,4,3,4,5,2,4,3,2,4,4,2,4,4,4,2,3,2,5,4,3,2,3,3,4,3,4,3,3,2,5,4,6,2,2,3,4,4,3,4,5,2,4,5,2,3,2,5,2,2,3,4,2,4,5,6,1,3,3,3,2,3,3,4,4,3,3,2,3,3,2,4,3,5,4,5,4,3,1,3,2,3,2,4,3,3,2,3,3,2,5,3,3,3,3,4,4,2,4,2,3,4,2,2,3,3,3,3,3,3,2,4,4,4,3,4,3,2,4,3,4,2,3,4,3,3,3,2,2,2,4,3,5,4,4,5,5,3,4,3,4,4,1,3,3,3,3,3,3,2,3,3,4,3,5,4,6,2,4,2,5,5,2,3,4,3,5,4,4,5,3,5,3,4,3,4,3,3,3,4,4,4,5,5,2,6,3,2,3,4,4,2,2,2,3,3,4,4,3,3,3,3,3,5,4,3,3,4,4,3,3,3,4,1,3,5,4,4,3,4,3,4,5,5,3,4,2,2,3,1,2,3,4,3,3,4,3,5,2,5,4,3,3,3,4,2,4,4,4,3,3,4,5,4,3,4,4,2,2,2,4,3,2,4,4,4,2,3,3,3,3,4,3,2,5,2,4,4,3,4,3,3,3,3,5,4,5,4,2,5,3,3,2,3,3,4,3,4,3,2,4,2,3,3,3,2,4,4,3,3,3,3,3,2,3,2,3,3,4,3,3,2,4,4,4,3,3,2,3,4,2,3,5,4,2,4,2,2,4,5,4,5,4,4,4,4,5,3,2,2,4,4,2,2,3,4,5,4,3,4,3,2,2,4,3,3,2,4,3,4,4,3,4,2,2,2,4,4,4,4,3,4,4,5,5,2,3,4,4,4,2,4,4,3,3,3,3,5,2,3,3,2,2,4,3,4,4,4,4,3,3,4,2,2,3,4,2,2,4,3,4,5,3,5,3,4,4,4,2,5,3,6,5,4,3,2,3,4,3,4,4,3,4,4,4,3,4,4,4,4,2,4,5,2,5,4,3,3,4,3,4,4,4,3,3,3,3,3,4,4,3,3,4,2,4,3,3,4,4,3,4,3,4,3,3,4,4,3,4,3,6,4,3,4,4,3,4,4,4,4,3,3,4,4,2,3,4,3,3,4,3,3,2,4,4,3,4,4,2,3,3,4,3,3,3,3,4,4,3,4,2,4,4,3,4,4,4,4,3,4,3,4,4,4,2,3,4,3,3,4,4,4,4,4,3,5,4,4,4,4,4,4],\"xaxis\":\"x\",\"y\":[1225000.0,719000.0,550000.0,861990.0,470000.0,770000.0,784000.0,835000.0,585188.0,677900.0,479950.0,516500.0,693000.0,780000.0,819900.0,485000.0,463000.0,560000.0,570000.0,988000.0,843000.0,452000.0,585000.0,1095000.0,650000.0,662000.0,910000.0,750000.0,435000.0,505000.0,507000.0,460000.0,525000.0,415000.0,1000000.0,748000.0,799000.0,690000.0,636000.0,699800.0,565000.0,522000.0,737500.0,581000.0,430000.0,419950.0,512000.0,740000.0,615000.0,520000.0,375000.0,554000.0,550000.0,590000.0,1035480.0,837700.0,448000.0,435000.0,1150000.0,449000.0,609000.0,467000.0,750000.0,428000.0,2200000.0,700000.0,933399.0,408000.0,566000.0,755000.0,640000.0,455800.0,514000.0,715000.0,775000.0,789500.0,1150000.0,440000.0,720500.0,780000.0,850000.0,740000.0,550000.0,915000.0,411753.0,840000.0,930800.0,322000.0,305000.0,575000.0,715000.0,822500.0,419000.0,725500.0,605000.0,760000.0,670000.0,600000.0,468000.0,775000.0,1187500.0,575000.0,810000.0,754800.0,739900.0,500000.0,335000.0,608000.0,509000.0,661000.0,465000.0,493000.0,1237500.0,965000.0,733000.0,540000.0,739000.0,830000.0,383000.0,410000.0,700000.0,509250.0,638500.0,963990.0,490000.0,478000.0,635000.0,799000.0,929000.0,521000.0,455000.0,550000.0,635000.0,900000.0,639000.0,530000.0,540000.0,770000.0,775000.0,637250.0,700000.0,800000.0,843500.0,395000.0,542000.0,625000.0,799950.0,975000.0,732350.0,568000.0,1078000.0,557500.0,550000.0,550000.0,803000.0,715000.0,620000.0,610000.0,735000.0,672000.0,899000.0,775000.0,524000.0,510000.0,695500.0,431500.0,775000.0,675000.0,354000.0,790000.0,559950.0,634800.0,389000.0,462600.0,740000.0,420250.0,581000.0,755000.0,750000.0,725000.0,800000.0,453000.0,717550.0,450000.0,580000.0,610000.0,705000.0,1050000.0,702000.0,673200.0,1442500.0,397500.0,599000.0,760000.0,369950.0,700000.0,605000.0,405000.0,610000.0,760000.0,666000.0,717000.0,988830.0,715000.0,950000.0,498800.0,721000.0,419500.0,1050000.0,895000.0,425000.0,572000.0,525000.0,525000.0,775000.0,1525000.0,460000.0,1100000.0,607000.0,656000.0,422500.0,542000.0,730000.0,994900.0,800000.0,635000.0,424240.0,589950.0,620000.0,405000.0,412500.0,1122500.0,915000.0,535000.0,559000.0,695000.0,575000.0,798000.0,665000.0,835000.0,844000.0,762500.0,864000.0,736000.0,565000.0,600000.0,1150000.0,352500.0,559000.0,866000.0,472000.0,720000.0,1010000.0,455000.0,825000.0,535000.0,570000.0,970000.0,429000.0,749400.0,1110000.0,637000.0,599000.0,725000.0,822000.0,550000.0,751000.0,762500.0,781000.0,671300.0,670000.0,519000.0,407450.0,435000.0,792000.0,300000.0,480000.0,675000.0,499000.0,440000.0,555000.0,437000.0,750000.0,785000.0,817500.0,525000.0,1940000.0,530000.0,573000.0,745000.0,550000.0,1250000.0,995000.0,472500.0,515000.0,782000.0,639500.0,424000.0,602000.0,480000.0,560000.0,525000.0,685000.0,507500.0,715000.0,885000.0,345000.0,569000.0,565000.0,744000.0,1210000.0,1295650.0,400000.0,940000.0,750000.0,875000.0,485000.0,519900.0,499950.0,725000.0,430000.0,515000.0,700000.0,779950.0,416000.0,693000.0,390000.0,550000.0,485000.0,599950.0,554000.0,500000.0,700000.0,749950.0,1150000.0,510000.0,583000.0,630000.0,1300000.0,460000.0,679000.0,765000.0,515000.0,300000.0,625000.0,680000.0,395000.0,475000.0,738500.0,510000.0,640000.0,702000.0,500000.0,694000.0,765000.0,545000.0,639500.0,698000.0,775000.0,615000.0,570000.0,680000.0,439888.0,664000.0,920000.0,432100.0,635000.0,379500.0,567000.0,437000.0,675000.0,508000.0,597500.0,602000.0,549000.0,675000.0,510000.0,475000.0,579000.0,699000.0,2140000.0,225000.0,270000.0,635000.0,955990.0,751000.0,715000.0,700000.0,1175000.0,415000.0,835000.0,588000.0,750000.0,811000.0,684000.0,894000.0,675000.0,555000.0,580000.0,806000.0,685000.0,473000.0,585888.0,568000.0,426000.0,445000.0,583000.0,534950.0,340000.0,704000.0,580000.0,505000.0,425000.0,715000.0,550000.0,820000.0,1090000.0,790500.0,762500.0,495000.0,875000.0,604000.0,525000.0,550000.0,575550.0,661000.0,457000.0,599000.0,425000.0,1093000.0,555000.0,751000.0,638000.0,440000.0,675000.0,854000.0,650000.0,830000.0,450000.0,530000.0,784950.0,963990.0,597400.0,755000.0,385000.0,690000.0,689000.0,560000.0,652500.0,574000.0,315000.0,579000.0,499000.0,333760.0,510000.0,460000.0,456000.0,860000.0,596500.0,759900.0,750000.0,408000.0,428000.0,605000.0,708000.0,405000.0,595000.0,495000.0,839990.0,500000.0,661500.0,785000.0,830000.0,565000.0,1200000.0,752500.0,484000.0,476000.0,910000.0,440000.0,580000.0,510000.0,652000.0,455500.0,499000.0,738000.0,406500.0,497000.0,850000.0,432500.0,875000.0,950000.0,899000.0,500000.0,405000.0,735000.0,559950.0,440000.0,538000.0,729000.0,1769000.0,449000.0,480000.0,475000.0,442500.0,411500.0,580000.0,660000.0,410000.0,580000.0,561000.0,499990.0,814950.0,632500.0,685000.0,650000.0,399950.0,600000.0,725000.0,530000.0,729000.0,544300.0,394000.0,440500.0,589000.0,470000.0,440000.0,660000.0,850000.0,403000.0,849000.0,265000.0,490000.0,412250.0,560000.0,259875.0,385000.0,835000.0,790000.0,597500.0,402000.0,1250000.0,592350.0,170000.0,315000.0,746000.0,688100.0,505000.0,559500.0,1130000.0,571000.0,872750.0,850000.0,760000.0,566000.0,897500.0,738000.0,832500.0,750000.0,401000.0,655000.0,661000.0,697000.0,595000.0,550000.0,592500.0,615000.0,490000.0,450000.0,513000.0,480000.0,624000.0,737000.0,795127.0,468000.0,385000.0,615000.0,728000.0,850000.0,500000.0,572000.0,740000.0,440000.0,442500.0,845000.0,583800.0,635000.0,835000.0,740000.0,630000.0,442000.0,450000.0,583000.0,555000.0,590000.0,498000.0,420000.0,765000.0,510000.0,650000.0,2280000.0,737000.0,782000.0,890000.0,599500.0,467100.0,633100.0,532000.0,475000.0,482500.0,465000.0,540000.0,635000.0,500000.0,275000.0,715000.0,529950.0,461000.0,452000.0,379500.0,381000.0,852500.0,845000.0,528000.0,515000.0,459000.0,398000.0,612000.0,362764.0,775000.0,766000.0,1325000.0,695000.0,775000.0,699000.0,593777.0,372000.0,639900.0,389000.0,344000.0,550120.0,562100.0,714000.0,670000.0,680000.0,675000.0,756000.0,749500.0,572000.0,540000.0,1690000.0,1800000.0,710000.0,436800.0,528000.0,479000.0,675000.0,485000.0,717000.0,1225000.0,589000.0,925000.0,666000.0,475000.0,438000.0,690000.0,1080000.0,475000.0,562000.0,620000.0,765000.0,381000.0,716000.0,552500.0,420000.0,550000.0,431000.0,910000.0,915000.0,610000.0,600000.0,702000.0,795000.0,790100.0,731688.0,464000.0,509900.0,500000.0,975000.0,542000.0,684680.0,910000.0,340000.0,678000.0,734500.0,572500.0,813000.0,500000.0,409950.0,802000.0,601002.0,745000.0,458000.0,605000.0,799950.0,402000.0,799990.0,407000.0,610000.0,593567.0,437000.0,520000.0,894400.0,699950.0,525000.0,455000.0,400000.0,1295000.0,474000.0,518000.0,583500.0,539000.0,330000.0,442500.0,510000.0,490000.0,587000.0,550285.0,618000.0,579000.0,541500.0,840000.0,637000.0,507000.0,1320000.0,610000.0,445000.0,560000.0,485000.0,650000.0,850000.0,740000.0,540000.0,743700.0,468000.0,361500.0,779950.0,349950.0,627000.0,735000.0,450000.0,455000.0,851000.0,367000.0,552321.0,829000.0,770000.0,600000.0,425000.0,580000.0,795000.0,760000.0,449950.0,1200000.0,558000.0,420000.0,550000.0,920000.0,615000.0,580000.0,401000.0,495000.0,445000.0,838000.0,326188.0,568000.0,733000.0,625000.0,350000.0,712000.0,889000.0,379950.0,531800.0,650000.0,856500.0,489000.0,476800.0,788600.0,438000.0,725000.0,425500.0,421200.0,347000.0,650000.0,597500.0,600000.0,870000.0,515000.0,833000.0,800000.0,753000.0,599000.0,479000.0,447000.0,592500.0,600000.0,731000.0,415000.0,630000.0,540000.0,607000.0,548050.0,545000.0,765000.0,700000.0,339000.0,542500.0,452000.0,476000.0,498000.0,895990.0,625000.0,442200.0,655000.0,790000.0,705000.0,543000.0,335000.0,602000.0,491150.0,475000.0,930000.0,720000.0,382000.0,732500.0,600000.0,802000.0,683000.0,713000.0,554000.0,400000.0,731781.0,585000.0,568500.0,432000.0,1700000.0,780000.0,419000.0,785000.0,570000.0,391265.0,316000.0,682000.0,620000.0,225000.0,665000.0,717500.0,565000.0,447000.0,850000.0,853000.0,675000.0,424500.0,650000.0,890000.0,475000.0,403000.0,981000.0,930000.0,628990.0,539000.0,620000.0,445000.0,535000.0,504975.0,779950.0,490000.0,888550.0,840000.0,1360000.0,541338.0,564000.0,669000.0,413800.0,855169.0,1040890.0,780000.0,950968.0,439950.0,932990.0,710000.0,760000.0,695000.0,1100000.0,625250.0,952990.0,741500.0,743000.0,711000.0,1180000.0,818000.0,739000.0,918000.0,754842.0,392137.0,923990.0,925000.0,1237500.0,775000.0,755000.0,789500.0,749000.0,778983.0,577000.0,803100.0,785000.0,775950.0,385000.0,1240000.0,830000.0,653000.0,745641.0,731500.0,825000.0,1033890.0,305000.0,799000.0,1299890.0,429000.0,540000.0,799990.0,955000.0,779380.0,795000.0,939000.0,674000.0,386380.0,485000.0,739000.0,660000.0,728050.0,1105000.0,837000.0,780000.0,750000.0,850000.0,808000.0,519990.0,880000.0,730000.0,389700.0,860000.0,882566.0,757500.0,810000.0,359782.0,1049990.0,1075000.0,989990.0,680000.0,780000.0,712198.0,277140.0,950000.0,734990.0,706000.0,988990.0,667000.0,928990.0,685000.0,750000.0,580000.0,915000.0,776000.0,850000.0,810000.0,942990.0,1408760.0,810000.0],\"yaxis\":\"y\",\"type\":\"scattergl\"},{\"hovertemplate\":\"CIDADE=Federal Way<br>ranking=%{x}<br>PRE\\u00c7O=%{y}<extra></extra>\",\"legendgroup\":\"Federal Way\",\"marker\":{\"color\":\"#FFA15A\",\"symbol\":\"circle\"},\"mode\":\"markers\",\"name\":\"Federal Way\",\"showlegend\":true,\"x\":[3,2,2,4,3,2,5,4,5,1,4,4,2,2,2,2,4,5,2,6,6,4,4,2,4,6,4,3,4,4,5,4,4,4,2,4,6,4,4,4,3,5,3,2,2,3,4,4,5,3,3,2,2,5,5,3,5,4,3,4,3,5,5,4,1,1,2,4,3,2,3,4,4,4,7,5,2,4,3,4,4,3,3,4,4,3,4,6,2,4,5,2,5,4,3,2,4,4,6,3,2,6,2,3,4,4,4,3,3,2,3,3,2,2,3,4,5,4,5,5,3,5,7,3,2,3,3,3,4,3,4,4,3,4,4,3,4,2,5,2,4,2,4,2,3,3,5,5,4,4,5,4,4,5,3,3,3,4,2,4,4,3,3,4,4,4,3,5,5,6,7,3,5,3,4,2,4,4,2,5,3,4,5,3,2,3,4,2,4,4,4,2,4,4,4,2,6,5,4,2,4,5,5,4,2,4,2,3,4,7,2,5,4,2,4,4,3,5,5,3,4,5,3,5,3,3,2,4,4,2,4,2,4,3,4,3,5,3,5,2,2,1,4,5,4,2,6,2,2,3,6,4,3,2,4,4,5,3,6,5,4,3,3,5,4,3,6,5,2,3,3,2,2,4,4,3,3,5,2,4,4,4,2,3,4,3,4,5,6,6,2,2,5,4,5,3,4,2,5,2,5,2,4,4,4,3,6,2,3,7,5,4,4,4,3,5,3,3,5,4,6,3,4,4,5,2,2,3,3,3,3,4,4,2,4,2,6,3,4,6,2,2,5,2,2,4,4,3,3,6,4,4,5,2,4,4,5,3,4,4,3,2,6,3,2,2,3,5,2,2,1,5,5,4,3,2,2,5,4,3,2,2,5,4,4,2,4,4,6,4,3,2,4,4,3,4,4,3,5,4,4,5,3,4,4,2,2,4,3,5,2,3,3,2,5,3,4,6,2,2,3,2,6,4,2,4,4,2,2,6,3,3,6,6,3,3,2,4,4,4,4,1,4,3,3,3,3,5,3,5,4,3,2,2,5,3,3,6,3,4,6,3,5,3,3,2,4,3,3,3,4,2,4,4,2,5,4,3,2,4,2,4,4,5,4,4,4,2,2,4,2,2,4,5,3,3,4,4,2,4,3,2,4,3,3,5,3,4,4,2,4,4,2,2,5,2,4,2,6,3,4,4,3,2,5,4,4,6,4,3,2,3,2,3,4,2,3,2,2,4,3,4,4,2,4,3,3,3,2,3,2,4,5,5,4,2,5,4,4,4,4,4,5,4,5,3,2,2,3,2,4,2,3,1,4,5,2,4,4,5,2,2,2,2,4,5,4,3,4,3,2,4,4,4,6,3,5,4,3,5,4,2,3,5,2,2,4,4,4,4,3,6,4,4,3,2,2,3,4,4,3,3,6,3,4,3,4,3,2,3,3,5,4,2,5,2,4,5,4,4,4,2,4,2,2,2,4,4,4,3,2,1,3,2,4,3,2,4,2,5,6,4,3,5,4,4,3,4,3,5,3,5,2,3,2,5,2,5,3,3,4,2,3,4,4,3,4,4,4,3,5,4,3,4,5,2,5,3,5,2,5,3,3,4,2,4,4,3,3,4,3,3,5,5,2,3,3,4,4,3,2,3,2,5,2,2,5,5,4,3,4,5,4,3,2,2,5,2,2,4,5,3,2,3,4,3,3,3,3,2,3,3,4,4,4,3,3,4,3,4,4,4,3,4,4,6,4,4,4,4,4,5,4,4,4,4,3,4,4],\"xaxis\":\"x\",\"y\":[257500.0,230000.0,210490.0,243500.0,153000.0,199000.0,260000.0,199000.0,220000.0,282950.0,320000.0,272000.0,269000.0,256883.0,226500.0,264950.0,315000.0,472000.0,225000.0,363000.0,272500.0,210000.0,335000.0,240000.0,380000.0,359500.0,295000.0,180000.0,264000.0,515000.0,314500.0,290000.0,222000.0,320000.0,215000.0,316500.0,405000.0,218000.0,232500.0,270000.0,324500.0,254000.0,260000.0,237500.0,216000.0,253000.0,258000.0,325000.0,515000.0,195000.0,275000.0,194000.0,179950.0,475000.0,258000.0,375000.0,556000.0,515000.0,274500.0,241000.0,280000.0,235000.0,229950.0,340000.0,230000.0,245000.0,199990.0,335000.0,229000.0,187500.0,264000.0,305000.0,285000.0,410500.0,740000.0,255000.0,240000.0,215000.0,232500.0,402500.0,235000.0,349000.0,279000.0,239900.0,292500.0,280000.0,333000.0,311750.0,270000.0,275000.0,357000.0,369160.0,315000.0,255000.0,269950.0,193000.0,299500.0,280000.0,350000.0,262000.0,207500.0,356500.0,210000.0,265000.0,649000.0,330000.0,267345.0,212000.0,169575.0,250000.0,190000.0,172000.0,190000.0,212000.0,325900.0,223000.0,175000.0,250250.0,280000.0,205000.0,196000.0,307450.0,272000.0,348000.0,222000.0,247500.0,283200.0,215000.0,316000.0,414000.0,210000.0,218000.0,153503.0,282000.0,245000.0,590000.0,299000.0,304000.0,314900.0,207000.0,335000.0,299000.0,277950.0,221000.0,248000.0,225000.0,304999.0,425000.0,341500.0,317000.0,235500.0,350000.0,310597.0,318700.0,310000.0,280000.0,277500.0,260000.0,222000.0,273000.0,261500.0,530000.0,220000.0,235000.0,300000.0,560000.0,1150000.0,305000.0,295500.0,275000.0,345000.0,268000.0,300000.0,205500.0,274000.0,219000.0,248000.0,220000.0,268000.0,285000.0,261000.0,350000.0,298700.0,266500.0,219950.0,285000.0,266000.0,195000.0,339000.0,210000.0,308000.0,290256.0,368000.0,379000.0,349000.0,215000.0,241500.0,321027.0,210000.0,329000.0,600000.0,294700.0,200000.0,140000.0,230000.0,280500.0,241500.0,360000.0,375000.0,350000.0,212000.0,258750.0,315000.0,286000.0,265000.0,96500.0,185000.0,267000.0,310000.0,272000.0,89000.0,490000.0,205000.0,419000.0,230000.0,295000.0,229900.0,250000.0,610000.0,219000.0,253000.0,257500.0,630000.0,236000.0,355000.0,278500.0,188000.0,260000.0,219950.0,560000.0,260000.0,302000.0,204950.0,242550.0,359000.0,212000.0,384900.0,215000.0,185000.0,247000.0,350000.0,319000.0,311000.0,256400.0,161700.0,465000.0,625000.0,223000.0,210500.0,196500.0,217000.0,325000.0,225000.0,209950.0,239999.0,225000.0,340000.0,221000.0,199950.0,240000.0,314500.0,222000.0,210000.0,287000.0,352500.0,230000.0,195000.0,325000.0,183500.0,340000.0,237000.0,297500.0,219900.0,320000.0,236775.0,205000.0,380000.0,245000.0,225000.0,358000.0,266000.0,280000.0,252500.0,475000.0,203000.0,299950.0,278100.0,184000.0,278000.0,200000.0,287500.0,280400.0,238000.0,255000.0,503000.0,258000.0,389500.0,228950.0,315000.0,285000.0,452000.0,255000.0,245000.0,425000.0,355000.0,320000.0,560000.0,318000.0,275000.0,300000.0,364988.0,335000.0,275000.0,565000.0,490600.0,291000.0,281000.0,205950.0,259950.0,305000.0,349950.0,354950.0,260000.0,284850.0,305000.0,196000.0,338000.0,299000.0,190000.0,310000.0,235000.0,209950.0,218000.0,268500.0,295000.0,263500.0,245000.0,285000.0,246000.0,255000.0,309900.0,257000.0,569950.0,279000.0,215000.0,1275000.0,247000.0,244000.0,236000.0,460000.0,323800.0,260750.0,510000.0,265000.0,215000.0,309950.0,329000.0,306500.0,325000.0,246600.0,629000.0,260000.0,240000.0,374950.0,359999.0,234000.0,262000.0,230000.0,583000.0,249900.0,220000.0,200000.0,299000.0,255000.0,350000.0,252000.0,245000.0,389950.0,245000.0,383150.0,136500.0,224097.0,315000.0,395000.0,218000.0,285000.0,350000.0,276200.0,268450.0,353950.0,209950.0,350000.0,415000.0,262500.0,342000.0,269000.0,304500.0,345000.0,420000.0,274900.0,226750.0,194000.0,379750.0,175000.0,370000.0,265000.0,213950.0,305000.0,299950.0,297262.0,291000.0,170000.0,465000.0,282000.0,299990.0,186000.0,272000.0,219000.0,232500.0,575000.0,280000.0,225000.0,300000.0,310000.0,209000.0,225000.0,236000.0,182000.0,128000.0,310000.0,334950.0,275900.0,275000.0,281000.0,245000.0,250000.0,514500.0,268000.0,225000.0,264500.0,515000.0,258950.0,286500.0,305000.0,198000.0,245000.0,191950.0,349900.0,367999.0,810000.0,229000.0,250000.0,185000.0,239950.0,250000.0,263000.0,247000.0,216300.0,279900.0,219950.0,310000.0,242000.0,197400.0,485000.0,325000.0,305000.0,604000.0,172000.0,239000.0,399950.0,297000.0,230500.0,162000.0,450000.0,313000.0,445000.0,227490.0,190000.0,225000.0,335000.0,158000.0,252000.0,258500.0,320000.0,135000.0,245000.0,316000.0,330000.0,275000.0,160000.0,269000.0,169500.0,345000.0,250000.0,146000.0,300000.0,245000.0,330000.0,182700.0,305000.0,260000.0,245000.0,210000.0,185000.0,235000.0,276000.0,200000.0,172380.0,220000.0,217500.0,304400.0,230000.0,210000.0,295000.0,300000.0,240000.0,231500.0,252000.0,325000.0,86500.0,199950.0,263850.0,280000.0,345000.0,230000.0,235500.0,240000.0,306500.0,279900.0,170000.0,169000.0,294000.0,212000.0,199950.0,289950.0,229000.0,105000.0,340000.0,230000.0,270000.0,290000.0,115000.0,200126.0,645000.0,294000.0,156000.0,260000.0,194000.0,310000.0,267000.0,275000.0,242000.0,236000.0,312200.0,160000.0,213675.0,179000.0,240000.0,345000.0,235000.0,217000.0,169950.0,152500.0,267950.0,266000.0,310000.0,299500.0,360000.0,283748.0,257000.0,299000.0,244000.0,155000.0,250000.0,340000.0,550000.0,307000.0,275000.0,287000.0,120750.0,195000.0,246000.0,273000.0,305000.0,305000.0,225900.0,210000.0,250000.0,275000.0,220000.0,252000.0,160000.0,128000.0,450000.0,205000.0,150000.0,300000.0,277500.0,335000.0,499950.0,183000.0,570000.0,299250.0,279000.0,240000.0,185000.0,300000.0,278000.0,549000.0,240000.0,229900.0,250500.0,287500.0,275000.0,215000.0,265000.0,289950.0,248500.0,198500.0,261350.0,253500.0,486000.0,207000.0,230000.0,302300.0,206000.0,269000.0,270000.0,190500.0,347500.0,221000.0,184900.0,336000.0,277500.0,205000.0,400000.0,230000.0,305000.0,280000.0,240000.0,218000.0,295000.0,298000.0,230000.0,420000.0,179950.0,275000.0,247500.0,251000.0,375900.0,272000.0,233000.0,375000.0,204250.0,429900.0,299900.0,232000.0,209950.0,286000.0,225000.0,199000.0,302000.0,231000.0,209950.0,465000.0,339900.0,248500.0,545400.0,355000.0,320000.0,293000.0,280000.0,246000.0,315000.0,242000.0,241000.0,263000.0,635000.0,160000.0,389000.0,510000.0,295000.0,239000.0,227000.0,213000.0,185000.0,260000.0,285500.0,176000.0,253400.0,355000.0,270000.0,318989.0,330000.0,218250.0,330000.0,230000.0,217000.0,274000.0,270000.0,174500.0,186950.0,245000.0,390000.0,223000.0,260000.0,179950.0,247500.0,249000.0,300000.0,280000.0,215000.0,192500.0,345000.0,208000.0,265000.0,335000.0,270000.0,450000.0,335000.0,412000.0,310000.0,218000.0,250000.0,205000.0,191000.0,420000.0,252000.0,218250.0,263000.0,252500.0,242000.0,160000.0,133400.0,369000.0,480000.0,147000.0,255000.0,340768.0,187500.0,319000.0,384435.0,442000.0,450000.0,290000.0,349900.0,409950.0,430236.0,429900.0,379900.0,424950.0,429900.0,950000.0,734000.0,432500.0,298450.0,418000.0,329950.0,329950.0,427000.0,395950.0,498000.0,363000.0,333490.0,330000.0,380000.0,249000.0,332000.0,399950.0],\"yaxis\":\"y\",\"type\":\"scattergl\"},{\"hovertemplate\":\"CIDADE=Maple Valley<br>ranking=%{x}<br>PRE\\u00c7O=%{y}<extra></extra>\",\"legendgroup\":\"Maple Valley\",\"marker\":{\"color\":\"#19d3f3\",\"symbol\":\"circle\"},\"mode\":\"markers\",\"name\":\"Maple Valley\",\"showlegend\":true,\"x\":[3,4,4,1,4,3,3,3,2,3,5,3,3,3,2,5,2,4,4,3,4,1,4,2,3,2,3,4,3,4,4,2,3,2,2,4,3,3,2,2,4,3,3,4,3,4,5,2,3,3,4,5,5,3,3,4,2,4,2,4,3,2,3,4,4,2,3,4,3,3,2,2,4,4,4,3,2,3,4,2,3,3,5,4,3,3,5,3,5,4,4,2,4,4,4,3,2,3,4,4,3,4,4,3,2,2,4,5,4,5,4,4,4,3,4,4,2,2,2,2,4,4,3,4,3,3,4,4,2,3,4,4,5,3,2,4,2,4,2,3,3,3,4,3,2,4,3,3,5,3,3,4,3,5,4,4,4,2,4,5,4,4,3,4,3,4,3,4,4,2,3,4,3,4,2,3,3,4,3,2,4,4,3,2,3,2,5,3,4,4,3,2,4,4,4,4,3,4,4,4,5,3,2,2,3,3,2,3,2,4,3,3,3,4,4,3,3,5,3,5,4,3,4,3,2,2,4,4,4,4,3,4,3,4,4,4,4,3,2,3,3,4,4,5,3,4,4,3,3,3,4,3,3,4,3,2,4,4,4,3,5,2,4,4,3,4,3,2,3,2,4,3,3,3,1,5,2,2,4,5,4,3,3,3,4,4,4,4,3,3,4,3,3,2,3,4,4,4,5,2,2,4,3,2,4,3,4,3,2,4,3,4,4,3,4,3,4,3,3,4,4,3,4,4,3,2,3,3,3,3,3,2,4,2,3,3,3,4,4,4,4,2,2,2,4,2,4,4,3,4,2,2,3,2,2,1,3,4,3,2,4,3,4,4,4,4,5,2,4,4,5,5,4,3,4,4,3,2,2,1,4,3,3,2,4,5,3,4,3,3,4,2,4,3,3,5,2,2,4,4,2,4,3,3,3,4,4,5,2,3,2,2,2,4,4,2,4,4,3,4,4,3,3,4,4,3,4,3,3,4,4,1,4,2,4,4,2,3,4,3,4,4,4,3,4,3,2,2,3,4,5,4,3,5,3,3,4,3,3,2,5,4,5,5,4,5,3,2,3,3,2,3,4,6,5,2,2,3,3,3,4,4,6,2,4,2,3,2,5,3,3,3,3,3,3,4,4,3,4,3,4,1,4,4,3,3,2,3,2,3,2,4,4,4,4,4,4,4,1,2,4,4,3,4,4,3,4,3,4,4,4,2,4,4,4,3,3,3,3,4,3,2,4,3,2,3,4,4,4,4,4,3,4,4,2,3,2,4,4,3,4,2,4,2,4,4,4,3,4,3,3,4,3,2,4,2,2,4,3,4,3,4,2,4,4,4,3,3,4,4],\"xaxis\":\"x\",\"y\":[323000.0,360000.0,390000.0,360000.0,314000.0,272500.0,163500.0,385000.0,320000.0,328000.0,455000.0,208633.0,260000.0,300000.0,329500.0,275000.0,322500.0,840000.0,245000.0,350000.0,232000.0,342500.0,270500.0,338900.0,300000.0,370000.0,296000.0,240000.0,609900.0,289950.0,374950.0,287653.0,265000.0,275000.0,314950.0,378000.0,291000.0,189950.0,287000.0,380000.0,367000.0,219000.0,245000.0,457000.0,620000.0,260000.0,545000.0,307500.0,294000.0,270000.0,338000.0,368000.0,435000.0,260000.0,339000.0,315000.0,429800.0,352000.0,297000.0,272500.0,225000.0,295000.0,310000.0,353000.0,360000.0,230000.0,258500.0,398000.0,275000.0,525000.0,358000.0,363000.0,340000.0,449950.0,322500.0,242000.0,335000.0,269000.0,490000.0,299900.0,482000.0,337500.0,500000.0,388000.0,346950.0,522000.0,293000.0,195000.0,635000.0,699000.0,485000.0,269000.0,190000.0,418000.0,449500.0,297500.0,279000.0,275000.0,470000.0,1350000.0,222000.0,549950.0,265000.0,325000.0,422500.0,279000.0,649950.0,360000.0,550000.0,729000.0,399000.0,728000.0,274000.0,285000.0,399950.0,412000.0,393000.0,310000.0,224975.0,349000.0,233000.0,240000.0,240000.0,369000.0,317000.0,269950.0,320000.0,489000.0,350000.0,303500.0,364250.0,263000.0,419000.0,411000.0,325000.0,365000.0,289000.0,428400.0,263000.0,265000.0,397500.0,653000.0,455000.0,410000.0,315000.0,215000.0,315000.0,241000.0,352500.0,252000.0,329950.0,438900.0,533000.0,713900.0,215000.0,449000.0,408000.0,353500.0,320000.0,890000.0,426500.0,480000.0,211000.0,585000.0,284000.0,245000.0,274950.0,557500.0,760000.0,318400.0,280000.0,366000.0,340000.0,350000.0,350000.0,286000.0,269950.0,394000.0,292000.0,275000.0,332500.0,294000.0,312000.0,305000.0,275000.0,359500.0,390000.0,318200.0,419900.0,250000.0,180000.0,355000.0,456500.0,444000.0,428900.0,269500.0,269000.0,415000.0,260656.0,350000.0,565000.0,239000.0,292500.0,305000.0,520000.0,679000.0,296000.0,206000.0,295000.0,394000.0,775000.0,321000.0,616000.0,251000.0,293000.0,425000.0,218000.0,435000.0,118000.0,380000.0,250000.0,453000.0,364950.0,335000.0,314950.0,300000.0,212000.0,366000.0,240000.0,849000.0,290000.0,540500.0,329950.0,404000.0,410000.0,380000.0,470000.0,280000.0,199950.0,315000.0,399900.0,426000.0,259875.0,382500.0,427500.0,415000.0,353000.0,569999.0,240000.0,272000.0,462000.0,265000.0,270000.0,660000.0,309000.0,305000.0,549900.0,375000.0,352000.0,291500.0,665000.0,347500.0,725000.0,359950.0,479000.0,354000.0,300000.0,315000.0,240000.0,357000.0,378000.0,176000.0,290000.0,234000.0,308950.0,485000.0,205000.0,369950.0,252000.0,430000.0,555000.0,285000.0,260000.0,335620.0,302000.0,309950.0,350000.0,379900.0,257700.0,280500.0,371000.0,200000.0,400000.0,299000.0,275000.0,390000.0,525000.0,400000.0,1125000.0,339500.0,305000.0,446000.0,215000.0,234000.0,290000.0,230000.0,427000.0,425000.0,295000.0,710000.0,314950.0,515000.0,530000.0,245000.0,495000.0,290000.0,199000.0,357500.0,290000.0,422000.0,359900.0,311000.0,254000.0,210000.0,589450.0,319950.0,299950.0,250000.0,265000.0,335000.0,249900.0,332500.0,380000.0,215000.0,674950.0,260250.0,350500.0,315000.0,375000.0,156601.0,374950.0,259500.0,353000.0,324950.0,336500.0,207000.0,258000.0,236000.0,539500.0,356000.0,348450.0,282000.0,313999.0,209900.0,361500.0,335000.0,252000.0,340000.0,323000.0,360000.0,287200.0,535000.0,1180000.0,419000.0,579000.0,459950.0,370000.0,293500.0,324900.0,320000.0,415000.0,394000.0,339950.0,353500.0,445000.0,339995.0,225000.0,300000.0,320000.0,380000.0,365000.0,574000.0,280000.0,267500.0,428000.0,397000.0,567500.0,337000.0,245000.0,269950.0,410000.0,290700.0,185000.0,290000.0,415000.0,242050.0,335000.0,295000.0,350000.0,355000.0,330000.0,373500.0,379950.0,700000.0,240000.0,429900.0,499000.0,448000.0,230000.0,426500.0,336600.0,325000.0,335000.0,649500.0,190000.0,319000.0,248000.0,279000.0,361500.0,278226.0,349950.0,295000.0,503000.0,560000.0,334950.0,355900.0,355000.0,465000.0,276900.0,525000.0,359950.0,392000.0,435000.0,280000.0,379950.0,350000.0,279950.0,390000.0,385000.0,450000.0,700000.0,254000.0,387990.0,300000.0,454450.0,321000.0,288000.0,175000.0,424950.0,399950.0,765000.0,470000.0,314500.0,500000.0,293000.0,249900.0,355500.0,448000.0,589950.0,264500.0,314000.0,110000.0,499950.0,254950.0,376000.0,390000.0,310000.0,485000.0,545000.0,316000.0,312900.0,375000.0,329900.0,440000.0,266500.0,295000.0,275250.0,250000.0,225000.0,272450.0,555000.0,390000.0,550000.0,326995.0,409950.0,295000.0,608000.0,305000.0,276500.0,246500.0,343000.0,261000.0,275000.0,375000.0,309000.0,410000.0,465000.0,250000.0,920000.0,237500.0,540000.0,315000.0,570000.0,610000.0,250000.0,315000.0,375000.0,260000.0,365000.0,539950.0,296475.0,190000.0,349900.0,540000.0,363990.0,419950.0,340000.0,359950.0,220000.0,328000.0,408000.0,387865.0,326989.0,419354.0,435000.0,472000.0,450000.0,572115.0,355000.0,417838.0,379000.0,383000.0,430760.0,349990.0,380000.0,345000.0,382495.0,324747.0,310000.0,362865.0,349950.0,342000.0,367899.0,342000.0,274000.0,339989.0,416000.0,399000.0,250000.0,430000.0,344000.0,320000.0,384950.0,398096.0,275000.0,513000.0,380000.0,358000.0,419900.0,383000.0,351999.0,312000.0,369946.0,274500.0,375000.0,405000.0,379950.0,193000.0,388598.0,284000.0,294900.0,395000.0,518380.0,288000.0,389517.0,374950.0,295000.0,431000.0,307635.0,398500.0,298000.0,405000.0,312000.0,305000.0,559630.0,345000.0,389990.0,531155.0,337000.0,347500.0],\"yaxis\":\"y\",\"type\":\"scattergl\"},{\"hovertemplate\":\"CIDADE=Bellevue<br>ranking=%{x}<br>PRE\\u00c7O=%{y}<extra></extra>\",\"legendgroup\":\"Bellevue\",\"marker\":{\"color\":\"#FF6692\",\"symbol\":\"circle\"},\"mode\":\"markers\",\"name\":\"Bellevue\",\"showlegend\":true,\"x\":[5,3,5,3,4,5,4,2,3,5,4,4,4,4,4,6,4,5,5,5,3,4,5,3,4,5,4,2,3,3,5,4,4,3,4,2,4,4,1,5,4,2,4,5,5,5,3,3,3,4,4,4,3,5,3,2,4,3,4,5,5,3,1,6,5,4,3,4,5,4,4,3,5,3,2,5,2,1,3,4,3,5,4,4,4,4,4,4,3,4,4,5,4,4,2,3,4,2,4,6,4,1,3,4,4,3,3,4,3,4,4,3,6,4,4,1,5,4,3,3,4,4,5,4,6,4,3,7,3,4,6,2,1,3,4,2,4,3,2,3,4,3,4,4,7,4,4,4,2,4,2,4,3,4,4,3,2,4,5,5,2,2,3,6,3,5,4,4,6,3,6,3,3,3,3,5,3,3,2,4,5,4,4,4,3,3,4,6,4,5,3,4,4,4,1,6,5,4,3,3,2,4,4,3,5,1,3,4,1,5,4,3,2,3,4,4,2,2,5,2,4,3,3,4,4,4,4,2,2,2,5,3,3,1,2,5,5,3,3,5,4,4,5,4,5,4,3,3,2,4,4,2,4,4,5,3,4,5,1,5,3,6,3,1,6,4,4,5,3,4,3,3,4,3,4,2,5,3,2,2,3,3,3,6,4,4,5,2,4,4,4,4,5,6,6,5,5,4,4,2,5,4,5,3,4,1,3,4,4,3,2,4,4,4,4,3,2,3,3,6,4,3,3,5,3,6,4,3,3,4,4,5,2,3,3,4,3,7,3,6,3,4,3,4,3,5,4,5,2,5,4,3,4,4,4,6,3,2,5,3,3,4,2,4,4,4,5,6,4,4,5,2,4,3,4,5,5,3,4,4,3,3,4,3,2,5,4,2,4,3,4,2,4,6,5,2,4,5,3,3,5,5,4,2,2,4,4,3,3,5,3,4,5,5,5,4,3,2,1,4,1,3,2,3,4,3,2,3,2,3,2,2,5,3,3,7,5,3,2,3,2,3,4,7,3,3,4,4,5,6,3,4,5,4,4,2,3,4,4,4,4,5,1,1,3,2,4,4,2,3,4,7,4,2,1,4,4,5,3,3,4,5,6,3,2,4,5,4,2,4,4,5,3,2,3,5,3,3,6,5,3,3,3,3,5,5,4,3,2,5,6,4,3,6,2,3,4,3,2,4,4,4,6,6,5,4,2,5,5,4,5,7,7,6,4,3,4,1,3,4,3,3,4,4,3,4,4,1,4,4,4,3,4,4,2,4,5,5,6,5,2,1,4,5,3,2,3,5,4,4,5,4,5,4,5,1,2,3,4,4,7,3,4,5,4,4,4,4,3,3,5,3,4,4,4,4,3,5,3,4,3,3,3,3,6,4,5,5,4,5,2,4,6,4,3,4,4,4,6,4,4,6,4,6,5,2,5,6,4,4,6,5,5,3,5,1,4,4,5,5,3,3,4,5,3,3,3,4,3,6,4,3,3,2,6,5,2,4,4,3,4,1,4,5,4,4,2,4,2,5,4,4,4,2,3,2,4,5,3,4,4,5,4,4,3,4,2,2,3,3,4,3,4,4,3,4,4,4,4,3,5,3,2,5,4,3,6,2,2,4,3,5,5,4,4,4,3,2,4,3,6,3,2,4,3,4,5,2,6,5,3,3,3,3,5,5,2,3,4,4,4,3,4,3,4,5,5,2,4,5,4,3,5,5,3,4,3,3,1,6,2,4,4,3,3,5,3,2,3,3,4,4,4,4,3,5,4,4,4,4,2,4,4,2,2,6,4,4,3,2,4,2,2,6,5,5,4,3,5,5,4,4,4,4,4,2,3,2,5,3,4,4,2,2,6,4,3,5,3,5,7,6,3,5,2,4,2,4,3,3,3,4,5,4,2,3,4,2,3,5,5,3,3,4,3,4,2,1,4,5,6,3,3,3,3,5,4,2,5,2,4,4,3,2,4,2,4,2,4,3,4,5,3,2,2,4,3,6,4,5,2,4,3,3,4,3,4,5,2,2,4,2,4,5,3,5,4,2,4,5,2,2,4,4,4,2,4,4,2,4,3,6,6,5,2,4,5,4,6,5,4,3,6,4,4,5,4,2,4,5,4,5,5,4,4,3,5,3,4,4,1,4,5,5,3,5,4,3,2,6,4,6,3,3,3,2,3,4,5,3,2,2,4,4,5,4,6,4,5,4,3,4,2,2,2,5,2,3,2,4,5,3,4,3,2,5,5,1,7,2,4,4,4,4,4,2,3,6,3,4,3,2,5,4,6,5,3,5,4,1,2,5,4,5,3,4,4,5,5,4,4,3,4,3,4,4,4,3,3,6,3,4,3,3,4,2,4,4,2,3,3,2,4,5,4,2,4,2,3,4,3,3,2,5,3,5,4,5,7,4,2,3,4,4,3,2,4,4,2,7,5,5,4,4,4,5,3,3,4,1,6,2,4,2,4,2,4,5,3,4,3,2,2,5,3,4,5,3,5,4,3,4,3,3,3,4,6,4,3,5,5,3,4,4,2,3,2,3,3,4,4,6,4,2,2,7,3,5,4,5,2,4,1,4,5,5,3,3,5,4,4,4,4,4,6,5,5,5,3,5,5,1,3,4,4,5,4,2,1,5,4,4,4,4,3,5,3,5,3,4,4,2,4,5,2,3,3,3,2,4,4,2,3,4,4,5,2,3,3,4,4,3,4,5,6,3,3,5,4,4,4,4,5,3,5,4,3,6,4,3,3,3,2,4,4,3,3,5,5,5,2,3,3,4,6,5,3,4,5,4,2,3,4,3,5,3,2,4,3,5,6,5,4,3,2,5,2,1,4,4,3,5,4,5,4,3,4,2,4,3,3,4,4,5,5,3,4,3,4,4,3,4,4,4,5,2,3,5,3,4,2,4,3,3,2,4,3,6,3,3,3,3,5,5,4,5,5,5,3,3,4,4,4,2,6,5,2,4,3,4,5,4,2,3,6,4,5,4,3,3,4,4,6,5,4,4,2,2,5,5,5,4,2,4,3,5,5,4,3,4,4,3,3,6,2,2,4,3,5,4,6,3,4,3,3,6,3,4,4,3,3,3,3,3,7,3,3,4,4,5,4,5,3,3,5,4,4,3,4,6,4,2,4,5,2,2,4,5,2,3,2,4,3,4,2,4,3,3,3,3,4,5,2,3,3,3,3],\"xaxis\":\"x\",\"y\":[662500.0,785000.0,951000.0,975000.0,1325000.0,1040000.0,380000.0,1088000.0,1450000.0,527700.0,500000.0,2250000.0,807100.0,673000.0,2900000.0,675000.0,500000.0,1384000.0,1400000.0,790000.0,420000.0,795000.0,1350000.0,490000.0,927000.0,530000.0,365000.0,625000.0,1300000.0,749000.0,691100.0,1050000.0,378500.0,849950.0,1067000.0,727500.0,782000.0,638700.0,888000.0,664000.0,802541.0,980000.0,480000.0,1578000.0,605000.0,942500.0,856600.0,824000.0,390000.0,420000.0,650000.0,1355000.0,1216000.0,565000.0,345000.0,465750.0,662500.0,428750.0,469950.0,860000.0,1270000.0,431650.0,1321500.0,1029900.0,718000.0,640000.0,900000.0,538200.0,768000.0,515000.0,470500.0,1242500.0,730000.0,550000.0,525000.0,515000.0,620000.0,850000.0,902000.0,472800.0,2300000.0,2260000.0,548000.0,960000.0,620000.0,719000.0,542000.0,635000.0,750000.0,1355000.0,491500.0,1229000.0,5350000.0,515000.0,425000.0,713000.0,555000.0,935000.0,391000.0,1300000.0,495000.0,1375000.0,451101.0,703770.0,561750.0,835100.0,700000.0,1928000.0,530000.0,686000.0,615000.0,1430000.0,1100000.0,905000.0,655000.0,685000.0,550000.0,580000.0,755000.0,500000.0,998000.0,930000.0,550000.0,780000.0,962000.0,722500.0,550000.0,1195000.0,643000.0,1635000.0,723000.0,735000.0,1700000.0,950000.0,605000.0,665000.0,760000.0,1650000.0,1550000.0,490000.0,1680000.0,550000.0,1027500.0,529219.0,1760000.0,515000.0,618000.0,2750000.0,610000.0,900000.0,370000.0,993000.0,1400000.0,898000.0,450000.0,437000.0,350000.0,625000.0,900000.0,1544500.0,453000.0,985000.0,3278000.0,1126000.0,1600000.0,740000.0,824000.0,1865000.0,858000.0,405000.0,1012000.0,660000.0,549000.0,1620000.0,1650000.0,603500.0,895000.0,565000.0,1065000.0,580000.0,1599950.0,1272000.0,500000.0,1380000.0,462000.0,542500.0,1000750.0,749999.0,699900.0,613000.0,1150000.0,866059.0,615000.0,828000.0,845000.0,864000.0,675500.0,1835000.0,720000.0,3000000.0,430000.0,500000.0,655500.0,1195000.0,855000.0,802000.0,950000.0,659500.0,746000.0,2525000.0,1799000.0,479000.0,439000.0,770000.0,2288000.0,1901000.0,1000000.0,1208000.0,732000.0,805500.0,600000.0,1306000.0,1965000.0,1003000.0,555000.0,2075000.0,905000.0,850000.0,950000.0,650000.0,756000.0,1100000.0,699000.0,1230000.0,569000.0,1575000.0,805000.0,1008000.0,461000.0,680000.0,630000.0,630000.0,625000.0,610000.0,850000.0,566000.0,712500.0,1288000.0,435000.0,480000.0,527500.0,641000.0,360000.0,778000.0,740000.0,2450000.0,589000.0,680000.0,816000.0,949000.0,586000.0,851500.0,772000.0,540000.0,675000.0,645000.0,635000.0,680000.0,1225000.0,550000.0,975000.0,7062500.0,475000.0,577000.0,1145000.0,1495000.0,810000.0,1010000.0,1350000.0,2150000.0,465000.0,725000.0,979000.0,875000.0,1038000.0,550000.0,910000.0,523000.0,1191000.0,423000.0,525000.0,571900.0,815000.0,615000.0,845000.0,2400000.0,858000.0,480000.0,978000.0,800000.0,1088890.0,1670000.0,725000.0,525000.0,413107.0,810000.0,900000.0,851000.0,390000.0,1405000.0,949880.0,736000.0,828200.0,375000.0,430000.0,545000.0,502000.0,680000.0,921000.0,950000.0,490000.0,760000.0,428000.0,596000.0,593450.0,952000.0,620000.0,1895000.0,1940000.0,650000.0,749000.0,790000.0,875000.0,550000.0,576000.0,711800.0,560000.0,1385000.0,823000.0,961500.0,833000.0,950000.0,822000.0,1500000.0,590000.0,526000.0,750000.0,772650.0,813000.0,768500.0,560000.0,635000.0,478000.0,570000.0,554000.0,760000.0,899000.0,675000.0,2850000.0,575000.0,810000.0,836000.0,985000.0,751305.0,532500.0,578000.0,815000.0,805000.0,538000.0,650000.0,540400.0,725000.0,1691000.0,450000.0,419000.0,668500.0,898000.0,516130.0,1600000.0,1200000.0,1419000.0,998000.0,1470000.0,335000.0,395300.0,798000.0,765000.0,990400.0,1500000.0,810000.0,445000.0,540000.0,690000.0,789900.0,512500.0,641200.0,550000.0,652450.0,268500.0,1200000.0,855000.0,1476000.0,908950.0,458500.0,354000.0,925000.0,500000.0,400000.0,248000.0,800000.0,1000000.0,657500.0,1150000.0,555000.0,541125.0,780000.0,524400.0,510500.0,650000.0,650000.0,1050000.0,271950.0,411100.0,760000.0,545000.0,1450000.0,475000.0,1965220.0,397500.0,1450000.0,800000.0,850000.0,1436000.0,474905.0,900000.0,998160.0,1153000.0,525000.0,483300.0,815000.0,775000.0,527000.0,585000.0,775000.0,365000.0,600000.0,480000.0,453000.0,800000.0,549950.0,750000.0,615000.0,830000.0,535900.0,657000.0,696000.0,1875000.0,556300.0,1900000.0,472000.0,502550.0,890000.0,800000.0,1430000.0,450000.0,775000.0,915000.0,509500.0,596000.0,800000.0,1488000.0,707000.0,648000.0,750000.0,1155000.0,594000.0,2175000.0,1387000.0,465000.0,770000.0,3800000.0,715000.0,920000.0,1038000.0,678000.0,632000.0,560000.0,600000.0,700000.0,470000.0,419900.0,738950.0,725000.0,394950.0,445000.0,628000.0,1490000.0,1615000.0,1200000.0,700000.0,2500000.0,295000.0,435000.0,1245000.0,1525000.0,560000.0,609000.0,1600000.0,485000.0,935100.0,1310000.0,928950.0,600000.0,841000.0,435000.0,621000.0,1146800.0,460000.0,825000.0,805000.0,730000.0,1270000.0,1125000.0,1000000.0,790000.0,1250000.0,860000.0,920000.0,1150000.0,650000.0,1646000.0,1212500.0,1200000.0,1150000.0,500000.0,1824100.0,659000.0,760000.0,466000.0,500000.0,365000.0,954500.0,375000.0,550000.0,1325000.0,1851000.0,760000.0,787000.0,1511250.0,945800.0,610000.0,754000.0,621000.0,580000.0,915000.0,453000.0,725000.0,689000.0,1218000.0,925000.0,500000.0,1014250.0,575000.0,970000.0,418000.0,871000.0,515000.0,710000.0,556000.0,649950.0,1285000.0,453000.0,999000.0,250000.0,565000.0,898000.0,1208000.0,1590000.0,445000.0,1108000.0,437850.0,509000.0,955000.0,1150000.0,425000.0,530000.0,4489000.0,450000.0,780000.0,625000.0,830000.0,810000.0,433000.0,895000.0,438000.0,825000.0,1800000.0,975000.0,1370000.0,800000.0,1100000.0,465000.0,400000.0,843500.0,920000.0,440000.0,653000.0,852600.0,525000.0,812500.0,485000.0,685000.0,965000.0,450000.0,553000.0,1325000.0,351000.0,610000.0,925000.0,562000.0,501000.0,665000.0,1100000.0,729032.0,750000.0,875000.0,610000.0,931088.0,570000.0,660000.0,530000.0,550000.0,1680000.0,490000.0,449228.0,903000.0,2575000.0,1362500.0,960000.0,720000.0,1050000.0,415500.0,565000.0,1249000.0,1698000.0,505000.0,2375000.0,645000.0,404000.0,812500.0,788000.0,300000.0,1780000.0,700000.0,730000.0,655000.0,473000.0,499990.0,550000.0,1565000.0,643403.0,865000.0,905000.0,607500.0,1388000.0,999950.0,464500.0,416000.0,831000.0,900000.0,490000.0,845000.0,575000.0,732600.0,818000.0,875000.0,960000.0,1315000.0,645000.0,495000.0,893880.0,1150000.0,799000.0,730000.0,527500.0,530000.0,950000.0,418000.0,385000.0,491000.0,521000.0,455000.0,510000.0,577500.0,312500.0,610000.0,493500.0,605000.0,804000.0,700000.0,685000.0,735000.0,490000.0,583000.0,714000.0,554500.0,750000.0,745000.0,550000.0,2983000.0,420000.0,740000.0,646000.0,450000.0,617450.0,938000.0,1700000.0,570000.0,516000.0,500000.0,502000.0,333000.0,730000.0,455000.0,502000.0,860000.0,925000.0,435000.0,795000.0,912000.0,425000.0,612500.0,400000.0,602000.0,750000.0,711600.0,809950.0,729000.0,1688000.0,795000.0,558000.0,735000.0,331500.0,1013050.0,1582500.0,1650000.0,1250000.0,1557600.0,355000.0,850000.0,450000.0,760000.0,851000.0,903000.0,1130000.0,506000.0,665000.0,427000.0,1000000.0,650000.0,420000.0,592000.0,530000.0,515000.0,770000.0,850000.0,445000.0,1450000.0,753000.0,295000.0,1600000.0,1080000.0,1800000.0,671500.0,460000.0,1168000.0,825000.0,500000.0,1164000.0,600000.0,1170000.0,500000.0,480000.0,277700.0,745000.0,935000.0,848000.0,350000.0,561000.0,475000.0,580000.0,607000.0,650000.0,610000.0,3200000.0,810000.0,440000.0,1185000.0,1300000.0,705000.0,595000.0,472000.0,425000.0,629000.0,510000.0,695000.0,320000.0,648000.0,622000.0,850000.0,957000.0,530000.0,510000.0,375000.0,1785000.0,1600000.0,1620000.0,975000.0,541900.0,674000.0,1030000.0,940000.0,685650.0,681500.0,445000.0,1400000.0,1500000.0,585000.0,617000.0,1110000.0,1595000.0,599000.0,555000.0,744000.0,1110000.0,367400.0,667000.0,626000.0,511555.0,2135000.0,749000.0,1190000.0,1450000.0,640000.0,710000.0,465000.0,650000.0,815000.0,1650000.0,950000.0,995000.0,583000.0,290000.0,895000.0,1650000.0,1115000.0,4208000.0,943500.0,547500.0,899000.0,650000.0,400000.0,1890000.0,745000.0,432000.0,1030000.0,660000.0,710000.0,1960000.0,648000.0,932808.0,1075000.0,405000.0,518000.0,475000.0,520000.0,2535000.0,945000.0,375000.0,627500.0,610000.0,689000.0,470000.0,1100000.0,545000.0,2408000.0,455000.0,975000.0,515000.0,606150.0,544950.0,537000.0,726000.0,598780.0,1749000.0,870000.0,542000.0,860000.0,1610000.0,582000.0,672000.0,487000.0,1135000.0,496600.0,1698890.0,599380.0,915000.0,650000.0,485000.0,667500.0,375000.0,1700000.0,713500.0,1275000.0,466200.0,550000.0,1148000.0,685000.0,860000.0,749950.0,525000.0,600000.0,740000.0,538000.0,720000.0,565000.0,975000.0,447000.0,565000.0,850000.0,850000.0,728935.0,940000.0,3168750.0,1775000.0,635000.0,1240000.0,801501.0,575000.0,820000.0,765000.0,1900000.0,818500.0,2340000.0,440000.0,555000.0,650000.0,1160000.0,358000.0,625000.0,585000.0,760000.0,479000.0,670000.0,1795000.0,550000.0,898000.0,1886700.0,772000.0,419000.0,975000.0,720000.0,940000.0,880000.0,539950.0,681000.0,1680000.0,550000.0,744500.0,3300000.0,830000.0,740000.0,420000.0,875000.0,2110000.0,590000.0,822000.0,913888.0,350000.0,525126.0,850000.0,2200000.0,625000.0,385000.0,499950.0,975000.0,777000.0,920000.0,830000.0,800500.0,525000.0,480000.0,605000.0,974350.0,765000.0,415950.0,462370.0,770000.0,557500.0,1989000.0,417000.0,1000000.0,855000.0,1098000.0,935000.0,1475000.0,797000.0,530000.0,860000.0,725000.0,1050000.0,925000.0,1900000.0,1070000.0,575000.0,459900.0,1030000.0,1042030.0,740000.0,450000.0,699900.0,839000.0,440000.0,1500000.0,799000.0,898000.0,935000.0,585000.0,585000.0,915000.0,412000.0,699000.0,522500.0,1050000.0,840000.0,723000.0,1580000.0,485000.0,1034500.0,745000.0,555700.0,1770000.0,1950000.0,975000.0,650000.0,415000.0,1051000.0,1900000.0,1300000.0,1150000.0,1398000.0,2300000.0,439800.0,635250.0,809000.0,605000.0,497500.0,1468000.0,780000.0,530000.0,551100.0,655275.0,850000.0,990000.0,839000.0,1000000.0,660000.0,619850.0,549800.0,1110000.0,1825000.0,1005000.0,590000.0,907500.0,675000.0,710000.0,390000.0,613000.0,1160000.0,925000.0,825000.0,480000.0,1675000.0,595000.0,538000.0,965800.0,635000.0,2480000.0,670000.0,1160000.0,840000.0,865000.0,1565000.0,778000.0,415000.0,860000.0,782000.0,981000.0,555000.0,620000.0,762450.0,1346400.0,987000.0,1190000.0,730000.0,580000.0,1365000.0,530000.0,575000.0,247500.0,1250000.0,616950.0,437400.0,570000.0,915000.0,1300000.0,416000.0,485000.0,660000.0,534000.0,2328000.0,1250000.0,600000.0,1058000.0,855000.0,750000.0,615000.0,887000.0,753000.0,870000.0,575950.0,817000.0,781000.0,779000.0,865000.0,1750000.0,472000.0,1220000.0,822600.0,815000.0,1125000.0,542500.0,395000.0,425000.0,1400000.0,1980000.0,950000.0,592100.0,345000.0,1810000.0,1200690.0,1100000.0,1150000.0,588000.0,637000.0,1355000.0,554000.0,546000.0,605000.0,546800.0,825000.0,515000.0,813500.0,507500.0,635000.0,830000.0,501000.0,725000.0,1388000.0,3100000.0,539950.0,650000.0,760369.0,625000.0,550000.0,390000.0,675000.0,640000.0,660000.0,2500000.0,505000.0,745000.0,450000.0,695000.0,796500.0,625000.0,620000.0,760000.0,680000.0,518000.0,555000.0,1629000.0,739000.0,1802750.0,1388000.0,530000.0,750000.0,795000.0,630000.0,1562000.0,650500.0,710000.0,959750.0,982000.0,870000.0,1200000.0,425000.0,768000.0,330000.0,447000.0,725000.0,746000.0,710000.0,755000.0,590000.0,475000.0,427000.0,488800.0,1320000.0,590000.0,1210000.0,508450.0,380000.0,950000.0,623000.0,610000.0,752888.0,517000.0,675000.0,1320000.0,458450.0,400000.0,1444000.0,1735000.0,915557.0,852500.0,475000.0,490000.0,412000.0,1100000.0,760000.0,3300000.0,451000.0,415000.0,522500.0,1355000.0,921000.0,750000.0,3300000.0,430000.0,542000.0,975000.0,618000.0,1415000.0,1728000.0,2700000.0,905000.0,455000.0,539000.0,3650000.0,808000.0,545000.0,1650000.0,580000.0,768000.0,1100000.0,526000.0,1315000.0,1156000.0,693000.0,665000.0,537000.0,788000.0,534000.0,946000.0,462000.0,670000.0,465000.0,529941.0,443000.0,1027000.0,650000.0,539000.0,732000.0,835000.0,790000.0,520000.0,925850.0,1945000.0,1500000.0,1050000.0,550000.0,1400000.0,675000.0,565000.0,909000.0,1240000.0,552000.0,1411600.0,1505000.0,510000.0,810000.0,550000.0,720000.0,707000.0,925000.0,725000.0,430000.0,665000.0,789888.0,962800.0,400000.0,463000.0,980000.0,827000.0,920000.0,885000.0,450000.0,423800.0,460000.0,400000.0,1185000.0,925000.0,654000.0,1225000.0,550000.0,650000.0,746000.0,820000.0,770126.0,710000.0,820000.0,530000.0,625000.0,700000.0,1900000.0,780000.0,600000.0,1388000.0,2395000.0,968000.0,425000.0,1980000.0,1280000.0,450000.0,875000.0,481000.0,719521.0,1080000.0,640000.0,650000.0,450000.0,880000.0,1264000.0,1850000.0,915000.0,1450000.0,719000.0,2641100.0,2320000.0,1563100.0,1695000.0,1266520.0,1750000.0,859000.0,1750000.0,2150000.0,1300000.0,3204000.0,998000.0,2998000.0,3345000.0,1699990.0,1898000.0,1240420.0,333000.0,795000.0,2300000.0,800000.0,799900.0,1750000.0,798500.0,1940000.0,1175000.0,720000.0,910000.0,1270000.0,900000.0,695000.0,1800000.0,785000.0,800000.0,1080000.0,1240000.0,950000.0,1999950.0,2065000.0,1765000.0,1987500.0,1750000.0,1378000.0,3000000.0,999999.0,1881580.0,1700000.0,3567000.0,1537000.0],\"yaxis\":\"y\",\"type\":\"scattergl\"},{\"hovertemplate\":\"CIDADE=Duvall<br>ranking=%{x}<br>PRE\\u00c7O=%{y}<extra></extra>\",\"legendgroup\":\"Duvall\",\"marker\":{\"color\":\"#B6E880\",\"symbol\":\"circle\"},\"mode\":\"markers\",\"name\":\"Duvall\",\"showlegend\":true,\"x\":[3,5,3,3,3,3,4,5,3,2,2,4,4,4,3,5,3,5,4,4,3,3,3,4,3,2,3,4,2,3,4,2,5,4,2,3,3,4,3,2,3,4,4,4,3,4,5,3,4,5,5,4,3,5,4,4,3,2,4,4,3,4,3,5,5,2,3,5,3,3,5,4,3,4,6,2,4,3,3,4,3,4,5,3,3,5,4,4,4,4,3,3,4,5,2,2,3,3,3,4,4,4,5,4,4,3,4,3,3,4,4,3,3,4,2,4,4,3,2,4,3,2,4,4,4,3,2,3,5,3,4,4,3,2,4,3,1,4,4,4,4,3,5,3,3,4,3,3,3,3,4,4,2,3,5,4,4,3,5,3,2,4,4,4,5,2,3,5,3,3,4,4,4,3,4,4,4,3,4,4,4,3,4,4,4,4,4,3,5,4],\"xaxis\":\"x\",\"y\":[395000.0,488000.0,389000.0,330000.0,355000.0,403000.0,330000.0,624000.0,316000.0,382000.0,390000.0,550000.0,210000.0,453250.0,250000.0,500000.0,234000.0,564500.0,455000.0,525000.0,390000.0,439950.0,349950.0,750000.0,499000.0,335000.0,334000.0,362000.0,387000.0,414000.0,211000.0,455000.0,598600.0,637000.0,349950.0,364950.0,360000.0,435000.0,290000.0,350000.0,325000.0,540000.0,599900.0,499000.0,570000.0,337000.0,307000.0,359950.0,119500.0,510000.0,487500.0,175000.0,330000.0,499500.0,487600.0,289200.0,350000.0,325000.0,287000.0,435000.0,300000.0,415000.0,372000.0,460000.0,655000.0,325000.0,317000.0,562000.0,310000.0,299950.0,955000.0,380600.0,315500.0,330000.0,570000.0,324000.0,565000.0,265000.0,463000.0,315000.0,380000.0,435000.0,289275.0,375000.0,350000.0,575000.0,563500.0,510000.0,480000.0,518000.0,470000.0,489950.0,396800.0,435000.0,350000.0,442500.0,300000.0,279900.0,360000.0,450000.0,540000.0,355000.0,468000.0,524950.0,350000.0,350000.0,406250.0,300000.0,325000.0,979500.0,525000.0,325000.0,201000.0,525000.0,420000.0,331292.0,620000.0,400000.0,375000.0,499950.0,352000.0,396000.0,265800.0,260000.0,565000.0,329500.0,265000.0,645000.0,518000.0,398000.0,436000.0,640000.0,400000.0,366000.0,545000.0,322000.0,299950.0,480000.0,585000.0,548000.0,170000.0,560000.0,535000.0,400000.0,425000.0,336900.0,283700.0,334200.0,330000.0,410000.0,515500.0,539000.0,325000.0,340000.0,515000.0,435000.0,600000.0,322500.0,469950.0,475000.0,345000.0,400000.0,402500.0,550000.0,500000.0,328000.0,250000.0,454000.0,439000.0,377000.0,489500.0,465000.0,472000.0,395000.0,395000.0,415000.0,550000.0,309620.0,1015000.0,330675.0,430000.0,410000.0,620000.0,429900.0,492500.0,659000.0,410000.0,326000.0,518000.0,534950.0],\"yaxis\":\"y\",\"type\":\"scattergl\"},{\"hovertemplate\":\"CIDADE=Auburn<br>ranking=%{x}<br>PRE\\u00c7O=%{y}<extra></extra>\",\"legendgroup\":\"Auburn\",\"marker\":{\"color\":\"#FF97FF\",\"symbol\":\"circle\"},\"mode\":\"markers\",\"name\":\"Auburn\",\"showlegend\":true,\"x\":[3,4,2,3,4,3,5,4,4,3,4,3,4,2,3,4,4,2,5,3,5,5,3,3,6,3,3,4,2,4,4,4,4,4,4,3,5,4,4,3,4,2,5,4,3,4,3,2,3,4,3,4,2,6,5,4,4,4,4,4,4,4,2,3,5,3,4,4,5,4,3,3,2,4,4,2,4,5,4,3,3,3,4,3,3,4,4,5,3,3,4,3,5,4,4,4,5,2,4,3,5,2,3,3,4,4,2,3,4,3,4,5,5,2,4,5,3,5,4,4,4,3,2,4,4,5,3,5,2,5,2,4,4,4,3,4,4,3,5,6,3,4,2,4,3,5,3,3,3,2,4,6,4,3,4,2,4,3,3,6,4,4,5,3,4,3,5,2,4,4,5,4,3,4,4,4,3,3,3,1,3,4,3,3,5,4,4,5,4,3,4,4,3,2,4,3,5,4,3,7,4,4,4,4,4,6,4,2,4,4,4,4,4,4,4,4,5,3,5,3,3,4,4,3,1,2,3,4,3,2,5,4,4,4,5,3,2,4,5,5,4,4,4,4,4,4,3,5,4,3,4,2,4,3,4,4,3,2,3,4,4,3,4,2,3,4,4,5,5,3,3,3,3,4,5,5,5,5,4,3,5,2,2,3,3,5,3,2,2,3,5,3,3,3,3,3,4,3,4,4,3,4,2,4,4,3,4,4,4,4,3,4,4,4,4,4,4,3,4,4,4,4,4,4,5,3,4,4,4,4,4,3,4,3,5,4,5,4,2,5,4,3,3,4,3,3,4,4,3,4,4,4,4,4,5,3,3,4,5,5,4,3,4,4,4,4,3,4,4,3,1,2,2,4,4,3,4,3,4,4,4,4,4,3,4,5,5,4,4,4,4,4,4,4,4,3,4,4,3,4,4,2,5,4,3,4,4,2,5,5,2,4,3,4,3,5,3,3,1,4,3,4,3,4,3,3,5,4,4,4,3,5,4,4,4,4,3,3,4,4,5,3,3,4,4,2,4,4,3,4,4,3,5,4,6,3,3,3,4,2,2,4,4,4,5,4,3,3,4,5,4,5,3,2,2,2,5,3,3,3,2,3,4,5,4,3,3,4,4,3,4,2,4,4,3,5,4,3,4,4,4,4,3,4,4,2,3,4,3,4,5,4,3,5,3,2,2,3,4,5,3,4,3,4,4,5,3,3,4,5,6,6,4,4,3,3,4,5,5,4,5,4,4,4,3,2,3,3,2,4,3,5,4,5,4,3,4,4,5,4,3,2,5,3,2,4,3,5,3,4,3,3,4,4,4,3,5,3,3,4,3,3,3,4,5,3,4,5,4,3,4,2,5,5,2,4,5,3,4,3,4,5,4,3,4,5,3,3,3,3,4,3,4,4,3,3,4,4,5,4,3,3,3,2,4,3,4,2,4,5,5,3,4,3,4,4,4,5,4,4,5,3,3,5,2,3,4,4,2,6,3,4,3,4,4,3,4,4,4,5,4,5,2,3,5,3,2,3,4,4,4,3,5,4,4,4,3,4,4,4,3,4,4,4,4,5,4,3,4,3,5,4,4,3,5,4,3,4,3,2,4,4,5,5,2,4,3,2,4,2,4,3,4,4,4,3,2,5,4,5,3,6,5,5,4,2,5,5,4,2,4,3,5,4,4,4,4,2,4,2,4,5,4,2,4,4,3,3,4,6,4,3,3,3,4,5,4,4,4,3,3,2,3,4,4,3,4,2,4,5,4,4,5,3,2,4,4,4,3,3,4,3,4,4,3,3,2,3,4,2,4,4,5,4,4,4,3,3,4,2,3,4,4,4,4,4,4,4,4,3,4,2,2,2,3,4,3,3,4,4,4,4,3,4,3,3,3,4,2,4,2,4,3,4,4,3,4,4,5,2,4,2,4,2,4,2,3,4,4,2,2,5,3,4,4,2,2,3,4,4,2,2,5,3,3,2,4,4,2,3,4,4,3,3,4,3,4,4,4,3,4,4,4,5,4,3,2,3,3,2,4,3,2,3,2,3,4,2,2,4,4,5,3,4,4,4,4,3,4,3,4,3],\"xaxis\":\"x\",\"y\":[189000.0,285000.0,233000.0,240000.0,287000.0,305000.0,480000.0,212000.0,465000.0,225000.0,250000.0,360000.0,230000.0,252000.0,278500.0,227950.0,196000.0,200000.0,404950.0,266000.0,399950.0,210000.0,200000.0,214000.0,305000.0,243000.0,233000.0,370000.0,325000.0,249900.0,332000.0,327000.0,280000.0,289999.0,225000.0,234000.0,205000.0,299900.0,196500.0,199950.0,289000.0,245000.0,249900.0,218500.0,241000.0,285167.0,224500.0,298900.0,100000.0,320000.0,208000.0,170000.0,295700.0,390000.0,835000.0,234975.0,267000.0,350000.0,355000.0,360000.0,250000.0,355000.0,303000.0,249950.0,336000.0,299000.0,330000.0,224000.0,196440.0,617000.0,429000.0,189950.0,215500.0,206000.0,930000.0,249000.0,247500.0,325000.0,210000.0,284200.0,250000.0,180000.0,176250.0,272000.0,272000.0,370000.0,383000.0,339900.0,235000.0,185000.0,332000.0,238000.0,346300.0,250000.0,235000.0,265000.0,295450.0,208000.0,213550.0,183000.0,560000.0,210000.0,226740.0,230000.0,262000.0,175000.0,282000.0,235000.0,165000.0,143000.0,306000.0,280000.0,300000.0,175000.0,276000.0,313000.0,265000.0,378500.0,259000.0,225000.0,161500.0,354450.0,298500.0,352000.0,179500.0,248000.0,210500.0,276000.0,254600.0,250750.0,299950.0,219950.0,279000.0,365000.0,255000.0,329500.0,200000.0,196000.0,515000.0,537000.0,180000.0,257200.0,250000.0,368500.0,265000.0,225000.0,115000.0,195000.0,299950.0,222000.0,355000.0,299000.0,322500.0,206000.0,275000.0,213500.0,188200.0,201700.0,194820.0,286950.0,95000.0,280000.0,250000.0,210000.0,408500.0,215000.0,276000.0,212500.0,324888.0,905000.0,382450.0,125000.0,269950.0,245000.0,245000.0,270000.0,285000.0,235000.0,183000.0,192950.0,156000.0,289500.0,221000.0,359950.0,353000.0,275000.0,675000.0,284000.0,340000.0,263400.0,238000.0,245000.0,390000.0,267500.0,299800.0,190000.0,248500.0,350000.0,195000.0,404000.0,339900.0,224000.0,199950.0,330000.0,475000.0,359000.0,559000.0,214100.0,482000.0,233500.0,235000.0,340000.0,465000.0,350000.0,245000.0,299000.0,198000.0,300000.0,507000.0,169000.0,240000.0,395000.0,195000.0,250000.0,260000.0,150000.0,319950.0,335000.0,319900.0,215000.0,323000.0,257500.0,111300.0,325000.0,260000.0,142500.0,269000.0,359950.0,430000.0,555000.0,339000.0,215000.0,424000.0,265000.0,203000.0,230000.0,230000.0,285000.0,321000.0,239000.0,427500.0,320000.0,154950.0,277500.0,260000.0,639900.0,420000.0,197000.0,640000.0,334000.0,275000.0,265953.0,367500.0,239950.0,239950.0,225500.0,279950.0,286285.0,286000.0,194900.0,280000.0,355000.0,500000.0,260000.0,200000.0,254000.0,545000.0,204900.0,850000.0,187000.0,323000.0,265000.0,204555.0,175000.0,277000.0,224950.0,135000.0,269500.0,286651.0,195000.0,270000.0,280500.0,316000.0,149000.0,330000.0,415000.0,241000.0,319450.0,249000.0,225000.0,292500.0,245100.0,302000.0,265000.0,449888.0,263000.0,384000.0,190000.0,292500.0,294000.0,245000.0,203000.0,272000.0,184000.0,255000.0,190000.0,220000.0,152000.0,305000.0,160000.0,375000.0,299995.0,185000.0,225000.0,193000.0,259900.0,260000.0,284000.0,220000.0,183000.0,335000.0,186000.0,328000.0,170000.0,389000.0,359950.0,220000.0,317000.0,262000.0,370000.0,335000.0,288000.0,359500.0,248000.0,235000.0,200000.0,224000.0,345000.0,236000.0,360000.0,265000.0,215000.0,330000.0,299900.0,279000.0,139000.0,199129.0,285000.0,380000.0,280000.0,240000.0,214000.0,275000.0,449000.0,355000.0,667000.0,329800.0,274000.0,204700.0,250000.0,200000.0,169100.0,250000.0,224000.0,335000.0,370000.0,571500.0,182500.0,551870.0,250600.0,275000.0,395000.0,305000.0,325000.0,541500.0,297300.0,331950.0,303000.0,315000.0,200000.0,229950.0,272000.0,259500.0,265500.0,219000.0,225000.0,360000.0,352000.0,285000.0,124500.0,160000.0,200000.0,262000.0,465000.0,112000.0,235000.0,275000.0,225000.0,400000.0,215000.0,292500.0,225000.0,270000.0,125000.0,208000.0,309900.0,305000.0,285000.0,239950.0,359000.0,285000.0,226500.0,250000.0,148226.0,205000.0,184500.0,370000.0,195000.0,248000.0,449500.0,220000.0,400000.0,216000.0,300000.0,269100.0,340000.0,222000.0,238000.0,433495.0,240000.0,250000.0,209000.0,411000.0,218500.0,229500.0,207000.0,310000.0,255000.0,235000.0,272000.0,280000.0,178000.0,289950.0,485000.0,420000.0,256000.0,269950.0,246900.0,785000.0,150000.0,199950.0,257000.0,511000.0,495000.0,233000.0,300000.0,189000.0,273000.0,299900.0,255000.0,254500.0,299999.0,185000.0,178500.0,400000.0,250000.0,489950.0,255000.0,206000.0,232000.0,260000.0,206990.0,319950.0,205000.0,400000.0,255000.0,294400.0,400000.0,271920.0,395000.0,185000.0,257000.0,312500.0,140000.0,210000.0,249500.0,267300.0,247000.0,460000.0,195000.0,340000.0,115000.0,227000.0,128750.0,198000.0,185900.0,190000.0,549900.0,164000.0,347000.0,235000.0,190848.0,314950.0,399000.0,185000.0,174000.0,184000.0,288000.0,313100.0,292000.0,450000.0,166000.0,165000.0,799950.0,132500.0,290000.0,206000.0,329950.0,250000.0,250000.0,485000.0,500000.0,413000.0,456000.0,265000.0,429000.0,270000.0,246000.0,271675.0,227000.0,355000.0,150000.0,300000.0,267500.0,201000.0,210000.0,369000.0,247200.0,220000.0,372000.0,215000.0,339100.0,199900.0,207000.0,367950.0,269950.0,262500.0,160000.0,289000.0,357500.0,300000.0,255500.0,657500.0,260000.0,275000.0,321500.0,179500.0,245000.0,199000.0,175000.0,196000.0,250000.0,167000.0,234000.0,510000.0,139950.0,234000.0,234950.0,159995.0,299999.0,255000.0,171500.0,320000.0,359800.0,234500.0,246000.0,220000.0,270000.0,490000.0,229950.0,299000.0,273950.0,290000.0,250000.0,215500.0,305950.0,289000.0,234950.0,285000.0,263950.0,335000.0,220000.0,367300.0,308000.0,480000.0,535000.0,270000.0,288000.0,209950.0,321000.0,235000.0,268000.0,230000.0,289950.0,250000.0,175000.0,283500.0,900000.0,360000.0,339999.0,365000.0,223000.0,389000.0,281000.0,100000.0,208000.0,405000.0,195500.0,335000.0,294000.0,506000.0,247200.0,443000.0,265000.0,162500.0,292000.0,205000.0,409000.0,172500.0,300499.0,245000.0,276000.0,264500.0,154000.0,225000.0,265000.0,215000.0,455000.0,264000.0,270000.0,340000.0,180000.0,250000.0,367500.0,329000.0,205000.0,264500.0,202500.0,323400.0,212000.0,270000.0,260000.0,280000.0,280000.0,274950.0,257000.0,280000.0,201000.0,295000.0,190000.0,332100.0,189000.0,340000.0,338500.0,324900.0,250000.0,163500.0,438500.0,289950.0,225000.0,245000.0,237000.0,234950.0,146300.0,330000.0,278000.0,210000.0,300000.0,150000.0,299950.0,449950.0,137000.0,734950.0,152500.0,302000.0,190000.0,182500.0,315000.0,175000.0,299000.0,197000.0,265000.0,305000.0,425000.0,219000.0,235000.0,287600.0,219500.0,258000.0,199500.0,340000.0,220000.0,179900.0,350000.0,270000.0,425000.0,217000.0,386000.0,287500.0,345000.0,206000.0,420000.0,450000.0,298000.0,255000.0,315000.0,400000.0,381500.0,363000.0,240000.0,230000.0,279950.0,315000.0,225000.0,235000.0,260000.0,148900.0,229500.0,230000.0,189900.0,637000.0,579950.0,260000.0,290000.0,230000.0,305000.0,219200.0,206000.0,160000.0,194250.0,222400.0,237950.0,250000.0,183500.0,247500.0,293000.0,625000.0,760000.0,310000.0,280000.0,232603.0,234000.0,224000.0,185000.0,465000.0,254999.0,460000.0,90000.0,308900.0,203700.0,200000.0,289999.0,260000.0,299500.0,230000.0,229500.0,205000.0,340000.0,168000.0,225000.0,342000.0,159000.0,225000.0,199900.0,229950.0,229999.0,193000.0,268000.0,491500.0,257000.0,725000.0,328000.0,370000.0,329900.0,319500.0,359000.0,250000.0,349500.0,319900.0,263000.0,355000.0,292000.0,331210.0,335606.0,285000.0,272000.0,418395.0,328000.0,215000.0,411605.0,339990.0,260000.0,287000.0,240000.0,399440.0,275000.0,245000.0,428900.0,329900.0,460458.0,351000.0,388500.0,254950.0,309000.0,370228.0,205000.0,392440.0,216000.0,298000.0,289950.0,255000.0,415000.0,427000.0,399895.0,309780.0,356250.0,279000.0,310000.0,300000.0,267000.0,319900.0,280000.0,374500.0,265000.0,379500.0,273500.0,453000.0,297000.0,300000.0,255900.0,261000.0,552900.0,524225.0,306000.0,349950.0,274950.0,282900.0,424000.0,317500.0,275000.0,345500.0,298900.0,260000.0,425996.0,499160.0,334888.0,329995.0,402395.0,353000.0,447500.0,300000.0,270500.0,457000.0,274900.0,303000.0,280000.0,110000.0,303210.0,343000.0,353500.0,260000.0,255000.0,549950.0,510000.0,471275.0,400950.0,223990.0,277950.0,345000.0,250000.0,270000.0,375900.0,215000.0,235245.0,279950.0,375500.0,478830.0,259000.0,299000.0,349950.0,471835.0,495000.0,440000.0,335900.0,333000.0,269950.0,353900.0,436952.0,312891.0,480000.0,341780.0,541800.0],\"yaxis\":\"y\",\"type\":\"scattergl\"},{\"hovertemplate\":\"CIDADE=Mercer Island<br>ranking=%{x}<br>PRE\\u00c7O=%{y}<extra></extra>\",\"legendgroup\":\"Mercer Island\",\"marker\":{\"color\":\"#FECB52\",\"symbol\":\"circle\"},\"mode\":\"markers\",\"name\":\"Mercer Island\",\"showlegend\":true,\"x\":[3,5,3,4,5,2,2,2,6,2,3,4,4,5,4,5,4,3,1,4,4,1,4,3,2,4,4,5,5,3,4,4,1,5,4,2,4,4,2,4,5,1,5,5,3,3,3,2,2,2,6,4,3,7,3,3,5,4,2,3,2,3,5,4,5,2,4,3,5,1,4,4,4,3,4,2,4,2,6,3,2,2,3,4,4,4,2,5,3,3,2,4,1,4,1,4,4,5,4,4,4,3,4,3,3,6,5,4,3,5,4,4,2,3,4,4,2,1,3,3,4,6,5,4,3,4,3,7,2,3,1,4,3,3,1,5,3,5,1,3,4,1,4,5,4,4,2,3,3,2,2,3,5,0,3,5,4,1,3,4,4,3,4,2,3,3,5,4,3,3,3,5,4,4,4,4,5,6,3,5,6,3,3,4,4,4,4,2,4,2,4,4,2,4,3,4,4,3,4,1,5,2,2,4,5,2,5,5,2,3,3,5,2,2,3,2,1,4,5,2,5,3,2,2,5,5,3,4,4,3,3,3,3,3,4,4,4,3,4,4,3,4,6,3,3,4,4,5,3,5,4,3,4,2,5,5,5,5,3,2,3,4,5,2,2,3,6,2,2,4,4,4,4,6,4,4,4,4,3,3,4,3],\"xaxis\":\"x\",\"y\":[2000000.0,905000.0,799000.0,840000.0,1505000.0,940000.0,855000.0,799000.0,1118000.0,811000.0,705000.0,1950000.0,1220000.0,1484900.0,2400000.0,980000.0,905000.0,800000.0,925000.0,5300000.0,1328000.0,957500.0,900000.0,800000.0,1230000.0,830000.0,1679000.0,597326.0,762500.0,1575000.0,760000.0,940000.0,1200000.0,800000.0,3850000.0,1025000.0,1085000.0,1339000.0,995000.0,992000.0,1700000.0,1215000.0,895000.0,1000000.0,604000.0,1610000.0,711000.0,1400000.0,525000.0,1250000.0,769000.0,2298000.0,1100000.0,1280600.0,1075000.0,980000.0,1250000.0,865000.0,830000.0,938000.0,830000.0,659000.0,884900.0,1575000.0,2950000.0,876650.0,780000.0,1275000.0,899100.0,939000.0,1050000.0,1130000.0,865000.0,2485000.0,1195000.0,1490000.0,572000.0,832500.0,1025000.0,740000.0,710000.0,685000.0,1038000.0,1250000.0,750000.0,895000.0,1087500.0,1460000.0,842000.0,1795000.0,785000.0,1195000.0,554000.0,1564350.0,975000.0,2196000.0,1100000.0,950000.0,1580000.0,1350000.0,2700000.0,1255000.0,1370000.0,713400.0,3100000.0,987500.0,1393000.0,1600000.0,1170000.0,1605000.0,1700000.0,713250.0,1900000.0,795000.0,3400000.0,4668000.0,630000.0,698000.0,2450000.0,500000.0,787888.0,1295000.0,1200000.0,880000.0,1438890.0,715000.0,1406890.0,1530000.0,650000.0,998000.0,970500.0,1052500.0,1955000.0,650000.0,950000.0,1795000.0,690000.0,885000.0,850000.0,1730000.0,890000.0,1200000.0,1227500.0,1900000.0,896000.0,624800.0,800000.0,890000.0,880000.0,1500000.0,1165000.0,850000.0,947500.0,1060000.0,743000.0,1050000.0,1135000.0,998000.0,550000.0,699000.0,950000.0,1381000.0,1699000.0,785000.0,780000.0,875000.0,1705000.0,1180000.0,815000.0,677500.0,840000.0,1730000.0,1288000.0,1060000.0,1195000.0,994000.0,1199500.0,1959000.0,741000.0,870000.0,1550000.0,670000.0,870000.0,610000.0,760250.0,1295000.0,838400.0,725000.0,3100000.0,980000.0,1610000.0,2000000.0,1580000.0,780000.0,975000.0,754000.0,990000.0,1815000.0,868500.0,825000.0,925000.0,685000.0,645000.0,996000.0,1260500.0,984000.0,1160000.0,989900.0,2600000.0,1520000.0,875000.0,1375000.0,795000.0,1081000.0,900000.0,990000.0,1075000.0,1190000.0,1681000.0,705000.0,850000.0,1256500.0,910000.0,693000.0,1190000.0,1550000.0,1400000.0,1350000.0,1387000.0,926250.0,616000.0,821000.0,968000.0,885000.0,750000.0,1395000.0,820000.0,760000.0,780000.0,840000.0,1298000.0,993500.0,1380000.0,1288000.0,648752.0,1870000.0,960000.0,970000.0,770000.0,1650000.0,715000.0,950000.0,2027000.0,1321620.0,1250000.0,1680000.0,762400.0,1702500.0,2367000.0,587100.0,685000.0,1065000.0,1250000.0,850000.0,571500.0,550000.0,1085000.0,1298890.0,955000.0,623000.0,680000.0,1225000.0,2000000.0,959000.0,1330000.0,1575000.0,1510000.0,2321000.0,1600000.0,1839900.0,2351960.0,1575000.0],\"yaxis\":\"y\",\"type\":\"scattergl\"},{\"hovertemplate\":\"CIDADE=Kent<br>ranking=%{x}<br>PRE\\u00c7O=%{y}<extra></extra>\",\"legendgroup\":\"Kent\",\"marker\":{\"color\":\"#636efa\",\"symbol\":\"circle\"},\"mode\":\"markers\",\"name\":\"Kent\",\"showlegend\":true,\"x\":[3,4,4,4,2,3,6,5,3,4,6,3,4,4,2,4,5,4,4,4,4,3,4,3,4,4,3,2,3,2,6,3,4,3,5,3,4,3,5,3,4,4,3,4,3,4,3,5,3,5,4,2,4,4,4,4,4,4,3,2,3,5,5,6,2,3,4,3,5,4,3,5,3,2,3,5,5,4,4,4,4,3,5,3,4,4,4,4,3,3,2,4,4,4,4,2,3,4,3,3,5,6,4,4,4,6,2,2,4,3,4,4,3,5,3,4,3,2,4,4,3,4,4,2,4,5,4,2,4,3,5,5,3,4,3,4,4,4,3,4,3,4,3,5,4,6,4,4,4,2,2,5,3,3,2,4,4,3,2,4,4,2,5,3,2,3,4,4,2,3,4,3,4,1,4,4,4,4,2,3,4,4,3,3,4,5,3,3,4,3,2,4,2,4,2,4,2,4,6,4,4,3,4,4,3,6,3,5,3,2,4,3,4,3,5,2,2,3,4,3,4,4,4,2,2,4,4,5,5,3,3,5,3,4,6,3,2,4,3,4,3,4,4,3,4,3,4,6,4,4,3,5,6,2,3,4,3,3,3,4,3,3,3,4,4,4,3,2,4,4,4,4,4,4,4,4,4,5,4,3,3,4,4,3,4,3,3,3,1,2,4,3,2,4,3,3,4,3,5,3,3,3,6,4,3,4,4,3,5,5,3,3,5,3,5,3,3,5,4,4,3,3,6,2,5,4,4,4,3,3,5,2,4,2,3,4,2,4,4,2,5,4,3,5,4,5,3,3,4,5,5,2,3,3,3,5,3,4,4,5,3,3,4,4,4,3,4,4,5,5,2,4,2,4,4,3,5,3,4,3,3,3,5,2,2,3,2,2,3,4,2,4,4,3,4,5,4,3,4,2,4,3,4,4,4,5,5,4,5,3,4,4,5,2,5,3,4,3,4,5,4,5,4,2,4,3,4,5,3,5,5,3,4,5,4,4,3,2,4,4,3,4,3,3,4,4,5,5,3,4,5,4,2,4,5,3,3,4,4,2,4,4,3,3,2,4,5,3,2,4,4,4,4,4,5,4,3,3,4,4,5,4,4,3,2,5,4,3,5,3,4,3,3,3,3,4,4,3,4,5,4,3,4,4,4,5,5,3,4,3,6,2,3,6,2,6,3,5,2,3,2,4,5,4,4,3,4,4,4,3,3,4,6,5,3,4,2,3,5,3,5,4,4,4,4,5,4,4,5,2,3,4,4,4,5,4,3,2,2,4,4,3,2,4,2,4,4,4,4,2,5,5,3,3,4,4,3,4,4,4,5,3,4,2,2,4,3,3,4,2,4,3,4,4,3,4,3,3,2,4,3,4,4,4,2,4,3,4,4,2,2,2,5,4,4,4,4,3,4,5,2,5,3,3,3,2,4,4,3,5,6,4,3,3,3,4,5,4,3,2,3,3,5,3,5,3,5,4,3,4,2,4,4,5,4,3,4,4,5,3,3,4,3,3,4,3,3,3,4,5,4,5,2,3,4,3,6,3,3,4,3,2,3,4,3,4,4,2,4,3,4,4,3,4,4,4,4,4,4,4,3,2,5,3,3,5,2,5,2,3,6,4,4,3,2,4,3,3,4,2,4,3,4,4,3,5,5,3,4,2,4,4,4,6,3,2,2,4,5,6,5,3,3,3,3,3,4,4,3,3,4,2,3,3,4,3,3,3,4,4,4,4,3,4,3,4,4,3,5,4,4,4,4,4,3,4,4,3,4,4,3,2,4,4,3,5,3,2,2,4,4,3,3,3,3,4,2,3,3,3,3,2,2,3,3,4,3,3,3,2,4,3,4,4,6,4,4,3,2,4,3,4,4,3,4,4,4,4,6,3,5,3,3,3,4,4,3,4,5,3,3,2,4,4,4,3,4,3,4,4,2,6,3,3,6,4,4,4,3,6,5,4,3,4,5,4,4,4,2,5,3,4,3,3,4,4,4,3,4,5,3,6,3,5,4,6,3,3,4,4,3,5,4,4,4,3,2,4,4,3,5,4,2,3,3,4,4,3,3,3,3,4,2,3,5,4,4,2,4,4,4,4,2,4,2,2,3,4,4,4,4,4,5,3,5,3,4,3,2,4,4,3,4,2,4,3,4,3,4,4,2,2,4,3,4,2,4,4,5,3,3,4,3,4,4,2,5,4,3,4,4,5,4,4,3,3,4,2,4,3,3,2,2,4,4,2,3,4,4,4,4,5,4,2,4,4,4,3,5,3,4,3,5,4,4,5,4,2,3,2,3,4,5,3,2,4,4,4,2,3,4,3,5,4,4,3,4,4,3,4,3,4,3,3,4,4,4,5,4,4,3,3,4,4,4,2,5,4,3,4,3,3,5,5,4,5,4,3,3,2,3,4,2,4,2,5,1,3,5,3,2,2,2,5,5,4,3,3,6,4,3,4,4,5,4,3,4,2,3,4,4,4,4,3,5,4,3,4,5,3,3,3,4,2,2,4,4,6,3,4,2,3,4,4,4,4,3,4,4,4,2,4,3,4,3,5,4,4,3,4,3,2,4,3,3,2,3,4,3,2,4,2,3,4,4,4,4,3,4,4,2,3,2,2,4,3,4,3,3,5,3,3,3,4,4,2,4,4,5,2,4,2,4,4,4,4,4,4,3,4,3,4,4,4,4,3,4,4,4,2,4,3,4,2,4,4,4,2,4,5,4,3,4],\"xaxis\":\"x\",\"y\":[252700.0,329000.0,292500.0,301000.0,204000.0,349000.0,247500.0,258000.0,260000.0,297000.0,325000.0,235000.0,260000.0,245000.0,290000.0,365000.0,304900.0,370000.0,265000.0,390000.0,206600.0,268000.0,328500.0,205000.0,255000.0,348000.0,230000.0,325000.0,328500.0,232000.0,299000.0,342000.0,308000.0,249000.0,318888.0,375000.0,331500.0,268500.0,223000.0,242000.0,260000.0,480000.0,245000.0,225000.0,390000.0,250000.0,347500.0,360000.0,260000.0,308000.0,361000.0,250000.0,310950.0,285000.0,166600.0,147500.0,395000.0,291500.0,255000.0,324000.0,288400.0,253000.0,323000.0,469500.0,321500.0,315000.0,245000.0,249500.0,350900.0,305000.0,267500.0,274700.0,254000.0,234000.0,211000.0,350000.0,270000.0,321000.0,302495.0,325000.0,284000.0,285000.0,225000.0,267500.0,303700.0,234000.0,292000.0,354000.0,264950.0,180000.0,140000.0,249000.0,206135.0,399000.0,270000.0,264000.0,337000.0,265900.0,229900.0,290000.0,248000.0,610000.0,340000.0,220000.0,285000.0,440000.0,219900.0,300000.0,372000.0,269000.0,315000.0,150000.0,275000.0,412000.0,210000.0,399950.0,307000.0,280000.0,340000.0,150000.0,199000.0,264950.0,180500.0,325000.0,270000.0,347000.0,340000.0,210000.0,205000.0,265000.0,372400.0,250000.0,225000.0,342000.0,252000.0,739500.0,264900.0,325000.0,232000.0,172040.0,365000.0,445000.0,332000.0,390000.0,235000.0,231500.0,259000.0,399950.0,355000.0,257500.0,246500.0,350000.0,278000.0,347500.0,223000.0,340000.0,266000.0,275000.0,310000.0,274900.0,195000.0,282000.0,305000.0,240000.0,209000.0,123300.0,275436.0,392000.0,210000.0,273500.0,219950.0,203000.0,325000.0,176500.0,325000.0,285000.0,234000.0,270000.0,299000.0,271000.0,240000.0,530000.0,295000.0,208000.0,428000.0,549900.0,240000.0,253000.0,221700.0,260000.0,280000.0,207500.0,200000.0,373000.0,209950.0,350000.0,200000.0,249000.0,350000.0,464000.0,335000.0,245000.0,158000.0,223000.0,157340.0,375000.0,220000.0,472500.0,214946.0,319990.0,359950.0,215000.0,540000.0,311000.0,335000.0,282500.0,759600.0,269900.0,246700.0,265000.0,350000.0,365070.0,245000.0,215000.0,320000.0,335000.0,329500.0,260000.0,199500.0,260000.0,242150.0,465000.0,178000.0,215000.0,248000.0,250000.0,281000.0,230000.0,160134.0,249950.0,270000.0,247000.0,285000.0,225000.0,360000.0,327000.0,444900.0,330000.0,300000.0,312000.0,239900.0,290000.0,362300.0,302500.0,238000.0,248500.0,233500.0,287000.0,219000.0,275000.0,429000.0,259000.0,354800.0,353000.0,410000.0,261000.0,320000.0,325000.0,215000.0,330000.0,250000.0,275000.0,186000.0,386500.0,430000.0,439950.0,324950.0,350000.0,859000.0,250000.0,300000.0,311000.0,310000.0,255000.0,250000.0,420000.0,200500.0,355000.0,285900.0,350000.0,397450.0,205000.0,199990.0,288000.0,226450.0,210000.0,322200.0,243400.0,307000.0,231000.0,179000.0,244000.0,425000.0,215000.0,232000.0,264000.0,485000.0,250000.0,266000.0,245000.0,227500.0,158550.0,235000.0,242500.0,210000.0,203000.0,259950.0,352000.0,325000.0,336000.0,286900.0,225000.0,385000.0,216500.0,325000.0,411000.0,338500.0,278000.0,245000.0,345950.0,295000.0,209900.0,325000.0,199000.0,204995.0,325900.0,306000.0,275000.0,316500.0,282510.0,237000.0,464950.0,247200.0,216600.0,289950.0,350000.0,289950.0,269500.0,275000.0,409124.0,280000.0,273000.0,490000.0,277000.0,248000.0,250000.0,325000.0,306500.0,215000.0,386000.0,251100.0,178000.0,327500.0,245000.0,725000.0,152000.0,344950.0,284000.0,305000.0,255000.0,199500.0,254000.0,234000.0,303000.0,267500.0,299950.0,330000.0,176000.0,168000.0,449950.0,267000.0,275000.0,432000.0,269950.0,198000.0,515000.0,215000.0,255000.0,334950.0,327500.0,235000.0,319990.0,215000.0,246000.0,177000.0,292000.0,378800.0,365000.0,307550.0,263000.0,237950.0,215000.0,390000.0,237000.0,280000.0,243500.0,258000.0,204000.0,800000.0,279900.0,409000.0,363500.0,345000.0,304000.0,315000.0,269000.0,450000.0,263000.0,175409.0,312500.0,455000.0,259900.0,319000.0,325000.0,296500.0,310000.0,300000.0,300000.0,363000.0,299000.0,163000.0,300000.0,260000.0,250000.0,299900.0,320000.0,310000.0,195000.0,440000.0,430000.0,182000.0,240000.0,222000.0,210000.0,120000.0,175000.0,575000.0,278800.0,222000.0,320000.0,250000.0,120000.0,160000.0,305000.0,368500.0,454000.0,550000.0,308000.0,279000.0,175000.0,200000.0,259950.0,309933.0,511000.0,268000.0,275000.0,260000.0,300000.0,269950.0,249000.0,329000.0,190000.0,256500.0,473000.0,250000.0,319000.0,225800.0,245000.0,374900.0,339950.0,340000.0,285000.0,336500.0,270000.0,189000.0,316000.0,435000.0,285000.0,459950.0,533050.0,225000.0,249000.0,244900.0,249950.0,249000.0,301000.0,380000.0,280000.0,375000.0,270500.0,291000.0,249000.0,298000.0,270000.0,269000.0,290000.0,273000.0,284000.0,230000.0,245000.0,397900.0,214000.0,489990.0,258000.0,226800.0,350000.0,220000.0,220000.0,314000.0,145000.0,255000.0,250000.0,455000.0,345000.0,651000.0,295000.0,240000.0,279950.0,400000.0,250000.0,315000.0,289000.0,273000.0,327500.0,290000.0,334950.0,230000.0,215000.0,275000.0,201500.0,229950.0,344900.0,225000.0,350000.0,213400.0,350000.0,165000.0,267500.0,380000.0,365000.0,280927.0,259900.0,305000.0,490000.0,268000.0,380000.0,249000.0,165000.0,220000.0,283200.0,450000.0,240000.0,201000.0,265000.0,195700.0,357000.0,255000.0,374950.0,355000.0,202000.0,275000.0,372000.0,306000.0,280000.0,431000.0,290000.0,240000.0,264500.0,241000.0,128000.0,192500.0,237200.0,215000.0,290000.0,230000.0,342000.0,279000.0,325000.0,275000.0,139500.0,289659.0,319000.0,219000.0,449950.0,254000.0,169950.0,233703.0,85000.0,235000.0,295000.0,269950.0,401500.0,344200.0,229900.0,324000.0,385000.0,180000.0,240000.0,290000.0,227950.0,347500.0,209000.0,445000.0,253000.0,244615.0,472000.0,267500.0,285000.0,460000.0,375000.0,300000.0,420000.0,265000.0,583500.0,232000.0,291000.0,201000.0,305000.0,734000.0,357000.0,545000.0,262500.0,320000.0,268500.0,250000.0,339950.0,425000.0,299900.0,195000.0,306000.0,530000.0,251750.0,220000.0,253000.0,392500.0,380000.0,256750.0,165000.0,220000.0,276000.0,260000.0,336950.0,358500.0,255000.0,300000.0,215000.0,245700.0,370000.0,300000.0,205000.0,198400.0,325000.0,282000.0,279900.0,210000.0,312000.0,360000.0,240000.0,335000.0,408000.0,216000.0,270000.0,300000.0,205000.0,205000.0,422500.0,306000.0,215000.0,245000.0,302500.0,350000.0,218000.0,205000.0,372000.0,312000.0,362000.0,364900.0,319000.0,255000.0,255000.0,354000.0,365000.0,185000.0,270000.0,355000.0,325000.0,257000.0,479000.0,479900.0,289000.0,382500.0,260000.0,310000.0,267000.0,359950.0,312000.0,280000.0,270000.0,339900.0,290000.0,357000.0,355000.0,225000.0,164000.0,222500.0,366400.0,260000.0,225205.0,333000.0,242025.0,300000.0,230000.0,269900.0,370000.0,261500.0,209950.0,345500.0,243000.0,287000.0,229950.0,320000.0,268000.0,305000.0,339950.0,249000.0,215150.0,280000.0,326000.0,360000.0,310000.0,455500.0,180000.0,260000.0,266950.0,649000.0,338950.0,252000.0,390000.0,256900.0,346000.0,339950.0,262500.0,198900.0,395000.0,279000.0,248000.0,241000.0,265000.0,280000.0,252000.0,336000.0,240000.0,294000.0,536000.0,229999.0,249900.0,290000.0,390000.0,382000.0,310000.0,240000.0,599950.0,255000.0,360000.0,280000.0,333000.0,265000.0,272000.0,230000.0,218500.0,191000.0,220000.0,228000.0,325000.0,273500.0,300000.0,390000.0,295000.0,225500.0,284000.0,306000.0,270000.0,235000.0,129000.0,214950.0,315000.0,202950.0,240000.0,292000.0,374950.0,260000.0,152000.0,274950.0,225000.0,279000.0,228950.0,568450.0,286000.0,205000.0,280000.0,234000.0,374000.0,140000.0,365000.0,396500.0,272000.0,353500.0,168500.0,319000.0,291000.0,302000.0,276750.0,239900.0,230000.0,105000.0,400000.0,365000.0,322000.0,380000.0,234950.0,309000.0,177000.0,230000.0,569950.0,282000.0,299000.0,285000.0,295000.0,240000.0,174950.0,205000.0,300000.0,367000.0,245000.0,280000.0,295000.0,269950.0,270000.0,265000.0,250000.0,227000.0,402000.0,274000.0,358800.0,399950.0,245000.0,351000.0,340000.0,239000.0,289000.0,270000.0,169000.0,279950.0,335000.0,450000.0,265000.0,237000.0,295000.0,250000.0,275000.0,334000.0,255000.0,295000.0,425000.0,476000.0,330000.0,381500.0,290000.0,215000.0,330000.0,257000.0,273500.0,242000.0,375000.0,175000.0,320000.0,320900.0,565000.0,398000.0,330000.0,140000.0,329950.0,253000.0,368000.0,585000.0,305000.0,253750.0,260000.0,315000.0,259500.0,320000.0,315000.0,255000.0,265000.0,275000.0,200500.0,376950.0,470000.0,389950.0,247500.0,270000.0,239950.0,185000.0,260000.0,300000.0,255000.0,311500.0,160000.0,100000.0,139000.0,341950.0,269900.0,202000.0,200000.0,305500.0,157500.0,265000.0,338000.0,320000.0,365000.0,252500.0,369000.0,369950.0,339000.0,283000.0,324900.0,213500.0,85000.0,209950.0,244500.0,425000.0,240000.0,372000.0,225000.0,381000.0,260000.0,320000.0,129000.0,325000.0,288000.0,325000.0,229950.0,370000.0,370000.0,132825.0,219950.0,250000.0,268500.0,354000.0,342000.0,294999.0,490000.0,231000.0,250000.0,399950.0,286000.0,298950.0,265000.0,207500.0,268000.0,315000.0,299000.0,124740.0,490000.0,279000.0,274950.0,147500.0,265950.0,379000.0,189950.0,160000.0,179900.0,179950.0,331000.0,261000.0,135000.0,281700.0,257000.0,337000.0,304500.0,365000.0,325000.0,241500.0,300000.0,439950.0,337000.0,397500.0,183000.0,226500.0,292500.0,253000.0,217500.0,389900.0,364900.0,179950.0,455000.0,398950.0,217000.0,253500.0,296500.0,334500.0,245000.0,269950.0,195000.0,275000.0,335000.0,219000.0,415000.0,240000.0,253000.0,340000.0,210000.0,220000.0,363000.0,315000.0,257500.0,243000.0,317950.0,435000.0,340000.0,255950.0,362950.0,270000.0,230000.0,395000.0,250000.0,255000.0,285000.0,372000.0,280000.0,273148.0,299950.0,784500.0,410000.0,353000.0,206000.0,287500.0,393000.0,339000.0,269000.0,299000.0,250200.0,192000.0,299500.0,377000.0,385000.0,325000.0,255000.0,259000.0,315000.0,239000.0,244950.0,295000.0,245000.0,239000.0,410000.0,180000.0,268000.0,279000.0,295000.0,270000.0,225000.0,285000.0,275000.0,425000.0,359500.0,240000.0,266490.0,279000.0,265000.0,270000.0,178500.0,339950.0,680000.0,685000.0,249900.0,315000.0,289000.0,215000.0,370000.0,290000.0,244000.0,330000.0,205000.0,278000.0,550000.0,277500.0,278000.0,299000.0,299500.0,234000.0,370000.0,246000.0,321000.0,226000.0,421500.0,338900.0,480000.0,375000.0,327555.0,250000.0,282000.0,282000.0,300000.0,330000.0,333500.0,210000.0,350000.0,320000.0,345000.0,260000.0,320000.0,447055.0,460940.0,415000.0,353000.0,379950.0,310000.0,248000.0,310000.0,261950.0,260000.0,385000.0,454950.0,280000.0,300000.0,313200.0,324950.0,436472.0,316475.0,498445.0,270000.0,389950.0,442515.0,459950.0,359950.0,324500.0,491000.0,479349.0,324950.0,286800.0,485230.0,305000.0,250000.0,375000.0,284000.0,333700.0,259950.0,391500.0,348000.0,253101.0,272000.0,374000.0,386000.0,367000.0,299000.0,375000.0,775000.0,790000.0,311850.0,287000.0,286950.0,407000.0,370950.0,300000.0,327000.0,365000.0,359950.0,255500.0,450000.0,300000.0,486940.0,370000.0,309000.0,380000.0,452000.0,469950.0,332000.0,378950.0,279500.0,300000.0,358000.0,317750.0,299950.0,255000.0,239950.0,337500.0,290000.0,370000.0,465000.0,422000.0,270000.0,350000.0],\"yaxis\":\"y\",\"type\":\"scattergl\"},{\"hovertemplate\":\"CIDADE=Issaquah<br>ranking=%{x}<br>PRE\\u00c7O=%{y}<extra></extra>\",\"legendgroup\":\"Issaquah\",\"marker\":{\"color\":\"#EF553B\",\"symbol\":\"circle\"},\"mode\":\"markers\",\"name\":\"Issaquah\",\"showlegend\":true,\"x\":[3,3,3,3,5,4,3,5,2,2,2,2,3,4,4,2,2,3,3,3,2,4,2,4,2,4,5,4,2,4,2,4,3,5,3,5,2,3,4,2,3,2,4,4,4,2,3,4,5,4,3,4,3,2,5,4,2,4,3,4,3,3,3,2,5,4,3,4,2,3,2,3,2,2,3,4,2,4,4,2,5,4,2,4,4,4,4,5,3,3,4,4,3,3,4,3,3,2,4,2,2,2,4,5,4,2,3,4,2,4,3,5,2,3,2,4,5,5,2,2,4,2,5,3,2,3,2,4,6,2,4,3,4,4,5,5,3,3,3,3,4,2,2,2,2,5,3,3,4,4,2,4,5,2,2,3,4,2,4,3,2,6,3,4,3,4,2,4,3,3,2,3,5,4,2,3,2,5,3,4,4,4,4,4,3,5,3,3,3,4,5,2,3,2,1,2,3,3,3,4,2,4,5,3,4,2,5,4,6,2,3,4,2,3,4,4,5,3,5,4,2,5,2,2,2,2,2,5,4,2,2,3,2,4,4,3,4,4,4,4,2,4,2,3,4,4,3,6,5,2,5,2,5,2,2,5,3,2,5,3,2,2,4,3,3,5,4,5,4,3,3,4,2,4,4,3,4,3,5,3,2,5,5,5,3,4,4,4,1,3,3,3,4,2,2,4,4,2,5,3,2,4,2,2,4,3,2,3,2,4,4,5,5,5,4,2,2,4,4,5,2,5,4,4,3,3,4,2,4,2,1,5,4,2,5,3,2,2,3,4,3,4,3,2,3,2,4,5,3,4,4,4,3,3,4,5,2,5,5,2,4,2,5,3,4,2,3,5,2,3,2,2,4,4,4,2,5,3,4,2,2,5,3,5,4,4,3,4,4,4,3,3,3,3,4,3,3,2,4,5,4,5,2,3,3,4,5,3,3,5,2,2,2,3,3,2,4,3,4,2,4,4,4,2,3,2,4,4,4,3,5,4,2,4,2,3,4,2,5,3,4,3,2,4,5,4,4,5,3,3,5,2,2,5,5,2,2,2,4,4,2,4,2,5,4,5,2,4,3,2,4,2,4,5,5,4,5,5,3,2,2,5,2,2,3,4,4,5,4,5,4,5,4,3,3,4,5,3,3,4,4,4,4,2,4,5,4,2,3,5,4,2,3,4,4,2,2,2,3,2,2,4,2,2,5,4,4,3,4,2,3,3,5,5,4,3,2,3,3,2,3,2,5,3,4,4,5,3,3,5,4,4,5,4,3,5,4,2,5,5,4,2,4,3,4,3,3,2,4,4,3,4,4,6,2,3,2,4,4,4,4,2,5,3,3,4,5,5,4,3,2,5,2,2,3,3,3,2,2,2,3,2,3,3,3,2,3,3,3,4,4,3,4,4,4,3,4,3,2,6,5,4,2,2,2,2,2,2,3,2,2,3,3,3,3,4,4,3,2,2,2,4,3,3,4,4,2,2,5,6,2,4,4,3,4,3,2,2,2,2,4,2,2,4,4,3,2,2,3,3,5,4,4,4,3,3,2,4,2,4,3,2,4,2,2,2,2,2,3,2,2,3,4,4,2,2,2,2,4,2,4,4,4,3,2,2,3,2,2,3,3,3,2,4,2,3,3,2,5,4,3,3,3,3,2,5,2,2,4,2,2,4,3],\"xaxis\":\"x\",\"y\":[580500.0,597750.0,660500.0,453246.0,430000.0,420000.0,520000.0,1030000.0,520000.0,1280000.0,435500.0,533600.0,485000.0,496500.0,460000.0,500000.0,310000.0,535800.0,425000.0,457500.0,524250.0,765000.0,484950.0,499000.0,399950.0,660000.0,975000.0,195000.0,510000.0,699000.0,605000.0,826000.0,925000.0,630000.0,525000.0,495000.0,530000.0,788500.0,825000.0,643000.0,672000.0,505000.0,658588.0,757000.0,765000.0,519500.0,532000.0,810000.0,780000.0,508000.0,729000.0,1038000.0,574000.0,477000.0,668000.0,850000.0,467000.0,690000.0,590000.0,490000.0,585000.0,525000.0,612000.0,604000.0,665000.0,380000.0,705380.0,500000.0,580000.0,808900.0,540000.0,753888.0,650000.0,545000.0,627000.0,715000.0,455000.0,690000.0,561000.0,606000.0,590000.0,523000.0,689000.0,525000.0,593500.0,1049000.0,520000.0,740000.0,716000.0,483500.0,670000.0,410000.0,520000.0,551000.0,965000.0,445000.0,626000.0,675000.0,970000.0,595000.0,405000.0,432250.0,634000.0,525000.0,605000.0,533250.0,532000.0,856000.0,248000.0,460000.0,395000.0,777000.0,619000.0,480680.0,619500.0,670000.0,518000.0,640000.0,534500.0,652500.0,560000.0,540000.0,575000.0,530000.0,425000.0,372977.0,357186.0,371000.0,379000.0,382500.0,600000.0,825000.0,620000.0,690000.0,970000.0,450000.0,490000.0,425000.0,479990.0,490000.0,310000.0,515000.0,478000.0,439990.0,535000.0,605000.0,723000.0,386591.0,710000.0,445000.0,638000.0,295000.0,785000.0,805000.0,660000.0,560000.0,439500.0,602000.0,735000.0,539950.0,536000.0,850000.0,510000.0,343000.0,1150000.0,648000.0,357562.0,435000.0,513000.0,963000.0,387000.0,376000.0,705000.0,455000.0,575000.0,600000.0,310000.0,775000.0,742500.0,390000.0,460000.0,769000.0,639000.0,675000.0,2200000.0,846450.0,533000.0,430000.0,313000.0,760000.0,905000.0,529000.0,517500.0,449950.0,455000.0,653000.0,565000.0,1349000.0,601000.0,530000.0,1515000.0,520000.0,725000.0,495000.0,390000.0,567000.0,717000.0,430000.0,780000.0,517500.0,477000.0,240000.0,305000.0,1300000.0,674725.0,485000.0,878000.0,620000.0,465000.0,395000.0,713000.0,440000.0,650000.0,396480.0,376000.0,622000.0,535000.0,542500.0,620000.0,449950.0,620000.0,535500.0,639000.0,435000.0,285000.0,425000.0,635000.0,750000.0,620000.0,690000.0,630000.0,525000.0,360000.0,374000.0,605000.0,652500.0,525000.0,616500.0,833450.0,565000.0,929950.0,402000.0,349900.0,454280.0,305000.0,1200000.0,560000.0,350000.0,465000.0,404763.0,626100.0,590000.0,459900.0,413565.0,679000.0,580000.0,811500.0,600000.0,1335000.0,571500.0,550388.0,869000.0,499000.0,780000.0,1160000.0,825000.0,675000.0,476100.0,575000.0,555000.0,485000.0,689900.0,510000.0,753000.0,425000.0,605000.0,835000.0,435000.0,517500.0,620000.0,362000.0,419990.0,725000.0,550000.0,310000.0,728725.0,599900.0,645500.0,847700.0,640000.0,690000.0,410000.0,351358.0,545000.0,1700000.0,472217.0,653000.0,545000.0,545000.0,589000.0,1050000.0,532000.0,550000.0,525888.0,825000.0,472500.0,571000.0,449000.0,751000.0,450000.0,535000.0,463000.0,454900.0,950000.0,559500.0,477500.0,550000.0,590000.0,827500.0,496700.0,545800.0,625000.0,825000.0,491234.0,1450000.0,450000.0,615000.0,550000.0,2200000.0,855000.0,460000.0,688888.0,905000.0,491500.0,700000.0,498688.0,690000.0,543000.0,509950.0,501000.0,920000.0,420000.0,590000.0,471000.0,429000.0,575000.0,450000.0,599990.0,660000.0,680000.0,485000.0,544000.0,420000.0,502775.0,770000.0,485000.0,575000.0,735000.0,618080.0,735000.0,435000.0,475200.0,780000.0,690000.0,570000.0,535000.0,595000.0,575000.0,645000.0,575000.0,585000.0,542500.0,545000.0,730100.0,788000.0,240000.0,379880.0,695000.0,243800.0,575000.0,450000.0,451000.0,462608.0,510000.0,1822500.0,765000.0,785000.0,310000.0,965000.0,492000.0,675750.0,580000.0,2600000.0,700000.0,464000.0,530000.0,465000.0,910000.0,500000.0,620000.0,599950.0,593000.0,550000.0,695000.0,625000.0,800000.0,130000.0,389000.0,410000.0,599000.0,459000.0,820000.0,599000.0,517500.0,580000.0,685000.0,750000.0,362500.0,800000.0,450000.0,998000.0,765000.0,653675.0,500000.0,550000.0,980000.0,760000.0,495000.0,760000.0,505000.0,770000.0,770000.0,564800.0,1040000.0,570000.0,380000.0,464950.0,920000.0,475000.0,840000.0,563750.0,625000.0,470000.0,540000.0,1150000.0,585000.0,615000.0,450000.0,500000.0,757500.0,524950.0,574950.0,645000.0,575000.0,527500.0,611000.0,561000.0,890900.0,725000.0,546000.0,385000.0,468000.0,600000.0,1520000.0,490000.0,377000.0,495000.0,427000.0,683000.0,590000.0,420000.0,1050000.0,480000.0,395000.0,330000.0,598500.0,658100.0,440000.0,740000.0,585000.0,470000.0,808000.0,900000.0,1348000.0,418000.0,800000.0,478000.0,437500.0,560000.0,632000.0,720000.0,917000.0,710000.0,389999.0,450000.0,630000.0,503000.0,500000.0,500000.0,642000.0,300000.0,620000.0,525000.0,685000.0,500000.0,500000.0,613500.0,625000.0,379770.0,578550.0,451000.0,530000.0,637500.0,430000.0,600000.0,715000.0,520000.0,499900.0,775000.0,541000.0,500000.0,496600.0,560000.0,612500.0,605000.0,550000.0,330000.0,638150.0,360000.0,625000.0,424000.0,610000.0,765000.0,575000.0,361000.0,711000.0,865000.0,511100.0,369300.0,510000.0,535000.0,490000.0,525000.0,690000.0,358500.0,840000.0,695000.0,475000.0,695000.0,839000.0,572000.0,427500.0,588000.0,699950.0,685000.0,695000.0,520000.0,612000.0,440000.0,255500.0,680000.0,210000.0,396450.0,592500.0,480000.0,560000.0,425000.0,745000.0,873000.0,350000.0,589000.0,447000.0,589900.0,401000.0,620000.0,549000.0,710000.0,545000.0,774888.0,578000.0,484998.0,739000.0,377500.0,425000.0,839704.0,375000.0,715000.0,645000.0,334950.0,585000.0,759990.0,629800.0,420000.0,304500.0,815000.0,509900.0,348000.0,395825.0,366000.0,950000.0,2700000.0,293467.0,550000.0,665000.0,909500.0,288790.0,615000.0,825000.0,325000.0,650000.0,801000.0,600000.0,689500.0,555000.0,555000.0,325000.0,700000.0,571000.0,1238000.0,335000.0,639888.0,395000.0,535000.0,384500.0,1051000.0,1350000.0,585000.0,790000.0,611000.0,650000.0,716500.0,1385000.0,805000.0,494815.0,673000.0,890000.0,461000.0,599000.0,675000.0,820000.0,391000.0,1800000.0,661000.0,415000.0,950000.0,355000.0,530000.0,475000.0,635000.0,635000.0,1060000.0,405000.0,680000.0,828950.0,795000.0,554000.0,305000.0,352499.0,355000.0,775000.0,790000.0,890000.0,674950.0,533500.0,725000.0,1258000.0,325000.0,1830000.0,419190.0,812000.0,399900.0,450000.0,782900.0,415000.0,338500.0,379500.0,740000.0,535000.0,302059.0,556000.0,520000.0,315000.0,1139990.0,613000.0,449500.0,346100.0,450000.0,654000.0,775000.0,663000.0,1050000.0,725000.0,272167.0,308000.0,646800.0,530200.0,445000.0,635000.0,497000.0,288790.0,567500.0,773000.0,331000.0,627000.0,329950.0,680000.0,825750.0,405000.0,782000.0,775000.0,830000.0,288790.0,358000.0,749950.0,669950.0,850000.0,484000.0,735000.0,2238890.0,336750.0,589999.0,785000.0,400000.0],\"yaxis\":\"y\",\"type\":\"scattergl\"},{\"hovertemplate\":\"CIDADE=Renton<br>ranking=%{x}<br>PRE\\u00c7O=%{y}<extra></extra>\",\"legendgroup\":\"Renton\",\"marker\":{\"color\":\"#00cc96\",\"symbol\":\"circle\"},\"mode\":\"markers\",\"name\":\"Renton\",\"showlegend\":true,\"x\":[5,3,2,5,3,3,4,2,3,5,4,4,6,4,4,2,2,5,4,3,6,4,4,2,4,3,3,4,5,4,3,4,3,3,4,5,4,3,4,3,4,4,4,3,4,2,3,3,5,2,4,4,3,2,4,3,3,5,3,4,4,2,4,5,5,3,3,2,3,3,3,2,5,4,4,3,4,4,6,1,4,4,2,3,3,3,3,3,4,4,3,4,5,4,5,3,4,2,2,4,5,4,3,5,5,5,4,3,5,4,5,2,4,3,4,4,2,5,2,3,4,4,4,3,3,4,2,3,4,4,4,4,5,4,4,4,3,2,4,4,3,4,2,3,5,4,4,3,4,5,5,3,3,4,5,4,3,3,3,2,4,2,4,1,5,4,3,2,4,5,3,4,4,5,3,3,4,4,4,6,5,3,5,2,4,4,1,4,2,2,3,4,4,5,4,4,4,4,4,3,4,5,3,2,2,2,6,3,4,2,3,3,4,4,5,4,5,5,4,4,4,4,3,4,2,3,4,2,4,3,5,3,4,2,3,3,3,3,3,6,4,4,3,4,4,4,5,5,4,4,4,4,5,3,4,4,5,4,5,4,4,4,5,3,5,3,3,3,2,5,4,3,4,2,4,2,5,4,3,3,5,4,4,4,2,3,5,4,3,3,5,4,5,4,5,4,6,3,4,3,4,5,1,4,5,3,3,4,4,3,4,2,2,3,4,4,6,3,4,3,3,4,3,5,5,3,4,3,4,3,3,3,2,3,5,2,3,4,3,2,3,4,4,5,6,3,5,4,4,3,3,3,5,4,3,5,4,5,4,4,3,4,3,5,4,4,4,5,4,4,3,3,3,4,2,4,5,5,5,5,3,3,4,4,3,4,5,4,6,4,3,3,4,4,4,4,4,3,4,4,5,2,3,3,4,4,3,4,3,4,3,3,3,3,3,3,3,3,3,3,5,3,3,3,5,3,4,4,4,4,3,5,5,3,4,4,4,2,4,3,5,5,4,5,2,4,4,4,4,3,3,4,3,4,3,4,3,3,5,4,2,5,3,4,3,4,4,2,3,2,4,3,4,4,3,5,3,2,4,4,3,3,4,3,4,3,4,4,2,4,2,3,3,3,5,4,5,3,2,2,4,3,3,3,4,4,5,3,5,5,4,2,2,2,4,5,3,3,6,2,3,4,3,4,3,4,4,2,2,5,3,5,4,5,3,4,3,3,3,2,3,6,3,6,2,3,3,4,4,2,4,2,4,4,4,3,3,3,3,4,3,4,3,6,2,3,3,4,4,4,4,3,4,4,3,3,6,4,4,3,4,4,3,3,4,3,2,3,4,6,4,3,3,4,5,5,2,3,4,3,4,3,4,5,6,3,4,4,6,3,5,3,3,5,3,4,3,4,4,3,3,3,3,4,4,4,4,5,3,4,4,2,4,4,3,5,3,4,3,5,4,4,4,4,4,5,3,4,2,4,4,2,3,4,3,3,4,4,5,5,5,3,1,4,3,5,2,1,5,5,4,5,2,4,4,3,3,4,4,4,3,4,4,2,3,3,4,3,4,4,3,4,4,4,4,4,3,2,4,3,3,6,1,3,5,4,4,4,4,5,5,3,5,5,3,3,5,5,4,4,3,1,4,4,4,6,3,4,6,4,4,3,4,5,3,3,3,4,4,2,3,3,2,2,4,3,3,2,3,3,3,4,4,4,5,5,5,4,3,2,3,2,4,6,3,3,3,4,3,3,4,5,5,4,4,3,2,4,5,5,3,4,4,3,4,4,4,4,5,3,4,2,2,3,3,5,4,3,4,5,4,4,5,3,3,4,4,4,3,5,4,3,4,3,2,3,4,4,4,3,2,4,5,3,4,4,3,4,4,2,6,3,4,4,4,4,4,5,4,4,4,4,4,4,3,3,5,4,4,4,4,3,3,3,3,5,3,3,3,3,6,4,6,4,4,3,4,3,4,2,4,4,3,2,3,3,4,2,2,4,5,4,3,3,5,4,4,3,3,3,4,5,4,3,5,3,3,2,4,3,4,5,3,3,4,3,4,4,4,3,3,3,3,3,4,2,4,3,4,2,3,4,4,4,4,2,4,4,4,3,4,3,3,4,5,4,5,4,2,2,5,3,3,4,3,3,3,5,4,3,6,5,5,4,3,2,5,3,3,3,5,3,5,5,4,2,2,4,3,3,4,3,2,4,2,4,3,3,3,4,3,3,3,3,5,3,2,3,2,4,3,4,3,4,4,5,3,4,3,4,4,2,3,3,5,3,3,2,6,4,5,3,4,5,2,4,4,4,5,6,4,4,2,3,4,3,4,2,5,3,4,4,3,5,3,4,4,4,4,3,2,2,3,3,4,3,3,3,4,3,3,3,2,3,3,4,3,5,5,5,3,3,2,3,4,5,4,5,3,3,3,5,3,4,2,3,5,3,4,4,3,2,3,2,2,4,5,4,3,4,5,4,3,4,4,5,3,4,3,5,3,5,4,3,3,4,4,5,3,4,3,3,4,5,3,3,4,4,3,3,6,5,3,4,3,5,4,2,2,2,3,5,3,4,4,3,3,5,2,4,4,3,4,4,5,4,3,3,3,5,4,5,2,3,4,4,5,4,4,5,4,3,2,5,4,4,4,4,4,2,4,2,3,4,2,4,4,3,4,4,3,4,4,2,5,2,3,6,3,4,3,3,4,4,4,3,3,4,3,3,2,3,3,4,3,2,2,2,5,5,2,4,3,5,2,4,3,4,5,3,4,4,1,4,4,6,5,3,2,4,3,5,4,3,4,3,2,4,5,3,2,4,4,5,5,4,3,4,3,2,3,4,2,2,4,4,3,3,3,2,4,4,4,1,2,2,5,3,3,4,2,3,4,3,2,3,4,4,2,4,3,3,5,3,4,3,5,3,2,5,4,5,4,3,4,3,3,3,3,5,3,2,3,5,4,4,2,5,4,2,3,3,2,3,4,4,5,5,4,4,3,2,3,4,1,3,4,3,4,3,3,3,2,4,3,5,5,4,2,4,3,4,6,4,3,5,2,5,4,3,3,4,4,6,5,2,4,3,3,4,4,4,4,4,3,3,4,4,3,4,4,4,2,5,5,3,5,2,5,2,5,3,5,4,6,4,3,2,3,4,5,3,3,4,4,3,3,4,3,4,4,6,6,2,3,5,3,4,2,3,3,4,4,2,5,4,4,4,4,3,4,4,4,3,4,6,4,4,3,4,3,3,3,3,3,4,2,4,4,3,3,3,3,4,4,4,4,3,4,4,3,3,4,3,4,4,4,4,3,3,4,3,4,3,3,4,4,4,3,4,4,3,4,2,3,2,4,4,2,4,3,4,6,4,4,3,4,4,4,3,4,5,3,4,3,3,3,4,4,3,3,3,5,3,4,4,3,3,4,2,4,2,4,3,3,4,4,3,4,4,4,3,4,4,4,3,3,4,4,4,3,3,4,4,4,3,3,3,4,4,4,4,3,3,4,3,3,3,4,5,4,4,4,4,3,5,4,3,2,4,4,4,3,4,4,2,4,3,3,4,4,3,3,4,3,3,3,4,4,4,3,4,2,3,4,4,4,3,2,4,4,4,4,3,3,4,3],\"xaxis\":\"x\",\"y\":[322500.0,605000.0,309000.0,345000.0,430000.0,356000.0,461000.0,215000.0,290000.0,375000.0,205000.0,215000.0,650000.0,320000.0,166950.0,210000.0,274250.0,500000.0,455000.0,315000.0,450000.0,580000.0,446500.0,665000.0,305000.0,684000.0,320000.0,380000.0,338000.0,280000.0,297000.0,252350.0,269900.0,364950.0,538000.0,380000.0,365000.0,237000.0,578000.0,370000.0,280000.0,480000.0,890000.0,288000.0,235000.0,358000.0,346900.0,280000.0,315000.0,261000.0,725000.0,263500.0,290000.0,426700.0,331000.0,385000.0,373000.0,359900.0,310000.0,320000.0,328000.0,501000.0,365000.0,405300.0,429900.0,341500.0,305000.0,347000.0,682000.0,350000.0,352000.0,370500.0,450000.0,467000.0,839900.0,300000.0,324000.0,290000.0,390000.0,427200.0,280000.0,270000.0,197500.0,425000.0,140000.0,500000.0,385000.0,151000.0,1570000.0,552500.0,1200000.0,302000.0,272000.0,369000.0,1278000.0,303000.0,225500.0,235000.0,334950.0,460000.0,350000.0,317000.0,276900.0,484000.0,441500.0,590000.0,445000.0,270000.0,364808.0,320000.0,350000.0,255000.0,530000.0,430000.0,435000.0,360000.0,290000.0,250000.0,300000.0,283500.0,290000.0,235867.0,423000.0,720000.0,300000.0,442000.0,390000.0,900000.0,420000.0,365000.0,150000.0,299000.0,602500.0,192000.0,180500.0,177500.0,238000.0,284950.0,331500.0,339000.0,345000.0,300000.0,350000.0,200000.0,379500.0,785000.0,445000.0,416000.0,550000.0,390000.0,327500.0,279000.0,1135000.0,330000.0,360000.0,380000.0,353500.0,207000.0,370000.0,350000.0,349000.0,320000.0,449500.0,330000.0,439950.0,378000.0,390000.0,302000.0,252000.0,471750.0,562500.0,485000.0,507000.0,340000.0,505000.0,380000.0,310000.0,272000.0,307000.0,345000.0,270000.0,280950.0,535000.0,250000.0,345000.0,265000.0,327000.0,287500.0,517100.0,322500.0,328000.0,495000.0,172500.0,371000.0,280000.0,360000.0,485000.0,200000.0,340500.0,155000.0,347500.0,352500.0,300000.0,290300.0,399500.0,230000.0,415000.0,369990.0,285750.0,220000.0,305000.0,273000.0,365000.0,278500.0,405000.0,268000.0,665000.0,385000.0,145600.0,162000.0,306000.0,341000.0,180000.0,311000.0,372000.0,380000.0,230000.0,438000.0,335000.0,550000.0,1500000.0,1320000.0,527000.0,390000.0,288400.0,249000.0,315000.0,739000.0,256000.0,725000.0,289000.0,400000.0,410000.0,318500.0,437500.0,425000.0,895000.0,368000.0,390000.0,445000.0,199000.0,749700.0,415000.0,790000.0,150000.0,790000.0,619420.0,454200.0,328950.0,310000.0,205000.0,312500.0,300000.0,539950.0,280000.0,770000.0,270000.0,502500.0,245000.0,436300.0,570000.0,312500.0,320000.0,169500.0,240000.0,173000.0,585000.0,347500.0,387000.0,1208000.0,1300000.0,315000.0,355000.0,998000.0,265000.0,600000.0,375000.0,218000.0,235000.0,314950.0,346150.0,359950.0,526000.0,244000.0,373000.0,405000.0,499500.0,417000.0,346500.0,701000.0,290000.0,415000.0,522500.0,359950.0,400000.0,341000.0,305000.0,1570000.0,170000.0,315000.0,330000.0,348500.0,370000.0,366000.0,299950.0,374950.0,320000.0,249950.0,500000.0,315001.0,360000.0,308000.0,393000.0,320000.0,554000.0,221000.0,259950.0,263000.0,760000.0,240000.0,325000.0,208000.0,280000.0,397500.0,324000.0,414000.0,205000.0,423000.0,266000.0,379600.0,315000.0,310000.0,359000.0,265000.0,365000.0,310000.0,325000.0,599000.0,475000.0,360000.0,268000.0,635000.0,312500.0,525000.0,330000.0,335000.0,322400.0,464000.0,550000.0,435000.0,355000.0,215000.0,690700.0,565000.0,529888.0,395000.0,270000.0,300000.0,279950.0,329000.0,352000.0,1050000.0,997000.0,485000.0,227450.0,292600.0,349900.0,250000.0,385000.0,515000.0,99000.0,1070000.0,349000.0,195000.0,365500.0,399000.0,375000.0,365000.0,439950.0,259950.0,1780000.0,299950.0,785000.0,255000.0,268000.0,304000.0,426500.0,345000.0,355000.0,340000.0,258000.0,357500.0,370000.0,270000.0,439900.0,110000.0,406000.0,100000.0,980000.0,489000.0,349950.0,309950.0,305000.0,225000.0,270000.0,327500.0,460000.0,585000.0,572500.0,200000.0,395000.0,1029000.0,390000.0,235000.0,336000.0,268643.0,285000.0,441000.0,620000.0,272000.0,228000.0,320000.0,589950.0,259000.0,226000.0,300000.0,300000.0,402000.0,314000.0,277000.0,313100.0,292000.0,175000.0,390000.0,310650.0,289000.0,334950.0,287000.0,365000.0,260000.0,270000.0,317500.0,264950.0,320000.0,379500.0,144000.0,238950.0,330000.0,165000.0,340000.0,377000.0,410000.0,535000.0,225000.0,295000.0,301000.0,370000.0,290000.0,225000.0,470000.0,326000.0,340000.0,265000.0,525000.0,279000.0,325500.0,359000.0,253905.0,455000.0,549900.0,385000.0,350000.0,398500.0,203000.0,320000.0,299000.0,641000.0,332544.0,272000.0,424950.0,230000.0,208000.0,435000.0,315000.0,736500.0,415000.0,320000.0,583000.0,413900.0,225000.0,328000.0,249950.0,354900.0,481000.0,300000.0,410000.0,475000.0,460000.0,436500.0,358000.0,275500.0,380500.0,449999.0,337500.0,300000.0,325000.0,440000.0,260000.0,348000.0,406000.0,300000.0,299000.0,360000.0,425000.0,250000.0,670000.0,292000.0,250000.0,397000.0,415000.0,231000.0,915000.0,322500.0,258900.0,320000.0,548000.0,345000.0,419950.0,190000.0,339900.0,253000.0,529000.0,345000.0,355000.0,404600.0,189900.0,250000.0,151600.0,515000.0,269950.0,469000.0,299950.0,323000.0,217000.0,580135.0,205000.0,150000.0,950000.0,200000.0,371000.0,315000.0,279950.0,279000.0,360000.0,280000.0,237000.0,340000.0,440000.0,432000.0,141800.0,199000.0,335000.0,495500.0,261000.0,349950.0,333000.0,420000.0,590000.0,336500.0,625000.0,544800.0,220000.0,370000.0,355000.0,600000.0,165000.0,180000.0,222900.0,320000.0,555000.0,506000.0,306500.0,325000.0,225000.0,782000.0,250000.0,299000.0,238000.0,330000.0,343000.0,332000.0,239950.0,200000.0,380000.0,360000.0,555000.0,230000.0,480000.0,350000.0,506400.0,332000.0,520000.0,365000.0,360000.0,355000.0,190000.0,314950.0,175000.0,305100.0,540000.0,380000.0,367500.0,1050000.0,235000.0,360000.0,261490.0,453500.0,279000.0,408000.0,287000.0,345000.0,348000.0,340000.0,230000.0,375000.0,479950.0,415000.0,222000.0,1205000.0,439000.0,405000.0,380000.0,429000.0,216180.0,300000.0,310000.0,560000.0,320000.0,545000.0,305000.0,144000.0,139000.0,225000.0,525000.0,470000.0,307150.0,379000.0,585000.0,400000.0,339950.0,317500.0,329950.0,219950.0,678500.0,275000.0,420000.0,310000.0,287000.0,238000.0,328000.0,265000.0,390000.0,265000.0,480000.0,487500.0,698000.0,230000.0,479950.0,392000.0,535000.0,460500.0,475000.0,430000.0,296000.0,349000.0,348000.0,629000.0,259000.0,246000.0,349000.0,560000.0,299950.0,265000.0,137124.0,269000.0,330000.0,311000.0,420000.0,518000.0,429950.0,275000.0,397500.0,290000.0,235000.0,370000.0,419000.0,326000.0,291600.0,238000.0,375000.0,439000.0,380000.0,365000.0,555000.0,464000.0,280000.0,475000.0,335000.0,471000.0,335000.0,730000.0,510000.0,305000.0,426950.0,325000.0,485000.0,254000.0,260000.0,312500.0,370000.0,185000.0,365000.0,395000.0,334000.0,375000.0,429000.0,399000.0,359000.0,389000.0,350000.0,290000.0,292000.0,213000.0,325000.0,348000.0,420000.0,313000.0,230000.0,366000.0,327000.0,343888.0,433000.0,266200.0,95000.0,362500.0,278000.0,375000.0,333000.0,288000.0,306888.0,525000.0,410000.0,335000.0,375000.0,260000.0,345000.0,317000.0,265000.0,289571.0,210000.0,495000.0,710000.0,350000.0,316000.0,460000.0,515700.0,390000.0,392500.0,405000.0,435000.0,294900.0,199500.0,247000.0,215000.0,450000.0,425000.0,540000.0,280000.0,300000.0,207100.0,325000.0,389900.0,298000.0,315000.0,300000.0,378000.0,750000.0,442250.0,435000.0,229950.0,260000.0,270000.0,379900.0,278000.0,230000.0,329950.0,448000.0,383000.0,317000.0,317500.0,320000.0,213400.0,387500.0,560000.0,315000.0,751000.0,235000.0,630000.0,300000.0,429900.0,283000.0,194000.0,460000.0,1200000.0,395000.0,342500.0,840000.0,510000.0,455000.0,294000.0,400000.0,126000.0,435000.0,160000.0,168000.0,238000.0,232000.0,512000.0,250000.0,330000.0,305495.0,289000.0,494500.0,385000.0,220000.0,289900.0,335500.0,419500.0,429950.0,374900.0,498500.0,455000.0,1150000.0,315000.0,275000.0,319950.0,240000.0,415500.0,450000.0,725000.0,410000.0,320000.0,250000.0,400000.0,452000.0,418000.0,290000.0,400000.0,269500.0,324500.0,525000.0,225000.0,495000.0,255000.0,349950.0,215000.0,440000.0,330000.0,162248.0,400000.0,380000.0,359500.0,422500.0,263000.0,302000.0,230000.0,344950.0,1068000.0,257000.0,275000.0,311000.0,350000.0,325000.0,213800.0,515000.0,309500.0,640000.0,360000.0,412000.0,669888.0,150000.0,345000.0,640000.0,600000.0,485000.0,375000.0,530000.0,344500.0,505000.0,290000.0,199950.0,449950.0,361550.0,317000.0,360000.0,320000.0,335000.0,242500.0,235000.0,343000.0,291970.0,529000.0,315000.0,435000.0,350000.0,240000.0,430000.0,340000.0,335000.0,443950.0,302200.0,374950.0,350000.0,317000.0,383000.0,550000.0,291375.0,490000.0,242500.0,231500.0,330000.0,295000.0,340000.0,309950.0,320000.0,255000.0,868500.0,365000.0,438800.0,324950.0,381000.0,600000.0,360000.0,381000.0,555000.0,430000.0,417400.0,320000.0,252500.0,380000.0,363000.0,240000.0,481000.0,311100.0,260000.0,185000.0,290000.0,384200.0,312000.0,417000.0,280000.0,681716.0,234300.0,313100.0,230000.0,249000.0,275000.0,675000.0,1037000.0,716500.0,480000.0,804100.0,230000.0,935000.0,450000.0,289950.0,515000.0,585000.0,310000.0,230000.0,250000.0,252000.0,289950.0,280000.0,479950.0,274000.0,315000.0,260000.0,208950.0,364000.0,180000.0,310000.0,450000.0,655000.0,575000.0,375000.0,300000.0,431000.0,555000.0,584950.0,325000.0,320000.0,253200.0,257000.0,199000.0,435000.0,285000.0,838000.0,318000.0,400000.0,197000.0,302000.0,339950.0,360000.0,350000.0,190000.0,590000.0,229000.0,295000.0,255000.0,360000.0,365000.0,600000.0,600000.0,442500.0,412950.0,300000.0,299000.0,549000.0,602500.0,310000.0,275000.0,615000.0,347000.0,475000.0,1500000.0,355000.0,280000.0,537100.0,329950.0,319500.0,570000.0,262000.0,425000.0,390000.0,287000.0,346000.0,325000.0,499950.0,380000.0,330000.0,165000.0,255000.0,314950.0,657000.0,706000.0,333000.0,335000.0,340000.0,183750.0,290000.0,560000.0,320000.0,274000.0,285000.0,405000.0,405000.0,352500.0,199000.0,410000.0,605000.0,255000.0,825000.0,190000.0,210000.0,189000.0,545000.0,260000.0,450000.0,375000.0,327000.0,394500.0,383000.0,249950.0,419000.0,392000.0,297950.0,725000.0,380000.0,365000.0,405000.0,385000.0,368750.0,316500.0,200000.0,159000.0,430000.0,360000.0,500000.0,345000.0,725126.0,390000.0,345000.0,370000.0,225000.0,972800.0,490000.0,374000.0,390000.0,330490.0,535000.0,358000.0,492000.0,190000.0,345000.0,290000.0,344500.0,679000.0,421000.0,387000.0,404000.0,319000.0,320000.0,568000.0,175000.0,335000.0,338000.0,680000.0,423000.0,395000.0,459000.0,369950.0,558000.0,275000.0,370000.0,312000.0,267000.0,265000.0,250000.0,500000.0,322000.0,480000.0,295000.0,500000.0,356000.0,400000.0,342000.0,359900.0,655000.0,330000.0,440000.0,322000.0,286000.0,362000.0,282500.0,427500.0,431000.0,285000.0,237000.0,305000.0,478000.0,635000.0,325000.0,475000.0,230000.0,129000.0,436000.0,465950.0,540000.0,252500.0,300000.0,301950.0,568500.0,329950.0,500000.0,293000.0,305000.0,860000.0,372000.0,323000.0,560000.0,190000.0,535000.0,260000.0,565000.0,295500.0,390000.0,255000.0,1185000.0,875000.0,225000.0,321000.0,254000.0,414000.0,249500.0,305000.0,253000.0,225000.0,419625.0,379000.0,223000.0,631000.0,350000.0,310000.0,249000.0,256500.0,620000.0,376000.0,439000.0,225000.0,250000.0,275000.0,347950.0,535000.0,305000.0,570000.0,420000.0,255000.0,305000.0,455000.0,239000.0,386000.0,290000.0,206000.0,449400.0,310000.0,327000.0,582000.0,386000.0,150000.0,175000.0,610000.0,315000.0,265000.0,435000.0,199950.0,407500.0,524000.0,972000.0,358000.0,191000.0,284000.0,421000.0,316000.0,296500.0,350000.0,430000.0,425000.0,165000.0,415000.0,350000.0,295000.0,425000.0,415000.0,297950.0,209995.0,420000.0,752000.0,564450.0,305000.0,212000.0,275000.0,220000.0,206325.0,339000.0,399000.0,515500.0,440000.0,270000.0,370000.0,180000.0,250000.0,300000.0,364950.0,410000.0,445000.0,463828.0,468000.0,265000.0,368500.0,419950.0,665000.0,406500.0,1284000.0,527000.0,337000.0,598555.0,425000.0,710000.0,633000.0,349950.0,395000.0,572500.0,322000.0,261500.0,445000.0,380000.0,345000.0,270000.0,390000.0,275000.0,315000.0,249500.0,217000.0,427500.0,289000.0,411000.0,400000.0,440000.0,440000.0,216000.0,305000.0,301500.0,372500.0,247000.0,343500.0,290000.0,1096500.0,271500.0,382880.0,230000.0,252000.0,262500.0,343500.0,383000.0,315000.0,225000.0,469900.0,449000.0,440000.0,345000.0,255950.0,349950.0,265000.0,252000.0,170500.0,255000.0,359000.0,482000.0,287000.0,325000.0,235000.0,365650.0,450000.0,1135250.0,245000.0,430000.0,330000.0,350000.0,388000.0,306000.0,1115000.0,325000.0,180000.0,519000.0,380000.0,325000.0,329000.0,187000.0,313500.0,259000.0,410000.0,140000.0,370000.0,365000.0,512000.0,299000.0,299000.0,352750.0,250000.0,450000.0,747500.0,325000.0,190000.0,374000.0,231750.0,690000.0,280000.0,781500.0,295000.0,272500.0,270000.0,330000.0,400000.0,390000.0,371000.0,299000.0,440000.0,470000.0,320000.0,349000.0,333000.0,595000.0,310000.0,450000.0,269950.0,279950.0,305000.0,410000.0,518000.0,565000.0,445000.0,315500.0,529950.0,359900.0,419950.0,269950.0,300000.0,235000.0,274000.0,429000.0,440000.0,575000.0,505000.0,400000.0,495000.0,549995.0,489000.0,745000.0,538000.0,545000.0,962000.0,530000.0,610360.0,293000.0,659950.0,359000.0,519000.0,535000.0,515000.0,1079000.0,435000.0,320000.0,559950.0,389950.0,432500.0,400000.0,740000.0,530000.0,570000.0,249900.0,887250.0,580000.0,498000.0,580000.0,379000.0,485000.0,449950.0,388000.0,971971.0,551500.0,307000.0,554950.0,550000.0,569995.0,440000.0,551000.0,475000.0,718000.0,515805.0,1029280.0,565997.0,588000.0,278000.0,649000.0,415000.0,499950.0,456500.0,333000.0,390000.0,3000000.0,659950.0,657044.0,420000.0,570000.0,745000.0,600000.0,480000.0,437000.0,729000.0,530000.0,290500.0,500012.0,798800.0,950000.0,1267500.0,650000.0,576000.0,515000.0,719950.0,292000.0,572000.0,460000.0,467000.0,552500.0,415000.0,469995.0,305000.0,625000.0,293000.0,630000.0,370000.0,360000.0,305000.0,440000.0,600000.0,507950.0,750000.0,603000.0,478000.0,462000.0,641000.0,479950.0,530000.0,475000.0,639983.0,627000.0,562500.0,561000.0,609000.0,294500.0,305450.0,477500.0,414000.0,525000.0,636230.0,294570.0,300000.0,530000.0,424950.0,525000.0,525000.0,675900.0,2230000.0,450800.0,1025000.0,385000.0,615000.0,391000.0,505000.0,424950.0,495000.0,400000.0,459995.0,300000.0,625000.0,392000.0,549995.0,355000.0,445000.0,435000.0,612995.0,465000.0,490000.0,458000.0,417000.0,563950.0,519995.0,295000.0,553000.0,455950.0,1174660.0,542525.0,418500.0,353000.0,460000.0,569888.0,535000.0,465750.0,494995.0,649500.0,525000.0,330000.0,819995.0,579000.0,529000.0,505000.0,579950.0,405000.0,509900.0,540000.0,750000.0,579950.0,608500.0,1088000.0,679950.0,610685.0],\"yaxis\":\"y\",\"type\":\"scattergl\"},{\"hovertemplate\":\"CIDADE=Vashon<br>ranking=%{x}<br>PRE\\u00c7O=%{y}<extra></extra>\",\"legendgroup\":\"Vashon\",\"marker\":{\"color\":\"#ab63fa\",\"symbol\":\"circle\"},\"mode\":\"markers\",\"name\":\"Vashon\",\"showlegend\":true,\"x\":[3,2,4,4,3,2,5,5,6,2,2,2,6,7,4,3,3,4,5,3,4,6,5,5,4,5,4,4,3,4,5,4,4,5,4,4,3,5,3,5,3,3,4,3,5,3,5,5,3,4,4,4,5,2,5,3,2,6,3,2,4,4,4,4,5,4,4,4,4,4,3,4,6,4,3,4,4,4,4,5,4,5,3,4,4,5,3,3,1,1,5,5,2,4,4,3,4,3,4,5,2,5,3,5,5,2,3,4,4,5,2,6,3,5,2,3,4,3],\"xaxis\":\"x\",\"y\":[1350000.0,369900.0,309600.0,517534.0,705000.0,290000.0,545000.0,255000.0,585000.0,530000.0,510000.0,480000.0,453000.0,482000.0,999000.0,252000.0,329500.0,256500.0,338500.0,429592.0,1379900.0,525000.0,562000.0,550000.0,567035.0,550000.0,789000.0,363750.0,181000.0,549000.0,389000.0,303000.0,350000.0,416500.0,663000.0,495000.0,340000.0,545000.0,295000.0,310000.0,649000.0,410000.0,950000.0,700000.0,645000.0,330000.0,490000.0,275000.0,285000.0,400000.0,695000.0,645000.0,445000.0,310000.0,485000.0,220500.0,329000.0,565000.0,297000.0,650000.0,496000.0,280000.0,485000.0,495000.0,729000.0,367000.0,665000.0,350000.0,319000.0,437000.0,430000.0,295000.0,467500.0,417000.0,385000.0,777700.0,600000.0,849900.0,635000.0,520000.0,355000.0,575000.0,407185.0,358000.0,295000.0,480000.0,519000.0,600000.0,390000.0,465000.0,160000.0,437500.0,300000.0,230000.0,819000.0,355000.0,445000.0,340000.0,645000.0,585000.0,800000.0,750000.0,492500.0,462500.0,428000.0,260000.0,528000.0,285000.0,265000.0,395000.0,383000.0,510000.0,385000.0,475000.0,615000.0,730000.0,692000.0,420000.0],\"yaxis\":\"y\",\"type\":\"scattergl\"},{\"hovertemplate\":\"CIDADE=Kirkland<br>ranking=%{x}<br>PRE\\u00c7O=%{y}<extra></extra>\",\"legendgroup\":\"Kirkland\",\"marker\":{\"color\":\"#FFA15A\",\"symbol\":\"circle\"},\"mode\":\"markers\",\"name\":\"Kirkland\",\"showlegend\":true,\"x\":[4,4,4,5,4,6,5,4,6,3,5,5,5,4,4,4,4,2,5,4,6,5,4,3,4,3,3,4,4,5,4,3,3,3,3,6,2,4,6,3,5,2,3,4,4,3,4,3,3,2,5,4,3,3,3,3,4,7,3,3,2,4,2,6,4,4,3,4,4,3,5,4,5,4,4,2,4,6,5,4,4,6,4,3,2,4,3,5,6,4,4,3,2,2,5,3,3,4,6,4,5,4,4,4,5,3,3,4,3,2,3,3,4,4,3,5,5,4,4,4,3,2,3,5,7,4,3,3,4,5,4,2,4,4,4,4,4,6,6,4,5,4,4,3,4,4,4,4,4,3,3,5,2,4,4,4,4,5,3,6,3,1,4,2,3,6,4,4,5,4,2,4,5,2,2,4,2,4,3,3,4,4,2,2,5,4,5,5,3,3,4,2,4,3,3,3,6,4,4,3,4,4,3,4,4,3,6,5,4,3,1,5,5,3,3,4,3,3,4,1,2,4,2,4,6,1,4,2,4,4,4,3,5,2,2,4,4,5,4,3,3,2,4,4,3,5,2,2,4,2,5,3,4,3,4,3,3,4,3,6,3,5,3,3,2,6,2,5,1,4,5,4,4,3,4,4,2,3,2,2,4,4,5,5,3,3,2,4,4,2,5,5,4,6,4,4,5,4,4,4,4,4,4,5,5,3,5,3,4,4,7,4,5,1,1,3,2,4,4,3,3,4,3,5,4,3,3,4,4,4,4,5,3,4,4,4,4,5,3,2,2,2,2,6,4,5,5,1,5,4,4,3,6,3,4,3,3,3,4,3,2,5,3,5,5,4,3,2,5,3,4,3,6,7,1,3,5,3,1,3,3,3,7,3,3,5,3,2,3,2,1,3,4,2,3,3,4,3,3,5,3,3,3,1,3,5,3,3,3,2,3,2,4,2,5,3,3,3,3,3,6,4,4,4,1,4,2,4,5,3,3,5,4,4,6,4,6,2,4,3,6,3,3,3,5,4,5,5,4,2,3,4,2,4,4,4,2,5,4,4,2,3,4,3,3,2,5,2,4,3,6,4,2,4,4,4,3,3,3,6,4,4,2,3,3,4,4,4,4,3,3,4,4,4,3,5,5,6,5,3,4,4,4,2,7,3,5,4,2,3,3,3,4,4,4,5,4,5,5,2,2,4,3,1,7,2,3,5,2,4,3,4,5,3,4,7,4,4,3,4,3,5,4,4,1,4,4,1,4,4,3,4,4,4,3,4,4,5,2,2,3,5,5,4,4,4,3,3,4,4,3,3,5,5,3,4,4,3,2,4,4,5,2,2,3,3,5,4,4,3,5,6,3,3,5,4,4,3,3,4,4,3,3,3,3,4,3,3,3,4,3,2,4,3,3,2,5,2,3,5,4,4,5,3,5,4,4,4,4,3,3,2,6,3,3,2,2,3,3,3,3,4,3,4,5,5,5,2,5,3,5,3,4,3,3,3,4,4,3,4,2,4,5,6,2,4,5,2,3,4,2,3,4,4,3,4,4,1,4,4,2,2,4,3,4,2,4,4,5,4,4,1,3,4,3,5,4,4,5,6,5,3,5,2,6,4,3,3,4,5,3,5,4,6,3,4,2,3,5,4,4,4,4,4,3,4,2,4,5,2,4,3,4,3,4,4,2,3,6,3,4,2,4,4,3,3,3,3,6,7,3,3,5,2,2,3,6,3,3,5,3,6,3,4,4,5,2,5,4,4,4,4,5,5,4,4,2,2,4,2,4,4,2,4,3,5,4,3,5,3,4,5,2,4,2,4,4,2,4,5,6,6,6,5,3,3,4,4,6,3,4,3,2,3,3,3,3,3,4,3,4,2,2,4,4,2,1,5,1,3,4,4,5,3,6,4,5,6,6,5,4,4,4,2,2,6,4,2,4,5,4,6,3,5,3,4,4,3,4,4,4,4,3,2,4,4,6,1,2,5,2,4,6,4,2,2,5,4,4,3,5,2,4,3,3,5,3,3,5,3,4,3,3,4,3,4,6,3,6,4,3,3,3,4,4,4,4,4,6,6,4,4,4,3,4,4,4,5,3,4,4,3,5,3,3,3,4,4,4,6,4,4,6,3,4,3,4,4,4,4,3,3,4,3,6,4,4,3,4,4,3,5,5,3,3,3,6,4,3,4,3,4,3,3,4,5,3,4,3,4,5,4,4,4,6,4,4],\"xaxis\":\"x\",\"y\":[325000.0,391500.0,438000.0,441000.0,370000.0,653000.0,917500.0,589000.0,1095000.0,305000.0,1025000.0,405000.0,630000.0,900000.0,604950.0,577500.0,397000.0,505000.0,475000.0,1450000.0,590000.0,669950.0,397500.0,1197350.0,1485000.0,750000.0,439000.0,3070000.0,497000.0,440000.0,435000.0,400000.0,710000.0,422120.0,539900.0,795000.0,730000.0,990000.0,545000.0,460500.0,440000.0,752500.0,349500.0,470000.0,1050000.0,379000.0,430000.0,1127000.0,1955000.0,350000.0,435000.0,482500.0,5110800.0,460000.0,949000.0,130000.0,349000.0,748000.0,455000.0,567000.0,445950.0,461000.0,334000.0,606000.0,685000.0,706000.0,470000.0,907000.0,459000.0,400000.0,577000.0,405000.0,425000.0,860000.0,503000.0,343000.0,434500.0,776500.0,525000.0,495000.0,450000.0,874150.0,374000.0,281000.0,340000.0,469000.0,2350000.0,467500.0,975000.0,415000.0,386500.0,475000.0,616300.0,835000.0,485000.0,335000.0,830000.0,310000.0,835000.0,1480000.0,464900.0,528000.0,545000.0,460000.0,491500.0,405000.0,463000.0,760000.0,257000.0,535000.0,465000.0,426000.0,429500.0,429000.0,471000.0,650000.0,446000.0,450000.0,655000.0,968933.0,435000.0,355000.0,409900.0,419950.0,612000.0,387000.0,375000.0,530000.0,395000.0,980000.0,900000.0,311000.0,470000.0,687000.0,461000.0,705000.0,675000.0,570000.0,649000.0,385000.0,678000.0,416000.0,524000.0,1289000.0,450000.0,441500.0,425000.0,402000.0,355000.0,510000.0,313500.0,453000.0,310000.0,386900.0,424950.0,490000.0,1125000.0,400000.0,555565.0,405000.0,491500.0,625000.0,456500.0,476500.0,374500.0,485000.0,465000.0,425000.0,1290000.0,425000.0,478000.0,488250.0,410000.0,421000.0,360000.0,800000.0,898888.0,575000.0,1650000.0,522000.0,702000.0,880000.0,830000.0,620000.0,455000.0,1415000.0,490000.0,420000.0,400000.0,355000.0,412450.0,339888.0,439000.0,299950.0,300000.0,435000.0,698000.0,635000.0,523000.0,489200.0,512500.0,825000.0,390000.0,514000.0,394900.0,537000.0,432500.0,455000.0,371000.0,2125000.0,660000.0,600000.0,490000.0,499950.0,294000.0,950000.0,749000.0,880000.0,800000.0,710000.0,650000.0,758000.0,827500.0,424000.0,800866.0,675000.0,605000.0,369950.0,410000.0,437500.0,567000.0,675000.0,475000.0,285000.0,375000.0,436000.0,325000.0,455000.0,459000.0,475000.0,360000.0,803000.0,1150000.0,528000.0,370000.0,436000.0,611900.0,639000.0,655000.0,675000.0,375000.0,658000.0,440000.0,515100.0,410000.0,460000.0,495000.0,410000.0,1600000.0,572650.0,350000.0,459900.0,290000.0,1740000.0,890000.0,845800.0,725000.0,482000.0,657500.0,569000.0,434000.0,450000.0,485000.0,463000.0,630000.0,575000.0,335000.0,1017000.0,487000.0,575000.0,725000.0,395000.0,380000.0,405000.0,837500.0,350000.0,420200.0,440000.0,833000.0,899000.0,473000.0,497000.0,817250.0,510000.0,465000.0,560000.0,435000.0,464625.0,500000.0,2385000.0,525000.0,445000.0,540000.0,495000.0,704111.0,425000.0,450000.0,560000.0,354000.0,750000.0,549950.0,1202500.0,535000.0,625000.0,670000.0,250000.0,350000.0,481500.0,455000.0,322000.0,595000.0,425500.0,1339000.0,610000.0,450000.0,475000.0,536000.0,1035000.0,925000.0,612000.0,442500.0,414999.0,1100000.0,815000.0,490000.0,303500.0,2650000.0,617950.0,1185000.0,350000.0,809000.0,765000.0,426000.0,615000.0,1060000.0,439000.0,810000.0,763000.0,505000.0,475000.0,475000.0,1580000.0,708000.0,680000.0,660000.0,495000.0,438000.0,1400000.0,1065000.0,555500.0,389000.0,445000.0,330000.0,469950.0,565000.0,279900.0,460000.0,229950.0,487000.0,1485000.0,860000.0,410000.0,482000.0,518000.0,785000.0,385000.0,435000.0,725000.0,762000.0,2150000.0,815000.0,660000.0,488000.0,1035000.0,459000.0,508000.0,615000.0,475000.0,520000.0,355500.0,687500.0,1290000.0,860000.0,606000.0,1250000.0,450000.0,902000.0,450000.0,537000.0,627000.0,447000.0,425000.0,490000.0,619500.0,419900.0,623000.0,350000.0,354000.0,587000.0,570000.0,403000.0,460000.0,306000.0,453000.0,795000.0,510000.0,485000.0,1090000.0,399950.0,895000.0,429300.0,650000.0,691000.0,540000.0,1010000.0,500000.0,347000.0,698000.0,950000.0,386000.0,410000.0,522000.0,392800.0,350000.0,455000.0,1348000.0,581000.0,383001.0,748000.0,405000.0,585000.0,1500000.0,405000.0,529000.0,480000.0,650000.0,525000.0,926500.0,439000.0,582500.0,625000.0,447450.0,525000.0,545000.0,385000.0,390000.0,399000.0,608095.0,280000.0,1648000.0,405000.0,306000.0,366000.0,505000.0,435000.0,305000.0,475000.0,670000.0,450000.0,420000.0,620000.0,465000.0,370000.0,315500.0,462000.0,325000.0,515000.0,382500.0,2700000.0,597157.0,562000.0,399900.0,463800.0,1375000.0,525000.0,449500.0,450000.0,3120000.0,405000.0,400000.0,645000.0,901000.0,440000.0,650000.0,373000.0,739000.0,520000.0,440000.0,415000.0,1065000.0,630000.0,450000.0,653750.0,595000.0,757000.0,335000.0,350000.0,325000.0,365000.0,825000.0,319000.0,357500.0,394000.0,344950.0,427800.0,431000.0,3000000.0,857000.0,470000.0,775000.0,325000.0,443000.0,1017000.0,340000.0,570000.0,390000.0,1065000.0,589000.0,510000.0,1420000.0,410000.0,405000.0,585000.0,771000.0,370000.0,585000.0,425000.0,432000.0,465000.0,730000.0,466800.0,600000.0,590000.0,536650.0,440000.0,500000.0,423000.0,490000.0,299000.0,405000.0,375000.0,601500.0,350000.0,486000.0,385000.0,489950.0,330000.0,402200.0,481015.0,345000.0,749950.0,850000.0,488500.0,395000.0,628000.0,540000.0,800000.0,595000.0,90000.0,1085500.0,325000.0,425000.0,561500.0,670000.0,1149000.0,355000.0,410000.0,145000.0,718000.0,446000.0,399950.0,442573.0,472500.0,400000.0,770000.0,334009.0,453000.0,525000.0,460000.0,550000.0,531000.0,1135000.0,468000.0,540000.0,825000.0,609950.0,830000.0,750000.0,375000.0,530000.0,530000.0,664000.0,450000.0,546000.0,790000.0,1170000.0,330000.0,470000.0,1650000.0,372000.0,850000.0,500000.0,635000.0,348580.0,449950.0,307500.0,670000.0,410000.0,580000.0,610000.0,402000.0,345000.0,540000.0,245000.0,390000.0,470000.0,870000.0,383000.0,3395000.0,400000.0,379000.0,326250.0,625000.0,575000.0,885000.0,661000.0,375000.0,493000.0,789800.0,275000.0,475000.0,429950.0,545000.0,375000.0,577000.0,412500.0,1010000.0,615000.0,700000.0,400000.0,607000.0,414500.0,500000.0,360000.0,325000.0,548000.0,720000.0,479000.0,1378000.0,625000.0,620000.0,415000.0,588000.0,740000.0,670000.0,834800.0,475000.0,353000.0,750000.0,310000.0,335000.0,360000.0,426000.0,340000.0,352000.0,423000.0,348500.0,370000.0,430000.0,375000.0,619100.0,350000.0,678700.0,1085000.0,1031000.0,775000.0,442500.0,675000.0,513000.0,772500.0,765000.0,550000.0,1035000.0,436000.0,450000.0,539500.0,464550.0,480000.0,560000.0,699000.0,750500.0,510000.0,463000.0,625000.0,687500.0,342500.0,342500.0,620000.0,660000.0,560000.0,435000.0,485000.0,412500.0,525000.0,411000.0,899950.0,370000.0,1180000.0,475000.0,814842.0,1385000.0,799900.0,550000.0,434400.0,370000.0,445000.0,350000.0,465000.0,517850.0,623000.0,1815000.0,360000.0,439950.0,565000.0,1490000.0,600000.0,400000.0,1950000.0,600000.0,336500.0,600000.0,575000.0,490000.0,1660000.0,1538000.0,305000.0,445000.0,1875000.0,760000.0,330000.0,675000.0,380500.0,469500.0,595000.0,304000.0,585000.0,505000.0,420000.0,455000.0,665000.0,478000.0,423500.0,1150000.0,424000.0,465000.0,450000.0,350000.0,465000.0,2574000.0,379950.0,379000.0,392000.0,725000.0,649800.0,474950.0,437500.0,910000.0,397000.0,675000.0,626000.0,475300.0,420000.0,420000.0,357000.0,465000.0,562500.0,455000.0,637500.0,560000.0,360000.0,325000.0,502000.0,525000.0,420000.0,624950.0,300000.0,1085000.0,300000.0,1454000.0,506500.0,380000.0,624900.0,853505.0,390000.0,630100.0,565000.0,405000.0,500000.0,1215000.0,386100.0,500000.0,415000.0,630000.0,1095000.0,1550000.0,450000.0,465000.0,465000.0,690000.0,1364000.0,425000.0,498000.0,539000.0,399000.0,475000.0,744000.0,550000.0,440000.0,778000.0,1595000.0,580000.0,525000.0,430000.0,360000.0,630000.0,830000.0,498000.0,492500.0,585000.0,446950.0,427000.0,397000.0,677000.0,330000.0,321000.0,456000.0,449500.0,1000000.0,1211000.0,740000.0,968060.0,959000.0,556000.0,445000.0,559000.0,560000.0,451000.0,500000.0,1500000.0,455000.0,551000.0,465000.0,358000.0,365000.0,432100.0,648360.0,705640.0,698000.0,319000.0,1450000.0,560000.0,515000.0,440000.0,825000.0,525000.0,570000.0,360000.0,692500.0,520000.0,355000.0,898000.0,344950.0,381000.0,600000.0,430000.0,503000.0,716125.0,910000.0,655000.0,791000.0,865000.0,434000.0,400000.0,585000.0,700000.0,580000.0,720000.0,1430800.0,575000.0,1550000.0,300000.0,342000.0,431200.0,850000.0,487585.0,500000.0,530000.0,419000.0,825500.0,720000.0,2205000.0,839950.0,889950.0,1532500.0,920000.0,1710000.0,995500.0,500000.0,1260000.0,820000.0,810000.0,1210000.0,1037000.0,1100000.0,295000.0,2700000.0,1040000.0,799950.0,754950.0,1030000.0,809950.0,920000.0,939000.0,899900.0,860000.0,1789950.0,2225000.0,575000.0,2350000.0,1360000.0,1598000.0,1205000.0,879950.0,499000.0,750000.0,799950.0,960000.0,289000.0,982000.0,909950.0,1480000.0,1130000.0,1135000.0,249000.0,1275000.0,479000.0,1242000.0,820000.0,899000.0,730000.0,1274950.0,718500.0,1399950.0,915000.0,963000.0,770000.0,880000.0,815000.0,1100000.0,879950.0,1350000.0,834950.0,999000.0,1020000.0,875000.0,1050000.0,1720000.0],\"yaxis\":\"y\",\"type\":\"scattergl\"},{\"hovertemplate\":\"CIDADE=Black Diamond<br>ranking=%{x}<br>PRE\\u00c7O=%{y}<extra></extra>\",\"legendgroup\":\"Black Diamond\",\"marker\":{\"color\":\"#19d3f3\",\"symbol\":\"circle\"},\"mode\":\"markers\",\"name\":\"Black Diamond\",\"showlegend\":true,\"x\":[5,5,3,4,4,4,3,6,4,5,4,3,4,3,2,3,3,4,4,3,4,3,3,3,2,4,4,4,4,4,2,2,4,4,1,4,5,5,2,5,4,5,4,5,2,3,4,5,5,4,5,1,3,2,2,4,5,2,4,4,4,5,3,4,3,5,3,4,4,5,4,6,4,5,5,4,5,3,3,3,2,5,2,3,3,5,4,3,4,3,2,5,5,3,4,2,4,6,4,5],\"xaxis\":\"x\",\"y\":[720000.0,416000.0,204000.0,185000.0,267000.0,379000.0,288349.0,935000.0,253000.0,650000.0,208000.0,340000.0,190000.0,225000.0,640000.0,325000.0,700000.0,520000.0,260000.0,256000.0,322000.0,350000.0,206000.0,430000.0,440000.0,590000.0,135000.0,630000.0,241250.0,340000.0,435000.0,630000.0,199999.0,345000.0,575000.0,241400.0,792500.0,408506.0,570000.0,615000.0,407450.0,579000.0,320900.0,679000.0,200000.0,790000.0,359999.0,545000.0,665000.0,319502.0,650000.0,510000.0,262000.0,330000.0,499000.0,263500.0,600000.0,212644.0,774950.0,314500.0,240000.0,655000.0,902500.0,625000.0,365000.0,675000.0,214000.0,162000.0,740000.0,700000.0,235000.0,531500.0,760000.0,460000.0,712000.0,475000.0,424900.0,234950.0,257000.0,267000.0,213000.0,355500.0,330000.0,325000.0,264950.0,415000.0,240000.0,269950.0,224400.0,255000.0,398000.0,360000.0,337000.0,625000.0,335000.0,208500.0,390000.0,780000.0,440000.0,224000.0],\"yaxis\":\"y\",\"type\":\"scattergl\"},{\"hovertemplate\":\"CIDADE=North Bend<br>ranking=%{x}<br>PRE\\u00c7O=%{y}<extra></extra>\",\"legendgroup\":\"North Bend\",\"marker\":{\"color\":\"#FF6692\",\"symbol\":\"circle\"},\"mode\":\"markers\",\"name\":\"North Bend\",\"showlegend\":true,\"x\":[5,2,4,2,3,4,4,4,2,2,4,4,3,4,4,3,5,4,4,3,3,4,3,4,3,4,4,4,5,2,4,2,2,4,4,4,5,5,5,5,3,3,2,2,3,5,4,4,4,6,4,2,6,3,3,5,2,4,4,3,4,2,4,4,2,3,3,2,4,2,4,4,3,4,2,2,3,4,3,4,2,4,4,2,3,5,5,2,2,3,5,4,2,4,3,2,3,3,2,6,2,4,6,3,4,4,2,4,4,3,6,4,2,3,2,2,2,4,3,3,3,4,4,3,4,4,4,4,3,3,4,3,4,4,5,5,4,4,5,5,4,3,5,5,6,4,3,4,4,3,5,2,4,4,4,4,3,3,3,4,5,6,5,4,4,2,3,3,3,2,5,4,4,2,3,5,2,3,5,3,3,3,4,2,5,2,5,2,2,5,3,3,5,4,4,4,4,4,4,4,4,5,4,5,4,4,4,4,4,4,5,4,4,4,4,4,5,4,5,4,4],\"xaxis\":\"x\",\"y\":[437500.0,415000.0,255000.0,465000.0,437000.0,330000.0,595000.0,175000.0,269900.0,280000.0,315000.0,369950.0,372000.0,432900.0,372500.0,378000.0,454000.0,750000.0,276900.0,592000.0,353000.0,195000.0,322000.0,275000.0,399500.0,379000.0,471000.0,271900.0,535000.0,370000.0,724950.0,280000.0,495000.0,178500.0,290000.0,325000.0,496000.0,452500.0,845000.0,189000.0,309950.0,665000.0,307000.0,286300.0,356000.0,308550.0,350000.0,535000.0,470000.0,524500.0,290000.0,494000.0,654000.0,255000.0,242000.0,480000.0,303000.0,415900.0,390000.0,525000.0,220650.0,350000.0,288000.0,299500.0,280000.0,287000.0,545000.0,490000.0,320000.0,309212.0,280000.0,445000.0,275000.0,600000.0,286000.0,299500.0,340000.0,515055.0,280000.0,280000.0,255000.0,355000.0,325000.0,320000.0,270000.0,830000.0,855000.0,329000.0,435000.0,275000.0,620000.0,390000.0,380000.0,492000.0,290000.0,390000.0,425000.0,245000.0,452000.0,665000.0,230000.0,450000.0,446250.0,319900.0,397000.0,193500.0,445000.0,471000.0,594950.0,350000.0,800000.0,280000.0,345000.0,332000.0,278000.0,455000.0,392000.0,485000.0,440000.0,312620.0,440000.0,271000.0,427000.0,375000.0,324000.0,280000.0,255000.0,1950000.0,365000.0,239900.0,447000.0,280000.0,299500.0,305000.0,676000.0,433200.0,240000.0,590000.0,313500.0,545000.0,315000.0,299000.0,1075000.0,472000.0,718000.0,447500.0,290000.0,585000.0,310000.0,295000.0,383000.0,458000.0,439000.0,316000.0,480000.0,590000.0,295000.0,345000.0,251000.0,745000.0,775000.0,560000.0,598000.0,234000.0,445000.0,470000.0,429000.0,273000.0,488000.0,349900.0,696000.0,308000.0,440000.0,345000.0,240000.0,533300.0,315000.0,390000.0,850000.0,340000.0,335000.0,304950.0,410000.0,417000.0,476500.0,259000.0,556000.0,450000.0,338000.0,450000.0,320000.0,391500.0,688000.0,240000.0,456000.0,499431.0,505657.0,484259.0,427874.0,594491.0,475000.0,1042000.0,920000.0,760000.0,449990.0,502000.0,483453.0,504058.0,533112.0,533380.0,950000.0,439990.0,598992.0,459990.0,485000.0,499990.0,1488000.0,535365.0,472000.0,499990.0,1057000.0],\"yaxis\":\"y\",\"type\":\"scattergl\"},{\"hovertemplate\":\"CIDADE=Woodinville<br>ranking=%{x}<br>PRE\\u00c7O=%{y}<extra></extra>\",\"legendgroup\":\"Woodinville\",\"marker\":{\"color\":\"#B6E880\",\"symbol\":\"circle\"},\"mode\":\"markers\",\"name\":\"Woodinville\",\"showlegend\":true,\"x\":[2,5,4,5,5,3,6,5,4,2,4,3,3,6,2,3,3,5,4,3,5,2,4,4,6,3,3,4,3,2,4,3,2,2,2,4,5,5,4,4,3,5,4,3,5,2,5,5,4,4,4,4,3,3,3,4,3,2,6,3,3,3,4,3,3,4,3,3,4,3,5,4,2,4,3,3,4,5,3,4,4,3,5,3,3,4,3,2,2,4,2,3,2,2,4,4,5,3,4,6,3,5,5,3,2,5,3,3,6,3,4,3,3,5,4,3,5,3,2,3,4,2,4,3,4,3,5,3,4,4,4,6,2,3,5,3,4,3,4,4,2,4,4,4,5,5,4,4,4,5,3,5,4,4,6,3,5,4,4,4,5,3,4,5,5,4,5,4,4,4,3,5,3,4,4,6,5,4,4,5,3,4,2,5,6,3,3,2,3,3,3,4,2,5,5,3,6,2,2,5,5,3,3,5,3,3,5,3,3,3,6,4,4,2,5,3,3,4,3,2,4,3,4,5,5,3,5,2,5,6,2,3,3,4,3,4,2,3,6,5,5,2,2,4,5,5,2,3,3,6,3,3,4,3,4,2,3,4,5,3,3,3,3,4,4,4,5,3,5,2,3,4,5,6,4,3,3,3,4,6,3,4,2,5,3,3,5,3,4,4,3,4,4,5,5,3,4,3,4,2,4,2,2,4,2,4,4,6,4,4,2,1,4,3,2,6,5,5,6,4,3,4,4,6,5,3,2,3,3,4,3,3,3,5,4,3,5,5,5,3,4,2,4,5,5,2,3,2,3,5,3,3,3,2,2,3,4,4,3,4,6,5,3,3,5,4,4,3,5,3,5,4,3,3,3,5,3,5,4,4,3,2,3,3,5,4,3,3,5,2,5,3,4,5,3,3,4,3,4,4,4,4,3,4,5,3,4,4,3,5,5,3,4,4,4,4,6,2,3,5,5,6,4,5,5,2,5,4,4,3,2,4,2,4,2,4,6,4,4,6,4,2,3,2,5,2,6,3,3,3,2,2,2,5,3,5,3,3,3,3,3,4,5,4,4,3,4,4,2,2,4],\"xaxis\":\"x\",\"y\":[699950.0,680000.0,921500.0,800000.0,1365000.0,467000.0,274975.0,559900.0,950000.0,365500.0,632925.0,400000.0,496500.0,930000.0,521000.0,323000.0,396000.0,985000.0,740000.0,305000.0,1100000.0,480000.0,660000.0,800000.0,630000.0,475000.0,840000.0,425000.0,565000.0,659000.0,375000.0,345000.0,432000.0,465000.0,389000.0,914600.0,480000.0,1250000.0,610000.0,828500.0,420000.0,520000.0,510000.0,825000.0,600000.0,541100.0,805000.0,883000.0,367500.0,432000.0,475000.0,361000.0,594000.0,600000.0,354950.0,522250.0,625000.0,306000.0,674250.0,475000.0,552500.0,299000.0,315500.0,326500.0,320000.0,460000.0,590000.0,316000.0,775000.0,415000.0,528000.0,845000.0,580000.0,875000.0,705000.0,356000.0,415000.0,783350.0,542126.0,749950.0,760000.0,484000.0,775000.0,775000.0,495000.0,680000.0,414250.0,730000.0,357823.0,450000.0,420000.0,1055000.0,525000.0,606000.0,865000.0,450000.0,864500.0,355000.0,620000.0,910000.0,466000.0,369900.0,898000.0,380000.0,435000.0,925000.0,565000.0,470000.0,930000.0,332900.0,820000.0,625000.0,474900.0,625000.0,699000.0,540000.0,600000.0,643000.0,479000.0,850000.0,335000.0,600000.0,865000.0,595000.0,474000.0,585000.0,766950.0,535000.0,680000.0,605500.0,483000.0,1215000.0,410000.0,322500.0,458000.0,354000.0,465425.0,353000.0,365000.0,535000.0,329000.0,640000.0,310000.0,565000.0,900000.0,440000.0,762500.0,730000.0,440000.0,810000.0,435000.0,625000.0,760000.0,557500.0,600000.0,550000.0,580000.0,540000.0,875000.0,815000.0,645000.0,675000.0,790000.0,589900.0,482000.0,665000.0,595000.0,605000.0,475000.0,622500.0,630000.0,395000.0,469500.0,600000.0,585000.0,950000.0,879000.0,695000.0,450000.0,623000.0,692500.0,614285.0,395000.0,575000.0,697000.0,458000.0,725000.0,330000.0,435000.0,305000.0,408000.0,682000.0,540000.0,970000.0,875000.0,370000.0,615000.0,375000.0,536000.0,910000.0,700000.0,607000.0,410988.0,599000.0,880000.0,448000.0,760000.0,390000.0,434500.0,373000.0,880000.0,250000.0,562000.0,405000.0,725000.0,320000.0,875000.0,710800.0,862500.0,570000.0,850000.0,510000.0,1080000.0,1565000.0,879000.0,308000.0,1350000.0,464000.0,730000.0,1157200.0,760500.0,1175000.0,669000.0,365000.0,725000.0,550000.0,565000.0,450000.0,600000.0,775000.0,820000.0,380000.0,335000.0,462500.0,965000.0,700000.0,373000.0,445000.0,597000.0,654950.0,539000.0,432500.0,464000.0,500000.0,385000.0,350000.0,422800.0,575000.0,455000.0,390000.0,360000.0,1150000.0,425000.0,730000.0,499950.0,575000.0,655000.0,500000.0,1035000.0,700500.0,995000.0,494950.0,1120000.0,630000.0,1820000.0,545000.0,375000.0,1070000.0,591000.0,1400000.0,450000.0,514000.0,203700.0,1078500.0,862000.0,870000.0,590000.0,400000.0,614000.0,665000.0,355000.0,410000.0,752875.0,900000.0,1135000.0,465000.0,395000.0,465000.0,535000.0,469500.0,484000.0,325000.0,350000.0,525000.0,490000.0,480000.0,525000.0,595000.0,375000.0,550000.0,485000.0,535500.0,489500.0,410000.0,642860.0,824000.0,400000.0,599000.0,818000.0,440000.0,395000.0,200000.0,500000.0,570000.0,590000.0,575000.0,548000.0,425000.0,835000.0,1085000.0,570000.0,1140000.0,720000.0,1045000.0,840000.0,790000.0,869000.0,896000.0,905000.0,530000.0,682000.0,502000.0,785000.0,831500.0,585000.0,325000.0,330000.0,374000.0,428000.0,810000.0,875000.0,455000.0,450000.0,368000.0,521900.0,468000.0,515000.0,795000.0,326000.0,610000.0,835000.0,696500.0,526500.0,420000.0,655000.0,430000.0,1640000.0,534640.0,690000.0,1395000.0,685000.0,537000.0,890000.0,615000.0,547000.0,1089000.0,624000.0,483500.0,419950.0,619000.0,440000.0,447000.0,650000.0,480500.0,640000.0,734000.0,587000.0,375000.0,632500.0,315000.0,625000.0,318000.0,415000.0,653000.0,667400.0,360000.0,500000.0,795000.0,425000.0,495000.0,615000.0,1920000.0,482000.0,995000.0,949000.0,350500.0,480000.0,440000.0,275000.0,1200000.0,549950.0,340000.0,475000.0,905000.0,490000.0,965000.0,840000.0,436000.0,451000.0,805000.0,839000.0,665000.0,799000.0,530000.0,583500.0,330000.0,985000.0,550000.0,437000.0,800000.0,455000.0,576925.0,542950.0,845000.0,488000.0,1063000.0,712000.0,510000.0,319000.0,829950.0,300000.0,505000.0,1268890.0,650000.0,1000000.0,475000.0,680000.0,562000.0,872000.0,585000.0,535000.0,374500.0,661000.0,1150000.0,383000.0,805000.0,351000.0,649950.0,344000.0,991500.0,385000.0,413100.0,749950.0,525000.0,680000.0,536000.0,644000.0,613500.0,515000.0,415000.0,623300.0],\"yaxis\":\"y\",\"type\":\"scattergl\"},{\"hovertemplate\":\"CIDADE=Snoqualmie<br>ranking=%{x}<br>PRE\\u00c7O=%{y}<extra></extra>\",\"legendgroup\":\"Snoqualmie\",\"marker\":{\"color\":\"#FF97FF\",\"symbol\":\"circle\"},\"mode\":\"markers\",\"name\":\"Snoqualmie\",\"showlegend\":true,\"x\":[3,4,3,3,4,4,3,4,2,5,5,2,2,2,2,3,2,4,4,4,4,4,3,5,2,4,3,2,3,3,2,2,2,4,3,5,4,4,4,4,3,2,4,2,5,2,5,4,5,3,3,4,4,3,6,3,4,4,4,4,3,3,5,4,2,2,4,3,3,2,2,4,2,2,4,4,3,4,4,2,2,5,5,3,2,2,2,2,5,4,4,5,4,4,3,4,3,6,3,3,4,4,2,4,4,3,2,2,3,4,2,5,3,3,4,3,5,4,5,3,4,4,4,5,3,4,5,4,5,3,3,3,4,3,5,2,4,5,2,2,3,3,3,2,3,2,5,4,2,2,3,5,2,4,2,2,2,2,4,3,2,5,4,5,2,4,3,3,3,4,2,4,4,5,4,3,4,5,4,4,4,5,3,5,4,2,3,3,4,2,4,2,3,4,5,2,5,3,3,2,3,4,4,5,3,4,2,3,2,3,3,4,3,2,3,5,2,4,2,2,3,4,5,2,4,4,5,4,4,3,5,3,4,4,4,5,2,4,3,4,4,3,4,2,4,5,4,4,3,3,3,4,2,3,4,3,2,4,3,2,4,4,4,4,4,4,3,4,4,4,4,4,2,4,4,4,4,2,3,2,4,4,5,2,3,4,3,3,2,2,3,2,4,2,2,4,4,5,3,5,4,4,4,5,2,3,4,3,3,2],\"xaxis\":\"x\",\"y\":[430000.0,201000.0,552250.0,437500.0,650000.0,460000.0,619000.0,430000.0,337000.0,1145000.0,507000.0,470000.0,420000.0,515000.0,359000.0,485500.0,403000.0,470000.0,937500.0,539950.0,299000.0,585000.0,286700.0,520000.0,381000.0,1110000.0,410000.0,330000.0,459950.0,423700.0,525000.0,387000.0,389000.0,632500.0,276000.0,762000.0,681000.0,772500.0,325000.0,490000.0,576000.0,499900.0,700000.0,356000.0,730000.0,386000.0,688000.0,527550.0,515000.0,306500.0,425000.0,300000.0,435000.0,441500.0,1075000.0,487275.0,692500.0,770000.0,720000.0,942500.0,335000.0,725995.0,587000.0,635000.0,450000.0,574000.0,319950.0,650000.0,675000.0,378000.0,505000.0,1998000.0,244500.0,301000.0,620000.0,510000.0,323000.0,564000.0,470000.0,440000.0,527900.0,575000.0,569000.0,499000.0,170000.0,415000.0,394000.0,538500.0,685000.0,358000.0,565000.0,499000.0,625000.0,443500.0,368000.0,405000.0,567500.0,1140000.0,235000.0,440000.0,388500.0,555000.0,425590.0,679975.0,585000.0,250000.0,465000.0,355000.0,451000.0,482000.0,535950.0,1010000.0,470000.0,281000.0,497000.0,522500.0,350000.0,440000.0,771150.0,389950.0,435000.0,432500.0,285000.0,530000.0,474950.0,589000.0,655000.0,475000.0,695000.0,589500.0,320000.0,425000.0,452500.0,282500.0,610000.0,432000.0,452500.0,600000.0,384205.0,563500.0,469900.0,479500.0,550000.0,384000.0,356000.0,467000.0,925000.0,700000.0,425000.0,420000.0,449950.0,563500.0,490000.0,335000.0,489000.0,345000.0,419000.0,265000.0,730000.0,295000.0,382000.0,536000.0,490000.0,1210000.0,352500.0,616200.0,399950.0,235000.0,480000.0,275000.0,310000.0,535000.0,555000.0,532500.0,710000.0,670000.0,650000.0,760000.0,595000.0,279000.0,444500.0,615000.0,440500.0,540000.0,529000.0,339000.0,190000.0,600000.0,280000.0,543500.0,455600.0,475000.0,418500.0,475000.0,825000.0,539900.0,515000.0,428000.0,457000.0,399000.0,339900.0,658000.0,208000.0,622500.0,405000.0,645500.0,480000.0,454000.0,540000.0,330000.0,410000.0,450000.0,485000.0,279475.0,375000.0,625000.0,523000.0,500000.0,282000.0,506950.0,425000.0,785000.0,690000.0,450000.0,809000.0,569950.0,723000.0,701000.0,672500.0,715000.0,575000.0,480000.0,465000.0,622950.0,700000.0,695000.0,430000.0,515000.0,450000.0,435000.0,572800.0,633634.0,648000.0,417000.0,633000.0,544999.0,516000.0,610000.0,645000.0,536751.0,675000.0,592000.0,437718.0,650880.0,545000.0,605000.0,425000.0,591975.0,500000.0,408474.0,709950.0,471500.0,540000.0,492000.0,555000.0,805000.0,560000.0,640000.0,445000.0,635000.0,765000.0,660000.0,414000.0,689000.0,725000.0,1149000.0,400000.0,605000.0,485000.0,409316.0,589410.0,605000.0,459000.0,575000.0,699188.0,637850.0,544000.0,425000.0,424950.0,425000.0,820875.0,595500.0,695000.0,433190.0,561000.0,412500.0,452000.0,729950.0,480000.0,540000.0,641000.0,625000.0,409000.0,695000.0,530000.0,425000.0,599832.0,594866.0,625000.0,507250.0],\"yaxis\":\"y\",\"type\":\"scattergl\"},{\"hovertemplate\":\"CIDADE=Enumclaw<br>ranking=%{x}<br>PRE\\u00c7O=%{y}<extra></extra>\",\"legendgroup\":\"Enumclaw\",\"marker\":{\"color\":\"#FECB52\",\"symbol\":\"circle\"},\"mode\":\"markers\",\"name\":\"Enumclaw\",\"showlegend\":true,\"x\":[1,5,4,6,4,3,5,4,5,2,5,3,3,5,3,4,3,3,4,2,5,5,5,3,3,4,3,4,2,3,3,3,3,2,5,4,2,1,7,3,2,5,4,2,4,2,4,3,4,2,3,4,5,4,3,6,3,3,1,4,3,2,6,4,3,4,4,5,3,4,4,4,4,4,4,4,5,3,4,2,4,4,5,3,3,4,5,5,5,3,2,4,1,4,3,4,2,4,3,4,3,2,3,4,6,5,4,4,4,3,3,4,4,3,5,2,3,2,2,4,4,4,5,5,4,3,3,3,5,4,3,3,1,5,4,4,5,5,4,5,4,4,4,6,4,3,3,4,3,5,3,2,4,5,3,5,4,3,3,2,3,3,3,3,2,3,3,3,4,3,4,2,5,2,6,5,5,5,4,4,2,3,3,6,4,4,4,3,3,3,3,3,6,4,2,5,3,3,3,3,3,4,4,4,3,3,3,5,3,5,3,2,3,4,5,2,5,2,5,4,3,4,5,4,5,4,4,5,4,4,5,4,4,4],\"xaxis\":\"x\",\"y\":[247000.0,269950.0,295000.0,360000.0,265000.0,218000.0,530000.0,246500.0,330000.0,210000.0,283000.0,225000.0,75000.0,330000.0,275000.0,165050.0,700000.0,397000.0,152900.0,219950.0,342500.0,220000.0,245000.0,235000.0,283000.0,487000.0,340000.0,353000.0,205500.0,230000.0,302000.0,474000.0,262000.0,380000.0,340000.0,122000.0,195000.0,251000.0,367000.0,535000.0,267000.0,245000.0,252000.0,271900.0,585000.0,219000.0,339000.0,380000.0,297000.0,197500.0,250000.0,293000.0,370000.0,215000.0,285000.0,329999.0,239000.0,235000.0,235000.0,195000.0,278500.0,220000.0,475000.0,346290.0,227000.0,265000.0,350000.0,400000.0,265000.0,320000.0,315000.0,199950.0,243000.0,225000.0,240000.0,289000.0,473000.0,305000.0,280017.0,259950.0,315000.0,308950.0,323000.0,295000.0,358000.0,224500.0,275000.0,485000.0,245000.0,224950.0,210000.0,325000.0,169900.0,231200.0,285000.0,270000.0,287000.0,297000.0,262500.0,307999.0,215000.0,169000.0,299990.0,195000.0,330000.0,590000.0,237500.0,550000.0,525000.0,475000.0,188000.0,235000.0,272950.0,350000.0,200000.0,215000.0,257100.0,216500.0,255000.0,324360.0,338150.0,245000.0,332000.0,600000.0,290000.0,272000.0,253500.0,265000.0,705000.0,303000.0,325000.0,201000.0,231000.0,438950.0,432000.0,314950.0,379500.0,335000.0,428000.0,246000.0,750000.0,305000.0,319950.0,378000.0,570000.0,415000.0,220000.0,790000.0,215000.0,495000.0,390500.0,249000.0,230000.0,180000.0,270000.0,599950.0,277500.0,327000.0,280000.0,219950.0,273000.0,185000.0,314000.0,349990.0,195000.0,255000.0,250000.0,220000.0,530000.0,251000.0,187000.0,192500.0,325000.0,175000.0,687000.0,418200.0,312000.0,470000.0,415000.0,329990.0,264950.0,460000.0,222500.0,430000.0,279000.0,202000.0,277000.0,225000.0,667000.0,272000.0,225000.0,330000.0,431000.0,160000.0,269500.0,370000.0,184900.0,425000.0,299000.0,212000.0,199000.0,344000.0,207200.0,525000.0,243950.0,468000.0,200000.0,390000.0,295000.0,330000.0,245000.0,199990.0,449999.0,495000.0,858000.0,209000.0,270000.0,316000.0,279000.0,244000.0,240000.0,399950.0,340000.0,280000.0,465000.0,425000.0,256703.0,369000.0,275000.0,246950.0,272000.0,249950.0,565000.0,325000.0],\"yaxis\":\"y\",\"type\":\"scattergl\"},{\"hovertemplate\":\"CIDADE=Fall City<br>ranking=%{x}<br>PRE\\u00c7O=%{y}<extra></extra>\",\"legendgroup\":\"Fall City\",\"marker\":{\"color\":\"#636efa\",\"symbol\":\"circle\"},\"mode\":\"markers\",\"name\":\"Fall City\",\"showlegend\":true,\"x\":[4,3,3,5,5,5,3,4,5,4,6,1,3,3,5,3,3,3,3,2,4,4,4,2,5,5,6,6,3,2,5,6,4,2,2,5,6,4,3,5,2,6,4,2,2,5,2,5,1,2,2,5,4,4,4,4,4,4,3,2,3,4,2,4,3,6,4,5,5,4,6,3,6,5,4,2,4,4,5,5,5],\"xaxis\":\"x\",\"y\":[440000.0,213000.0,563500.0,1550000.0,1600000.0,350000.0,540000.0,535000.0,600000.0,275000.0,589000.0,439900.0,260000.0,445000.0,685000.0,315000.0,378000.0,430000.0,529000.0,291000.0,340000.0,435000.0,275000.0,369500.0,1575000.0,460000.0,835000.0,589000.0,340000.0,530000.0,625700.0,415000.0,275000.0,255000.0,258000.0,710000.0,985000.0,1650000.0,393000.0,486000.0,465000.0,700000.0,1065000.0,212000.0,205000.0,765000.0,430000.0,810000.0,392500.0,235000.0,330000.0,295000.0,355000.0,610000.0,515000.0,335000.0,400000.0,495000.0,405000.0,470000.0,400000.0,324950.0,457000.0,425000.0,303000.0,997950.0,1650000.0,721500.0,740000.0,1862000.0,650000.0,520000.0,475000.0,750000.0,200000.0,142000.0,802945.0,771005.0,720000.0,332220.0,1459000.0],\"yaxis\":\"y\",\"type\":\"scattergl\"},{\"hovertemplate\":\"CIDADE=Bothell<br>ranking=%{x}<br>PRE\\u00c7O=%{y}<extra></extra>\",\"legendgroup\":\"Bothell\",\"marker\":{\"color\":\"#EF553B\",\"symbol\":\"circle\"},\"mode\":\"markers\",\"name\":\"Bothell\",\"showlegend\":true,\"x\":[4,4,4,2,3,2,4,6,7,4,2,4,3,4,4,2,3,4,5,4,4,3,3,2,4,4,3,3,4,1,4,3,4,2,3,3,2,3,2,4,4,3,5,3,5,3,2,2,4,4,2,3,4,2,3,5,5,4,4,3,5,5,2,4,2,4,3,4,4,6,4,2,5,4,4,5,4,3,4,3,5,5,2,3,5,5,5,2,3,2,3,3,4,2,6,3,2,2,2,3,4,2,7,4,2,6,3,2,4,5,6,4,2,3,4,5,2,5,4,3,2,4,2,2,2,3,3,4,3,2,3,3,5,3,4,4,2,5,4,2,4,4,4,4,3,2,3,2,2,3,4,5,5,3,4,5,4,5,4,3,4,5,2,5,3,5,3,4,6,5,5,4,2,3,4,4,5,2,4,4,4,2,4,4,2,5,4,3,3,4,4,4,4,2,4],\"xaxis\":\"x\",\"y\":[527000.0,270000.0,525000.0,333500.0,452000.0,405000.0,560000.0,625000.0,628000.0,390000.0,374000.0,465000.0,605000.0,455000.0,330000.0,371025.0,439000.0,521000.0,413000.0,360400.0,439000.0,411800.0,425000.0,550000.0,501000.0,425000.0,342000.0,420000.0,401000.0,375000.0,516250.0,435000.0,475000.0,454000.0,370000.0,434000.0,361000.0,450000.0,441000.0,735000.0,528000.0,395000.0,470000.0,270000.0,610000.0,475226.0,323000.0,347000.0,550000.0,540000.0,515000.0,385500.0,435000.0,477000.0,560000.0,595000.0,600000.0,555000.0,738515.0,400000.0,525000.0,585000.0,471000.0,260000.0,470000.0,510000.0,449000.0,402000.0,390000.0,612500.0,435000.0,444950.0,432000.0,570000.0,600000.0,490500.0,525000.0,445000.0,571000.0,460000.0,650000.0,460000.0,395000.0,325000.0,490000.0,485000.0,458000.0,548000.0,488500.0,459950.0,315000.0,467000.0,417000.0,458000.0,436500.0,575000.0,420000.0,366000.0,370900.0,475000.0,335000.0,310000.0,720000.0,650000.0,465000.0,435000.0,531000.0,480000.0,627250.0,495200.0,585000.0,398000.0,445830.0,385000.0,470000.0,551000.0,510000.0,557000.0,405000.0,480000.0,575000.0,405000.0,340000.0,460000.0,489900.0,435000.0,425000.0,435000.0,443000.0,395000.0,532500.0,400000.0,630000.0,402000.0,370000.0,549950.0,245500.0,550000.0,468000.0,325000.0,1075000.0,500000.0,540000.0,533000.0,375000.0,405000.0,515000.0,362000.0,335500.0,632000.0,442000.0,547500.0,557500.0,262500.0,664500.0,515000.0,480000.0,525000.0,436000.0,445000.0,490000.0,480000.0,310000.0,500000.0,475000.0,450000.0,410000.0,470000.0,490000.0,555000.0,400000.0,455000.0,440000.0,608000.0,660000.0,495000.0,865950.0,439000.0,660000.0,730000.0,614000.0,540000.0,588000.0,715000.0,496000.0,810000.0,540000.0,555000.0,650000.0,845950.0,699000.0,870000.0,769995.0,447000.0,749995.0],\"yaxis\":\"y\",\"type\":\"scattergl\"},{\"hovertemplate\":\"CIDADE=Carnation<br>ranking=%{x}<br>PRE\\u00c7O=%{y}<extra></extra>\",\"legendgroup\":\"Carnation\",\"marker\":{\"color\":\"#00cc96\",\"symbol\":\"circle\"},\"mode\":\"markers\",\"name\":\"Carnation\",\"showlegend\":true,\"x\":[2,4,2,3,2,4,3,3,4,4,2,5,3,2,5,5,6,3,3,2,5,2,5,2,5,4,4,3,3,3,5,3,5,6,4,4,5,3,6,4,4,4,6,4,4,5,4,5,4,5,5,2,3,6,5,4,3,4,3,5,6,3,5,3,2,3,4,2,4,3,3,4,5,3,4,1,5,2,2,5,3,4,3,4,2,5,3,4,4,4,5,2,4,6,3,6,2,2,4,3,3,4,3,5,3,2,4,4,2,5,4,5,4,5,4,6,4,4,3,3,2,3,5,5],\"xaxis\":\"x\",\"y\":[299000.0,80000.0,405000.0,342000.0,361000.0,307000.0,410500.0,595000.0,504750.0,415000.0,300000.0,503000.0,420850.0,134000.0,167000.0,685530.0,590000.0,375000.0,935000.0,252500.0,406500.0,150000.0,790000.0,425000.0,585000.0,641000.0,154000.0,620000.0,299800.0,272000.0,840000.0,150000.0,560000.0,755000.0,280000.0,430000.0,265000.0,309000.0,650000.0,330000.0,345000.0,365000.0,535000.0,522500.0,720000.0,305000.0,500000.0,475000.0,498000.0,549950.0,539000.0,230950.0,1680000.0,490000.0,937500.0,340000.0,435000.0,200000.0,340000.0,396400.0,510000.0,241000.0,1610000.0,443500.0,471000.0,240000.0,510000.0,315000.0,805000.0,156000.0,420000.0,649000.0,587000.0,495500.0,470950.0,475000.0,560000.0,312000.0,300000.0,155000.0,225000.0,375000.0,335000.0,370000.0,307000.0,399950.0,418000.0,160000.0,350000.0,530000.0,410000.0,455000.0,509950.0,500000.0,180000.0,499950.0,310000.0,598800.0,150000.0,470000.0,160000.0,445000.0,334999.0,545000.0,190000.0,800000.0,739000.0,284000.0,407193.0,660000.0,325000.0,375000.0,323000.0,399000.0,155000.0,415000.0,785000.0,1600000.0,441000.0,580000.0,310000.0,425000.0,320000.0,800000.0],\"yaxis\":\"y\",\"type\":\"scattergl\"},{\"hovertemplate\":\"CIDADE=Medina<br>ranking=%{x}<br>PRE\\u00c7O=%{y}<extra></extra>\",\"legendgroup\":\"Medina\",\"marker\":{\"color\":\"#ab63fa\",\"symbol\":\"circle\"},\"mode\":\"markers\",\"name\":\"Medina\",\"showlegend\":true,\"x\":[5,6,2,2,4,4,2,2,3,4,2,3,4,4,3,3,2,6,2,3,4,6,4,3,3,3,7,4,4,6,4,6,3,4,2,5,4,4,3,4,2,4,4,3,4,4,6,2,4,3],\"xaxis\":\"x\",\"y\":[2950000.0,1905000.0,875000.0,940000.0,4000000.0,5570000.0,937500.0,1160000.0,1880000.0,3418800.0,1555000.0,1398000.0,1320000.0,6885000.0,865000.0,1000000.0,2100000.0,2575000.0,1712750.0,787500.0,1651000.0,1800000.0,1550000.0,1762000.0,1225000.0,2750000.0,1950000.0,2200000.0,1260000.0,2450000.0,3640900.0,2271150.0,1620000.0,3710000.0,1200000.0,2500000.0,2187730.0,1450000.0,1880000.0,2458000.0,1350000.0,2680000.0,1410000.0,1920000.0,3635000.0,2720000.0,1950000.0,2250000.0,2900000.0,1865000.0],\"yaxis\":\"y\",\"type\":\"scattergl\"}],                        {\"template\":{\"data\":{\"bar\":[{\"error_x\":{\"color\":\"#2a3f5f\"},\"error_y\":{\"color\":\"#2a3f5f\"},\"marker\":{\"line\":{\"color\":\"#E5ECF6\",\"width\":0.5},\"pattern\":{\"fillmode\":\"overlay\",\"size\":10,\"solidity\":0.2}},\"type\":\"bar\"}],\"barpolar\":[{\"marker\":{\"line\":{\"color\":\"#E5ECF6\",\"width\":0.5},\"pattern\":{\"fillmode\":\"overlay\",\"size\":10,\"solidity\":0.2}},\"type\":\"barpolar\"}],\"carpet\":[{\"aaxis\":{\"endlinecolor\":\"#2a3f5f\",\"gridcolor\":\"white\",\"linecolor\":\"white\",\"minorgridcolor\":\"white\",\"startlinecolor\":\"#2a3f5f\"},\"baxis\":{\"endlinecolor\":\"#2a3f5f\",\"gridcolor\":\"white\",\"linecolor\":\"white\",\"minorgridcolor\":\"white\",\"startlinecolor\":\"#2a3f5f\"},\"type\":\"carpet\"}],\"choropleth\":[{\"colorbar\":{\"outlinewidth\":0,\"ticks\":\"\"},\"type\":\"choropleth\"}],\"contour\":[{\"colorbar\":{\"outlinewidth\":0,\"ticks\":\"\"},\"colorscale\":[[0.0,\"#0d0887\"],[0.1111111111111111,\"#46039f\"],[0.2222222222222222,\"#7201a8\"],[0.3333333333333333,\"#9c179e\"],[0.4444444444444444,\"#bd3786\"],[0.5555555555555556,\"#d8576b\"],[0.6666666666666666,\"#ed7953\"],[0.7777777777777778,\"#fb9f3a\"],[0.8888888888888888,\"#fdca26\"],[1.0,\"#f0f921\"]],\"type\":\"contour\"}],\"contourcarpet\":[{\"colorbar\":{\"outlinewidth\":0,\"ticks\":\"\"},\"type\":\"contourcarpet\"}],\"heatmap\":[{\"colorbar\":{\"outlinewidth\":0,\"ticks\":\"\"},\"colorscale\":[[0.0,\"#0d0887\"],[0.1111111111111111,\"#46039f\"],[0.2222222222222222,\"#7201a8\"],[0.3333333333333333,\"#9c179e\"],[0.4444444444444444,\"#bd3786\"],[0.5555555555555556,\"#d8576b\"],[0.6666666666666666,\"#ed7953\"],[0.7777777777777778,\"#fb9f3a\"],[0.8888888888888888,\"#fdca26\"],[1.0,\"#f0f921\"]],\"type\":\"heatmap\"}],\"heatmapgl\":[{\"colorbar\":{\"outlinewidth\":0,\"ticks\":\"\"},\"colorscale\":[[0.0,\"#0d0887\"],[0.1111111111111111,\"#46039f\"],[0.2222222222222222,\"#7201a8\"],[0.3333333333333333,\"#9c179e\"],[0.4444444444444444,\"#bd3786\"],[0.5555555555555556,\"#d8576b\"],[0.6666666666666666,\"#ed7953\"],[0.7777777777777778,\"#fb9f3a\"],[0.8888888888888888,\"#fdca26\"],[1.0,\"#f0f921\"]],\"type\":\"heatmapgl\"}],\"histogram\":[{\"marker\":{\"pattern\":{\"fillmode\":\"overlay\",\"size\":10,\"solidity\":0.2}},\"type\":\"histogram\"}],\"histogram2d\":[{\"colorbar\":{\"outlinewidth\":0,\"ticks\":\"\"},\"colorscale\":[[0.0,\"#0d0887\"],[0.1111111111111111,\"#46039f\"],[0.2222222222222222,\"#7201a8\"],[0.3333333333333333,\"#9c179e\"],[0.4444444444444444,\"#bd3786\"],[0.5555555555555556,\"#d8576b\"],[0.6666666666666666,\"#ed7953\"],[0.7777777777777778,\"#fb9f3a\"],[0.8888888888888888,\"#fdca26\"],[1.0,\"#f0f921\"]],\"type\":\"histogram2d\"}],\"histogram2dcontour\":[{\"colorbar\":{\"outlinewidth\":0,\"ticks\":\"\"},\"colorscale\":[[0.0,\"#0d0887\"],[0.1111111111111111,\"#46039f\"],[0.2222222222222222,\"#7201a8\"],[0.3333333333333333,\"#9c179e\"],[0.4444444444444444,\"#bd3786\"],[0.5555555555555556,\"#d8576b\"],[0.6666666666666666,\"#ed7953\"],[0.7777777777777778,\"#fb9f3a\"],[0.8888888888888888,\"#fdca26\"],[1.0,\"#f0f921\"]],\"type\":\"histogram2dcontour\"}],\"mesh3d\":[{\"colorbar\":{\"outlinewidth\":0,\"ticks\":\"\"},\"type\":\"mesh3d\"}],\"parcoords\":[{\"line\":{\"colorbar\":{\"outlinewidth\":0,\"ticks\":\"\"}},\"type\":\"parcoords\"}],\"pie\":[{\"automargin\":true,\"type\":\"pie\"}],\"scatter\":[{\"marker\":{\"colorbar\":{\"outlinewidth\":0,\"ticks\":\"\"}},\"type\":\"scatter\"}],\"scatter3d\":[{\"line\":{\"colorbar\":{\"outlinewidth\":0,\"ticks\":\"\"}},\"marker\":{\"colorbar\":{\"outlinewidth\":0,\"ticks\":\"\"}},\"type\":\"scatter3d\"}],\"scattercarpet\":[{\"marker\":{\"colorbar\":{\"outlinewidth\":0,\"ticks\":\"\"}},\"type\":\"scattercarpet\"}],\"scattergeo\":[{\"marker\":{\"colorbar\":{\"outlinewidth\":0,\"ticks\":\"\"}},\"type\":\"scattergeo\"}],\"scattergl\":[{\"marker\":{\"colorbar\":{\"outlinewidth\":0,\"ticks\":\"\"}},\"type\":\"scattergl\"}],\"scattermapbox\":[{\"marker\":{\"colorbar\":{\"outlinewidth\":0,\"ticks\":\"\"}},\"type\":\"scattermapbox\"}],\"scatterpolar\":[{\"marker\":{\"colorbar\":{\"outlinewidth\":0,\"ticks\":\"\"}},\"type\":\"scatterpolar\"}],\"scatterpolargl\":[{\"marker\":{\"colorbar\":{\"outlinewidth\":0,\"ticks\":\"\"}},\"type\":\"scatterpolargl\"}],\"scatterternary\":[{\"marker\":{\"colorbar\":{\"outlinewidth\":0,\"ticks\":\"\"}},\"type\":\"scatterternary\"}],\"surface\":[{\"colorbar\":{\"outlinewidth\":0,\"ticks\":\"\"},\"colorscale\":[[0.0,\"#0d0887\"],[0.1111111111111111,\"#46039f\"],[0.2222222222222222,\"#7201a8\"],[0.3333333333333333,\"#9c179e\"],[0.4444444444444444,\"#bd3786\"],[0.5555555555555556,\"#d8576b\"],[0.6666666666666666,\"#ed7953\"],[0.7777777777777778,\"#fb9f3a\"],[0.8888888888888888,\"#fdca26\"],[1.0,\"#f0f921\"]],\"type\":\"surface\"}],\"table\":[{\"cells\":{\"fill\":{\"color\":\"#EBF0F8\"},\"line\":{\"color\":\"white\"}},\"header\":{\"fill\":{\"color\":\"#C8D4E3\"},\"line\":{\"color\":\"white\"}},\"type\":\"table\"}]},\"layout\":{\"annotationdefaults\":{\"arrowcolor\":\"#2a3f5f\",\"arrowhead\":0,\"arrowwidth\":1},\"autotypenumbers\":\"strict\",\"coloraxis\":{\"colorbar\":{\"outlinewidth\":0,\"ticks\":\"\"}},\"colorscale\":{\"diverging\":[[0,\"#8e0152\"],[0.1,\"#c51b7d\"],[0.2,\"#de77ae\"],[0.3,\"#f1b6da\"],[0.4,\"#fde0ef\"],[0.5,\"#f7f7f7\"],[0.6,\"#e6f5d0\"],[0.7,\"#b8e186\"],[0.8,\"#7fbc41\"],[0.9,\"#4d9221\"],[1,\"#276419\"]],\"sequential\":[[0.0,\"#0d0887\"],[0.1111111111111111,\"#46039f\"],[0.2222222222222222,\"#7201a8\"],[0.3333333333333333,\"#9c179e\"],[0.4444444444444444,\"#bd3786\"],[0.5555555555555556,\"#d8576b\"],[0.6666666666666666,\"#ed7953\"],[0.7777777777777778,\"#fb9f3a\"],[0.8888888888888888,\"#fdca26\"],[1.0,\"#f0f921\"]],\"sequentialminus\":[[0.0,\"#0d0887\"],[0.1111111111111111,\"#46039f\"],[0.2222222222222222,\"#7201a8\"],[0.3333333333333333,\"#9c179e\"],[0.4444444444444444,\"#bd3786\"],[0.5555555555555556,\"#d8576b\"],[0.6666666666666666,\"#ed7953\"],[0.7777777777777778,\"#fb9f3a\"],[0.8888888888888888,\"#fdca26\"],[1.0,\"#f0f921\"]]},\"colorway\":[\"#636efa\",\"#EF553B\",\"#00cc96\",\"#ab63fa\",\"#FFA15A\",\"#19d3f3\",\"#FF6692\",\"#B6E880\",\"#FF97FF\",\"#FECB52\"],\"font\":{\"color\":\"#2a3f5f\"},\"geo\":{\"bgcolor\":\"white\",\"lakecolor\":\"white\",\"landcolor\":\"#E5ECF6\",\"showlakes\":true,\"showland\":true,\"subunitcolor\":\"white\"},\"hoverlabel\":{\"align\":\"left\"},\"hovermode\":\"closest\",\"mapbox\":{\"style\":\"light\"},\"paper_bgcolor\":\"white\",\"plot_bgcolor\":\"#E5ECF6\",\"polar\":{\"angularaxis\":{\"gridcolor\":\"white\",\"linecolor\":\"white\",\"ticks\":\"\"},\"bgcolor\":\"#E5ECF6\",\"radialaxis\":{\"gridcolor\":\"white\",\"linecolor\":\"white\",\"ticks\":\"\"}},\"scene\":{\"xaxis\":{\"backgroundcolor\":\"#E5ECF6\",\"gridcolor\":\"white\",\"gridwidth\":2,\"linecolor\":\"white\",\"showbackground\":true,\"ticks\":\"\",\"zerolinecolor\":\"white\"},\"yaxis\":{\"backgroundcolor\":\"#E5ECF6\",\"gridcolor\":\"white\",\"gridwidth\":2,\"linecolor\":\"white\",\"showbackground\":true,\"ticks\":\"\",\"zerolinecolor\":\"white\"},\"zaxis\":{\"backgroundcolor\":\"#E5ECF6\",\"gridcolor\":\"white\",\"gridwidth\":2,\"linecolor\":\"white\",\"showbackground\":true,\"ticks\":\"\",\"zerolinecolor\":\"white\"}},\"shapedefaults\":{\"line\":{\"color\":\"#2a3f5f\"}},\"ternary\":{\"aaxis\":{\"gridcolor\":\"white\",\"linecolor\":\"white\",\"ticks\":\"\"},\"baxis\":{\"gridcolor\":\"white\",\"linecolor\":\"white\",\"ticks\":\"\"},\"bgcolor\":\"#E5ECF6\",\"caxis\":{\"gridcolor\":\"white\",\"linecolor\":\"white\",\"ticks\":\"\"}},\"title\":{\"x\":0.05},\"xaxis\":{\"automargin\":true,\"gridcolor\":\"white\",\"linecolor\":\"white\",\"ticks\":\"\",\"title\":{\"standoff\":15},\"zerolinecolor\":\"white\",\"zerolinewidth\":2},\"yaxis\":{\"automargin\":true,\"gridcolor\":\"white\",\"linecolor\":\"white\",\"ticks\":\"\",\"title\":{\"standoff\":15},\"zerolinecolor\":\"white\",\"zerolinewidth\":2}}},\"xaxis\":{\"anchor\":\"y\",\"domain\":[0.0,1.0],\"title\":{\"text\":\"ranking\"}},\"yaxis\":{\"anchor\":\"x\",\"domain\":[0.0,1.0],\"title\":{\"text\":\"PRE\\u00c7O\"}},\"legend\":{\"title\":{\"text\":\"CIDADE\"},\"tracegroupgap\":0},\"margin\":{\"t\":60}},                        {\"responsive\": true}                    ).then(function(){\n",
              "                            \n",
              "var gd = document.getElementById('612ba5cf-67ff-4390-9b43-f90fbc24a6a7');\n",
              "var x = new MutationObserver(function (mutations, observer) {{\n",
              "        var display = window.getComputedStyle(gd).display;\n",
              "        if (!display || display === 'none') {{\n",
              "            console.log([gd, 'removed!']);\n",
              "            Plotly.purge(gd);\n",
              "            observer.disconnect();\n",
              "        }}\n",
              "}});\n",
              "\n",
              "// Listen for the removal of the full notebook cells\n",
              "var notebookContainer = gd.closest('#notebook-container');\n",
              "if (notebookContainer) {{\n",
              "    x.observe(notebookContainer, {childList: true});\n",
              "}}\n",
              "\n",
              "// Listen for the clearing of the current output cell\n",
              "var outputEl = gd.closest('.output');\n",
              "if (outputEl) {{\n",
              "    x.observe(outputEl, {childList: true});\n",
              "}}\n",
              "\n",
              "                        })                };                            </script>        </div>\n",
              "</body>\n",
              "</html>"
            ]
          },
          "metadata": {}
        }
      ]
    },
    {
      "cell_type": "markdown",
      "source": [
        "### Conclusão"
      ],
      "metadata": {
        "id": "VaArcLY9PgxC"
      },
      "id": "VaArcLY9PgxC"
    },
    {
      "cell_type": "markdown",
      "source": [
        "Critérios Avaliados e porque:\n",
        "\n",
        "OBS: Todos os critérios foram relativizados com os valores médios por cidade. Entendo que desse modo a análise tende a ser mais realista por reduzir a margem de erro e melhor de se observar uma oportunidade num ambiente mais semelhante. Em resumo, comparar banana com banana, não banana com maça.\n",
        "\n",
        "Pontuação: Para cada item satisfeito, o imóvel recebeu 1 ponto, podendo totalizar 7.\n",
        "\n",
        "1. Preço por área habitável (ft²) do imóvel comparada com média da cidade. Quanto mais baixo o preço da área habitável, menor é o custo unitário e melhor o investimento\n",
        "2. Preço por área do terreno (ft²) do imóvel comparada com a média da cidade. Quanto mais baixo o preço da área total, menor é o custo unitário e melhor o investimento\n",
        "3. Relação de utilização do terreno disponível. Área do terreno por área habitável. Quanto menor esse valor, maior foi a utlização do terreno disponível na construção. Esse indicador foi importante pois em pesquisas foi apontado que americanos costumam acumular muita coisa e necessitam de área construída para guardar\n",
        "4. Área habitável ou área construída em relação à média da cidade. Quanto maior a área construída melhor.\n",
        "5. Área total em relação à média da cidade. Quanto maior a área total do terreno melhor.\n",
        "6. Tempo desde a construção ou última reforma em relação à média da cidade. Em pesquisas, identifiquei que americanos gostam de adquirir imóveis finalizados e prontos para morar. De tal modo, se o imóvel está com tempo de construção ou de reforma recente, tende a ter mais conforme e menos problemas a serem consertados\n",
        "7. Andares. Quanto menor o número de andares melhor. Em pesquisas identifiquei que é muito valorizado a adequação do imóvel para idosos, visto que a população americana está envelhecendo mais. Desse modo, quanto menos escadas no imóvel, melhor pois evita o risco de acidentes com os idosos e facilita a locomoção.\n",
        "\n",
        "O somatório de todas essas premissas foi o que definiu os imóveis escolhidos para indicação e as advertências.\n",
        "\n",
        "O fator de desempate quanto aos imóveis que atingiram pontuação máxima ou mínima foi o preço final. Quanto mais baixo o preço do imóvel e pontuação máxima nas premissas definidas, melhor o negócio. E quanto maior o preço e pontuação mais baixa, pior o negócio."
      ],
      "metadata": {
        "id": "joyvJug5QO34"
      },
      "id": "joyvJug5QO34"
    },
    {
      "cell_type": "markdown",
      "source": [
        "Indicados: DF -> rankind"
      ],
      "metadata": {
        "id": "gwLKi9p0VW93"
      },
      "id": "gwLKi9p0VW93"
    },
    {
      "cell_type": "markdown",
      "source": [
        "![image.png](data:image/png;base64,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)"
      ],
      "metadata": {
        "id": "c08lDY9MTeUv"
      },
      "id": "c08lDY9MTeUv"
    },
    {
      "cell_type": "markdown",
      "source": [
        "Advertências: DF -> adv e adv2\n",
        "\n"
      ],
      "metadata": {
        "id": "1S4I8kEsVM2Q"
      },
      "id": "1S4I8kEsVM2Q"
    },
    {
      "cell_type": "markdown",
      "source": [
        "![image.png](data:image/png;base64,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)"
      ],
      "metadata": {
        "id": "ayYIAlkaW70Q"
      },
      "id": "ayYIAlkaW70Q"
    },
    {
      "cell_type": "markdown",
      "source": [
        "![image.png](data:image/png;base64,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)"
      ],
      "metadata": {
        "id": "ihJQ6YVLW64f"
      },
      "id": "ihJQ6YVLW64f"
    }
  ],
  "metadata": {
    "kernelspec": {
      "display_name": "Python 3 (ipykernel)",
      "language": "python",
      "name": "python3"
    },
    "language_info": {
      "codemirror_mode": {
        "name": "ipython",
        "version": 3
      },
      "file_extension": ".py",
      "mimetype": "text/x-python",
      "name": "python",
      "nbconvert_exporter": "python",
      "pygments_lexer": "ipython3",
      "version": "3.9.13"
    },
    "colab": {
      "provenance": [],
      "include_colab_link": true
    }
  },
  "nbformat": 4,
  "nbformat_minor": 5
}